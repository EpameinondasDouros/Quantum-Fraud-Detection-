{
 "cells": [
  {
   "cell_type": "markdown",
   "metadata": {
    "id": "3O8Wyxz-t9Jk"
   },
   "source": [
    "# Installs"
   ]
  },
  {
   "cell_type": "code",
   "execution_count": 1,
   "metadata": {
    "colab": {
     "base_uri": "https://localhost:8080/"
    },
    "id": "wGiiYKaCV_IU",
    "outputId": "3a5a7e79-c65a-4249-eb45-1a4b6f979eff"
   },
   "outputs": [
    {
     "name": "stdout",
     "output_type": "stream",
     "text": [
      "Requirement already satisfied: tensorflow==2.10 in c:\\users\\user\\desktop\\qinnovision_world_challenge\\quantum_federated_learning\\q_env\\lib\\site-packages (2.10.0)\n",
      "Requirement already satisfied: keras==2.10 in c:\\users\\user\\desktop\\qinnovision_world_challenge\\quantum_federated_learning\\q_env\\lib\\site-packages (2.10.0)\n",
      "Requirement already satisfied: keras-preprocessing>=1.1.1 in c:\\users\\user\\desktop\\qinnovision_world_challenge\\quantum_federated_learning\\q_env\\lib\\site-packages (from tensorflow==2.10) (1.1.2)\n",
      "Requirement already satisfied: libclang>=13.0.0 in c:\\users\\user\\desktop\\qinnovision_world_challenge\\quantum_federated_learning\\q_env\\lib\\site-packages (from tensorflow==2.10) (18.1.1)\n",
      "Requirement already satisfied: termcolor>=1.1.0 in c:\\users\\user\\desktop\\qinnovision_world_challenge\\quantum_federated_learning\\q_env\\lib\\site-packages (from tensorflow==2.10) (2.5.0)\n",
      "Requirement already satisfied: flatbuffers>=2.0 in c:\\users\\user\\desktop\\qinnovision_world_challenge\\quantum_federated_learning\\q_env\\lib\\site-packages (from tensorflow==2.10) (24.3.25)\n",
      "Requirement already satisfied: grpcio<2.0,>=1.24.3 in c:\\users\\user\\desktop\\qinnovision_world_challenge\\quantum_federated_learning\\q_env\\lib\\site-packages (from tensorflow==2.10) (1.68.0)\n",
      "Requirement already satisfied: setuptools in c:\\users\\user\\desktop\\qinnovision_world_challenge\\quantum_federated_learning\\q_env\\lib\\site-packages (from tensorflow==2.10) (57.4.0)\n",
      "Requirement already satisfied: absl-py>=1.0.0 in c:\\users\\user\\desktop\\qinnovision_world_challenge\\quantum_federated_learning\\q_env\\lib\\site-packages (from tensorflow==2.10) (2.1.0)\n",
      "Requirement already satisfied: numpy>=1.20 in c:\\users\\user\\desktop\\qinnovision_world_challenge\\quantum_federated_learning\\q_env\\lib\\site-packages (from tensorflow==2.10) (1.26.4)\n",
      "Requirement already satisfied: packaging in c:\\users\\user\\desktop\\qinnovision_world_challenge\\quantum_federated_learning\\q_env\\lib\\site-packages (from tensorflow==2.10) (24.2)\n",
      "Requirement already satisfied: protobuf<3.20,>=3.9.2 in c:\\users\\user\\desktop\\qinnovision_world_challenge\\quantum_federated_learning\\q_env\\lib\\site-packages (from tensorflow==2.10) (3.19.6)\n",
      "Requirement already satisfied: tensorflow-estimator<2.11,>=2.10.0 in c:\\users\\user\\desktop\\qinnovision_world_challenge\\quantum_federated_learning\\q_env\\lib\\site-packages (from tensorflow==2.10) (2.10.0)\n",
      "Requirement already satisfied: typing-extensions>=3.6.6 in c:\\users\\user\\desktop\\qinnovision_world_challenge\\quantum_federated_learning\\q_env\\lib\\site-packages (from tensorflow==2.10) (4.12.2)\n",
      "Requirement already satisfied: tensorflow-io-gcs-filesystem>=0.23.1 in c:\\users\\user\\desktop\\qinnovision_world_challenge\\quantum_federated_learning\\q_env\\lib\\site-packages (from tensorflow==2.10) (0.31.0)\n",
      "Requirement already satisfied: six>=1.12.0 in c:\\users\\user\\desktop\\qinnovision_world_challenge\\quantum_federated_learning\\q_env\\lib\\site-packages (from tensorflow==2.10) (1.16.0)\n",
      "Requirement already satisfied: opt-einsum>=2.3.2 in c:\\users\\user\\desktop\\qinnovision_world_challenge\\quantum_federated_learning\\q_env\\lib\\site-packages (from tensorflow==2.10) (3.4.0)\n",
      "Requirement already satisfied: wrapt>=1.11.0 in c:\\users\\user\\desktop\\qinnovision_world_challenge\\quantum_federated_learning\\q_env\\lib\\site-packages (from tensorflow==2.10) (1.17.0)\n",
      "Requirement already satisfied: tensorboard<2.11,>=2.10 in c:\\users\\user\\desktop\\qinnovision_world_challenge\\quantum_federated_learning\\q_env\\lib\\site-packages (from tensorflow==2.10) (2.10.1)\n",
      "Requirement already satisfied: h5py>=2.9.0 in c:\\users\\user\\desktop\\qinnovision_world_challenge\\quantum_federated_learning\\q_env\\lib\\site-packages (from tensorflow==2.10) (3.12.1)\n",
      "Requirement already satisfied: gast<=0.4.0,>=0.2.1 in c:\\users\\user\\desktop\\qinnovision_world_challenge\\quantum_federated_learning\\q_env\\lib\\site-packages (from tensorflow==2.10) (0.4.0)\n",
      "Requirement already satisfied: astunparse>=1.6.0 in c:\\users\\user\\desktop\\qinnovision_world_challenge\\quantum_federated_learning\\q_env\\lib\\site-packages (from tensorflow==2.10) (1.6.3)\n",
      "Requirement already satisfied: google-pasta>=0.1.1 in c:\\users\\user\\desktop\\qinnovision_world_challenge\\quantum_federated_learning\\q_env\\lib\\site-packages (from tensorflow==2.10) (0.2.0)\n",
      "Requirement already satisfied: wheel<1.0,>=0.23.0 in c:\\users\\user\\desktop\\qinnovision_world_challenge\\quantum_federated_learning\\q_env\\lib\\site-packages (from astunparse>=1.6.0->tensorflow==2.10) (0.45.1)\n",
      "Requirement already satisfied: tensorboard-data-server<0.7.0,>=0.6.0 in c:\\users\\user\\desktop\\qinnovision_world_challenge\\quantum_federated_learning\\q_env\\lib\\site-packages (from tensorboard<2.11,>=2.10->tensorflow==2.10) (0.6.1)\n",
      "Requirement already satisfied: tensorboard-plugin-wit>=1.6.0 in c:\\users\\user\\desktop\\qinnovision_world_challenge\\quantum_federated_learning\\q_env\\lib\\site-packages (from tensorboard<2.11,>=2.10->tensorflow==2.10) (1.8.1)\n",
      "Requirement already satisfied: google-auth<3,>=1.6.3 in c:\\users\\user\\desktop\\qinnovision_world_challenge\\quantum_federated_learning\\q_env\\lib\\site-packages (from tensorboard<2.11,>=2.10->tensorflow==2.10) (2.36.0)\n",
      "Requirement already satisfied: google-auth-oauthlib<0.5,>=0.4.1 in c:\\users\\user\\desktop\\qinnovision_world_challenge\\quantum_federated_learning\\q_env\\lib\\site-packages (from tensorboard<2.11,>=2.10->tensorflow==2.10) (0.4.6)\n",
      "Requirement already satisfied: markdown>=2.6.8 in c:\\users\\user\\desktop\\qinnovision_world_challenge\\quantum_federated_learning\\q_env\\lib\\site-packages (from tensorboard<2.11,>=2.10->tensorflow==2.10) (3.7)\n",
      "Requirement already satisfied: requests<3,>=2.21.0 in c:\\users\\user\\desktop\\qinnovision_world_challenge\\quantum_federated_learning\\q_env\\lib\\site-packages (from tensorboard<2.11,>=2.10->tensorflow==2.10) (2.32.3)\n",
      "Requirement already satisfied: werkzeug>=1.0.1 in c:\\users\\user\\desktop\\qinnovision_world_challenge\\quantum_federated_learning\\q_env\\lib\\site-packages (from tensorboard<2.11,>=2.10->tensorflow==2.10) (3.1.3)\n",
      "Requirement already satisfied: pyasn1-modules>=0.2.1 in c:\\users\\user\\desktop\\qinnovision_world_challenge\\quantum_federated_learning\\q_env\\lib\\site-packages (from google-auth<3,>=1.6.3->tensorboard<2.11,>=2.10->tensorflow==2.10) (0.4.1)\n",
      "Requirement already satisfied: cachetools<6.0,>=2.0.0 in c:\\users\\user\\desktop\\qinnovision_world_challenge\\quantum_federated_learning\\q_env\\lib\\site-packages (from google-auth<3,>=1.6.3->tensorboard<2.11,>=2.10->tensorflow==2.10) (5.5.0)\n",
      "Requirement already satisfied: rsa<5,>=3.1.4 in c:\\users\\user\\desktop\\qinnovision_world_challenge\\quantum_federated_learning\\q_env\\lib\\site-packages (from google-auth<3,>=1.6.3->tensorboard<2.11,>=2.10->tensorflow==2.10) (4.9)\n",
      "Requirement already satisfied: requests-oauthlib>=0.7.0 in c:\\users\\user\\desktop\\qinnovision_world_challenge\\quantum_federated_learning\\q_env\\lib\\site-packages (from google-auth-oauthlib<0.5,>=0.4.1->tensorboard<2.11,>=2.10->tensorflow==2.10) (2.0.0)\n",
      "Requirement already satisfied: pyasn1<0.7.0,>=0.4.6 in c:\\users\\user\\desktop\\qinnovision_world_challenge\\quantum_federated_learning\\q_env\\lib\\site-packages (from pyasn1-modules>=0.2.1->google-auth<3,>=1.6.3->tensorboard<2.11,>=2.10->tensorflow==2.10) (0.6.1)\n",
      "Requirement already satisfied: certifi>=2017.4.17 in c:\\users\\user\\desktop\\qinnovision_world_challenge\\quantum_federated_learning\\q_env\\lib\\site-packages (from requests<3,>=2.21.0->tensorboard<2.11,>=2.10->tensorflow==2.10) (2024.8.30)\n",
      "Requirement already satisfied: idna<4,>=2.5 in c:\\users\\user\\desktop\\qinnovision_world_challenge\\quantum_federated_learning\\q_env\\lib\\site-packages (from requests<3,>=2.21.0->tensorboard<2.11,>=2.10->tensorflow==2.10) (3.10)\n",
      "Requirement already satisfied: charset-normalizer<4,>=2 in c:\\users\\user\\desktop\\qinnovision_world_challenge\\quantum_federated_learning\\q_env\\lib\\site-packages (from requests<3,>=2.21.0->tensorboard<2.11,>=2.10->tensorflow==2.10) (3.4.0)\n",
      "Requirement already satisfied: urllib3<3,>=1.21.1 in c:\\users\\user\\desktop\\qinnovision_world_challenge\\quantum_federated_learning\\q_env\\lib\\site-packages (from requests<3,>=2.21.0->tensorboard<2.11,>=2.10->tensorflow==2.10) (2.2.3)\n",
      "Requirement already satisfied: oauthlib>=3.0.0 in c:\\users\\user\\desktop\\qinnovision_world_challenge\\quantum_federated_learning\\q_env\\lib\\site-packages (from requests-oauthlib>=0.7.0->google-auth-oauthlib<0.5,>=0.4.1->tensorboard<2.11,>=2.10->tensorflow==2.10) (3.2.2)\n",
      "Requirement already satisfied: MarkupSafe>=2.1.1 in c:\\users\\user\\desktop\\qinnovision_world_challenge\\quantum_federated_learning\\q_env\\lib\\site-packages (from werkzeug>=1.0.1->tensorboard<2.11,>=2.10->tensorflow==2.10) (3.0.2)\n"
     ]
    },
    {
     "name": "stderr",
     "output_type": "stream",
     "text": [
      "WARNING: You are using pip version 21.2.3; however, version 24.3.1 is available.\n",
      "You should consider upgrading via the 'C:\\Users\\user\\Desktop\\QInnovision_World_Challenge\\Quantum_Federated_Learning\\q_env\\Scripts\\python.exe -m pip install --upgrade pip' command.\n"
     ]
    }
   ],
   "source": [
    "!pip install tensorflow==2.10 keras==2.10"
   ]
  },
  {
   "cell_type": "code",
   "execution_count": 2,
   "metadata": {},
   "outputs": [
    {
     "name": "stdout",
     "output_type": "stream",
     "text": [
      "Requirement already satisfied: pandas in c:\\users\\user\\desktop\\qinnovision_world_challenge\\quantum_federated_learning\\q_env\\lib\\site-packages (2.2.3)\n",
      "Requirement already satisfied: python-dateutil>=2.8.2 in c:\\users\\user\\desktop\\qinnovision_world_challenge\\quantum_federated_learning\\q_env\\lib\\site-packages (from pandas) (2.9.0.post0)\n",
      "Requirement already satisfied: tzdata>=2022.7 in c:\\users\\user\\desktop\\qinnovision_world_challenge\\quantum_federated_learning\\q_env\\lib\\site-packages (from pandas) (2024.2)\n",
      "Requirement already satisfied: pytz>=2020.1 in c:\\users\\user\\desktop\\qinnovision_world_challenge\\quantum_federated_learning\\q_env\\lib\\site-packages (from pandas) (2024.2)\n",
      "Requirement already satisfied: numpy>=1.22.4 in c:\\users\\user\\desktop\\qinnovision_world_challenge\\quantum_federated_learning\\q_env\\lib\\site-packages (from pandas) (1.26.4)\n",
      "Requirement already satisfied: six>=1.5 in c:\\users\\user\\desktop\\qinnovision_world_challenge\\quantum_federated_learning\\q_env\\lib\\site-packages (from python-dateutil>=2.8.2->pandas) (1.16.0)\n"
     ]
    },
    {
     "name": "stderr",
     "output_type": "stream",
     "text": [
      "WARNING: You are using pip version 21.2.3; however, version 24.3.1 is available.\n",
      "You should consider upgrading via the 'C:\\Users\\user\\Desktop\\QInnovision_World_Challenge\\Quantum_Federated_Learning\\q_env\\Scripts\\python.exe -m pip install --upgrade pip' command.\n"
     ]
    },
    {
     "name": "stdout",
     "output_type": "stream",
     "text": [
      "Requirement already satisfied: seaborn in c:\\users\\user\\desktop\\qinnovision_world_challenge\\quantum_federated_learning\\q_env\\lib\\site-packages (0.13.2)\n",
      "Requirement already satisfied: matplotlib!=3.6.1,>=3.4 in c:\\users\\user\\desktop\\qinnovision_world_challenge\\quantum_federated_learning\\q_env\\lib\\site-packages (from seaborn) (3.9.2)\n",
      "Requirement already satisfied: pandas>=1.2 in c:\\users\\user\\desktop\\qinnovision_world_challenge\\quantum_federated_learning\\q_env\\lib\\site-packages (from seaborn) (2.2.3)\n",
      "Requirement already satisfied: numpy!=1.24.0,>=1.20 in c:\\users\\user\\desktop\\qinnovision_world_challenge\\quantum_federated_learning\\q_env\\lib\\site-packages (from seaborn) (1.26.4)\n",
      "Requirement already satisfied: pillow>=8 in c:\\users\\user\\desktop\\qinnovision_world_challenge\\quantum_federated_learning\\q_env\\lib\\site-packages (from matplotlib!=3.6.1,>=3.4->seaborn) (11.0.0)\n",
      "Requirement already satisfied: python-dateutil>=2.7 in c:\\users\\user\\desktop\\qinnovision_world_challenge\\quantum_federated_learning\\q_env\\lib\\site-packages (from matplotlib!=3.6.1,>=3.4->seaborn) (2.9.0.post0)\n",
      "Requirement already satisfied: contourpy>=1.0.1 in c:\\users\\user\\desktop\\qinnovision_world_challenge\\quantum_federated_learning\\q_env\\lib\\site-packages (from matplotlib!=3.6.1,>=3.4->seaborn) (1.3.1)\n",
      "Requirement already satisfied: packaging>=20.0 in c:\\users\\user\\desktop\\qinnovision_world_challenge\\quantum_federated_learning\\q_env\\lib\\site-packages (from matplotlib!=3.6.1,>=3.4->seaborn) (24.2)\n",
      "Requirement already satisfied: cycler>=0.10 in c:\\users\\user\\desktop\\qinnovision_world_challenge\\quantum_federated_learning\\q_env\\lib\\site-packages (from matplotlib!=3.6.1,>=3.4->seaborn) (0.12.1)\n",
      "Requirement already satisfied: pyparsing>=2.3.1 in c:\\users\\user\\desktop\\qinnovision_world_challenge\\quantum_federated_learning\\q_env\\lib\\site-packages (from matplotlib!=3.6.1,>=3.4->seaborn) (3.2.0)\n",
      "Requirement already satisfied: fonttools>=4.22.0 in c:\\users\\user\\desktop\\qinnovision_world_challenge\\quantum_federated_learning\\q_env\\lib\\site-packages (from matplotlib!=3.6.1,>=3.4->seaborn) (4.55.0)\n",
      "Requirement already satisfied: kiwisolver>=1.3.1 in c:\\users\\user\\desktop\\qinnovision_world_challenge\\quantum_federated_learning\\q_env\\lib\\site-packages (from matplotlib!=3.6.1,>=3.4->seaborn) (1.4.7)\n",
      "Requirement already satisfied: tzdata>=2022.7 in c:\\users\\user\\desktop\\qinnovision_world_challenge\\quantum_federated_learning\\q_env\\lib\\site-packages (from pandas>=1.2->seaborn) (2024.2)\n",
      "Requirement already satisfied: pytz>=2020.1 in c:\\users\\user\\desktop\\qinnovision_world_challenge\\quantum_federated_learning\\q_env\\lib\\site-packages (from pandas>=1.2->seaborn) (2024.2)\n",
      "Requirement already satisfied: six>=1.5 in c:\\users\\user\\desktop\\qinnovision_world_challenge\\quantum_federated_learning\\q_env\\lib\\site-packages (from python-dateutil>=2.7->matplotlib!=3.6.1,>=3.4->seaborn) (1.16.0)\n"
     ]
    },
    {
     "name": "stderr",
     "output_type": "stream",
     "text": [
      "WARNING: You are using pip version 21.2.3; however, version 24.3.1 is available.\n",
      "You should consider upgrading via the 'C:\\Users\\user\\Desktop\\QInnovision_World_Challenge\\Quantum_Federated_Learning\\q_env\\Scripts\\python.exe -m pip install --upgrade pip' command.\n"
     ]
    },
    {
     "name": "stdout",
     "output_type": "stream",
     "text": [
      "Requirement already satisfied: sklearn in c:\\users\\user\\desktop\\qinnovision_world_challenge\\quantum_federated_learning\\q_env\\lib\\site-packages (0.0)\n",
      "Requirement already satisfied: scikit-learn in c:\\users\\user\\desktop\\qinnovision_world_challenge\\quantum_federated_learning\\q_env\\lib\\site-packages (from sklearn) (1.5.2)\n",
      "Requirement already satisfied: scipy>=1.6.0 in c:\\users\\user\\desktop\\qinnovision_world_challenge\\quantum_federated_learning\\q_env\\lib\\site-packages (from scikit-learn->sklearn) (1.14.1)\n",
      "Requirement already satisfied: threadpoolctl>=3.1.0 in c:\\users\\user\\desktop\\qinnovision_world_challenge\\quantum_federated_learning\\q_env\\lib\\site-packages (from scikit-learn->sklearn) (3.5.0)\n",
      "Requirement already satisfied: numpy>=1.19.5 in c:\\users\\user\\desktop\\qinnovision_world_challenge\\quantum_federated_learning\\q_env\\lib\\site-packages (from scikit-learn->sklearn) (1.26.4)\n",
      "Requirement already satisfied: joblib>=1.2.0 in c:\\users\\user\\desktop\\qinnovision_world_challenge\\quantum_federated_learning\\q_env\\lib\\site-packages (from scikit-learn->sklearn) (1.4.2)\n"
     ]
    },
    {
     "name": "stderr",
     "output_type": "stream",
     "text": [
      "WARNING: You are using pip version 21.2.3; however, version 24.3.1 is available.\n",
      "You should consider upgrading via the 'C:\\Users\\user\\Desktop\\QInnovision_World_Challenge\\Quantum_Federated_Learning\\q_env\\Scripts\\python.exe -m pip install --upgrade pip' command.\n"
     ]
    }
   ],
   "source": [
    "!pip install pandas\n",
    "!pip install seaborn\n",
    "!pip install sklearn"
   ]
  },
  {
   "cell_type": "code",
   "execution_count": 3,
   "metadata": {
    "id": "oSYKIx_xWNmm"
   },
   "outputs": [
    {
     "name": "stdout",
     "output_type": "stream",
     "text": [
      "Requirement already satisfied: pennylane in c:\\users\\user\\desktop\\qinnovision_world_challenge\\quantum_federated_learning\\q_env\\lib\\site-packages (0.39.0)\n",
      "Requirement already satisfied: autoray>=0.6.11 in c:\\users\\user\\desktop\\qinnovision_world_challenge\\quantum_federated_learning\\q_env\\lib\\site-packages (from pennylane) (0.7.0)\n",
      "Requirement already satisfied: typing-extensions in c:\\users\\user\\desktop\\qinnovision_world_challenge\\quantum_federated_learning\\q_env\\lib\\site-packages (from pennylane) (4.12.2)\n",
      "Requirement already satisfied: appdirs in c:\\users\\user\\desktop\\qinnovision_world_challenge\\quantum_federated_learning\\q_env\\lib\\site-packages (from pennylane) (1.4.4)\n",
      "Requirement already satisfied: toml in c:\\users\\user\\desktop\\qinnovision_world_challenge\\quantum_federated_learning\\q_env\\lib\\site-packages (from pennylane) (0.10.2)\n",
      "Requirement already satisfied: autograd in c:\\users\\user\\desktop\\qinnovision_world_challenge\\quantum_federated_learning\\q_env\\lib\\site-packages (from pennylane) (1.7.0)\n",
      "Requirement already satisfied: packaging in c:\\users\\user\\desktop\\qinnovision_world_challenge\\quantum_federated_learning\\q_env\\lib\\site-packages (from pennylane) (24.2)\n",
      "Requirement already satisfied: cachetools in c:\\users\\user\\desktop\\qinnovision_world_challenge\\quantum_federated_learning\\q_env\\lib\\site-packages (from pennylane) (5.5.0)\n",
      "Requirement already satisfied: networkx in c:\\users\\user\\desktop\\qinnovision_world_challenge\\quantum_federated_learning\\q_env\\lib\\site-packages (from pennylane) (3.4.2)\n",
      "Requirement already satisfied: requests in c:\\users\\user\\desktop\\qinnovision_world_challenge\\quantum_federated_learning\\q_env\\lib\\site-packages (from pennylane) (2.32.3)\n",
      "Requirement already satisfied: scipy in c:\\users\\user\\desktop\\qinnovision_world_challenge\\quantum_federated_learning\\q_env\\lib\\site-packages (from pennylane) (1.14.1)\n",
      "Requirement already satisfied: numpy<2.1 in c:\\users\\user\\desktop\\qinnovision_world_challenge\\quantum_federated_learning\\q_env\\lib\\site-packages (from pennylane) (1.26.4)\n",
      "Requirement already satisfied: rustworkx>=0.14.0 in c:\\users\\user\\desktop\\qinnovision_world_challenge\\quantum_federated_learning\\q_env\\lib\\site-packages (from pennylane) (0.15.1)\n",
      "Requirement already satisfied: pennylane-lightning>=0.39 in c:\\users\\user\\desktop\\qinnovision_world_challenge\\quantum_federated_learning\\q_env\\lib\\site-packages (from pennylane) (0.39.0)\n",
      "Requirement already satisfied: charset-normalizer<4,>=2 in c:\\users\\user\\desktop\\qinnovision_world_challenge\\quantum_federated_learning\\q_env\\lib\\site-packages (from requests->pennylane) (3.4.0)\n",
      "Requirement already satisfied: urllib3<3,>=1.21.1 in c:\\users\\user\\desktop\\qinnovision_world_challenge\\quantum_federated_learning\\q_env\\lib\\site-packages (from requests->pennylane) (2.2.3)\n",
      "Requirement already satisfied: certifi>=2017.4.17 in c:\\users\\user\\desktop\\qinnovision_world_challenge\\quantum_federated_learning\\q_env\\lib\\site-packages (from requests->pennylane) (2024.8.30)\n",
      "Requirement already satisfied: idna<4,>=2.5 in c:\\users\\user\\desktop\\qinnovision_world_challenge\\quantum_federated_learning\\q_env\\lib\\site-packages (from requests->pennylane) (3.10)\n"
     ]
    },
    {
     "name": "stderr",
     "output_type": "stream",
     "text": [
      "WARNING: You are using pip version 21.2.3; however, version 24.3.1 is available.\n",
      "You should consider upgrading via the 'C:\\Users\\user\\Desktop\\QInnovision_World_Challenge\\Quantum_Federated_Learning\\q_env\\Scripts\\python.exe -m pip install --upgrade pip' command.\n"
     ]
    },
    {
     "name": "stdout",
     "output_type": "stream",
     "text": [
      "Requirement already satisfied: numpy in c:\\users\\user\\desktop\\qinnovision_world_challenge\\quantum_federated_learning\\q_env\\lib\\site-packages (1.26.4)\n"
     ]
    },
    {
     "name": "stderr",
     "output_type": "stream",
     "text": [
      "WARNING: You are using pip version 21.2.3; however, version 24.3.1 is available.\n",
      "You should consider upgrading via the 'C:\\Users\\user\\Desktop\\QInnovision_World_Challenge\\Quantum_Federated_Learning\\q_env\\Scripts\\python.exe -m pip install --upgrade pip' command.\n"
     ]
    }
   ],
   "source": [
    "!pip install pennylane\n",
    "!pip install numpy"
   ]
  },
  {
   "cell_type": "code",
   "execution_count": 4,
   "metadata": {},
   "outputs": [
    {
     "name": "stdout",
     "output_type": "stream",
     "text": [
      "Requirement already satisfied: imblearn in c:\\users\\user\\desktop\\qinnovision_world_challenge\\quantum_federated_learning\\q_env\\lib\\site-packages (0.0)\n",
      "Requirement already satisfied: imbalanced-learn in c:\\users\\user\\desktop\\qinnovision_world_challenge\\quantum_federated_learning\\q_env\\lib\\site-packages (from imblearn) (0.12.4)\n",
      "Requirement already satisfied: scikit-learn>=1.0.2 in c:\\users\\user\\desktop\\qinnovision_world_challenge\\quantum_federated_learning\\q_env\\lib\\site-packages (from imbalanced-learn->imblearn) (1.5.2)\n",
      "Requirement already satisfied: scipy>=1.5.0 in c:\\users\\user\\desktop\\qinnovision_world_challenge\\quantum_federated_learning\\q_env\\lib\\site-packages (from imbalanced-learn->imblearn) (1.14.1)\n",
      "Requirement already satisfied: threadpoolctl>=2.0.0 in c:\\users\\user\\desktop\\qinnovision_world_challenge\\quantum_federated_learning\\q_env\\lib\\site-packages (from imbalanced-learn->imblearn) (3.5.0)\n",
      "Requirement already satisfied: numpy>=1.17.3 in c:\\users\\user\\desktop\\qinnovision_world_challenge\\quantum_federated_learning\\q_env\\lib\\site-packages (from imbalanced-learn->imblearn) (1.26.4)\n",
      "Requirement already satisfied: joblib>=1.1.1 in c:\\users\\user\\desktop\\qinnovision_world_challenge\\quantum_federated_learning\\q_env\\lib\\site-packages (from imbalanced-learn->imblearn) (1.4.2)\n"
     ]
    },
    {
     "name": "stderr",
     "output_type": "stream",
     "text": [
      "WARNING: You are using pip version 21.2.3; however, version 24.3.1 is available.\n",
      "You should consider upgrading via the 'C:\\Users\\user\\Desktop\\QInnovision_World_Challenge\\Quantum_Federated_Learning\\q_env\\Scripts\\python.exe -m pip install --upgrade pip' command.\n"
     ]
    }
   ],
   "source": [
    "!pip install imblearn"
   ]
  },
  {
   "cell_type": "code",
   "execution_count": 5,
   "metadata": {
    "id": "WJQzZyIDNhac"
   },
   "outputs": [],
   "source": [
    "import numpy as np\n",
    "import pandas as pd\n",
    "import tensorflow as tf\n",
    "import matplotlib.pyplot as plt\n",
    "import seaborn as sns\n",
    "\n",
    "# Classifier Libraries\n",
    "import keras\n",
    "from keras.models import Sequential\n",
    "from keras.layers import Activation\n",
    "from keras.layers.core import Dense\n",
    "from keras.optimizers import Adam\n",
    "from keras.metrics import categorical_crossentropy\n",
    "\n",
    "# Other Libraries\n",
    "from sklearn.model_selection import train_test_split\n",
    "from sklearn.metrics import confusion_matrix"
   ]
  },
  {
   "cell_type": "code",
   "execution_count": 6,
   "metadata": {
    "id": "o4uWAdgeVoo4"
   },
   "outputs": [],
   "source": [
    "import tensorflow as tf"
   ]
  },
  {
   "cell_type": "code",
   "execution_count": 7,
   "metadata": {
    "id": "wv98-B5QucmW"
   },
   "outputs": [],
   "source": [
    "import pandas as pd\n",
    "import matplotlib.pyplot as plt\n",
    "import seaborn as sns\n",
    "import pennylane as qml\n",
    "from pennylane import numpy as np\n",
    "from tensorflow.keras.models import Model, Sequential\n",
    "from tensorflow.keras.layers import Dropout"
   ]
  },
  {
   "cell_type": "code",
   "execution_count": 8,
   "metadata": {
    "id": "PLf-sgZVM0p6"
   },
   "outputs": [],
   "source": [
    "from sklearn.metrics import confusion_matrix, classification_report\n",
    "import numpy as np"
   ]
  },
  {
   "cell_type": "markdown",
   "metadata": {
    "id": "Yo1otV9u0F4a"
   },
   "source": [
    "## Functions"
   ]
  },
  {
   "cell_type": "code",
   "execution_count": 9,
   "metadata": {
    "id": "hvYVTw4p0FRX"
   },
   "outputs": [],
   "source": [
    "from imblearn.over_sampling import SMOTE\n",
    "import pandas as pd\n",
    "\n",
    "from imblearn.over_sampling import SMOTE\n",
    "import pandas as pd\n",
    "\n",
    "def balance_with_smote(df, target_col='Class', smote_ratio=0.15, random_state=42):\n",
    "    \"\"\"Apply SMOTE to increase the minority class size by a specified ratio.\"\"\"\n",
    "    X = df.drop(columns=[target_col])\n",
    "    y = df[target_col]\n",
    "\n",
    "    # Apply SMOTE with a limited ratio\n",
    "    smote = SMOTE(sampling_strategy=smote_ratio, random_state=random_state)\n",
    "    X_resampled, y_resampled = smote.fit_resample(X, y)\n",
    "\n",
    "    balanced_df = pd.DataFrame(X_resampled, columns=X.columns)\n",
    "    balanced_df[target_col] = y_resampled\n",
    "    return balanced_df"
   ]
  },
  {
   "cell_type": "code",
   "execution_count": 10,
   "metadata": {
    "id": "YKFjqBKe0zuT"
   },
   "outputs": [],
   "source": [
    "def count_fraud_percentage(df, fraud_col='isFraud'):\n",
    "    \"\"\"\n",
    "    Calculate the count and percentage of fraud cases in a DataFrame.\n",
    "\n",
    "    \"\"\"\n",
    "\n",
    "    fraud_count = df[fraud_col].sum()\n",
    "\n",
    "    total_count = len(df)\n",
    "    fraud_percentage = (fraud_count / total_count) * 100\n",
    "\n",
    "    return fraud_count, fraud_percentage"
   ]
  },
  {
   "cell_type": "markdown",
   "metadata": {
    "id": "6sVBiNR_uFAc"
   },
   "source": [
    "# Data Loading"
   ]
  },
  {
   "cell_type": "markdown",
   "metadata": {
    "id": "HuSQqBIpOopX"
   },
   "source": [
    "If using the google_colab then we can use the kaggle interface to download the needed datasets.\n",
    "\n",
    "In order to download the dataset what you need to do is to download the kaggle.json file from the kaggle.com site.\n",
    "\n"
   ]
  },
  {
   "cell_type": "code",
   "execution_count": 11,
   "metadata": {},
   "outputs": [],
   "source": [
    "# from google.colab import files\n",
    "\n",
    "# files.upload()  # This will prompt you to upload kaggle.json\n",
    "\n",
    "# # Make a directory for Kaggle and move the file there\n",
    "# !mkdir -p ~/.kaggle\n",
    "# !mv kaggle.json ~/.kaggle/\n",
    "# !chmod 600 ~/.kaggle/kaggle.json\n",
    "\n",
    "# # Now you can download the dataset\n",
    "# !kaggle datasets download -d ealaxi/paysim1 -p /content/datasets --unzip\n",
    "\n",
    "# print(\"Dataset downloaded to: /content/datasets\")"
   ]
  },
  {
   "cell_type": "code",
   "execution_count": 12,
   "metadata": {},
   "outputs": [],
   "source": [
    "# finance_df=pd.read_csv(\"/content/datasets/PS_20174392719_1491204439457_log.csv\",delimiter=',')\n",
    "# finance_df.describe()"
   ]
  },
  {
   "cell_type": "markdown",
   "metadata": {},
   "source": [
    "If using local interpeters, you will need to download the dataset and then import it:"
   ]
  },
  {
   "cell_type": "code",
   "execution_count": 13,
   "metadata": {
    "id": "X-Rr1JQUuftw"
   },
   "outputs": [
    {
     "data": {
      "text/html": [
       "<div>\n",
       "<style scoped>\n",
       "    .dataframe tbody tr th:only-of-type {\n",
       "        vertical-align: middle;\n",
       "    }\n",
       "\n",
       "    .dataframe tbody tr th {\n",
       "        vertical-align: top;\n",
       "    }\n",
       "\n",
       "    .dataframe thead th {\n",
       "        text-align: right;\n",
       "    }\n",
       "</style>\n",
       "<table border=\"1\" class=\"dataframe\">\n",
       "  <thead>\n",
       "    <tr style=\"text-align: right;\">\n",
       "      <th></th>\n",
       "      <th>step</th>\n",
       "      <th>amount</th>\n",
       "      <th>oldbalanceOrg</th>\n",
       "      <th>newbalanceOrig</th>\n",
       "      <th>oldbalanceDest</th>\n",
       "      <th>newbalanceDest</th>\n",
       "      <th>isFraud</th>\n",
       "      <th>isFlaggedFraud</th>\n",
       "    </tr>\n",
       "  </thead>\n",
       "  <tbody>\n",
       "    <tr>\n",
       "      <th>count</th>\n",
       "      <td>6.362620e+06</td>\n",
       "      <td>6.362620e+06</td>\n",
       "      <td>6.362620e+06</td>\n",
       "      <td>6.362620e+06</td>\n",
       "      <td>6.362620e+06</td>\n",
       "      <td>6.362620e+06</td>\n",
       "      <td>6.362620e+06</td>\n",
       "      <td>6.362620e+06</td>\n",
       "    </tr>\n",
       "    <tr>\n",
       "      <th>mean</th>\n",
       "      <td>2.433972e+02</td>\n",
       "      <td>1.798619e+05</td>\n",
       "      <td>8.338831e+05</td>\n",
       "      <td>8.551137e+05</td>\n",
       "      <td>1.100702e+06</td>\n",
       "      <td>1.224996e+06</td>\n",
       "      <td>1.290820e-03</td>\n",
       "      <td>2.514687e-06</td>\n",
       "    </tr>\n",
       "    <tr>\n",
       "      <th>std</th>\n",
       "      <td>1.423320e+02</td>\n",
       "      <td>6.038582e+05</td>\n",
       "      <td>2.888243e+06</td>\n",
       "      <td>2.924049e+06</td>\n",
       "      <td>3.399180e+06</td>\n",
       "      <td>3.674129e+06</td>\n",
       "      <td>3.590480e-02</td>\n",
       "      <td>1.585775e-03</td>\n",
       "    </tr>\n",
       "    <tr>\n",
       "      <th>min</th>\n",
       "      <td>1.000000e+00</td>\n",
       "      <td>0.000000e+00</td>\n",
       "      <td>0.000000e+00</td>\n",
       "      <td>0.000000e+00</td>\n",
       "      <td>0.000000e+00</td>\n",
       "      <td>0.000000e+00</td>\n",
       "      <td>0.000000e+00</td>\n",
       "      <td>0.000000e+00</td>\n",
       "    </tr>\n",
       "    <tr>\n",
       "      <th>25%</th>\n",
       "      <td>1.560000e+02</td>\n",
       "      <td>1.338957e+04</td>\n",
       "      <td>0.000000e+00</td>\n",
       "      <td>0.000000e+00</td>\n",
       "      <td>0.000000e+00</td>\n",
       "      <td>0.000000e+00</td>\n",
       "      <td>0.000000e+00</td>\n",
       "      <td>0.000000e+00</td>\n",
       "    </tr>\n",
       "    <tr>\n",
       "      <th>50%</th>\n",
       "      <td>2.390000e+02</td>\n",
       "      <td>7.487194e+04</td>\n",
       "      <td>1.420800e+04</td>\n",
       "      <td>0.000000e+00</td>\n",
       "      <td>1.327057e+05</td>\n",
       "      <td>2.146614e+05</td>\n",
       "      <td>0.000000e+00</td>\n",
       "      <td>0.000000e+00</td>\n",
       "    </tr>\n",
       "    <tr>\n",
       "      <th>75%</th>\n",
       "      <td>3.350000e+02</td>\n",
       "      <td>2.087215e+05</td>\n",
       "      <td>1.073152e+05</td>\n",
       "      <td>1.442584e+05</td>\n",
       "      <td>9.430367e+05</td>\n",
       "      <td>1.111909e+06</td>\n",
       "      <td>0.000000e+00</td>\n",
       "      <td>0.000000e+00</td>\n",
       "    </tr>\n",
       "    <tr>\n",
       "      <th>max</th>\n",
       "      <td>7.430000e+02</td>\n",
       "      <td>9.244552e+07</td>\n",
       "      <td>5.958504e+07</td>\n",
       "      <td>4.958504e+07</td>\n",
       "      <td>3.560159e+08</td>\n",
       "      <td>3.561793e+08</td>\n",
       "      <td>1.000000e+00</td>\n",
       "      <td>1.000000e+00</td>\n",
       "    </tr>\n",
       "  </tbody>\n",
       "</table>\n",
       "</div>"
      ],
      "text/plain": [
       "               step        amount  oldbalanceOrg  newbalanceOrig  \\\n",
       "count  6.362620e+06  6.362620e+06   6.362620e+06    6.362620e+06   \n",
       "mean   2.433972e+02  1.798619e+05   8.338831e+05    8.551137e+05   \n",
       "std    1.423320e+02  6.038582e+05   2.888243e+06    2.924049e+06   \n",
       "min    1.000000e+00  0.000000e+00   0.000000e+00    0.000000e+00   \n",
       "25%    1.560000e+02  1.338957e+04   0.000000e+00    0.000000e+00   \n",
       "50%    2.390000e+02  7.487194e+04   1.420800e+04    0.000000e+00   \n",
       "75%    3.350000e+02  2.087215e+05   1.073152e+05    1.442584e+05   \n",
       "max    7.430000e+02  9.244552e+07   5.958504e+07    4.958504e+07   \n",
       "\n",
       "       oldbalanceDest  newbalanceDest       isFraud  isFlaggedFraud  \n",
       "count    6.362620e+06    6.362620e+06  6.362620e+06    6.362620e+06  \n",
       "mean     1.100702e+06    1.224996e+06  1.290820e-03    2.514687e-06  \n",
       "std      3.399180e+06    3.674129e+06  3.590480e-02    1.585775e-03  \n",
       "min      0.000000e+00    0.000000e+00  0.000000e+00    0.000000e+00  \n",
       "25%      0.000000e+00    0.000000e+00  0.000000e+00    0.000000e+00  \n",
       "50%      1.327057e+05    2.146614e+05  0.000000e+00    0.000000e+00  \n",
       "75%      9.430367e+05    1.111909e+06  0.000000e+00    0.000000e+00  \n",
       "max      3.560159e+08    3.561793e+08  1.000000e+00    1.000000e+00  "
      ]
     },
     "execution_count": 13,
     "metadata": {},
     "output_type": "execute_result"
    }
   ],
   "source": [
    "finance_df=pd.read_csv(\"../../Datasets/PS_20174392719_1491204439457_log.csv\",delimiter=',')\n",
    "finance_df.describe()"
   ]
  },
  {
   "cell_type": "code",
   "execution_count": 14,
   "metadata": {
    "id": "F_tHjdsBulQY"
   },
   "outputs": [],
   "source": [
    "df=finance_df"
   ]
  },
  {
   "cell_type": "code",
   "execution_count": 15,
   "metadata": {
    "id": "zNoFQtpBGsyF"
   },
   "outputs": [
    {
     "data": {
      "text/html": [
       "<div>\n",
       "<style scoped>\n",
       "    .dataframe tbody tr th:only-of-type {\n",
       "        vertical-align: middle;\n",
       "    }\n",
       "\n",
       "    .dataframe tbody tr th {\n",
       "        vertical-align: top;\n",
       "    }\n",
       "\n",
       "    .dataframe thead th {\n",
       "        text-align: right;\n",
       "    }\n",
       "</style>\n",
       "<table border=\"1\" class=\"dataframe\">\n",
       "  <thead>\n",
       "    <tr style=\"text-align: right;\">\n",
       "      <th></th>\n",
       "      <th>step</th>\n",
       "      <th>type</th>\n",
       "      <th>amount</th>\n",
       "      <th>nameOrig</th>\n",
       "      <th>oldbalanceOrg</th>\n",
       "      <th>newbalanceOrig</th>\n",
       "      <th>nameDest</th>\n",
       "      <th>oldbalanceDest</th>\n",
       "      <th>newbalanceDest</th>\n",
       "      <th>isFraud</th>\n",
       "      <th>isFlaggedFraud</th>\n",
       "    </tr>\n",
       "  </thead>\n",
       "  <tbody>\n",
       "    <tr>\n",
       "      <th>0</th>\n",
       "      <td>1</td>\n",
       "      <td>PAYMENT</td>\n",
       "      <td>9839.64</td>\n",
       "      <td>C1231006815</td>\n",
       "      <td>170136.00</td>\n",
       "      <td>160296.36</td>\n",
       "      <td>M1979787155</td>\n",
       "      <td>0.00</td>\n",
       "      <td>0.00</td>\n",
       "      <td>0</td>\n",
       "      <td>0</td>\n",
       "    </tr>\n",
       "    <tr>\n",
       "      <th>1</th>\n",
       "      <td>1</td>\n",
       "      <td>PAYMENT</td>\n",
       "      <td>1864.28</td>\n",
       "      <td>C1666544295</td>\n",
       "      <td>21249.00</td>\n",
       "      <td>19384.72</td>\n",
       "      <td>M2044282225</td>\n",
       "      <td>0.00</td>\n",
       "      <td>0.00</td>\n",
       "      <td>0</td>\n",
       "      <td>0</td>\n",
       "    </tr>\n",
       "    <tr>\n",
       "      <th>2</th>\n",
       "      <td>1</td>\n",
       "      <td>TRANSFER</td>\n",
       "      <td>181.00</td>\n",
       "      <td>C1305486145</td>\n",
       "      <td>181.00</td>\n",
       "      <td>0.00</td>\n",
       "      <td>C553264065</td>\n",
       "      <td>0.00</td>\n",
       "      <td>0.00</td>\n",
       "      <td>1</td>\n",
       "      <td>0</td>\n",
       "    </tr>\n",
       "    <tr>\n",
       "      <th>3</th>\n",
       "      <td>1</td>\n",
       "      <td>CASH_OUT</td>\n",
       "      <td>181.00</td>\n",
       "      <td>C840083671</td>\n",
       "      <td>181.00</td>\n",
       "      <td>0.00</td>\n",
       "      <td>C38997010</td>\n",
       "      <td>21182.00</td>\n",
       "      <td>0.00</td>\n",
       "      <td>1</td>\n",
       "      <td>0</td>\n",
       "    </tr>\n",
       "    <tr>\n",
       "      <th>4</th>\n",
       "      <td>1</td>\n",
       "      <td>PAYMENT</td>\n",
       "      <td>11668.14</td>\n",
       "      <td>C2048537720</td>\n",
       "      <td>41554.00</td>\n",
       "      <td>29885.86</td>\n",
       "      <td>M1230701703</td>\n",
       "      <td>0.00</td>\n",
       "      <td>0.00</td>\n",
       "      <td>0</td>\n",
       "      <td>0</td>\n",
       "    </tr>\n",
       "    <tr>\n",
       "      <th>...</th>\n",
       "      <td>...</td>\n",
       "      <td>...</td>\n",
       "      <td>...</td>\n",
       "      <td>...</td>\n",
       "      <td>...</td>\n",
       "      <td>...</td>\n",
       "      <td>...</td>\n",
       "      <td>...</td>\n",
       "      <td>...</td>\n",
       "      <td>...</td>\n",
       "      <td>...</td>\n",
       "    </tr>\n",
       "    <tr>\n",
       "      <th>6362615</th>\n",
       "      <td>743</td>\n",
       "      <td>CASH_OUT</td>\n",
       "      <td>339682.13</td>\n",
       "      <td>C786484425</td>\n",
       "      <td>339682.13</td>\n",
       "      <td>0.00</td>\n",
       "      <td>C776919290</td>\n",
       "      <td>0.00</td>\n",
       "      <td>339682.13</td>\n",
       "      <td>1</td>\n",
       "      <td>0</td>\n",
       "    </tr>\n",
       "    <tr>\n",
       "      <th>6362616</th>\n",
       "      <td>743</td>\n",
       "      <td>TRANSFER</td>\n",
       "      <td>6311409.28</td>\n",
       "      <td>C1529008245</td>\n",
       "      <td>6311409.28</td>\n",
       "      <td>0.00</td>\n",
       "      <td>C1881841831</td>\n",
       "      <td>0.00</td>\n",
       "      <td>0.00</td>\n",
       "      <td>1</td>\n",
       "      <td>0</td>\n",
       "    </tr>\n",
       "    <tr>\n",
       "      <th>6362617</th>\n",
       "      <td>743</td>\n",
       "      <td>CASH_OUT</td>\n",
       "      <td>6311409.28</td>\n",
       "      <td>C1162922333</td>\n",
       "      <td>6311409.28</td>\n",
       "      <td>0.00</td>\n",
       "      <td>C1365125890</td>\n",
       "      <td>68488.84</td>\n",
       "      <td>6379898.11</td>\n",
       "      <td>1</td>\n",
       "      <td>0</td>\n",
       "    </tr>\n",
       "    <tr>\n",
       "      <th>6362618</th>\n",
       "      <td>743</td>\n",
       "      <td>TRANSFER</td>\n",
       "      <td>850002.52</td>\n",
       "      <td>C1685995037</td>\n",
       "      <td>850002.52</td>\n",
       "      <td>0.00</td>\n",
       "      <td>C2080388513</td>\n",
       "      <td>0.00</td>\n",
       "      <td>0.00</td>\n",
       "      <td>1</td>\n",
       "      <td>0</td>\n",
       "    </tr>\n",
       "    <tr>\n",
       "      <th>6362619</th>\n",
       "      <td>743</td>\n",
       "      <td>CASH_OUT</td>\n",
       "      <td>850002.52</td>\n",
       "      <td>C1280323807</td>\n",
       "      <td>850002.52</td>\n",
       "      <td>0.00</td>\n",
       "      <td>C873221189</td>\n",
       "      <td>6510099.11</td>\n",
       "      <td>7360101.63</td>\n",
       "      <td>1</td>\n",
       "      <td>0</td>\n",
       "    </tr>\n",
       "  </tbody>\n",
       "</table>\n",
       "<p>6362620 rows × 11 columns</p>\n",
       "</div>"
      ],
      "text/plain": [
       "         step      type      amount     nameOrig  oldbalanceOrg  \\\n",
       "0           1   PAYMENT     9839.64  C1231006815      170136.00   \n",
       "1           1   PAYMENT     1864.28  C1666544295       21249.00   \n",
       "2           1  TRANSFER      181.00  C1305486145         181.00   \n",
       "3           1  CASH_OUT      181.00   C840083671         181.00   \n",
       "4           1   PAYMENT    11668.14  C2048537720       41554.00   \n",
       "...       ...       ...         ...          ...            ...   \n",
       "6362615   743  CASH_OUT   339682.13   C786484425      339682.13   \n",
       "6362616   743  TRANSFER  6311409.28  C1529008245     6311409.28   \n",
       "6362617   743  CASH_OUT  6311409.28  C1162922333     6311409.28   \n",
       "6362618   743  TRANSFER   850002.52  C1685995037      850002.52   \n",
       "6362619   743  CASH_OUT   850002.52  C1280323807      850002.52   \n",
       "\n",
       "         newbalanceOrig     nameDest  oldbalanceDest  newbalanceDest  isFraud  \\\n",
       "0             160296.36  M1979787155            0.00            0.00        0   \n",
       "1              19384.72  M2044282225            0.00            0.00        0   \n",
       "2                  0.00   C553264065            0.00            0.00        1   \n",
       "3                  0.00    C38997010        21182.00            0.00        1   \n",
       "4              29885.86  M1230701703            0.00            0.00        0   \n",
       "...                 ...          ...             ...             ...      ...   \n",
       "6362615            0.00   C776919290            0.00       339682.13        1   \n",
       "6362616            0.00  C1881841831            0.00            0.00        1   \n",
       "6362617            0.00  C1365125890        68488.84      6379898.11        1   \n",
       "6362618            0.00  C2080388513            0.00            0.00        1   \n",
       "6362619            0.00   C873221189      6510099.11      7360101.63        1   \n",
       "\n",
       "         isFlaggedFraud  \n",
       "0                     0  \n",
       "1                     0  \n",
       "2                     0  \n",
       "3                     0  \n",
       "4                     0  \n",
       "...                 ...  \n",
       "6362615               0  \n",
       "6362616               0  \n",
       "6362617               0  \n",
       "6362618               0  \n",
       "6362619               0  \n",
       "\n",
       "[6362620 rows x 11 columns]"
      ]
     },
     "execution_count": 15,
     "metadata": {},
     "output_type": "execute_result"
    }
   ],
   "source": [
    "df"
   ]
  },
  {
   "cell_type": "markdown",
   "metadata": {
    "id": "5n4H3yBDP0Or"
   },
   "source": [
    "In this following part we are sampling the data so we keep a correct distribution but also reduce the amount of data for faster training."
   ]
  },
  {
   "cell_type": "code",
   "execution_count": 16,
   "metadata": {
    "id": "4tPIcxdxCyke"
   },
   "outputs": [
    {
     "name": "stdout",
     "output_type": "stream",
     "text": [
      "       step     type     amount     nameOrig  oldbalanceOrg  newbalanceOrig  \\\n",
      "0         1  PAYMENT    9839.64  C1231006815      170136.00       160296.36   \n",
      "1         1  PAYMENT    2569.57  C1378559537       90233.00        87663.43   \n",
      "2         1  PAYMENT     413.84    C85357160       26512.93        26099.09   \n",
      "3         1  PAYMENT    9614.73  C1789282489      275664.00       266049.27   \n",
      "4         1  CASH_IN   38883.63  C1323235180      787973.40       826857.03   \n",
      "...     ...      ...        ...          ...            ...             ...   \n",
      "29995   715  CASH_IN  128546.21  C1412384082       40827.00       169373.21   \n",
      "29996   715  CASH_IN  237604.73  C1925516382       15741.00       253345.73   \n",
      "29997   715  CASH_IN  100878.16   C698031251         845.00       101723.16   \n",
      "29998   715  PAYMENT   18296.12  C1284190725       40949.00        22652.88   \n",
      "29999   715  PAYMENT    8633.79   C439434213         286.00            0.00   \n",
      "\n",
      "          nameDest  oldbalanceDest  newbalanceDest  isFraud  isFlaggedFraud  \n",
      "0      M1979787155            0.00            0.00        0               0  \n",
      "1      M1073051173            0.00            0.00        0               0  \n",
      "2       M486348917            0.00            0.00        0               0  \n",
      "3       M600199331            0.00            0.00        0               0  \n",
      "4      C1568059495       122750.49        83866.86        0               0  \n",
      "...            ...             ...             ...      ...             ...  \n",
      "29995   C570248404            0.00            0.00        0               0  \n",
      "29996   C395707889            0.00            0.00        0               0  \n",
      "29997   C537873458       237868.43       136990.27        0               0  \n",
      "29998   M805756229            0.00            0.00        0               0  \n",
      "29999  M1063021323            0.00            0.00        0               0  \n",
      "\n",
      "[30000 rows x 11 columns]\n"
     ]
    }
   ],
   "source": [
    "# Sort by 'step' to ensure time ordering\n",
    "finance_df_sorted = df.sort_values(by='step')\n",
    "\n",
    "# Calculate the interval for sampling evenly across time\n",
    "interval = len(finance_df_sorted) // 30000\n",
    "\n",
    "# Sample the dataset\n",
    "sampled_df = finance_df_sorted.iloc[::interval][:30000]\n",
    "\n",
    "# Display or save the sampled dataset\n",
    "sampled_df.reset_index(drop=True, inplace=True)\n",
    "print(sampled_df)\n"
   ]
  },
  {
   "cell_type": "code",
   "execution_count": 17,
   "metadata": {
    "id": "zXOz2S4aDNNr"
   },
   "outputs": [],
   "source": [
    "finance_df=sampled_df"
   ]
  },
  {
   "cell_type": "markdown",
   "metadata": {
    "id": "U867drFEDOAX"
   },
   "source": [
    "### Cleaning"
   ]
  },
  {
   "cell_type": "code",
   "execution_count": 18,
   "metadata": {
    "id": "u4wlrEBLDQUa"
   },
   "outputs": [
    {
     "name": "stderr",
     "output_type": "stream",
     "text": [
      "C:\\Users\\user\\AppData\\Local\\Temp\\ipykernel_3348\\2790843773.py:2: SettingWithCopyWarning: \n",
      "A value is trying to be set on a copy of a slice from a DataFrame\n",
      "\n",
      "See the caveats in the documentation: https://pandas.pydata.org/pandas-docs/stable/user_guide/indexing.html#returning-a-view-versus-a-copy\n",
      "  df_cleaned.drop(columns=['nameOrig','nameDest','isFlaggedFraud'],inplace=True)\n",
      "C:\\Users\\user\\AppData\\Local\\Temp\\ipykernel_3348\\2790843773.py:3: SettingWithCopyWarning: \n",
      "A value is trying to be set on a copy of a slice from a DataFrame.\n",
      "Try using .loc[row_indexer,col_indexer] = value instead\n",
      "\n",
      "See the caveats in the documentation: https://pandas.pydata.org/pandas-docs/stable/user_guide/indexing.html#returning-a-view-versus-a-copy\n",
      "  df_cleaned['type'] = finance_df['type'].map({'CASH_OUT': 0, 'TRANSFER': 1})\n"
     ]
    },
    {
     "data": {
      "text/html": [
       "<div>\n",
       "<style scoped>\n",
       "    .dataframe tbody tr th:only-of-type {\n",
       "        vertical-align: middle;\n",
       "    }\n",
       "\n",
       "    .dataframe tbody tr th {\n",
       "        vertical-align: top;\n",
       "    }\n",
       "\n",
       "    .dataframe thead th {\n",
       "        text-align: right;\n",
       "    }\n",
       "</style>\n",
       "<table border=\"1\" class=\"dataframe\">\n",
       "  <thead>\n",
       "    <tr style=\"text-align: right;\">\n",
       "      <th></th>\n",
       "      <th>step</th>\n",
       "      <th>type</th>\n",
       "      <th>amount</th>\n",
       "      <th>oldbalanceOrg</th>\n",
       "      <th>newbalanceOrig</th>\n",
       "      <th>oldbalanceDest</th>\n",
       "      <th>newbalanceDest</th>\n",
       "      <th>isFraud</th>\n",
       "    </tr>\n",
       "  </thead>\n",
       "  <tbody>\n",
       "    <tr>\n",
       "      <th>8</th>\n",
       "      <td>1</td>\n",
       "      <td>0.0</td>\n",
       "      <td>50101.88</td>\n",
       "      <td>0.0</td>\n",
       "      <td>0.00</td>\n",
       "      <td>67684.00</td>\n",
       "      <td>9940339.29</td>\n",
       "      <td>0</td>\n",
       "    </tr>\n",
       "    <tr>\n",
       "      <th>27</th>\n",
       "      <td>6</td>\n",
       "      <td>0.0</td>\n",
       "      <td>7106.23</td>\n",
       "      <td>0.0</td>\n",
       "      <td>0.00</td>\n",
       "      <td>30691.00</td>\n",
       "      <td>37797.23</td>\n",
       "      <td>0</td>\n",
       "    </tr>\n",
       "    <tr>\n",
       "      <th>33</th>\n",
       "      <td>6</td>\n",
       "      <td>1.0</td>\n",
       "      <td>820399.29</td>\n",
       "      <td>0.0</td>\n",
       "      <td>0.00</td>\n",
       "      <td>7829762.55</td>\n",
       "      <td>10833791.00</td>\n",
       "      <td>0</td>\n",
       "    </tr>\n",
       "    <tr>\n",
       "      <th>36</th>\n",
       "      <td>7</td>\n",
       "      <td>0.0</td>\n",
       "      <td>10118.23</td>\n",
       "      <td>0.0</td>\n",
       "      <td>0.00</td>\n",
       "      <td>29207.00</td>\n",
       "      <td>0.00</td>\n",
       "      <td>0</td>\n",
       "    </tr>\n",
       "    <tr>\n",
       "      <th>45</th>\n",
       "      <td>7</td>\n",
       "      <td>1.0</td>\n",
       "      <td>437410.02</td>\n",
       "      <td>100589.0</td>\n",
       "      <td>0.00</td>\n",
       "      <td>17384.73</td>\n",
       "      <td>87715.94</td>\n",
       "      <td>0</td>\n",
       "    </tr>\n",
       "    <tr>\n",
       "      <th>...</th>\n",
       "      <td>...</td>\n",
       "      <td>...</td>\n",
       "      <td>...</td>\n",
       "      <td>...</td>\n",
       "      <td>...</td>\n",
       "      <td>...</td>\n",
       "      <td>...</td>\n",
       "      <td>...</td>\n",
       "    </tr>\n",
       "    <tr>\n",
       "      <th>29977</th>\n",
       "      <td>709</td>\n",
       "      <td>0.0</td>\n",
       "      <td>305637.27</td>\n",
       "      <td>0.0</td>\n",
       "      <td>0.00</td>\n",
       "      <td>734247.90</td>\n",
       "      <td>1039885.16</td>\n",
       "      <td>0</td>\n",
       "    </tr>\n",
       "    <tr>\n",
       "      <th>29987</th>\n",
       "      <td>710</td>\n",
       "      <td>0.0</td>\n",
       "      <td>323602.71</td>\n",
       "      <td>147.0</td>\n",
       "      <td>0.00</td>\n",
       "      <td>854137.32</td>\n",
       "      <td>1177740.03</td>\n",
       "      <td>0</td>\n",
       "    </tr>\n",
       "    <tr>\n",
       "      <th>29990</th>\n",
       "      <td>710</td>\n",
       "      <td>0.0</td>\n",
       "      <td>51602.84</td>\n",
       "      <td>37658.0</td>\n",
       "      <td>0.00</td>\n",
       "      <td>0.00</td>\n",
       "      <td>51602.84</td>\n",
       "      <td>0</td>\n",
       "    </tr>\n",
       "    <tr>\n",
       "      <th>29992</th>\n",
       "      <td>714</td>\n",
       "      <td>0.0</td>\n",
       "      <td>122441.76</td>\n",
       "      <td>11685.0</td>\n",
       "      <td>0.00</td>\n",
       "      <td>0.00</td>\n",
       "      <td>122441.76</td>\n",
       "      <td>0</td>\n",
       "    </tr>\n",
       "    <tr>\n",
       "      <th>29994</th>\n",
       "      <td>714</td>\n",
       "      <td>0.0</td>\n",
       "      <td>31106.04</td>\n",
       "      <td>47295.0</td>\n",
       "      <td>16188.96</td>\n",
       "      <td>1580534.19</td>\n",
       "      <td>1611640.23</td>\n",
       "      <td>0</td>\n",
       "    </tr>\n",
       "  </tbody>\n",
       "</table>\n",
       "<p>13020 rows × 8 columns</p>\n",
       "</div>"
      ],
      "text/plain": [
       "       step  type     amount  oldbalanceOrg  newbalanceOrig  oldbalanceDest  \\\n",
       "8         1   0.0   50101.88            0.0            0.00        67684.00   \n",
       "27        6   0.0    7106.23            0.0            0.00        30691.00   \n",
       "33        6   1.0  820399.29            0.0            0.00      7829762.55   \n",
       "36        7   0.0   10118.23            0.0            0.00        29207.00   \n",
       "45        7   1.0  437410.02       100589.0            0.00        17384.73   \n",
       "...     ...   ...        ...            ...             ...             ...   \n",
       "29977   709   0.0  305637.27            0.0            0.00       734247.90   \n",
       "29987   710   0.0  323602.71          147.0            0.00       854137.32   \n",
       "29990   710   0.0   51602.84        37658.0            0.00            0.00   \n",
       "29992   714   0.0  122441.76        11685.0            0.00            0.00   \n",
       "29994   714   0.0   31106.04        47295.0        16188.96      1580534.19   \n",
       "\n",
       "       newbalanceDest  isFraud  \n",
       "8          9940339.29        0  \n",
       "27           37797.23        0  \n",
       "33        10833791.00        0  \n",
       "36               0.00        0  \n",
       "45           87715.94        0  \n",
       "...               ...      ...  \n",
       "29977      1039885.16        0  \n",
       "29987      1177740.03        0  \n",
       "29990        51602.84        0  \n",
       "29992       122441.76        0  \n",
       "29994      1611640.23        0  \n",
       "\n",
       "[13020 rows x 8 columns]"
      ]
     },
     "execution_count": 18,
     "metadata": {},
     "output_type": "execute_result"
    }
   ],
   "source": [
    "df_cleaned = finance_df.loc[(finance_df['type'].isin(['CASH_OUT', 'TRANSFER'])),:]\n",
    "df_cleaned.drop(columns=['nameOrig','nameDest','isFlaggedFraud'],inplace=True)\n",
    "df_cleaned['type'] = finance_df['type'].map({'CASH_OUT': 0, 'TRANSFER': 1})\n",
    "df_cleaned"
   ]
  },
  {
   "cell_type": "code",
   "execution_count": 19,
   "metadata": {
    "id": "X0VV33fN08vE"
   },
   "outputs": [
    {
     "name": "stdout",
     "output_type": "stream",
     "text": [
      "After SMOTE - Fraudulent: 1298, Fraud Percentage: 9.09%\n"
     ]
    }
   ],
   "source": [
    "df_smote_balanced = balance_with_smote(df_cleaned, target_col='isFraud', smote_ratio=0.1, random_state=42)\n",
    "fraud_count_smote, fraud_percentage_smote = count_fraud_percentage(df_smote_balanced)\n",
    "print(f\"After SMOTE - Fraudulent: {fraud_count_smote}, Fraud Percentage: {fraud_percentage_smote:.2f}%\")"
   ]
  },
  {
   "cell_type": "code",
   "execution_count": 20,
   "metadata": {
    "id": "yztOH3olDofK"
   },
   "outputs": [],
   "source": [
    "final_df=df_smote_balanced"
   ]
  },
  {
   "cell_type": "code",
   "execution_count": 21,
   "metadata": {
    "id": "U-F39OYnyuc_"
   },
   "outputs": [],
   "source": [
    "final_df = final_df.sort_values(by='step').astype(float)"
   ]
  },
  {
   "cell_type": "code",
   "execution_count": 22,
   "metadata": {
    "id": "XDWOIGSJ69hR"
   },
   "outputs": [
    {
     "data": {
      "text/html": [
       "<div>\n",
       "<style scoped>\n",
       "    .dataframe tbody tr th:only-of-type {\n",
       "        vertical-align: middle;\n",
       "    }\n",
       "\n",
       "    .dataframe tbody tr th {\n",
       "        vertical-align: top;\n",
       "    }\n",
       "\n",
       "    .dataframe thead th {\n",
       "        text-align: right;\n",
       "    }\n",
       "</style>\n",
       "<table border=\"1\" class=\"dataframe\">\n",
       "  <thead>\n",
       "    <tr style=\"text-align: right;\">\n",
       "      <th></th>\n",
       "      <th>step</th>\n",
       "      <th>type</th>\n",
       "      <th>amount</th>\n",
       "      <th>oldbalanceOrg</th>\n",
       "      <th>newbalanceOrig</th>\n",
       "      <th>oldbalanceDest</th>\n",
       "      <th>newbalanceDest</th>\n",
       "      <th>isFraud</th>\n",
       "    </tr>\n",
       "  </thead>\n",
       "  <tbody>\n",
       "    <tr>\n",
       "      <th>0</th>\n",
       "      <td>0.000000</td>\n",
       "      <td>0.0</td>\n",
       "      <td>0.001312</td>\n",
       "      <td>0.000000</td>\n",
       "      <td>0.000000</td>\n",
       "      <td>0.000388</td>\n",
       "      <td>0.056893</td>\n",
       "      <td>0.0</td>\n",
       "    </tr>\n",
       "    <tr>\n",
       "      <th>1</th>\n",
       "      <td>0.007013</td>\n",
       "      <td>0.0</td>\n",
       "      <td>0.000185</td>\n",
       "      <td>0.000000</td>\n",
       "      <td>0.000000</td>\n",
       "      <td>0.000176</td>\n",
       "      <td>0.000216</td>\n",
       "      <td>0.0</td>\n",
       "    </tr>\n",
       "    <tr>\n",
       "      <th>2</th>\n",
       "      <td>0.007013</td>\n",
       "      <td>1.0</td>\n",
       "      <td>0.021504</td>\n",
       "      <td>0.000000</td>\n",
       "      <td>0.000000</td>\n",
       "      <td>0.044898</td>\n",
       "      <td>0.062007</td>\n",
       "      <td>0.0</td>\n",
       "    </tr>\n",
       "    <tr>\n",
       "      <th>9</th>\n",
       "      <td>0.008415</td>\n",
       "      <td>1.0</td>\n",
       "      <td>0.002310</td>\n",
       "      <td>0.000000</td>\n",
       "      <td>0.000000</td>\n",
       "      <td>0.002715</td>\n",
       "      <td>0.003215</td>\n",
       "      <td>0.0</td>\n",
       "    </tr>\n",
       "    <tr>\n",
       "      <th>7</th>\n",
       "      <td>0.008415</td>\n",
       "      <td>0.0</td>\n",
       "      <td>0.006120</td>\n",
       "      <td>0.000000</td>\n",
       "      <td>0.000000</td>\n",
       "      <td>0.001343</td>\n",
       "      <td>0.001528</td>\n",
       "      <td>0.0</td>\n",
       "    </tr>\n",
       "    <tr>\n",
       "      <th>...</th>\n",
       "      <td>...</td>\n",
       "      <td>...</td>\n",
       "      <td>...</td>\n",
       "      <td>...</td>\n",
       "      <td>...</td>\n",
       "      <td>...</td>\n",
       "      <td>...</td>\n",
       "      <td>...</td>\n",
       "    </tr>\n",
       "    <tr>\n",
       "      <th>13012</th>\n",
       "      <td>0.992987</td>\n",
       "      <td>0.0</td>\n",
       "      <td>0.000523</td>\n",
       "      <td>0.040433</td>\n",
       "      <td>0.040239</td>\n",
       "      <td>0.002521</td>\n",
       "      <td>0.002631</td>\n",
       "      <td>0.0</td>\n",
       "    </tr>\n",
       "    <tr>\n",
       "      <th>13016</th>\n",
       "      <td>0.994390</td>\n",
       "      <td>0.0</td>\n",
       "      <td>0.008481</td>\n",
       "      <td>0.000027</td>\n",
       "      <td>0.000000</td>\n",
       "      <td>0.004898</td>\n",
       "      <td>0.006741</td>\n",
       "      <td>0.0</td>\n",
       "    </tr>\n",
       "    <tr>\n",
       "      <th>13017</th>\n",
       "      <td>0.994390</td>\n",
       "      <td>0.0</td>\n",
       "      <td>0.001351</td>\n",
       "      <td>0.007021</td>\n",
       "      <td>0.000000</td>\n",
       "      <td>0.000000</td>\n",
       "      <td>0.000295</td>\n",
       "      <td>0.0</td>\n",
       "    </tr>\n",
       "    <tr>\n",
       "      <th>13018</th>\n",
       "      <td>1.000000</td>\n",
       "      <td>0.0</td>\n",
       "      <td>0.003208</td>\n",
       "      <td>0.002178</td>\n",
       "      <td>0.000000</td>\n",
       "      <td>0.000000</td>\n",
       "      <td>0.000701</td>\n",
       "      <td>0.0</td>\n",
       "    </tr>\n",
       "    <tr>\n",
       "      <th>13019</th>\n",
       "      <td>1.000000</td>\n",
       "      <td>0.0</td>\n",
       "      <td>0.000814</td>\n",
       "      <td>0.008817</td>\n",
       "      <td>0.003309</td>\n",
       "      <td>0.009063</td>\n",
       "      <td>0.009224</td>\n",
       "      <td>0.0</td>\n",
       "    </tr>\n",
       "  </tbody>\n",
       "</table>\n",
       "<p>14283 rows × 8 columns</p>\n",
       "</div>"
      ],
      "text/plain": [
       "           step  type    amount  oldbalanceOrg  newbalanceOrig  \\\n",
       "0      0.000000   0.0  0.001312       0.000000        0.000000   \n",
       "1      0.007013   0.0  0.000185       0.000000        0.000000   \n",
       "2      0.007013   1.0  0.021504       0.000000        0.000000   \n",
       "9      0.008415   1.0  0.002310       0.000000        0.000000   \n",
       "7      0.008415   0.0  0.006120       0.000000        0.000000   \n",
       "...         ...   ...       ...            ...             ...   \n",
       "13012  0.992987   0.0  0.000523       0.040433        0.040239   \n",
       "13016  0.994390   0.0  0.008481       0.000027        0.000000   \n",
       "13017  0.994390   0.0  0.001351       0.007021        0.000000   \n",
       "13018  1.000000   0.0  0.003208       0.002178        0.000000   \n",
       "13019  1.000000   0.0  0.000814       0.008817        0.003309   \n",
       "\n",
       "       oldbalanceDest  newbalanceDest  isFraud  \n",
       "0            0.000388        0.056893      0.0  \n",
       "1            0.000176        0.000216      0.0  \n",
       "2            0.044898        0.062007      0.0  \n",
       "9            0.002715        0.003215      0.0  \n",
       "7            0.001343        0.001528      0.0  \n",
       "...               ...             ...      ...  \n",
       "13012        0.002521        0.002631      0.0  \n",
       "13016        0.004898        0.006741      0.0  \n",
       "13017        0.000000        0.000295      0.0  \n",
       "13018        0.000000        0.000701      0.0  \n",
       "13019        0.009063        0.009224      0.0  \n",
       "\n",
       "[14283 rows x 8 columns]"
      ]
     },
     "execution_count": 22,
     "metadata": {},
     "output_type": "execute_result"
    }
   ],
   "source": [
    "from sklearn.preprocessing import MinMaxScaler\n",
    "\n",
    "scaler = MinMaxScaler()\n",
    "final_df[final_df.columns] = scaler.fit_transform(final_df[final_df.columns])\n",
    "final_df"
   ]
  },
  {
   "cell_type": "code",
   "execution_count": 23,
   "metadata": {
    "id": "IEgplttDD1zL"
   },
   "outputs": [],
   "source": [
    "df=final_df"
   ]
  },
  {
   "cell_type": "code",
   "execution_count": 24,
   "metadata": {
    "id": "u_U5JzEvuTW-"
   },
   "outputs": [],
   "source": [
    "# Selecting the top 4 features excluding 'isFraud'\n",
    "top_features = final_df.corr()['isFraud'].abs().sort_values(ascending=False).iloc[1:5].index\n",
    "# Creating a new DataFrame with only the top features and the target column\n",
    "final_df_filtered = final_df[top_features.tolist() + ['isFraud']].to_numpy()"
   ]
  },
  {
   "cell_type": "code",
   "execution_count": 25,
   "metadata": {},
   "outputs": [
    {
     "name": "stdout",
     "output_type": "stream",
     "text": [
      "       oldbalanceOrg  type    amount      step  isFraud\n",
      "0           0.000000   0.0  0.001312  0.000000      0.0\n",
      "1           0.000000   0.0  0.000185  0.007013      0.0\n",
      "2           0.000000   1.0  0.021504  0.007013      0.0\n",
      "3           0.000000   1.0  0.002310  0.008415      0.0\n",
      "4           0.000000   0.0  0.006120  0.008415      0.0\n",
      "...              ...   ...       ...       ...      ...\n",
      "14278       0.040433   0.0  0.000523  0.992987      0.0\n",
      "14279       0.000027   0.0  0.008481  0.994390      0.0\n",
      "14280       0.007021   0.0  0.001351  0.994390      0.0\n",
      "14281       0.002178   0.0  0.003208  1.000000      0.0\n",
      "14282       0.008817   0.0  0.000814  1.000000      0.0\n",
      "\n",
      "[14283 rows x 5 columns]\n"
     ]
    }
   ],
   "source": [
    "column_names = top_features.tolist() + ['isFraud']  # Add back column names\n",
    "final_df_filtered = pd.DataFrame(final_df_filtered, columns=column_names)\n",
    "\n",
    "# Display the resulting DataFrame\n",
    "print(final_df_filtered)"
   ]
  },
  {
   "cell_type": "code",
   "execution_count": 26,
   "metadata": {},
   "outputs": [
    {
     "data": {
      "text/html": [
       "<div>\n",
       "<style scoped>\n",
       "    .dataframe tbody tr th:only-of-type {\n",
       "        vertical-align: middle;\n",
       "    }\n",
       "\n",
       "    .dataframe tbody tr th {\n",
       "        vertical-align: top;\n",
       "    }\n",
       "\n",
       "    .dataframe thead th {\n",
       "        text-align: right;\n",
       "    }\n",
       "</style>\n",
       "<table border=\"1\" class=\"dataframe\">\n",
       "  <thead>\n",
       "    <tr style=\"text-align: right;\">\n",
       "      <th></th>\n",
       "      <th>oldbalanceOrg</th>\n",
       "      <th>type</th>\n",
       "      <th>amount</th>\n",
       "      <th>step</th>\n",
       "      <th>isFraud</th>\n",
       "    </tr>\n",
       "  </thead>\n",
       "  <tbody>\n",
       "    <tr>\n",
       "      <th>0</th>\n",
       "      <td>0.000000</td>\n",
       "      <td>0.0</td>\n",
       "      <td>0.001312</td>\n",
       "      <td>0.000000</td>\n",
       "      <td>0.0</td>\n",
       "    </tr>\n",
       "    <tr>\n",
       "      <th>1</th>\n",
       "      <td>0.000000</td>\n",
       "      <td>0.0</td>\n",
       "      <td>0.000185</td>\n",
       "      <td>0.007013</td>\n",
       "      <td>0.0</td>\n",
       "    </tr>\n",
       "    <tr>\n",
       "      <th>2</th>\n",
       "      <td>0.000000</td>\n",
       "      <td>1.0</td>\n",
       "      <td>0.021504</td>\n",
       "      <td>0.007013</td>\n",
       "      <td>0.0</td>\n",
       "    </tr>\n",
       "    <tr>\n",
       "      <th>3</th>\n",
       "      <td>0.000000</td>\n",
       "      <td>1.0</td>\n",
       "      <td>0.002310</td>\n",
       "      <td>0.008415</td>\n",
       "      <td>0.0</td>\n",
       "    </tr>\n",
       "    <tr>\n",
       "      <th>4</th>\n",
       "      <td>0.000000</td>\n",
       "      <td>0.0</td>\n",
       "      <td>0.006120</td>\n",
       "      <td>0.008415</td>\n",
       "      <td>0.0</td>\n",
       "    </tr>\n",
       "    <tr>\n",
       "      <th>...</th>\n",
       "      <td>...</td>\n",
       "      <td>...</td>\n",
       "      <td>...</td>\n",
       "      <td>...</td>\n",
       "      <td>...</td>\n",
       "    </tr>\n",
       "    <tr>\n",
       "      <th>14278</th>\n",
       "      <td>0.040433</td>\n",
       "      <td>0.0</td>\n",
       "      <td>0.000523</td>\n",
       "      <td>0.992987</td>\n",
       "      <td>0.0</td>\n",
       "    </tr>\n",
       "    <tr>\n",
       "      <th>14279</th>\n",
       "      <td>0.000027</td>\n",
       "      <td>0.0</td>\n",
       "      <td>0.008481</td>\n",
       "      <td>0.994390</td>\n",
       "      <td>0.0</td>\n",
       "    </tr>\n",
       "    <tr>\n",
       "      <th>14280</th>\n",
       "      <td>0.007021</td>\n",
       "      <td>0.0</td>\n",
       "      <td>0.001351</td>\n",
       "      <td>0.994390</td>\n",
       "      <td>0.0</td>\n",
       "    </tr>\n",
       "    <tr>\n",
       "      <th>14281</th>\n",
       "      <td>0.002178</td>\n",
       "      <td>0.0</td>\n",
       "      <td>0.003208</td>\n",
       "      <td>1.000000</td>\n",
       "      <td>0.0</td>\n",
       "    </tr>\n",
       "    <tr>\n",
       "      <th>14282</th>\n",
       "      <td>0.008817</td>\n",
       "      <td>0.0</td>\n",
       "      <td>0.000814</td>\n",
       "      <td>1.000000</td>\n",
       "      <td>0.0</td>\n",
       "    </tr>\n",
       "  </tbody>\n",
       "</table>\n",
       "<p>14283 rows × 5 columns</p>\n",
       "</div>"
      ],
      "text/plain": [
       "       oldbalanceOrg  type    amount      step  isFraud\n",
       "0           0.000000   0.0  0.001312  0.000000      0.0\n",
       "1           0.000000   0.0  0.000185  0.007013      0.0\n",
       "2           0.000000   1.0  0.021504  0.007013      0.0\n",
       "3           0.000000   1.0  0.002310  0.008415      0.0\n",
       "4           0.000000   0.0  0.006120  0.008415      0.0\n",
       "...              ...   ...       ...       ...      ...\n",
       "14278       0.040433   0.0  0.000523  0.992987      0.0\n",
       "14279       0.000027   0.0  0.008481  0.994390      0.0\n",
       "14280       0.007021   0.0  0.001351  0.994390      0.0\n",
       "14281       0.002178   0.0  0.003208  1.000000      0.0\n",
       "14282       0.008817   0.0  0.000814  1.000000      0.0\n",
       "\n",
       "[14283 rows x 5 columns]"
      ]
     },
     "execution_count": 26,
     "metadata": {},
     "output_type": "execute_result"
    }
   ],
   "source": [
    "final_df_filtered"
   ]
  },
  {
   "cell_type": "code",
   "execution_count": 27,
   "metadata": {},
   "outputs": [
    {
     "data": {
      "text/plain": [
       "pandas.core.frame.DataFrame"
      ]
     },
     "execution_count": 27,
     "metadata": {},
     "output_type": "execute_result"
    }
   ],
   "source": [
    "type(final_df_filtered)"
   ]
  },
  {
   "cell_type": "code",
   "execution_count": 28,
   "metadata": {
    "id": "Sb0fLggxv1X0"
   },
   "outputs": [],
   "source": [
    "y = df['isFraud']\n",
    "X = df.drop(columns=['isFraud'])"
   ]
  },
  {
   "cell_type": "code",
   "execution_count": 29,
   "metadata": {},
   "outputs": [],
   "source": [
    "y_reduced = final_df_filtered['isFraud']\n",
    "X_reduced = final_df_filtered.drop(columns=['isFraud'])"
   ]
  },
  {
   "cell_type": "code",
   "execution_count": 30,
   "metadata": {
    "id": "1uPvSuem7IMv"
   },
   "outputs": [],
   "source": [
    "from sklearn.preprocessing import StandardScaler\n",
    "\n",
    "scaler = StandardScaler()\n",
    "\n",
    "X = scaler.fit_transform(X)\n",
    "X_reduced =scaler.fit_transform(X_reduced)"
   ]
  },
  {
   "cell_type": "code",
   "execution_count": 31,
   "metadata": {
    "id": "TtLq4aDKw0bC"
   },
   "outputs": [
    {
     "data": {
      "text/plain": [
       "isFraud\n",
       "0.0    12985\n",
       "1.0     1298\n",
       "Name: count, dtype: int64"
      ]
     },
     "execution_count": 31,
     "metadata": {},
     "output_type": "execute_result"
    }
   ],
   "source": [
    "y.value_counts()"
   ]
  },
  {
   "cell_type": "code",
   "execution_count": 32,
   "metadata": {
    "id": "8qBGaeeKw0Zp"
   },
   "outputs": [],
   "source": [
    "from sklearn.model_selection import train_test_split\n",
    "\n",
    "X_train, X_temp, y_train, y_temp = train_test_split(X, y, test_size=0.4, random_state=42)\n",
    "\n",
    "# Split temp into validation and test\n",
    "X_val, X_test, y_val, y_test = train_test_split(X_temp, y_temp, test_size=0.5, random_state=42)"
   ]
  },
  {
   "cell_type": "code",
   "execution_count": 33,
   "metadata": {
    "id": "cO64ZcEdwGdg"
   },
   "outputs": [],
   "source": [
    "from sklearn.model_selection import train_test_split\n",
    "\n",
    "X_reduced_train, X_reduced_temp, y_train_reduced, y_temp_reduced = train_test_split(X_reduced, y_reduced, test_size=0.4, random_state=42)\n",
    "\n",
    "# Split temp into validation and test\n",
    "X_reduced_val, X_reduced_test, y_val_reduced, y_test_reduced = train_test_split(X_reduced_temp, y_temp_reduced, test_size=0.5, random_state=42)"
   ]
  },
  {
   "cell_type": "code",
   "execution_count": 34,
   "metadata": {
    "id": "n48RjMtkv8RS"
   },
   "outputs": [
    {
     "data": {
      "text/plain": [
       "array([[-0.27636351, -0.55512407, -0.34476116, -1.72442426],\n",
       "       [-0.27636351, -0.55512407, -0.39203129, -1.68963754],\n",
       "       [-0.27636351,  1.82590103,  0.50211654, -1.68963754],\n",
       "       ...,\n",
       "       [-0.18853564, -0.55512407, -0.34311098,  3.2083328 ],\n",
       "       [-0.24911117, -0.55512407, -0.26522951,  3.23616217],\n",
       "       [-0.16605975, -0.55512407, -0.3656455 ,  3.23616217]])"
      ]
     },
     "execution_count": 34,
     "metadata": {},
     "output_type": "execute_result"
    }
   ],
   "source": [
    "X_reduced"
   ]
  },
  {
   "cell_type": "code",
   "execution_count": 35,
   "metadata": {
    "id": "l-8nvNcAxPSx"
   },
   "outputs": [
    {
     "data": {
      "text/plain": [
       "(8569, 7)"
      ]
     },
     "execution_count": 35,
     "metadata": {},
     "output_type": "execute_result"
    }
   ],
   "source": [
    "X_train.shape"
   ]
  },
  {
   "cell_type": "code",
   "execution_count": 36,
   "metadata": {
    "id": "yzfPUx3pI1TM"
   },
   "outputs": [
    {
     "data": {
      "text/plain": [
       "isFraud\n",
       "0.0    7771\n",
       "1.0     798\n",
       "Name: count, dtype: int64"
      ]
     },
     "execution_count": 36,
     "metadata": {},
     "output_type": "execute_result"
    }
   ],
   "source": [
    "y_train.value_counts()"
   ]
  },
  {
   "cell_type": "markdown",
   "metadata": {
    "id": "Yfvr2rKyVoo6"
   },
   "source": [
    "Defining a QNode\n",
    "================\n",
    "\n"
   ]
  },
  {
   "cell_type": "code",
   "execution_count": 37,
   "metadata": {
    "id": "yh-w7YZEVoo6"
   },
   "outputs": [],
   "source": [
    "import pennylane as qml\n",
    "import numpy as np\n",
    "\n",
    "n_qubits = 3\n",
    "dev = qml.device(\"default.qubit\", wires=n_qubits+1)\n",
    "\n",
    "from itertools import combinations\n",
    "\n",
    "def custom_layer(weights, n_qubits):\n",
    "    index = 0  # Initialize index to track unique weights\n",
    "\n",
    "    # Apply first set of RY gates\n",
    "    for i in range(n_qubits + 1):\n",
    "        qml.RY(weights[index], wires=i)\n",
    "        index += 1  # Increment index\n",
    "\n",
    "    # Apply first set of CNOT gates\n",
    "    pairs = [(0, 1), (1, 2), (2, 3), (3, 0)]\n",
    "    for pair in pairs:\n",
    "        qml.CNOT(wires=pair)\n",
    "\n",
    "    # Apply second set of RY gates\n",
    "    for i in range(n_qubits + 1):\n",
    "        qml.RY(weights[index], wires=i)\n",
    "        index += 1  # Increment index\n",
    "\n",
    "    # Apply second set of CNOT gates\n",
    "    pairs = [(0, 2), (2, 0)]\n",
    "    for pair in pairs:\n",
    "        qml.CNOT(wires=pair)\n",
    "\n",
    "    # Apply RY gates on qubit 3\n",
    "    qml.RY(weights[index], wires=3)\n",
    "    index += 1  # Increment index\n",
    "    qml.RY(weights[index], wires=3)\n",
    "    index += 1  # Increment index\n",
    "\n",
    "    # Apply nested RY gates for two layers\n",
    "    for j in range(2):\n",
    "        for i in range(n_qubits):\n",
    "            qml.RY(weights[index], wires=i)\n",
    "            index += 1  # Increment index\n",
    "\n",
    "    # Apply third set of CNOT gates\n",
    "    pairs = [(0, 1), (1, 2), (2, 3), (3, 0)]\n",
    "    for pair in pairs:\n",
    "        qml.CNOT(wires=pair)\n",
    "\n",
    "    # Apply final set of RZ gates\n",
    "    for i in range(n_qubits + 1):\n",
    "        qml.RZ(weights[index], wires=i)\n",
    "        index += 1  # Increment index\n",
    "\n",
    "@qml.qnode(dev)\n",
    "def qnode(inputs, weights):\n",
    "    qml.AngleEmbedding(inputs, wires=range(n_qubits+1))\n",
    "    # print(\"AAAAAAAAAAAAAAAAAAAAA\")\n",
    "    # i=0\n",
    "    for w in weights:\n",
    "        # print(i)\n",
    "        custom_layer(w,n_qubits)\n",
    "        # i+=1\n",
    "    outputs = [qml.expval(qml.PauliZ(wires=i)) for i in range(n_qubits)]\n",
    "    return outputs\n"
   ]
  },
  {
   "cell_type": "code",
   "execution_count": 38,
   "metadata": {
    "id": "O8kX3ELU6OH7"
   },
   "outputs": [],
   "source": [
    "import pennylane as qml\n",
    "import numpy as np\n",
    "\n",
    "n_qubits = 3\n",
    "dev = qml.device(\"default.qubit\", wires=n_qubits+1)\n",
    "\n",
    "from itertools import combinations\n",
    "\n",
    "def custom_layer_long(weights, n_qubits):\n",
    "    index = 0  # Start index for weights\n",
    "\n",
    "    # First block of RY\n",
    "    for i in range(n_qubits + 1):\n",
    "        qml.RY(weights[index], wires=i)\n",
    "        index += 1\n",
    "\n",
    "    # First set of CNOT pairs\n",
    "    pairs = [(0, 1), (1, 2), (2, 3), (3, 0)]\n",
    "    for pair in pairs:\n",
    "        qml.CNOT(wires=pair)\n",
    "\n",
    "    # Second block of RY\n",
    "    for i in range(n_qubits + 1):\n",
    "        qml.RY(weights[index], wires=i)\n",
    "        index += 1\n",
    "\n",
    "    # Second set of CNOT pairs\n",
    "    pairs = [(0, 2), (2, 0)]\n",
    "    for pair in pairs:\n",
    "        qml.CNOT(wires=pair)\n",
    "\n",
    "    # Third block of RY (single qubit repeated)\n",
    "    qml.RY(weights[index], wires=3)\n",
    "    index += 1\n",
    "    qml.RY(weights[index], wires=3)\n",
    "    index += 1\n",
    "\n",
    "    # Nested loop of RY\n",
    "    for j in range(2):\n",
    "        for i in range(n_qubits):\n",
    "            qml.RY(weights[index], wires=i)\n",
    "            index += 1\n",
    "\n",
    "    # Third set of CNOT pairs\n",
    "    pairs = [(0, 1), (1, 2), (2, 3), (3, 0)]\n",
    "    for pair in pairs:\n",
    "        qml.CNOT(wires=pair)\n",
    "\n",
    "    # First block of RZ\n",
    "    for i in range(n_qubits + 1):\n",
    "        qml.RZ(weights[index], wires=i)\n",
    "        index += 1\n",
    "\n",
    "    # Fourth set of CNOT pairs\n",
    "    pairs = [(0, 2), (2, 0)]\n",
    "    for pair in pairs:\n",
    "        qml.CNOT(wires=pair)\n",
    "\n",
    "    # Fourth block of RY (single qubit repeated)\n",
    "    qml.RY(weights[index], wires=3)\n",
    "    index += 1\n",
    "    qml.RY(weights[index], wires=3)\n",
    "    index += 1\n",
    "\n",
    "    # Second block of RZ\n",
    "    for i in range(n_qubits):\n",
    "        qml.RZ(weights[index], wires=i)\n",
    "        index += 1\n",
    "\n",
    "    # Third block of RY\n",
    "    for i in range(n_qubits):\n",
    "        qml.RY(weights[index], wires=i)\n",
    "        index += 1\n",
    "\n",
    "    # Fifth set of CNOT pairs\n",
    "    pairs = [(0, 1), (1, 2), (2, 3), (3, 0)]\n",
    "    for pair in pairs:\n",
    "        qml.CNOT(wires=pair)\n",
    "\n",
    "    # Final block of RZ\n",
    "    for i in range(n_qubits + 1):\n",
    "        qml.RZ(weights[index], wires=i)\n",
    "        index += 1\n",
    "\n",
    "    return index  # Total number of indices used\n",
    "\n",
    "@qml.qnode(dev)\n",
    "def qnode_long(inputs, weights):\n",
    "    qml.AngleEmbedding(inputs, wires=range(n_qubits+1))\n",
    "    # print(\"AAAAAAAAAAAAAAAAAAAAA\")\n",
    "    # i=0\n",
    "    for w in weights:\n",
    "        # print(i)\n",
    "        custom_layer_long(w,n_qubits)\n",
    "        # i+=1\n",
    "    outputs = [qml.expval(qml.PauliZ(wires=i)) for i in range(n_qubits)]\n",
    "    return outputs"
   ]
  },
  {
   "cell_type": "code",
   "execution_count": 39,
   "metadata": {
    "id": "hJdNRI-6e_fl"
   },
   "outputs": [],
   "source": [
    "@qml.qnode(dev)\n",
    "def qnode_long_solo(inputs, weights):\n",
    "    qml.AngleEmbedding(inputs, wires=range(n_qubits+1))\n",
    "    # print(\"AAAAAAAAAAAAAAAAAAAAA\")\n",
    "    # i=0\n",
    "    for w in weights:\n",
    "        # print(i)\n",
    "        custom_layer_long(w,n_qubits)\n",
    "        # i+=1\n",
    "    outputs = [qml.expval(qml.PauliZ(wires=0)),qml.expval(qml.PauliZ(wires=1))]\n",
    "    return outputs"
   ]
  },
  {
   "cell_type": "markdown",
   "metadata": {
    "id": "-p38p1nIVoo7"
   },
   "source": [
    "Checking the Quantum Circuit\n",
    "======================\n",
    "\n"
   ]
  },
  {
   "cell_type": "code",
   "execution_count": 40,
   "metadata": {},
   "outputs": [],
   "source": [
    "import pennylane as qml\n",
    "import matplotlib.pyplot as plt"
   ]
  },
  {
   "cell_type": "code",
   "execution_count": 41,
   "metadata": {
    "id": "cnEZcQJ0Voo7"
   },
   "outputs": [],
   "source": [
    "n_layers = 1\n",
    "n_qubits=3\n",
    "total_weights = 3 * (n_qubits + 1) + 2 * n_qubits + 2\n",
    "\n",
    "weight_shapes = {\"weights\": (n_layers, total_weights+1)}"
   ]
  },
  {
   "cell_type": "code",
   "execution_count": 42,
   "metadata": {
    "id": "GR5-G4VctKmZ"
   },
   "outputs": [
    {
     "data": {
      "image/png": "[encoded data removed]",
      "text/plain": [
       "<Figure size 1900x500 with 1 Axes>"
      ]
     },
     "metadata": {},
     "output_type": "display_data"
    }
   ],
   "source": [
    "weights = np.random.random(size=(n_layers, total_weights))\n",
    "fig, ax = qml.draw_mpl(qnode)(X[:, :4], weights)\n",
    "plt.show()"
   ]
  },
  {
   "cell_type": "code",
   "execution_count": 43,
   "metadata": {},
   "outputs": [
    {
     "name": "stdout",
     "output_type": "stream",
     "text": [
      "Total weights required: 32\n"
     ]
    }
   ],
   "source": [
    "n_layers = 1\n",
    "n_qubits=3\n",
    "total_weights_long = 32\n",
    "print(\"Total weights required:\", total_weights_long)\n",
    "\n",
    "weight_shapes_long = {\"weights\": (n_layers, total_weights_long+1)}"
   ]
  },
  {
   "cell_type": "code",
   "execution_count": 44,
   "metadata": {
    "colab": {
     "base_uri": "https://localhost:8080/",
     "height": 387
    },
    "id": "PW4xncds6TTl",
    "outputId": "050ce968-5aad-4550-8206-9c02962e0f3f"
   },
   "outputs": [
    {
     "data": {
      "image/png": "[encoded data removed]",
      "text/plain": [
       "<Figure size 2800x500 with 1 Axes>"
      ]
     },
     "metadata": {},
     "output_type": "display_data"
    }
   ],
   "source": [
    "weights = np.random.random(size=(n_layers, total_weights_long))\n",
    "fig, ax = qml.draw_mpl(qnode_long)(X[:, :4], weights)\n",
    "\n",
    "plt.show()"
   ]
  },
  {
   "cell_type": "code",
   "execution_count": 45,
   "metadata": {
    "id": "DohP0-iEVoo8"
   },
   "outputs": [],
   "source": [
    "qlayer = qml.qnn.KerasLayer(qnode, weight_shapes, output_dim=n_qubits)"
   ]
  },
  {
   "cell_type": "code",
   "execution_count": 46,
   "metadata": {},
   "outputs": [],
   "source": [
    "qlayer_long = qml.qnn.KerasLayer(qnode_long, weight_shapes_long, output_dim=n_qubits)"
   ]
  },
  {
   "cell_type": "markdown",
   "metadata": {
    "id": "vwYP2ssEJdl5"
   },
   "source": [
    "# Checking The Influence of Quantum Model"
   ]
  },
  {
   "cell_type": "markdown",
   "metadata": {
    "id": "qiKN2qJRT9d5"
   },
   "source": [
    "For this to be implemented we lowered the amount of data used to have a faster run of the quantum circuit"
   ]
  },
  {
   "cell_type": "code",
   "execution_count": 37,
   "metadata": {
    "id": "izZHUVL8X15M"
   },
   "outputs": [],
   "source": [
    "from sklearn.metrics import classification_report"
   ]
  },
  {
   "cell_type": "code",
   "execution_count": 38,
   "metadata": {
    "colab": {
     "base_uri": "https://localhost:8080/"
    },
    "id": "aO-pIbxAWiri",
    "outputId": "1b55a27b-c61d-4253-f712-2999a4c82d5c"
   },
   "outputs": [
    {
     "name": "stdout",
     "output_type": "stream",
     "text": [
      "Total weights required: 32\n"
     ]
    }
   ],
   "source": [
    "n_layers = 1\n",
    "n_qubits=3\n",
    "total_weights_long = 32\n",
    "print(\"Total weights required:\", total_weights_long)\n",
    "\n",
    "weight_shapes_long = {\"weights\": (n_layers, total_weights_long+1)}"
   ]
  },
  {
   "cell_type": "code",
   "execution_count": 39,
   "metadata": {
    "id": "9S1FO1fsWq3l"
   },
   "outputs": [],
   "source": [
    "qlayer_long = qml.qnn.KerasLayer(qnode_long, weight_shapes_long, output_dim=n_qubits)"
   ]
  },
  {
   "cell_type": "code",
   "execution_count": 48,
   "metadata": {
    "colab": {
     "base_uri": "https://localhost:8080/"
    },
    "id": "NFCJjWMrViBJ",
    "outputId": "ab2a1ce5-449b-4768-b37f-3450cc82aa3a"
   },
   "outputs": [
    {
     "name": "stdout",
     "output_type": "stream",
     "text": [
      "Epoch 1/10\n"
     ]
    },
    {
     "name": "stderr",
     "output_type": "stream",
     "text": [
      "c:\\Users\\user\\Desktop\\QInnovision_World_Challenge\\Quantum_Federated_Learning\\q_env\\lib\\site-packages\\keras\\optimizers\\optimizer_v2\\adam.py:114: UserWarning: The `lr` argument is deprecated, use `learning_rate` instead.\n",
      "  super().__init__(name, **kwargs)\n"
     ]
    },
    {
     "name": "stdout",
     "output_type": "stream",
     "text": [
      "374/374 - 1s - loss: 0.2174 - accuracy: 0.9097 - val_loss: 0.0998 - val_accuracy: 0.9588 - 878ms/epoch - 2ms/step\n",
      "Epoch 2/10\n",
      "374/374 - 0s - loss: 0.0848 - accuracy: 0.9690 - val_loss: 0.0794 - val_accuracy: 0.9679 - 342ms/epoch - 915us/step\n",
      "Epoch 3/10\n",
      "374/374 - 0s - loss: 0.0687 - accuracy: 0.9737 - val_loss: 0.0637 - val_accuracy: 0.9834 - 394ms/epoch - 1ms/step\n",
      "Epoch 4/10\n",
      "374/374 - 0s - loss: 0.0584 - accuracy: 0.9782 - val_loss: 0.0601 - val_accuracy: 0.9738 - 354ms/epoch - 947us/step\n",
      "Epoch 5/10\n",
      "374/374 - 0s - loss: 0.0523 - accuracy: 0.9797 - val_loss: 0.0497 - val_accuracy: 0.9770 - 353ms/epoch - 943us/step\n",
      "Epoch 6/10\n",
      "374/374 - 0s - loss: 0.0472 - accuracy: 0.9813 - val_loss: 0.0480 - val_accuracy: 0.9786 - 358ms/epoch - 957us/step\n",
      "Epoch 7/10\n",
      "374/374 - 0s - loss: 0.0438 - accuracy: 0.9837 - val_loss: 0.0387 - val_accuracy: 0.9893 - 352ms/epoch - 940us/step\n",
      "Epoch 8/10\n",
      "374/374 - 0s - loss: 0.0398 - accuracy: 0.9834 - val_loss: 0.0348 - val_accuracy: 0.9893 - 359ms/epoch - 961us/step\n",
      "Epoch 9/10\n",
      "374/374 - 0s - loss: 0.0380 - accuracy: 0.9845 - val_loss: 0.0355 - val_accuracy: 0.9850 - 363ms/epoch - 970us/step\n",
      "Epoch 10/10\n",
      "374/374 - 0s - loss: 0.0347 - accuracy: 0.9861 - val_loss: 0.0365 - val_accuracy: 0.9866 - 395ms/epoch - 1ms/step\n"
     ]
    },
    {
     "data": {
      "text/plain": [
       "<keras.callbacks.History at 0x19b1b43ae30>"
      ]
     },
     "execution_count": 48,
     "metadata": {},
     "output_type": "execute_result"
    }
   ],
   "source": [
    "n_inputs = X_train.shape[1]\n",
    "\n",
    "classic_model = Sequential([\n",
    "    Dense(4, activation=tf.nn.relu),\n",
    "    Dense(2, activation=tf.nn.softmax)\n",
    "])\n",
    "\n",
    "classic_model.compile(optimizer=Adam(lr=0.01),loss='sparse_categorical_crossentropy',metrics=['accuracy'])\n",
    "\n",
    "classic_model.fit(X_train, y_train, validation_split=0.2,batch_size=20,epochs=10,shuffle=True,verbose=2)\n",
    "\n"
   ]
  },
  {
   "cell_type": "code",
   "execution_count": 49,
   "metadata": {},
   "outputs": [
    {
     "name": "stdout",
     "output_type": "stream",
     "text": [
      "98/98 [==============================] - 0s 917us/step\n",
      "Confusion Matrix:\n",
      "[[2603    5]\n",
      " [  34  475]]\n",
      "\n",
      "Classification Report:\n",
      "              precision    recall  f1-score   support\n",
      "\n",
      "         0.0       0.99      1.00      0.99      2608\n",
      "         1.0       0.99      0.93      0.96       509\n",
      "\n",
      "    accuracy                           0.99      3117\n",
      "   macro avg       0.99      0.97      0.98      3117\n",
      "weighted avg       0.99      0.99      0.99      3117\n",
      "\n"
     ]
    }
   ],
   "source": [
    "y_pred = np.argmax(classic_model.predict(X_test), axis=-1)\n",
    "# Compute the confusion matrix\n",
    "cm = confusion_matrix(y_test, y_pred)\n",
    "\n",
    "# Display the confusion matrix\n",
    "print(\"Confusion Matrix:\")\n",
    "print(cm)\n",
    "\n",
    "# Optional: Display a classification report\n",
    "print(\"\\nClassification Report:\")\n",
    "print(classification_report(y_test, y_pred))"
   ]
  },
  {
   "cell_type": "markdown",
   "metadata": {
    "id": "DQIDB2SOTRIr"
   },
   "source": [
    "Now focusing on the Quantum Part"
   ]
  },
  {
   "cell_type": "code",
   "execution_count": 39,
   "metadata": {
    "colab": {
     "base_uri": "https://localhost:8080/",
     "height": 387
    },
    "id": "PQz9Wh4jYkfr",
    "outputId": "fdffe310-2262-4d78-9c56-f026fe2d55fd"
   },
   "outputs": [
    {
     "data": {
      "image/png": "[encoded data removed]",
      "text/plain": [
       "<Figure size 2800x500 with 1 Axes>"
      ]
     },
     "metadata": {},
     "output_type": "display_data"
    }
   ],
   "source": [
    "fig, ax = qml.draw_mpl(qnode_long)(X[:, :4], weights)"
   ]
  },
  {
   "cell_type": "code",
   "execution_count": 40,
   "metadata": {
    "colab": {
     "base_uri": "https://localhost:8080/"
    },
    "id": "tyFfVSMOQ2Qw",
    "outputId": "41f41b72-d951-4faf-b72e-f512e1a9070b"
   },
   "outputs": [
    {
     "name": "stdout",
     "output_type": "stream",
     "text": [
      "Epoch 1/10\n"
     ]
    },
    {
     "name": "stderr",
     "output_type": "stream",
     "text": [
      "e:\\EPA\\Quantum\\Qinnovision 2025\\Quantum Federated Learning for Fraud Detection\\qinnovision\\lib\\site-packages\\keras\\optimizers\\optimizer_v2\\adam.py:114: UserWarning: The `lr` argument is deprecated, use `learning_rate` instead.\n",
      "  super().__init__(name, **kwargs)\n"
     ]
    },
    {
     "name": "stdout",
     "output_type": "stream",
     "text": [
      "300/300 - 125s - loss: 0.2115 - accuracy: 0.9152 - val_loss: 0.0998 - val_accuracy: 0.9615 - 125s/epoch - 416ms/step\n",
      "Epoch 2/10\n",
      "300/300 - 125s - loss: 0.0829 - accuracy: 0.9695 - val_loss: 0.0735 - val_accuracy: 0.9786 - 125s/epoch - 415ms/step\n",
      "Epoch 3/10\n",
      "300/300 - 117s - loss: 0.0674 - accuracy: 0.9782 - val_loss: 0.0640 - val_accuracy: 0.9829 - 117s/epoch - 391ms/step\n",
      "Epoch 4/10\n",
      "300/300 - 132s - loss: 0.0583 - accuracy: 0.9807 - val_loss: 0.0594 - val_accuracy: 0.9840 - 132s/epoch - 440ms/step\n",
      "Epoch 5/10\n",
      "300/300 - 114s - loss: 0.0530 - accuracy: 0.9818 - val_loss: 0.0490 - val_accuracy: 0.9866 - 114s/epoch - 381ms/step\n",
      "Epoch 6/10\n",
      "300/300 - 117s - loss: 0.0498 - accuracy: 0.9822 - val_loss: 0.0524 - val_accuracy: 0.9845 - 117s/epoch - 389ms/step\n",
      "Epoch 7/10\n",
      "300/300 - 122s - loss: 0.0472 - accuracy: 0.9826 - val_loss: 0.0455 - val_accuracy: 0.9866 - 122s/epoch - 406ms/step\n",
      "Epoch 8/10\n",
      "300/300 - 130s - loss: 0.0426 - accuracy: 0.9849 - val_loss: 0.0414 - val_accuracy: 0.9866 - 130s/epoch - 435ms/step\n",
      "Epoch 9/10\n",
      "300/300 - 122s - loss: 0.0436 - accuracy: 0.9853 - val_loss: 0.0478 - val_accuracy: 0.9861 - 122s/epoch - 406ms/step\n",
      "Epoch 10/10\n",
      "300/300 - 119s - loss: 0.0403 - accuracy: 0.9858 - val_loss: 0.0408 - val_accuracy: 0.9882 - 119s/epoch - 397ms/step\n"
     ]
    },
    {
     "data": {
      "text/plain": [
       "<keras.callbacks.History at 0x2d117091360>"
      ]
     },
     "execution_count": 40,
     "metadata": {},
     "output_type": "execute_result"
    }
   ],
   "source": [
    "n_inputs = X_train.shape[1]\n",
    "\n",
    "quantum_model = Sequential([\n",
    "    Dense(4, activation=tf.nn.relu),\n",
    "    qlayer_long,\n",
    "    Dense(2, activation=tf.nn.softmax)\n",
    "])\n",
    "\n",
    "quantum_model.compile(optimizer=Adam(lr=0.01),loss='sparse_categorical_crossentropy',metrics=['accuracy'])\n",
    "\n",
    "quantum_model.fit(X_train, y_train, validation_split=0.2,batch_size=25,epochs=10,shuffle=True,verbose=2)"
   ]
  },
  {
   "cell_type": "code",
   "execution_count": 41,
   "metadata": {
    "colab": {
     "base_uri": "https://localhost:8080/"
    },
    "id": "y89xJsAvY84F",
    "outputId": "d40b7094-d405-410d-e59d-f797adf88112"
   },
   "outputs": [
    {
     "name": "stdout",
     "output_type": "stream",
     "text": [
      "98/98 [==============================] - 14s 141ms/step\n",
      "Confusion Matrix:\n",
      "[[2590   18]\n",
      " [  10  499]]\n",
      "\n",
      "Classification Report:\n",
      "              precision    recall  f1-score   support\n",
      "\n",
      "         0.0       1.00      0.99      0.99      2608\n",
      "         1.0       0.97      0.98      0.97       509\n",
      "\n",
      "    accuracy                           0.99      3117\n",
      "   macro avg       0.98      0.99      0.98      3117\n",
      "weighted avg       0.99      0.99      0.99      3117\n",
      "\n"
     ]
    }
   ],
   "source": [
    "from sklearn.metrics import classification_report\n",
    "\n",
    "y_pred = np.argmax(quantum_model.predict(X_test), axis=-1)\n",
    "cm = confusion_matrix(y_test, y_pred)\n",
    "\n",
    "print(\"Confusion Matrix:\")\n",
    "print(cm)\n",
    "print(\"\\nClassification Report:\")\n",
    "print(classification_report(y_test, y_pred))"
   ]
  },
  {
   "cell_type": "markdown",
   "metadata": {
    "id": "n6K-58WUTu5l"
   },
   "source": [
    "So as we see here even though the accuracy has supposedly dropped, we have gained a 2% increase in the recall"
   ]
  },
  {
   "cell_type": "code",
   "execution_count": null,
   "metadata": {
    "colab": {
     "base_uri": "https://localhost:8080/"
    },
    "id": "B0KeiDfSTCKB",
    "outputId": "8f6c0534-3ef3-46eb-af8e-35aea4445356"
   },
   "outputs": [
    {
     "name": "stdout",
     "output_type": "stream",
     "text": [
      "Model: \"sequential_23\"\n",
      "_________________________________________________________________\n",
      " Layer (type)                Output Shape              Param #   \n",
      "=================================================================\n",
      " dense_32 (Dense)            (None, 4)                 32        \n",
      "                                                                 \n",
      " keras_layer_22 (KerasLayer)  multiple                 33        \n",
      "                                                                 \n",
      " dense_33 (Dense)            (None, 2)                 8         \n",
      "                                                                 \n",
      "=================================================================\n",
      "Total params: 73\n",
      "Trainable params: 73\n",
      "Non-trainable params: 0\n",
      "_________________________________________________________________\n"
     ]
    }
   ],
   "source": [
    "quantum_model.summary()"
   ]
  },
  {
   "cell_type": "markdown",
   "metadata": {},
   "source": [
    "We are running the test one more time to be sure of the quality of the proposed Architecture"
   ]
  },
  {
   "cell_type": "code",
   "execution_count": 42,
   "metadata": {},
   "outputs": [
    {
     "name": "stdout",
     "output_type": "stream",
     "text": [
      "Epoch 1/10\n"
     ]
    },
    {
     "name": "stderr",
     "output_type": "stream",
     "text": [
      "c:\\Users\\user\\Desktop\\QInnovision_World_Challenge\\Quantum_Federated_Learning\\q_env\\lib\\site-packages\\keras\\optimizers\\optimizer_v2\\adam.py:114: UserWarning: The `lr` argument is deprecated, use `learning_rate` instead.\n",
      "  super().__init__(name, **kwargs)\n"
     ]
    },
    {
     "name": "stdout",
     "output_type": "stream",
     "text": [
      "300/300 - 94s - loss: 0.2260 - accuracy: 0.9130 - val_loss: 0.1221 - val_accuracy: 0.9401 - 94s/epoch - 313ms/step\n",
      "Epoch 2/10\n",
      "300/300 - 94s - loss: 0.0878 - accuracy: 0.9690 - val_loss: 0.0730 - val_accuracy: 0.9781 - 94s/epoch - 315ms/step\n",
      "Epoch 3/10\n",
      "300/300 - 97s - loss: 0.0638 - accuracy: 0.9791 - val_loss: 0.1480 - val_accuracy: 0.9396 - 97s/epoch - 323ms/step\n",
      "Epoch 4/10\n",
      "300/300 - 94s - loss: 0.0656 - accuracy: 0.9793 - val_loss: 0.0595 - val_accuracy: 0.9829 - 94s/epoch - 314ms/step\n",
      "Epoch 5/10\n",
      "300/300 - 92s - loss: 0.0522 - accuracy: 0.9826 - val_loss: 0.0635 - val_accuracy: 0.9759 - 92s/epoch - 305ms/step\n",
      "Epoch 6/10\n",
      "300/300 - 92s - loss: 0.0534 - accuracy: 0.9828 - val_loss: 0.0518 - val_accuracy: 0.9834 - 92s/epoch - 308ms/step\n",
      "Epoch 7/10\n",
      "300/300 - 90s - loss: 0.0484 - accuracy: 0.9833 - val_loss: 0.0465 - val_accuracy: 0.9829 - 90s/epoch - 299ms/step\n",
      "Epoch 8/10\n",
      "300/300 - 88s - loss: 0.0446 - accuracy: 0.9848 - val_loss: 0.0428 - val_accuracy: 0.9861 - 88s/epoch - 293ms/step\n",
      "Epoch 9/10\n",
      "300/300 - 97s - loss: 0.0422 - accuracy: 0.9861 - val_loss: 0.0461 - val_accuracy: 0.9872 - 97s/epoch - 322ms/step\n",
      "Epoch 10/10\n",
      "300/300 - 91s - loss: 0.0407 - accuracy: 0.9857 - val_loss: 0.0404 - val_accuracy: 0.9840 - 91s/epoch - 303ms/step\n"
     ]
    },
    {
     "data": {
      "text/plain": [
       "<keras.callbacks.History at 0x1a0676d87c0>"
      ]
     },
     "execution_count": 42,
     "metadata": {},
     "output_type": "execute_result"
    }
   ],
   "source": [
    "n_inputs = X_train.shape[1]\n",
    "\n",
    "quantum_model_2 = Sequential([\n",
    "    Dense(4, activation=tf.nn.relu),\n",
    "    qlayer_long,\n",
    "    Dense(2, activation=tf.nn.softmax)\n",
    "])\n",
    "\n",
    "quantum_model_2.compile(optimizer=Adam(lr=0.01),loss='sparse_categorical_crossentropy',metrics=['accuracy'])\n",
    "\n",
    "quantum_model_2.fit(X_train, y_train, validation_split=0.2,batch_size=25,epochs=10,shuffle=True,verbose=2)"
   ]
  },
  {
   "cell_type": "code",
   "execution_count": 43,
   "metadata": {},
   "outputs": [
    {
     "name": "stdout",
     "output_type": "stream",
     "text": [
      "98/98 [==============================] - 11s 117ms/step\n",
      "Confusion Matrix:\n",
      "[[2586   22]\n",
      " [  26  483]]\n",
      "\n",
      "Classification Report:\n",
      "              precision    recall  f1-score   support\n",
      "\n",
      "         0.0       0.99      0.99      0.99      2608\n",
      "         1.0       0.96      0.95      0.95       509\n",
      "\n",
      "    accuracy                           0.98      3117\n",
      "   macro avg       0.97      0.97      0.97      3117\n",
      "weighted avg       0.98      0.98      0.98      3117\n",
      "\n"
     ]
    }
   ],
   "source": [
    "from sklearn.metrics import classification_report\n",
    "\n",
    "y_pred = np.argmax(quantum_model_2.predict(X_test), axis=-1)\n",
    "cm = confusion_matrix(y_test, y_pred)\n",
    "\n",
    "print(\"Confusion Matrix:\")\n",
    "print(cm)\n",
    "print(\"\\nClassification Report:\")\n",
    "print(classification_report(y_test, y_pred))"
   ]
  },
  {
   "cell_type": "markdown",
   "metadata": {},
   "source": [
    "The instability of the outcomes can impact the result but we can confidently state that the quantum circuit enhances the ability of the Neural Network to have a higher Recall."
   ]
  },
  {
   "cell_type": "markdown",
   "metadata": {
    "id": "dRK5qUTof9qs"
   },
   "source": [
    "# Now Checking Only the Quantum Part"
   ]
  },
  {
   "cell_type": "markdown",
   "metadata": {
    "id": "TaMzHuRYr73v"
   },
   "source": [
    "In order to check only the Quantum part we first need to reduce the dimensions of our features (X) dataste in order to be the same as the input dimension 4 of the quantum node."
   ]
  },
  {
   "cell_type": "code",
   "execution_count": 47,
   "metadata": {
    "id": "Wn8tdPzZgL0R"
   },
   "outputs": [],
   "source": [
    "qlayer_long_solo = qml.qnn.KerasLayer(qnode_long_solo, weight_shapes_long, output_dim=n_qubits)"
   ]
  },
  {
   "cell_type": "code",
   "execution_count": 48,
   "metadata": {},
   "outputs": [],
   "source": [
    "def create_pure_model():\n",
    "    return Sequential([qlayer_long_solo])"
   ]
  },
  {
   "cell_type": "code",
   "execution_count": 49,
   "metadata": {},
   "outputs": [],
   "source": [
    "import numpy as np\n",
    "from sklearn.metrics import confusion_matrix, classification_report\n",
    "from tensorflow.keras.optimizers import Adam\n",
    "from tensorflow.keras.models import Sequential, save_model"
   ]
  },
  {
   "cell_type": "code",
   "execution_count": 50,
   "metadata": {
    "colab": {
     "base_uri": "https://localhost:8080/"
    },
    "id": "eRaPZo5lf9Ai",
    "outputId": "6cdd3559-1a2b-4d59-c847-f951153ed0ab"
   },
   "outputs": [
    {
     "name": "stdout",
     "output_type": "stream",
     "text": [
      "\n",
      "Training Model 1 with learning rate = 0.01\n",
      "\n",
      "Epoch 1/5\n"
     ]
    },
    {
     "name": "stderr",
     "output_type": "stream",
     "text": [
      "c:\\Users\\user\\Desktop\\QInnovision_World_Challenge\\Quantum_Federated_Learning\\q_env\\lib\\site-packages\\keras\\optimizers\\optimizer_v2\\adam.py:114: UserWarning: The `lr` argument is deprecated, use `learning_rate` instead.\n",
      "  super().__init__(name, **kwargs)\n"
     ]
    },
    {
     "name": "stdout",
     "output_type": "stream",
     "text": [
      "275/275 [==============================] - 91s 329ms/step - loss: 0.9509 - accuracy: 0.8575 - val_loss: 0.6106 - val_accuracy: 0.9137\n",
      "Epoch 2/5\n",
      "275/275 [==============================] - 89s 322ms/step - loss: 0.5388 - accuracy: 0.9257 - val_loss: 0.6200 - val_accuracy: 0.8576\n",
      "Epoch 3/5\n",
      "275/275 [==============================] - 89s 323ms/step - loss: 0.5696 - accuracy: 0.8565 - val_loss: 0.6691 - val_accuracy: 0.8250\n",
      "Epoch 4/5\n",
      "275/275 [==============================] - 89s 325ms/step - loss: 0.5435 - accuracy: 0.8569 - val_loss: 0.6212 - val_accuracy: 0.8221\n",
      "Epoch 5/5\n",
      "275/275 [==============================] - 89s 325ms/step - loss: 0.5244 - accuracy: 0.8684 - val_loss: 0.5499 - val_accuracy: 0.8471\n",
      "90/90 [==============================] - 10s 115ms/step\n",
      "Confusion Matrix:\n",
      "[[2352  248]\n",
      " [  90  167]]\n",
      "\n",
      "Classification Report:\n",
      "              precision    recall  f1-score   support\n",
      "\n",
      "         0.0       0.96      0.90      0.93      2600\n",
      "         1.0       0.40      0.65      0.50       257\n",
      "\n",
      "    accuracy                           0.88      2857\n",
      "   macro avg       0.68      0.78      0.71      2857\n",
      "weighted avg       0.91      0.88      0.89      2857\n",
      "\n",
      "Model saved as Pure_Quantum_Model_lr_0.01_run_1.h5\n",
      "\n",
      "Training Model 2 with learning rate = 0.01\n",
      "\n",
      "Epoch 1/5\n"
     ]
    },
    {
     "name": "stderr",
     "output_type": "stream",
     "text": [
      "c:\\Users\\user\\Desktop\\QInnovision_World_Challenge\\Quantum_Federated_Learning\\q_env\\lib\\site-packages\\keras\\optimizers\\optimizer_v2\\adam.py:114: UserWarning: The `lr` argument is deprecated, use `learning_rate` instead.\n",
      "  super().__init__(name, **kwargs)\n"
     ]
    },
    {
     "name": "stdout",
     "output_type": "stream",
     "text": [
      "275/275 [==============================] - 90s 326ms/step - loss: 0.6052 - accuracy: 0.9100 - val_loss: 0.7891 - val_accuracy: 0.9002\n",
      "Epoch 2/5\n",
      "275/275 [==============================] - 89s 324ms/step - loss: 0.7889 - accuracy: 0.8429 - val_loss: 0.7907 - val_accuracy: 0.9113\n",
      "Epoch 3/5\n",
      "275/275 [==============================] - 90s 326ms/step - loss: 0.7996 - accuracy: 0.9313 - val_loss: 0.8446 - val_accuracy: 0.9148\n",
      "Epoch 4/5\n",
      "275/275 [==============================] - 89s 324ms/step - loss: 0.7673 - accuracy: 0.9233 - val_loss: 0.8579 - val_accuracy: 0.8495\n",
      "Epoch 5/5\n",
      "275/275 [==============================] - 89s 323ms/step - loss: 0.7561 - accuracy: 0.8678 - val_loss: 0.7157 - val_accuracy: 0.8466\n",
      "90/90 [==============================] - 11s 117ms/step\n",
      "Confusion Matrix:\n",
      "[[2311  289]\n",
      " [  80  177]]\n",
      "\n",
      "Classification Report:\n",
      "              precision    recall  f1-score   support\n",
      "\n",
      "         0.0       0.97      0.89      0.93      2600\n",
      "         1.0       0.38      0.69      0.49       257\n",
      "\n",
      "    accuracy                           0.87      2857\n",
      "   macro avg       0.67      0.79      0.71      2857\n",
      "weighted avg       0.91      0.87      0.89      2857\n",
      "\n",
      "Model saved as Pure_Quantum_Model_lr_0.01_run_2.h5\n"
     ]
    }
   ],
   "source": [
    "# Training and saving models with a learning rate of 0.01, twice\n",
    "learning_rate = 0.01\n",
    "models = []\n",
    "\n",
    "for i in range(1, 3):  # Loop to train the model twice\n",
    "    print(f\"\\nTraining Model {i} with learning rate = {learning_rate}\\n\")\n",
    "\n",
    "    # Create a new model for each iteration\n",
    "    model = create_pure_model()\n",
    "    model.compile(optimizer=Adam(lr=learning_rate), loss='sparse_categorical_crossentropy', metrics=['accuracy'])\n",
    "\n",
    "    # Train the model\n",
    "    model.fit(X_reduced_train, y_train_reduced, validation_split=0.2, batch_size=25, epochs=5, shuffle=True, verbose=1)\n",
    "\n",
    "    # Evaluate and generate predictions\n",
    "    y_pred = np.argmax(model.predict(X_reduced_test), axis=-1)\n",
    "\n",
    "    # Confusion matrix and classification report\n",
    "    cm = confusion_matrix(y_test, y_pred)\n",
    "    print(\"Confusion Matrix:\")\n",
    "    print(cm)\n",
    "    print(\"\\nClassification Report:\")\n",
    "    print(classification_report(y_test, y_pred))\n",
    "\n",
    "    # Save the model\n",
    "    model_name = f\"Pure_Quantum_Model_lr_{learning_rate}_run_{i}.h5\"\n",
    "    save_model(model, model_name)\n",
    "    print(f\"Model saved as {model_name}\")\n",
    "\n",
    "    # Append the model to the list for future reference if needed\n",
    "    models.append(model)\n"
   ]
  },
  {
   "cell_type": "markdown",
   "metadata": {},
   "source": [
    "# Testing on Real Quantum Hardware"
   ]
  },
  {
   "cell_type": "code",
   "execution_count": 63,
   "metadata": {},
   "outputs": [
    {
     "name": "stdout",
     "output_type": "stream",
     "text": [
      "[array([[ 0.34757534,  0.26595148,  0.40758488,  0.15100977,  0.17634049,\n",
      "        -0.2012906 ,  0.21405324, -0.35729873, -0.26197922,  0.28686807,\n",
      "         0.4067758 , -0.26643705,  0.25363597, -0.3401154 , -0.1056588 ,\n",
      "        -0.08957747,  0.3460259 ,  0.27729335, -0.02548185, -0.21925405,\n",
      "        -0.13993493, -0.01906997,  0.13029906,  0.1616598 ,  0.04957843,\n",
      "         0.01959309, -0.3369773 ,  0.19925901, -0.2965324 ,  0.35566798,\n",
      "         0.12765321, -0.3721065 ,  0.11087361]], dtype=float32)]\n"
     ]
    }
   ],
   "source": [
    "# Save the trained weights\n",
    "print(qlayer_long.get_weights())"
   ]
  },
  {
   "cell_type": "markdown",
   "metadata": {},
   "source": []
  },
  {
   "cell_type": "code",
   "execution_count": 67,
   "metadata": {},
   "outputs": [
    {
     "name": "stdout",
     "output_type": "stream",
     "text": [
      "Collecting qiskit_ibm_provider\n",
      "  Downloading qiskit_ibm_provider-0.11.0-py3-none-any.whl (249 kB)\n",
      "Requirement already satisfied: numpy>=1.13 in c:\\users\\user\\desktop\\qinnovision_world_challenge\\quantum_federated_learning\\q_env\\lib\\site-packages (from qiskit_ibm_provider) (1.26.4)\n",
      "Requirement already satisfied: urllib3>=1.21.1 in c:\\users\\user\\desktop\\qinnovision_world_challenge\\quantum_federated_learning\\q_env\\lib\\site-packages (from qiskit_ibm_provider) (2.2.3)\n",
      "Requirement already satisfied: requests>=2.19 in c:\\users\\user\\desktop\\qinnovision_world_challenge\\quantum_federated_learning\\q_env\\lib\\site-packages (from qiskit_ibm_provider) (2.32.3)\n",
      "Collecting websocket-client>=1.5.1\n",
      "  Downloading websocket_client-1.8.0-py3-none-any.whl (58 kB)\n",
      "Requirement already satisfied: python-dateutil>=2.8.0 in c:\\users\\user\\desktop\\qinnovision_world_challenge\\quantum_federated_learning\\q_env\\lib\\site-packages (from qiskit_ibm_provider) (2.9.0.post0)\n",
      "Requirement already satisfied: typing-extensions>=4.3 in c:\\users\\user\\desktop\\qinnovision_world_challenge\\quantum_federated_learning\\q_env\\lib\\site-packages (from qiskit_ibm_provider) (4.12.2)\n",
      "Collecting qiskit>=0.45.0\n",
      "  Downloading qiskit-1.3.0-cp39-abi3-win_amd64.whl (6.5 MB)\n",
      "Collecting requests-ntlm>=1.1.0\n",
      "  Downloading requests_ntlm-1.3.0-py3-none-any.whl (6.6 kB)\n",
      "Collecting websockets>=10.0\n",
      "  Downloading websockets-14.1-cp310-cp310-win_amd64.whl (163 kB)\n",
      "Requirement already satisfied: six>=1.5 in c:\\users\\user\\desktop\\qinnovision_world_challenge\\quantum_federated_learning\\q_env\\lib\\site-packages (from python-dateutil>=2.8.0->qiskit_ibm_provider) (1.16.0)\n",
      "Collecting dill>=0.3\n",
      "  Downloading dill-0.3.9-py3-none-any.whl (119 kB)\n",
      "Collecting symengine<0.14,>=0.11\n",
      "  Downloading symengine-0.13.0-cp310-cp310-win_amd64.whl (17.8 MB)\n",
      "Requirement already satisfied: scipy>=1.5 in c:\\users\\user\\desktop\\qinnovision_world_challenge\\quantum_federated_learning\\q_env\\lib\\site-packages (from qiskit>=0.45.0->qiskit_ibm_provider) (1.14.1)\n",
      "Collecting stevedore>=3.0.0\n",
      "  Downloading stevedore-5.4.0-py3-none-any.whl (49 kB)\n",
      "Collecting sympy>=1.3\n",
      "  Downloading sympy-1.13.3-py3-none-any.whl (6.2 MB)\n",
      "Requirement already satisfied: rustworkx>=0.15.0 in c:\\users\\user\\desktop\\qinnovision_world_challenge\\quantum_federated_learning\\q_env\\lib\\site-packages (from qiskit>=0.45.0->qiskit_ibm_provider) (0.15.1)\n",
      "Requirement already satisfied: certifi>=2017.4.17 in c:\\users\\user\\desktop\\qinnovision_world_challenge\\quantum_federated_learning\\q_env\\lib\\site-packages (from requests>=2.19->qiskit_ibm_provider) (2024.8.30)\n",
      "Requirement already satisfied: idna<4,>=2.5 in c:\\users\\user\\desktop\\qinnovision_world_challenge\\quantum_federated_learning\\q_env\\lib\\site-packages (from requests>=2.19->qiskit_ibm_provider) (3.10)\n",
      "Requirement already satisfied: charset-normalizer<4,>=2 in c:\\users\\user\\desktop\\qinnovision_world_challenge\\quantum_federated_learning\\q_env\\lib\\site-packages (from requests>=2.19->qiskit_ibm_provider) (3.4.0)\n",
      "Collecting cryptography>=1.3\n",
      "  Downloading cryptography-44.0.0-cp39-abi3-win_amd64.whl (3.2 MB)\n",
      "Collecting pyspnego>=0.4.0\n",
      "  Downloading pyspnego-0.11.2-py3-none-any.whl (130 kB)\n",
      "Collecting cffi>=1.12\n",
      "  Downloading cffi-1.17.1-cp310-cp310-win_amd64.whl (181 kB)\n",
      "Collecting pycparser\n",
      "  Downloading pycparser-2.22-py3-none-any.whl (117 kB)\n",
      "Collecting sspilib>=0.1.0\n",
      "  Downloading sspilib-0.2.0-cp310-cp310-win_amd64.whl (565 kB)\n",
      "Collecting pbr>=2.0.0\n",
      "  Downloading pbr-6.1.0-py2.py3-none-any.whl (108 kB)\n",
      "Collecting mpmath<1.4,>=1.1.0\n",
      "  Downloading mpmath-1.3.0-py3-none-any.whl (536 kB)\n",
      "Installing collected packages: pycparser, cffi, sspilib, pbr, mpmath, cryptography, sympy, symengine, stevedore, pyspnego, dill, websockets, websocket-client, requests-ntlm, qiskit, qiskit-ibm-provider\n",
      "Successfully installed cffi-1.17.1 cryptography-44.0.0 dill-0.3.9 mpmath-1.3.0 pbr-6.1.0 pycparser-2.22 pyspnego-0.11.2 qiskit-1.3.0 qiskit-ibm-provider-0.11.0 requests-ntlm-1.3.0 sspilib-0.2.0 stevedore-5.4.0 symengine-0.13.0 sympy-1.13.3 websocket-client-1.8.0 websockets-14.1\n",
      "Note: you may need to restart the kernel to use updated packages.\n"
     ]
    },
    {
     "name": "stderr",
     "output_type": "stream",
     "text": [
      "WARNING: You are using pip version 21.2.3; however, version 24.3.1 is available.\n",
      "You should consider upgrading via the 'c:\\Users\\user\\Desktop\\QInnovision_World_Challenge\\Quantum_Federated_Learning\\q_env\\Scripts\\python.exe -m pip install --upgrade pip' command.\n"
     ]
    }
   ],
   "source": [
    "pip install qiskit_ibm_provider"
   ]
  },
  {
   "cell_type": "code",
   "execution_count": 78,
   "metadata": {},
   "outputs": [
    {
     "name": "stdout",
     "output_type": "stream",
     "text": [
      "Collecting qiskit_aer\n",
      "  Downloading qiskit_aer-0.15.1-cp310-cp310-win_amd64.whl (9.5 MB)\n",
      "Requirement already satisfied: psutil>=5 in c:\\users\\user\\desktop\\qinnovision_world_challenge\\quantum_federated_learning\\q_env\\lib\\site-packages (from qiskit_aer) (6.1.0)\n",
      "Requirement already satisfied: qiskit>=1.1.0 in c:\\users\\user\\desktop\\qinnovision_world_challenge\\quantum_federated_learning\\q_env\\lib\\site-packages (from qiskit_aer) (1.3.0)\n",
      "Requirement already satisfied: numpy>=1.16.3 in c:\\users\\user\\desktop\\qinnovision_world_challenge\\quantum_federated_learning\\q_env\\lib\\site-packages (from qiskit_aer) (1.26.4)\n",
      "Requirement already satisfied: scipy>=1.0 in c:\\users\\user\\desktop\\qinnovision_world_challenge\\quantum_federated_learning\\q_env\\lib\\site-packages (from qiskit_aer) (1.14.1)\n",
      "Requirement already satisfied: rustworkx>=0.15.0 in c:\\users\\user\\desktop\\qinnovision_world_challenge\\quantum_federated_learning\\q_env\\lib\\site-packages (from qiskit>=1.1.0->qiskit_aer) (0.15.1)\n",
      "Requirement already satisfied: sympy>=1.3 in c:\\users\\user\\desktop\\qinnovision_world_challenge\\quantum_federated_learning\\q_env\\lib\\site-packages (from qiskit>=1.1.0->qiskit_aer) (1.13.3)\n",
      "Requirement already satisfied: dill>=0.3 in c:\\users\\user\\desktop\\qinnovision_world_challenge\\quantum_federated_learning\\q_env\\lib\\site-packages (from qiskit>=1.1.0->qiskit_aer) (0.3.9)\n",
      "Requirement already satisfied: stevedore>=3.0.0 in c:\\users\\user\\desktop\\qinnovision_world_challenge\\quantum_federated_learning\\q_env\\lib\\site-packages (from qiskit>=1.1.0->qiskit_aer) (5.4.0)\n",
      "Requirement already satisfied: symengine<0.14,>=0.11 in c:\\users\\user\\desktop\\qinnovision_world_challenge\\quantum_federated_learning\\q_env\\lib\\site-packages (from qiskit>=1.1.0->qiskit_aer) (0.13.0)\n",
      "Requirement already satisfied: python-dateutil>=2.8.0 in c:\\users\\user\\desktop\\qinnovision_world_challenge\\quantum_federated_learning\\q_env\\lib\\site-packages (from qiskit>=1.1.0->qiskit_aer) (2.9.0.post0)\n",
      "Requirement already satisfied: typing-extensions in c:\\users\\user\\desktop\\qinnovision_world_challenge\\quantum_federated_learning\\q_env\\lib\\site-packages (from qiskit>=1.1.0->qiskit_aer) (4.12.2)\n",
      "Requirement already satisfied: six>=1.5 in c:\\users\\user\\desktop\\qinnovision_world_challenge\\quantum_federated_learning\\q_env\\lib\\site-packages (from python-dateutil>=2.8.0->qiskit>=1.1.0->qiskit_aer) (1.16.0)\n",
      "Requirement already satisfied: pbr>=2.0.0 in c:\\users\\user\\desktop\\qinnovision_world_challenge\\quantum_federated_learning\\q_env\\lib\\site-packages (from stevedore>=3.0.0->qiskit>=1.1.0->qiskit_aer) (6.1.0)\n",
      "Requirement already satisfied: mpmath<1.4,>=1.1.0 in c:\\users\\user\\desktop\\qinnovision_world_challenge\\quantum_federated_learning\\q_env\\lib\\site-packages (from sympy>=1.3->qiskit>=1.1.0->qiskit_aer) (1.3.0)\n",
      "Installing collected packages: qiskit-aer\n",
      "Successfully installed qiskit-aer-0.15.1\n"
     ]
    },
    {
     "name": "stderr",
     "output_type": "stream",
     "text": [
      "WARNING: You are using pip version 21.2.3; however, version 24.3.1 is available.\n",
      "You should consider upgrading via the 'C:\\Users\\user\\Desktop\\QInnovision_World_Challenge\\Quantum_Federated_Learning\\q_env\\Scripts\\python.exe -m pip install --upgrade pip' command.\n"
     ]
    }
   ],
   "source": [
    "!pip install qiskit_aer"
   ]
  },
  {
   "cell_type": "code",
   "execution_count": 79,
   "metadata": {},
   "outputs": [
    {
     "name": "stdout",
     "output_type": "stream",
     "text": [
      "Requirement already satisfied: qiskit in c:\\users\\user\\desktop\\qinnovision_world_challenge\\quantum_federated_learning\\q_env\\lib\\site-packages (1.3.0)\n",
      "Requirement already satisfied: sympy>=1.3 in c:\\users\\user\\desktop\\qinnovision_world_challenge\\quantum_federated_learning\\q_env\\lib\\site-packages (from qiskit) (1.13.3)\n",
      "Requirement already satisfied: numpy<3,>=1.17 in c:\\users\\user\\desktop\\qinnovision_world_challenge\\quantum_federated_learning\\q_env\\lib\\site-packages (from qiskit) (1.26.4)\n",
      "Requirement already satisfied: typing-extensions in c:\\users\\user\\desktop\\qinnovision_world_challenge\\quantum_federated_learning\\q_env\\lib\\site-packages (from qiskit) (4.12.2)\n",
      "Requirement already satisfied: scipy>=1.5 in c:\\users\\user\\desktop\\qinnovision_world_challenge\\quantum_federated_learning\\q_env\\lib\\site-packages (from qiskit) (1.14.1)\n",
      "Requirement already satisfied: symengine<0.14,>=0.11 in c:\\users\\user\\desktop\\qinnovision_world_challenge\\quantum_federated_learning\\q_env\\lib\\site-packages (from qiskit) (0.13.0)\n",
      "Requirement already satisfied: python-dateutil>=2.8.0 in c:\\users\\user\\desktop\\qinnovision_world_challenge\\quantum_federated_learning\\q_env\\lib\\site-packages (from qiskit) (2.9.0.post0)\n",
      "Requirement already satisfied: stevedore>=3.0.0 in c:\\users\\user\\desktop\\qinnovision_world_challenge\\quantum_federated_learning\\q_env\\lib\\site-packages (from qiskit) (5.4.0)\n",
      "Requirement already satisfied: dill>=0.3 in c:\\users\\user\\desktop\\qinnovision_world_challenge\\quantum_federated_learning\\q_env\\lib\\site-packages (from qiskit) (0.3.9)\n",
      "Requirement already satisfied: rustworkx>=0.15.0 in c:\\users\\user\\desktop\\qinnovision_world_challenge\\quantum_federated_learning\\q_env\\lib\\site-packages (from qiskit) (0.15.1)\n",
      "Requirement already satisfied: six>=1.5 in c:\\users\\user\\desktop\\qinnovision_world_challenge\\quantum_federated_learning\\q_env\\lib\\site-packages (from python-dateutil>=2.8.0->qiskit) (1.16.0)\n",
      "Requirement already satisfied: pbr>=2.0.0 in c:\\users\\user\\desktop\\qinnovision_world_challenge\\quantum_federated_learning\\q_env\\lib\\site-packages (from stevedore>=3.0.0->qiskit) (6.1.0)\n",
      "Requirement already satisfied: mpmath<1.4,>=1.1.0 in c:\\users\\user\\desktop\\qinnovision_world_challenge\\quantum_federated_learning\\q_env\\lib\\site-packages (from sympy>=1.3->qiskit) (1.3.0)\n"
     ]
    },
    {
     "name": "stderr",
     "output_type": "stream",
     "text": [
      "WARNING: You are using pip version 21.2.3; however, version 24.3.1 is available.\n",
      "You should consider upgrading via the 'C:\\Users\\user\\Desktop\\QInnovision_World_Challenge\\Quantum_Federated_Learning\\q_env\\Scripts\\python.exe -m pip install --upgrade pip' command.\n"
     ]
    }
   ],
   "source": [
    "!pip install qiskit"
   ]
  },
  {
   "cell_type": "code",
   "execution_count": 68,
   "metadata": {},
   "outputs": [
    {
     "name": "stderr",
     "output_type": "stream",
     "text": [
      "C:\\Users\\user\\AppData\\Local\\Temp\\ipykernel_14280\\1165121421.py:1: DeprecationWarning: The package qiskit_ibm_provider is being deprecated. Please see https://docs.quantum.ibm.com/api/migration-guides/qiskit-runtime to get instructions on how to migrate to qiskit-ibm-runtime (https://github.com/Qiskit/qiskit-ibm-runtime).\n",
      "  import qiskit_ibm_provider\n"
     ]
    }
   ],
   "source": [
    "import qiskit_ibm_provider"
   ]
  },
  {
   "cell_type": "code",
   "execution_count": 74,
   "metadata": {},
   "outputs": [],
   "source": [
    "import warnings\n",
    "warnings.filterwarnings('ignore')\n",
    "\n",
    "# Add your IBM API token here\n",
    "token = 1\n"
   ]
  },
  {
   "cell_type": "code",
   "execution_count": 80,
   "metadata": {},
   "outputs": [
    {
     "data": {
      "text/plain": [
       "[AerSimulator('aer_simulator'),\n",
       " AerSimulator('aer_simulator_statevector'),\n",
       " AerSimulator('aer_simulator_density_matrix'),\n",
       " AerSimulator('aer_simulator_stabilizer'),\n",
       " AerSimulator('aer_simulator_matrix_product_state'),\n",
       " AerSimulator('aer_simulator_extended_stabilizer'),\n",
       " AerSimulator('aer_simulator_unitary'),\n",
       " AerSimulator('aer_simulator_superop'),\n",
       " QasmSimulator('qasm_simulator'),\n",
       " StatevectorSimulator('statevector_simulator'),\n",
       " UnitarySimulator('unitary_simulator')]"
      ]
     },
     "execution_count": 80,
     "metadata": {},
     "output_type": "execute_result"
    }
   ],
   "source": [
    "from qiskit_aer import Aer\n",
    "Aer.backends()"
   ]
  },
  {
   "cell_type": "code",
   "execution_count": 51,
   "metadata": {},
   "outputs": [
    {
     "ename": "DeviceError",
     "evalue": "Device qiskit.aer_simulator does not exist. Make sure the required plugin is installed.",
     "output_type": "error",
     "traceback": [
      "\u001b[1;31m---------------------------------------------------------------------------\u001b[0m",
      "\u001b[1;31mDeviceError\u001b[0m                               Traceback (most recent call last)",
      "Cell \u001b[1;32mIn[51], line 2\u001b[0m\n\u001b[0;32m      1\u001b[0m \u001b[38;5;28;01mimport\u001b[39;00m \u001b[38;5;21;01mpennylane\u001b[39;00m \u001b[38;5;28;01mas\u001b[39;00m \u001b[38;5;21;01mqml\u001b[39;00m\n\u001b[1;32m----> 2\u001b[0m dev \u001b[38;5;241m=\u001b[39m \u001b[43mqml\u001b[49m\u001b[38;5;241;43m.\u001b[39;49m\u001b[43mdevice\u001b[49m\u001b[43m(\u001b[49m\u001b[38;5;124;43m'\u001b[39;49m\u001b[38;5;124;43mqiskit.aer_simulator\u001b[39;49m\u001b[38;5;124;43m'\u001b[39;49m\u001b[43m,\u001b[49m\u001b[43m \u001b[49m\u001b[43mwires\u001b[49m\u001b[38;5;241;43m=\u001b[39;49m\u001b[38;5;241;43m2\u001b[39;49m\u001b[43m)\u001b[49m\n",
      "File \u001b[1;32mc:\\Users\\user\\Desktop\\QInnovision_World_Challenge\\Quantum_Federated_Learning\\q_env\\lib\\site-packages\\pennylane\\devices\\device_constructor.py:284\u001b[0m, in \u001b[0;36mdevice\u001b[1;34m(name, *args, **kwargs)\u001b[0m\n\u001b[0;32m    280\u001b[0m         dev \u001b[38;5;241m=\u001b[39m qml\u001b[38;5;241m.\u001b[39mdevices\u001b[38;5;241m.\u001b[39mLegacyDeviceFacade(dev)\n\u001b[0;32m    282\u001b[0m     \u001b[38;5;28;01mreturn\u001b[39;00m dev\n\u001b[1;32m--> 284\u001b[0m \u001b[38;5;28;01mraise\u001b[39;00m qml\u001b[38;5;241m.\u001b[39mDeviceError(\n\u001b[0;32m    285\u001b[0m     \u001b[38;5;124mf\u001b[39m\u001b[38;5;124m\"\u001b[39m\u001b[38;5;124mDevice \u001b[39m\u001b[38;5;132;01m{\u001b[39;00mname\u001b[38;5;132;01m}\u001b[39;00m\u001b[38;5;124m does not exist. Make sure the required plugin is installed.\u001b[39m\u001b[38;5;124m\"\u001b[39m\n\u001b[0;32m    286\u001b[0m )\n",
      "\u001b[1;31mDeviceError\u001b[0m: Device qiskit.aer_simulator does not exist. Make sure the required plugin is installed."
     ]
    }
   ],
   "source": [
    "import pennylane as qml\n",
    "dev = qml.device('qiskit.aer_simulator', wires=2)"
   ]
  },
  {
   "cell_type": "code",
   "execution_count": 83,
   "metadata": {},
   "outputs": [
    {
     "ename": "NameError",
     "evalue": "name 'AerSimulator' is not defined",
     "output_type": "error",
     "traceback": [
      "\u001b[1;31m---------------------------------------------------------------------------\u001b[0m",
      "\u001b[1;31mNameError\u001b[0m                                 Traceback (most recent call last)",
      "Cell \u001b[1;32mIn[83], line 4\u001b[0m\n\u001b[0;32m      1\u001b[0m dev \u001b[38;5;241m=\u001b[39m qml\u001b[38;5;241m.\u001b[39mdevice(\n\u001b[0;32m      2\u001b[0m     \u001b[38;5;124m'\u001b[39m\u001b[38;5;124mqiskit.aer\u001b[39m\u001b[38;5;124m'\u001b[39m,\n\u001b[0;32m      3\u001b[0m     wires\u001b[38;5;241m=\u001b[39m\u001b[38;5;241m2\u001b[39m,\n\u001b[1;32m----> 4\u001b[0m     backend\u001b[38;5;241m=\u001b[39m\u001b[43mAerSimulator\u001b[49m(),\n\u001b[0;32m      5\u001b[0m     validation_threshold\u001b[38;5;241m=\u001b[39m\u001b[38;5;241m1e-6\u001b[39m\n\u001b[0;32m      6\u001b[0m )\n",
      "\u001b[1;31mNameError\u001b[0m: name 'AerSimulator' is not defined"
     ]
    }
   ],
   "source": [
    "dev = qml.device(\n",
    "    'qiskit.aer',\n",
    "    wires=2,\n",
    "    backend=AerSimulator(),\n",
    "    validation_threshold=1e-6\n",
    ")"
   ]
  },
  {
   "cell_type": "code",
   "execution_count": null,
   "metadata": {},
   "outputs": [],
   "source": []
  }
 ],
 "metadata": {
  "colab": {
   "collapsed_sections": [
    "Yo1otV9u0F4a",
    "Yfvr2rKyVoo6",
    "JSp9UlZkVoo8"
   ],
   "provenance": []
  },
  "kernelspec": {
   "display_name": "q_env",
   "language": "python",
   "name": "python3"
  },
  "language_info": {
   "codemirror_mode": {
    "name": "ipython",
    "version": 3
   },
   "file_extension": ".py",
   "mimetype": "text/x-python",
   "name": "python",
   "nbconvert_exporter": "python",
   "pygments_lexer": "ipython3",
   "version": "3.10.0"
  }
 },
 "nbformat": 4,
 "nbformat_minor": 0
}
