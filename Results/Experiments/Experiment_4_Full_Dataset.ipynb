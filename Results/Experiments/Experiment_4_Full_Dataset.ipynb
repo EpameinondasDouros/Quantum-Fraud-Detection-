{
 "cells": [
  {
   "cell_type": "markdown",
   "metadata": {
    "id": "3O8Wyxz-t9Jk"
   },
   "source": [
    "# Initialize"
   ]
  },
  {
   "cell_type": "code",
   "execution_count": null,
   "metadata": {
    "id": "WJQzZyIDNhac"
   },
   "outputs": [],
   "source": [
    "import numpy as np\n",
    "import pandas as pd\n",
    "import tensorflow as tf\n",
    "import matplotlib.pyplot as plt\n",
    "import seaborn as sns\n",
    "\n",
    "# Classifier Libraries\n",
    "import keras\n",
    "from keras.models import Sequential\n",
    "from keras.layers import Activation\n",
    "from keras.layers.core import Dense\n",
    "from keras.optimizers import Adam\n",
    "from keras.metrics import categorical_crossentropy\n",
    "\n",
    "# Other Libraries\n",
    "from sklearn.model_selection import train_test_split\n",
    "from sklearn.metrics import confusion_matrix\n",
    "\n",
    "import tensorflow as tf\n",
    "\n",
    "import pandas as pd\n",
    "import matplotlib.pyplot as plt\n",
    "import seaborn as sns\n",
    "import pennylane as qml\n",
    "from pennylane import numpy as np\n",
    "from tensorflow.keras.models import Model, Sequential\n",
    "from tensorflow.keras.layers import Dropout\n",
    "\n",
    "from sklearn.metrics import confusion_matrix, classification_report\n",
    "import numpy as np"
   ]
  },
  {
   "cell_type": "code",
   "execution_count": null,
   "metadata": {},
   "outputs": [],
   "source": []
  },
  {
   "cell_type": "code",
   "execution_count": null,
   "metadata": {},
   "outputs": [
    {
     "data": {
      "text/plain": [
       "<module 'Scripts.data_process_utils' from \"/Users/epameinondasdouros/Personal/Quantum/Code/Final_Project/Pennylane_Models/Don't Touch/Model_Final_Pennylane_Keras_QNN_11_Features_6M_DS/../../../Scripts/data_process_utils.py\">"
      ]
     },
     "execution_count": 6,
     "metadata": {},
     "output_type": "execute_result"
    }
   ],
   "source": [
    "import sys\n",
    "import importlib\n",
    "\n",
    "# Import and reload the module\n",
    "sys.path.append(\"../\")\n",
    "import Scripts.data_process_utils as dpu\n",
    "importlib.reload(dpu)"
   ]
  },
  {
   "cell_type": "code",
   "execution_count": null,
   "metadata": {},
   "outputs": [
    {
     "data": {
      "text/plain": [
       "<module 'Scripts.evaluation_functions' from \"/Users/epameinondasdouros/Personal/Quantum/Code/Final_Project/Pennylane_Models/Don't Touch/Model_Final_Pennylane_Keras_QNN_11_Features_6M_DS/../../../Scripts/evaluation_functions.py\">"
      ]
     },
     "execution_count": 7,
     "metadata": {},
     "output_type": "execute_result"
    }
   ],
   "source": [
    "import Scripts.evaluation_functions as eval\n",
    "import importlib\n",
    "importlib.reload(eval)"
   ]
  },
  {
   "cell_type": "markdown",
   "metadata": {
    "id": "6sVBiNR_uFAc"
   },
   "source": [
    "# Data Loading"
   ]
  },
  {
   "cell_type": "code",
   "execution_count": null,
   "metadata": {
    "id": "X-Rr1JQUuftw"
   },
   "outputs": [
    {
     "data": {
      "text/html": [
       "<div>\n",
       "<style scoped>\n",
       "    .dataframe tbody tr th:only-of-type {\n",
       "        vertical-align: middle;\n",
       "    }\n",
       "\n",
       "    .dataframe tbody tr th {\n",
       "        vertical-align: top;\n",
       "    }\n",
       "\n",
       "    .dataframe thead th {\n",
       "        text-align: right;\n",
       "    }\n",
       "</style>\n",
       "<table border=\"1\" class=\"dataframe\">\n",
       "  <thead>\n",
       "    <tr style=\"text-align: right;\">\n",
       "      <th></th>\n",
       "      <th>step</th>\n",
       "      <th>amount</th>\n",
       "      <th>oldbalanceOrg</th>\n",
       "      <th>newbalanceOrig</th>\n",
       "      <th>oldbalanceDest</th>\n",
       "      <th>newbalanceDest</th>\n",
       "      <th>isFraud</th>\n",
       "      <th>isFlaggedFraud</th>\n",
       "    </tr>\n",
       "  </thead>\n",
       "  <tbody>\n",
       "    <tr>\n",
       "      <th>count</th>\n",
       "      <td>6.362620e+06</td>\n",
       "      <td>6.362620e+06</td>\n",
       "      <td>6.362620e+06</td>\n",
       "      <td>6.362620e+06</td>\n",
       "      <td>6.362620e+06</td>\n",
       "      <td>6.362620e+06</td>\n",
       "      <td>6.362620e+06</td>\n",
       "      <td>6.362620e+06</td>\n",
       "    </tr>\n",
       "    <tr>\n",
       "      <th>mean</th>\n",
       "      <td>2.433972e+02</td>\n",
       "      <td>1.798619e+05</td>\n",
       "      <td>8.338831e+05</td>\n",
       "      <td>8.551137e+05</td>\n",
       "      <td>1.100702e+06</td>\n",
       "      <td>1.224996e+06</td>\n",
       "      <td>1.290820e-03</td>\n",
       "      <td>2.514687e-06</td>\n",
       "    </tr>\n",
       "    <tr>\n",
       "      <th>std</th>\n",
       "      <td>1.423320e+02</td>\n",
       "      <td>6.038582e+05</td>\n",
       "      <td>2.888243e+06</td>\n",
       "      <td>2.924049e+06</td>\n",
       "      <td>3.399180e+06</td>\n",
       "      <td>3.674129e+06</td>\n",
       "      <td>3.590480e-02</td>\n",
       "      <td>1.585775e-03</td>\n",
       "    </tr>\n",
       "    <tr>\n",
       "      <th>min</th>\n",
       "      <td>1.000000e+00</td>\n",
       "      <td>0.000000e+00</td>\n",
       "      <td>0.000000e+00</td>\n",
       "      <td>0.000000e+00</td>\n",
       "      <td>0.000000e+00</td>\n",
       "      <td>0.000000e+00</td>\n",
       "      <td>0.000000e+00</td>\n",
       "      <td>0.000000e+00</td>\n",
       "    </tr>\n",
       "    <tr>\n",
       "      <th>25%</th>\n",
       "      <td>1.560000e+02</td>\n",
       "      <td>1.338957e+04</td>\n",
       "      <td>0.000000e+00</td>\n",
       "      <td>0.000000e+00</td>\n",
       "      <td>0.000000e+00</td>\n",
       "      <td>0.000000e+00</td>\n",
       "      <td>0.000000e+00</td>\n",
       "      <td>0.000000e+00</td>\n",
       "    </tr>\n",
       "    <tr>\n",
       "      <th>50%</th>\n",
       "      <td>2.390000e+02</td>\n",
       "      <td>7.487194e+04</td>\n",
       "      <td>1.420800e+04</td>\n",
       "      <td>0.000000e+00</td>\n",
       "      <td>1.327057e+05</td>\n",
       "      <td>2.146614e+05</td>\n",
       "      <td>0.000000e+00</td>\n",
       "      <td>0.000000e+00</td>\n",
       "    </tr>\n",
       "    <tr>\n",
       "      <th>75%</th>\n",
       "      <td>3.350000e+02</td>\n",
       "      <td>2.087215e+05</td>\n",
       "      <td>1.073152e+05</td>\n",
       "      <td>1.442584e+05</td>\n",
       "      <td>9.430367e+05</td>\n",
       "      <td>1.111909e+06</td>\n",
       "      <td>0.000000e+00</td>\n",
       "      <td>0.000000e+00</td>\n",
       "    </tr>\n",
       "    <tr>\n",
       "      <th>max</th>\n",
       "      <td>7.430000e+02</td>\n",
       "      <td>9.244552e+07</td>\n",
       "      <td>5.958504e+07</td>\n",
       "      <td>4.958504e+07</td>\n",
       "      <td>3.560159e+08</td>\n",
       "      <td>3.561793e+08</td>\n",
       "      <td>1.000000e+00</td>\n",
       "      <td>1.000000e+00</td>\n",
       "    </tr>\n",
       "  </tbody>\n",
       "</table>\n",
       "</div>"
      ],
      "text/plain": [
       "               step        amount  oldbalanceOrg  newbalanceOrig  \\\n",
       "count  6.362620e+06  6.362620e+06   6.362620e+06    6.362620e+06   \n",
       "mean   2.433972e+02  1.798619e+05   8.338831e+05    8.551137e+05   \n",
       "std    1.423320e+02  6.038582e+05   2.888243e+06    2.924049e+06   \n",
       "min    1.000000e+00  0.000000e+00   0.000000e+00    0.000000e+00   \n",
       "25%    1.560000e+02  1.338957e+04   0.000000e+00    0.000000e+00   \n",
       "50%    2.390000e+02  7.487194e+04   1.420800e+04    0.000000e+00   \n",
       "75%    3.350000e+02  2.087215e+05   1.073152e+05    1.442584e+05   \n",
       "max    7.430000e+02  9.244552e+07   5.958504e+07    4.958504e+07   \n",
       "\n",
       "       oldbalanceDest  newbalanceDest       isFraud  isFlaggedFraud  \n",
       "count    6.362620e+06    6.362620e+06  6.362620e+06    6.362620e+06  \n",
       "mean     1.100702e+06    1.224996e+06  1.290820e-03    2.514687e-06  \n",
       "std      3.399180e+06    3.674129e+06  3.590480e-02    1.585775e-03  \n",
       "min      0.000000e+00    0.000000e+00  0.000000e+00    0.000000e+00  \n",
       "25%      0.000000e+00    0.000000e+00  0.000000e+00    0.000000e+00  \n",
       "50%      1.327057e+05    2.146614e+05  0.000000e+00    0.000000e+00  \n",
       "75%      9.430367e+05    1.111909e+06  0.000000e+00    0.000000e+00  \n",
       "max      3.560159e+08    3.561793e+08  1.000000e+00    1.000000e+00  "
      ]
     },
     "execution_count": 9,
     "metadata": {},
     "output_type": "execute_result"
    }
   ],
   "source": [
    "finance_df=pd.read_csv(\"../.././Datasets/PS_20174392719_1491204439457_log.csv\",delimiter=',')\n",
    "finance_df.describe()"
   ]
  },
  {
   "cell_type": "code",
   "execution_count": 10,
   "metadata": {
    "id": "F_tHjdsBulQY"
   },
   "outputs": [],
   "source": [
    "df=finance_df"
   ]
  },
  {
   "cell_type": "markdown",
   "metadata": {
    "id": "U867drFEDOAX"
   },
   "source": [
    "### Cleaning"
   ]
  },
  {
   "cell_type": "code",
   "execution_count": null,
   "metadata": {},
   "outputs": [],
   "source": [
    "from sklearn.preprocessing import StandardScaler\n",
    "\n",
    "scaler = StandardScaler()\n",
    "\n",
    "df_cleaned = finance_df.loc[(finance_df['type'].isin(['CASH_OUT', 'TRANSFER'])),:]\n",
    "df_cleaned.drop(columns=['nameOrig','nameDest','isFlaggedFraud'],inplace=True)\n",
    "df_cleaned['type'] = finance_df['type'].map({'CASH_OUT': 0, 'TRANSFER': 1})\n",
    "\n",
    "df_smote_balanced = dpu.balance_with_smote(df_cleaned, target_col='isFraud', smote_ratio=0.1, random_state=42)\n",
    "fraud_count_smote, fraud_percentage_smote = dpu.count_fraud_percentage(df_smote_balanced)\n",
    "print(f\"After SMOTE - Fraudulent: {fraud_count_smote}, Fraud Percentage: {fraud_percentage_smote:.2f}%\")\n",
    "\n",
    "final_df=df_smote_balanced\n",
    "\n",
    "final_df = final_df.sort_values(by='step').astype(float)\n",
    "\n",
    "df=final_df\n",
    "\n",
    "y = df['isFraud']\n",
    "X = df.drop(columns=['isFraud'])\n",
    "\n",
    "\n",
    "X_train, X_test, y_train, y_test = train_test_split(X, y, test_size=0.2, random_state=42)\n",
    "# Fit only on training data\n",
    "scaler = StandardScaler()\n",
    "X_train = scaler.fit_transform(X_train)  # ✅ Fit only on train\n",
    "X_test = scaler.transform(X_test)  # ✅ Use same scaler but don't fit again"
   ]
  },
  {
   "cell_type": "code",
   "execution_count": 28,
   "metadata": {
    "id": "l-8nvNcAxPSx"
   },
   "outputs": [
    {
     "data": {
      "text/plain": [
       "(1823049, 7)"
      ]
     },
     "execution_count": 28,
     "metadata": {},
     "output_type": "execute_result"
    }
   ],
   "source": [
    "X_train.shape"
   ]
  },
  {
   "cell_type": "code",
   "execution_count": 29,
   "metadata": {
    "id": "yzfPUx3pI1TM"
   },
   "outputs": [
    {
     "data": {
      "text/plain": [
       "isFraud\n",
       "0.0    1657282\n",
       "1.0     165767\n",
       "Name: count, dtype: int64"
      ]
     },
     "execution_count": 29,
     "metadata": {},
     "output_type": "execute_result"
    }
   ],
   "source": [
    "y_train.value_counts()"
   ]
  },
  {
   "cell_type": "markdown",
   "metadata": {
    "id": "Yfvr2rKyVoo6"
   },
   "source": [
    "Defining a QNode\n",
    "================\n",
    "\n"
   ]
  },
  {
   "cell_type": "code",
   "execution_count": 30,
   "metadata": {
    "id": "yh-w7YZEVoo6"
   },
   "outputs": [],
   "source": [
    "import pennylane as qml\n",
    "import numpy as np\n",
    "\n",
    "n_qubits = 3\n",
    "dev = qml.device(\"default.qubit\", wires=n_qubits+1)\n",
    "\n",
    "from itertools import combinations\n",
    "\n",
    "def custom_layer(weights, n_qubits):\n",
    "    index = 0  # Initialize index to track unique weights\n",
    "\n",
    "    # Apply first set of RY gates\n",
    "    for i in range(n_qubits + 1):\n",
    "        qml.RY(weights[index], wires=i)\n",
    "        index += 1  # Increment index\n",
    "\n",
    "    # Apply first set of CNOT gates\n",
    "    pairs = [(0, 1), (1, 2), (2, 3), (3, 0)]\n",
    "    for pair in pairs:\n",
    "        qml.CNOT(wires=pair)\n",
    "\n",
    "    # Apply second set of RY gates\n",
    "    for i in range(n_qubits + 1):\n",
    "        qml.RY(weights[index], wires=i)\n",
    "        index += 1  # Increment index\n",
    "\n",
    "    # Apply second set of CNOT gates\n",
    "    pairs = [(0, 2), (2, 0)]\n",
    "    for pair in pairs:\n",
    "        qml.CNOT(wires=pair)\n",
    "\n",
    "    # Apply RY gates on qubit 3\n",
    "    qml.RY(weights[index], wires=3)\n",
    "    index += 1  # Increment index\n",
    "    qml.RY(weights[index], wires=3)\n",
    "    index += 1  # Increment index\n",
    "\n",
    "    # Apply nested RY gates for two layers\n",
    "    for j in range(2):\n",
    "        for i in range(n_qubits):\n",
    "            qml.RY(weights[index], wires=i)\n",
    "            index += 1  # Increment index\n",
    "\n",
    "    # Apply third set of CNOT gates\n",
    "    pairs = [(0, 1), (1, 2), (2, 3), (3, 0)]\n",
    "    for pair in pairs:\n",
    "        qml.CNOT(wires=pair)\n",
    "\n",
    "    # Apply final set of RZ gates\n",
    "    for i in range(n_qubits + 1):\n",
    "        qml.RZ(weights[index], wires=i)\n",
    "        index += 1  # Increment index\n",
    "\n",
    "@qml.qnode(dev)\n",
    "def qnode(inputs, weights):\n",
    "    qml.AngleEmbedding(inputs, wires=range(n_qubits+1))\n",
    "    # print(\"AAAAAAAAAAAAAAAAAAAAA\")\n",
    "    # i=0\n",
    "    for w in weights:\n",
    "        # print(i)\n",
    "        custom_layer(w,n_qubits)\n",
    "        # i+=1\n",
    "    outputs = [qml.expval(qml.PauliZ(wires=i)) for i in range(n_qubits)]\n",
    "    return outputs\n"
   ]
  },
  {
   "cell_type": "code",
   "execution_count": 31,
   "metadata": {
    "id": "O8kX3ELU6OH7"
   },
   "outputs": [],
   "source": [
    "import pennylane as qml\n",
    "import numpy as np\n",
    "\n",
    "n_qubits = 3\n",
    "dev = qml.device(\"default.qubit\", wires=n_qubits+1)\n",
    "\n",
    "from itertools import combinations\n",
    "\n",
    "def custom_layer_long(weights, n_qubits):\n",
    "    index = 0  # Start index for weights\n",
    "\n",
    "    # First block of RY\n",
    "    for i in range(n_qubits + 1):\n",
    "        qml.RY(weights[index], wires=i)\n",
    "        index += 1\n",
    "\n",
    "    # First set of CNOT pairs\n",
    "    pairs = [(0, 1), (1, 2), (2, 3), (3, 0)]\n",
    "    for pair in pairs:\n",
    "        qml.CNOT(wires=pair)\n",
    "\n",
    "    # Second block of RY\n",
    "    for i in range(n_qubits + 1):\n",
    "        qml.RY(weights[index], wires=i)\n",
    "        index += 1\n",
    "\n",
    "    # Second set of CNOT pairs\n",
    "    pairs = [(0, 2), (2, 0)]\n",
    "    for pair in pairs:\n",
    "        qml.CNOT(wires=pair)\n",
    "\n",
    "    # Third block of RY (single qubit repeated)\n",
    "    qml.RY(weights[index], wires=3)\n",
    "    index += 1\n",
    "    qml.RY(weights[index], wires=3)\n",
    "    index += 1\n",
    "\n",
    "    # Nested loop of RY\n",
    "    for j in range(2):\n",
    "        for i in range(n_qubits):\n",
    "            qml.RY(weights[index], wires=i)\n",
    "            index += 1\n",
    "\n",
    "    # Third set of CNOT pairs\n",
    "    pairs = [(0, 1), (1, 2), (2, 3), (3, 0)]\n",
    "    for pair in pairs:\n",
    "        qml.CNOT(wires=pair)\n",
    "\n",
    "    # First block of RZ\n",
    "    for i in range(n_qubits + 1):\n",
    "        qml.RZ(weights[index], wires=i)\n",
    "        index += 1\n",
    "\n",
    "    # Fourth set of CNOT pairs\n",
    "    pairs = [(0, 2), (2, 0)]\n",
    "    for pair in pairs:\n",
    "        qml.CNOT(wires=pair)\n",
    "\n",
    "    # Fourth block of RY (single qubit repeated)\n",
    "    qml.RY(weights[index], wires=3)\n",
    "    index += 1\n",
    "    qml.RY(weights[index], wires=3)\n",
    "    index += 1\n",
    "\n",
    "    # Second block of RZ\n",
    "    for i in range(n_qubits):\n",
    "        qml.RZ(weights[index], wires=i)\n",
    "        index += 1\n",
    "\n",
    "    # Third block of RY\n",
    "    for i in range(n_qubits):\n",
    "        qml.RY(weights[index], wires=i)\n",
    "        index += 1\n",
    "\n",
    "    # Fifth set of CNOT pairs\n",
    "    pairs = [(0, 1), (1, 2), (2, 3), (3, 0)]\n",
    "    for pair in pairs:\n",
    "        qml.CNOT(wires=pair)\n",
    "\n",
    "    # Final block of RZ\n",
    "    for i in range(n_qubits + 1):\n",
    "        qml.RZ(weights[index], wires=i)\n",
    "        index += 1\n",
    "\n",
    "    return index  # Total number of indices used\n",
    "\n",
    "@qml.qnode(dev)\n",
    "def qnode_long(inputs, weights):\n",
    "    qml.AngleEmbedding(inputs, wires=range(n_qubits+1))\n",
    "    # print(\"AAAAAAAAAAAAAAAAAAAAA\")\n",
    "    # i=0\n",
    "    for w in weights:\n",
    "        # print(i)\n",
    "        custom_layer_long(w,n_qubits)\n",
    "        # i+=1\n",
    "    outputs = [qml.expval(qml.PauliZ(wires=i)) for i in range(n_qubits)]\n",
    "    return outputs"
   ]
  },
  {
   "cell_type": "code",
   "execution_count": 32,
   "metadata": {
    "id": "hJdNRI-6e_fl"
   },
   "outputs": [],
   "source": [
    "@qml.qnode(dev)\n",
    "def qnode_long_solo(inputs, weights):\n",
    "    qml.AngleEmbedding(inputs, wires=range(n_qubits+1))\n",
    "    for w in weights:\n",
    "        custom_layer_long(w,n_qubits)\n",
    "    outputs = [qml.expval(qml.PauliZ(wires=0)),qml.expval(qml.PauliZ(wires=1))]\n",
    "    return outputs"
   ]
  },
  {
   "cell_type": "markdown",
   "metadata": {
    "id": "-p38p1nIVoo7"
   },
   "source": [
    "# Quantum Circuit\n",
    "\n"
   ]
  },
  {
   "cell_type": "code",
   "execution_count": 33,
   "metadata": {},
   "outputs": [],
   "source": [
    "import pennylane as qml\n",
    "import matplotlib.pyplot as plt"
   ]
  },
  {
   "cell_type": "code",
   "execution_count": 34,
   "metadata": {
    "id": "cnEZcQJ0Voo7"
   },
   "outputs": [],
   "source": [
    "n_layers = 1\n",
    "n_qubits=3\n",
    "total_weights = 3 * (n_qubits + 1) + 2 * n_qubits + 2\n",
    "\n",
    "weight_shapes = {\"weights\": (n_layers, total_weights+1)}"
   ]
  },
  {
   "cell_type": "code",
   "execution_count": 35,
   "metadata": {
    "id": "GR5-G4VctKmZ"
   },
   "outputs": [
    {
     "data": {
      "image/png": "[encoded data removed]",
      "text/plain": [
       "<Figure size 1900x500 with 1 Axes>"
      ]
     },
     "metadata": {},
     "output_type": "display_data"
    }
   ],
   "source": [
    "weights = np.random.random(size=(n_layers, total_weights))\n",
    "fig, ax = qml.draw_mpl(qnode)(X_train[:, :4], weights)\n",
    "plt.show()"
   ]
  },
  {
   "cell_type": "code",
   "execution_count": 36,
   "metadata": {},
   "outputs": [
    {
     "name": "stdout",
     "output_type": "stream",
     "text": [
      "Total weights required: 32\n"
     ]
    }
   ],
   "source": [
    "n_layers = 1\n",
    "n_qubits=3\n",
    "total_weights_long = 32\n",
    "print(\"Total weights required:\", total_weights_long)\n",
    "\n",
    "weight_shapes_long = {\"weights\": (n_layers, total_weights_long+1)}"
   ]
  },
  {
   "cell_type": "code",
   "execution_count": 37,
   "metadata": {
    "colab": {
     "base_uri": "https://localhost:8080/",
     "height": 387
    },
    "id": "PW4xncds6TTl",
    "outputId": "050ce968-5aad-4550-8206-9c02962e0f3f"
   },
   "outputs": [
    {
     "data": {
      "image/png": "[encoded data removed]",
      "text/plain": [
       "<Figure size 2800x500 with 1 Axes>"
      ]
     },
     "metadata": {},
     "output_type": "display_data"
    }
   ],
   "source": [
    "weights = np.random.random(size=(n_layers, total_weights_long))\n",
    "fig, ax = qml.draw_mpl(qnode_long)(X[:, :4], weights)\n",
    "\n",
    "plt.show()"
   ]
  },
  {
   "cell_type": "code",
   "execution_count": 38,
   "metadata": {
    "id": "DohP0-iEVoo8"
   },
   "outputs": [
    {
     "name": "stdout",
     "output_type": "stream",
     "text": [
      "Metal device set to: Apple M2 Max\n",
      "\n",
      "systemMemory: 32.00 GB\n",
      "maxCacheSize: 10.67 GB\n",
      "\n"
     ]
    },
    {
     "name": "stderr",
     "output_type": "stream",
     "text": [
      "2025-01-30 19:24:32.379246: I tensorflow/core/common_runtime/pluggable_device/pluggable_device_factory.cc:306] Could not identify NUMA node of platform GPU ID 0, defaulting to 0. Your kernel may not have been built with NUMA support.\n",
      "2025-01-30 19:24:32.379768: I tensorflow/core/common_runtime/pluggable_device/pluggable_device_factory.cc:272] Created TensorFlow device (/job:localhost/replica:0/task:0/device:GPU:0 with 0 MB memory) -> physical PluggableDevice (device: 0, name: METAL, pci bus id: <undefined>)\n"
     ]
    }
   ],
   "source": [
    "qlayer = qml.qnn.KerasLayer(qnode, weight_shapes, output_dim=n_qubits)"
   ]
  },
  {
   "cell_type": "code",
   "execution_count": 39,
   "metadata": {},
   "outputs": [],
   "source": [
    "qlayer_long = qml.qnn.KerasLayer(qnode_long, weight_shapes_long, output_dim=n_qubits)"
   ]
  },
  {
   "cell_type": "markdown",
   "metadata": {
    "id": "vwYP2ssEJdl5"
   },
   "source": [
    "# Checking The Influence of Quantum Model"
   ]
  },
  {
   "cell_type": "markdown",
   "metadata": {
    "id": "qiKN2qJRT9d5"
   },
   "source": [
    "For this to be implemented we lowered the amount of data used to have a faster run of the quantum circuit"
   ]
  },
  {
   "cell_type": "code",
   "execution_count": 40,
   "metadata": {
    "id": "izZHUVL8X15M"
   },
   "outputs": [],
   "source": [
    "from sklearn.metrics import classification_report"
   ]
  },
  {
   "cell_type": "code",
   "execution_count": 41,
   "metadata": {
    "colab": {
     "base_uri": "https://localhost:8080/"
    },
    "id": "aO-pIbxAWiri",
    "outputId": "1b55a27b-c61d-4253-f712-2999a4c82d5c"
   },
   "outputs": [
    {
     "name": "stdout",
     "output_type": "stream",
     "text": [
      "Total weights required: 32\n"
     ]
    }
   ],
   "source": [
    "n_layers = 1\n",
    "n_qubits=3\n",
    "total_weights_long = 32\n",
    "print(\"Total weights required:\", total_weights_long)\n",
    "\n",
    "weight_shapes_long = {\"weights\": (n_layers, total_weights_long+1)}"
   ]
  },
  {
   "cell_type": "code",
   "execution_count": 42,
   "metadata": {
    "id": "9S1FO1fsWq3l"
   },
   "outputs": [],
   "source": [
    "qlayer_long = qml.qnn.KerasLayer(qnode_long, weight_shapes_long, output_dim=n_qubits)"
   ]
  },
  {
   "cell_type": "code",
   "execution_count": null,
   "metadata": {},
   "outputs": [],
   "source": []
  },
  {
   "cell_type": "code",
   "execution_count": 50,
   "metadata": {
    "colab": {
     "base_uri": "https://localhost:8080/"
    },
    "id": "NFCJjWMrViBJ",
    "outputId": "ab2a1ce5-449b-4768-b37f-3450cc82aa3a"
   },
   "outputs": [
    {
     "name": "stdout",
     "output_type": "stream",
     "text": [
      "Iteration 1\n",
      "Epoch 1/3\n"
     ]
    },
    {
     "name": "stderr",
     "output_type": "stream",
     "text": [
      "/Users/epameinondasdouros/Personal/Quantum/Code/Final_Project/q_env/lib/python3.10/site-packages/keras/optimizers/optimizer_v2/adam.py:114: UserWarning: The `lr` argument is deprecated, use `learning_rate` instead.\n",
      "  super().__init__(name, **kwargs)\n",
      "2025-01-30 19:33:35.157146: I tensorflow/core/grappler/optimizers/custom_graph_optimizer_registry.cc:114] Plugin optimizer for device_type GPU is enabled.\n"
     ]
    },
    {
     "name": "stdout",
     "output_type": "stream",
     "text": [
      "2838/2849 [============================>.] - ETA: 0s - loss: 0.0923 - accuracy: 0.9717"
     ]
    },
    {
     "name": "stderr",
     "output_type": "stream",
     "text": [
      "2025-01-30 19:33:41.274236: I tensorflow/core/grappler/optimizers/custom_graph_optimizer_registry.cc:114] Plugin optimizer for device_type GPU is enabled.\n"
     ]
    },
    {
     "name": "stdout",
     "output_type": "stream",
     "text": [
      "2849/2849 [==============================] - 7s 2ms/step - loss: 0.0922 - accuracy: 0.9717 - val_loss: 0.0712 - val_accuracy: 0.9774\n",
      "Epoch 2/3\n",
      "2849/2849 [==============================] - 7s 2ms/step - loss: 0.0604 - accuracy: 0.9802 - val_loss: 0.0528 - val_accuracy: 0.9830\n",
      "Epoch 3/3\n",
      "2849/2849 [==============================] - 7s 2ms/step - loss: 0.0504 - accuracy: 0.9829 - val_loss: 0.0486 - val_accuracy: 0.9830\n",
      " 147/4748 [..............................] - ETA: 4s"
     ]
    },
    {
     "name": "stderr",
     "output_type": "stream",
     "text": [
      "2025-01-30 19:33:56.024235: I tensorflow/core/grappler/optimizers/custom_graph_optimizer_registry.cc:114] Plugin optimizer for device_type GPU is enabled.\n"
     ]
    },
    {
     "name": "stdout",
     "output_type": "stream",
     "text": [
      "4748/4748 [==============================] - 5s 1ms/step\n",
      "Confusion Matrix:\n",
      "[[550438   1713]\n",
      " [  8625  46907]]\n",
      "\n",
      "Classification Report:\n",
      "              precision    recall  f1-score   support\n",
      "\n",
      "         0.0       0.98      1.00      0.99    552151\n",
      "         1.0       0.96      0.84      0.90     55532\n",
      "\n",
      "    accuracy                           0.98    607683\n",
      "   macro avg       0.97      0.92      0.95    607683\n",
      "weighted avg       0.98      0.98      0.98    607683\n",
      "\n",
      "\n",
      "Accuracy: 0.9829878406998386\n",
      "Recall: 0.8446841460779371\n",
      "F1 Score: 0.9007412243643905\n",
      "Evaluating Quantum Model\n",
      "====================================================================================================================================\n",
      "Epoch 1/3\n",
      "   1/2849 [..............................] - ETA: 4:41 - loss: 0.5445 - accuracy: 0.8945"
     ]
    },
    {
     "name": "stderr",
     "output_type": "stream",
     "text": [
      "/Users/epameinondasdouros/Personal/Quantum/Code/Final_Project/q_env/lib/python3.10/site-packages/keras/optimizers/optimizer_v2/adam.py:114: UserWarning: The `lr` argument is deprecated, use `learning_rate` instead.\n",
      "  super().__init__(name, **kwargs)\n"
     ]
    },
    {
     "name": "stdout",
     "output_type": "stream",
     "text": [
      "2849/2849 [==============================] - 232s 82ms/step - loss: 0.0744 - accuracy: 0.9753 - val_loss: 0.0509 - val_accuracy: 0.9828\n",
      "Epoch 2/3\n",
      "2849/2849 [==============================] - 231s 81ms/step - loss: 0.0473 - accuracy: 0.9835 - val_loss: 0.0441 - val_accuracy: 0.9842\n",
      "Epoch 3/3\n",
      "2849/2849 [==============================] - 228s 80ms/step - loss: 0.0406 - accuracy: 0.9861 - val_loss: 0.0470 - val_accuracy: 0.9844\n",
      "4748/4748 [==============================] - 104s 22ms/step\n",
      "Confusion Matrix:\n",
      "[[550869   1282]\n",
      " [  8127  47405]]\n",
      "\n",
      "Classification Report:\n",
      "              precision    recall  f1-score   support\n",
      "\n",
      "         0.0       0.99      1.00      0.99    552151\n",
      "         1.0       0.97      0.85      0.91     55532\n",
      "\n",
      "    accuracy                           0.98    607683\n",
      "   macro avg       0.98      0.93      0.95    607683\n",
      "weighted avg       0.98      0.98      0.98    607683\n",
      "\n",
      "\n",
      "Accuracy: 0.9845165982922017\n",
      "Recall: 0.8536519484261327\n",
      "F1 Score: 0.9097189571959048\n",
      "====================================================================================================================================\n",
      "Iteration 2\n",
      "Epoch 1/3\n"
     ]
    },
    {
     "name": "stderr",
     "output_type": "stream",
     "text": [
      "/Users/epameinondasdouros/Personal/Quantum/Code/Final_Project/q_env/lib/python3.10/site-packages/keras/optimizers/optimizer_v2/adam.py:114: UserWarning: The `lr` argument is deprecated, use `learning_rate` instead.\n",
      "  super().__init__(name, **kwargs)\n",
      "2025-01-30 19:47:17.724704: I tensorflow/core/grappler/optimizers/custom_graph_optimizer_registry.cc:114] Plugin optimizer for device_type GPU is enabled.\n"
     ]
    },
    {
     "name": "stdout",
     "output_type": "stream",
     "text": [
      "2833/2849 [============================>.] - ETA: 0s - loss: 0.0745 - accuracy: 0.9754"
     ]
    },
    {
     "name": "stderr",
     "output_type": "stream",
     "text": [
      "2025-01-30 19:47:24.102986: I tensorflow/core/grappler/optimizers/custom_graph_optimizer_registry.cc:114] Plugin optimizer for device_type GPU is enabled.\n"
     ]
    },
    {
     "name": "stdout",
     "output_type": "stream",
     "text": [
      "2849/2849 [==============================] - 7s 3ms/step - loss: 0.0743 - accuracy: 0.9755 - val_loss: 0.0424 - val_accuracy: 0.9858\n",
      "Epoch 2/3\n",
      "2849/2849 [==============================] - 7s 2ms/step - loss: 0.0393 - accuracy: 0.9869 - val_loss: 0.0365 - val_accuracy: 0.9875\n",
      "Epoch 3/3\n",
      "2849/2849 [==============================] - 7s 2ms/step - loss: 0.0352 - accuracy: 0.9886 - val_loss: 0.0340 - val_accuracy: 0.9892\n",
      " 156/4748 [..............................] - ETA: 4s"
     ]
    },
    {
     "name": "stderr",
     "output_type": "stream",
     "text": [
      "2025-01-30 19:47:39.018579: I tensorflow/core/grappler/optimizers/custom_graph_optimizer_registry.cc:114] Plugin optimizer for device_type GPU is enabled.\n"
     ]
    },
    {
     "name": "stdout",
     "output_type": "stream",
     "text": [
      "4748/4748 [==============================] - 5s 1ms/step\n",
      "Confusion Matrix:\n",
      "[[548847   3304]\n",
      " [  3195  52337]]\n",
      "\n",
      "Classification Report:\n",
      "              precision    recall  f1-score   support\n",
      "\n",
      "         0.0       0.99      0.99      0.99    552151\n",
      "         1.0       0.94      0.94      0.94     55532\n",
      "\n",
      "    accuracy                           0.99    607683\n",
      "   macro avg       0.97      0.97      0.97    607683\n",
      "weighted avg       0.99      0.99      0.99    607683\n",
      "\n",
      "\n",
      "Accuracy: 0.9893052792327579\n",
      "Recall: 0.9424656054166967\n",
      "F1 Score: 0.9415415613503278\n",
      "Evaluating Quantum Model\n",
      "====================================================================================================================================\n",
      "Epoch 1/3\n",
      "   1/2849 [..............................] - ETA: 4:49 - loss: 0.5620 - accuracy: 0.9238"
     ]
    },
    {
     "name": "stderr",
     "output_type": "stream",
     "text": [
      "/Users/epameinondasdouros/Personal/Quantum/Code/Final_Project/q_env/lib/python3.10/site-packages/keras/optimizers/optimizer_v2/adam.py:114: UserWarning: The `lr` argument is deprecated, use `learning_rate` instead.\n",
      "  super().__init__(name, **kwargs)\n"
     ]
    },
    {
     "name": "stdout",
     "output_type": "stream",
     "text": [
      "2849/2849 [==============================] - 238s 83ms/step - loss: 0.0872 - accuracy: 0.9711 - val_loss: 0.0585 - val_accuracy: 0.9818\n",
      "Epoch 2/3\n",
      "2849/2849 [==============================] - 238s 84ms/step - loss: 0.0545 - accuracy: 0.9816 - val_loss: 0.0493 - val_accuracy: 0.9836\n",
      "Epoch 3/3\n",
      "2849/2849 [==============================] - 231s 81ms/step - loss: 0.0474 - accuracy: 0.9842 - val_loss: 0.0428 - val_accuracy: 0.9831\n",
      "4748/4748 [==============================] - 105s 22ms/step\n",
      "Confusion Matrix:\n",
      "[[549965   2186]\n",
      " [  8020  47512]]\n",
      "\n",
      "Classification Report:\n",
      "              precision    recall  f1-score   support\n",
      "\n",
      "         0.0       0.99      1.00      0.99    552151\n",
      "         1.0       0.96      0.86      0.90     55532\n",
      "\n",
      "    accuracy                           0.98    607683\n",
      "   macro avg       0.97      0.93      0.95    607683\n",
      "weighted avg       0.98      0.98      0.98    607683\n",
      "\n",
      "\n",
      "Accuracy: 0.9832050592167297\n",
      "Recall: 0.8555787653965281\n",
      "F1 Score: 0.9030124489214102\n",
      "====================================================================================================================================\n",
      "Iteration 3\n",
      "Epoch 1/3\n"
     ]
    },
    {
     "name": "stderr",
     "output_type": "stream",
     "text": [
      "/Users/epameinondasdouros/Personal/Quantum/Code/Final_Project/q_env/lib/python3.10/site-packages/keras/optimizers/optimizer_v2/adam.py:114: UserWarning: The `lr` argument is deprecated, use `learning_rate` instead.\n",
      "  super().__init__(name, **kwargs)\n"
     ]
    },
    {
     "name": "stdout",
     "output_type": "stream",
     "text": [
      "  44/2849 [..............................] - ETA: 6s - loss: 0.4365 - accuracy: 0.8667 "
     ]
    },
    {
     "name": "stderr",
     "output_type": "stream",
     "text": [
      "2025-01-30 20:01:17.225605: I tensorflow/core/grappler/optimizers/custom_graph_optimizer_registry.cc:114] Plugin optimizer for device_type GPU is enabled.\n"
     ]
    },
    {
     "name": "stdout",
     "output_type": "stream",
     "text": [
      "2828/2849 [============================>.] - ETA: 0s - loss: 0.0994 - accuracy: 0.9685"
     ]
    },
    {
     "name": "stderr",
     "output_type": "stream",
     "text": [
      "2025-01-30 20:01:23.297349: I tensorflow/core/grappler/optimizers/custom_graph_optimizer_registry.cc:114] Plugin optimizer for device_type GPU is enabled.\n"
     ]
    },
    {
     "name": "stdout",
     "output_type": "stream",
     "text": [
      "2849/2849 [==============================] - 7s 2ms/step - loss: 0.0992 - accuracy: 0.9685 - val_loss: 0.0653 - val_accuracy: 0.9794\n",
      "Epoch 2/3\n",
      "2849/2849 [==============================] - 7s 2ms/step - loss: 0.0539 - accuracy: 0.9819 - val_loss: 0.0476 - val_accuracy: 0.9837\n",
      "Epoch 3/3\n",
      "2849/2849 [==============================] - 7s 2ms/step - loss: 0.0442 - accuracy: 0.9846 - val_loss: 0.0416 - val_accuracy: 0.9852\n",
      " 153/4748 [..............................] - ETA: 4s"
     ]
    },
    {
     "name": "stderr",
     "output_type": "stream",
     "text": [
      "2025-01-30 20:01:38.063004: I tensorflow/core/grappler/optimizers/custom_graph_optimizer_registry.cc:114] Plugin optimizer for device_type GPU is enabled.\n"
     ]
    },
    {
     "name": "stdout",
     "output_type": "stream",
     "text": [
      "4748/4748 [==============================] - 5s 978us/step\n",
      "Confusion Matrix:\n",
      "[[549792   2359]\n",
      " [  6376  49156]]\n",
      "\n",
      "Classification Report:\n",
      "              precision    recall  f1-score   support\n",
      "\n",
      "         0.0       0.99      1.00      0.99    552151\n",
      "         1.0       0.95      0.89      0.92     55532\n",
      "\n",
      "    accuracy                           0.99    607683\n",
      "   macro avg       0.97      0.94      0.96    607683\n",
      "weighted avg       0.99      0.99      0.99    607683\n",
      "\n",
      "\n",
      "Accuracy: 0.9856257292042068\n",
      "Recall: 0.8851833177267161\n",
      "F1 Score: 0.9184003288275243\n",
      "Evaluating Quantum Model\n",
      "====================================================================================================================================\n",
      "Epoch 1/3\n",
      "   1/2849 [..............................] - ETA: 4:48 - loss: 1.9669 - accuracy: 0.1172"
     ]
    },
    {
     "name": "stderr",
     "output_type": "stream",
     "text": [
      "/Users/epameinondasdouros/Personal/Quantum/Code/Final_Project/q_env/lib/python3.10/site-packages/keras/optimizers/optimizer_v2/adam.py:114: UserWarning: The `lr` argument is deprecated, use `learning_rate` instead.\n",
      "  super().__init__(name, **kwargs)\n"
     ]
    },
    {
     "name": "stdout",
     "output_type": "stream",
     "text": [
      "2849/2849 [==============================] - 242s 85ms/step - loss: 0.1263 - accuracy: 0.9563 - val_loss: 0.0670 - val_accuracy: 0.9781\n",
      "Epoch 2/3\n",
      "2849/2849 [==============================] - 246s 86ms/step - loss: 0.0573 - accuracy: 0.9808 - val_loss: 0.0457 - val_accuracy: 0.9825\n",
      "Epoch 3/3\n",
      "2849/2849 [==============================] - 253s 89ms/step - loss: 0.0384 - accuracy: 0.9869 - val_loss: 0.0311 - val_accuracy: 0.9892\n",
      "4748/4748 [==============================] - 127s 27ms/step\n",
      "Confusion Matrix:\n",
      "[[550523   1628]\n",
      " [  4882  50650]]\n",
      "\n",
      "Classification Report:\n",
      "              precision    recall  f1-score   support\n",
      "\n",
      "         0.0       0.99      1.00      0.99    552151\n",
      "         1.0       0.97      0.91      0.94     55532\n",
      "\n",
      "    accuracy                           0.99    607683\n",
      "   macro avg       0.98      0.95      0.97    607683\n",
      "weighted avg       0.99      0.99      0.99    607683\n",
      "\n",
      "\n",
      "Accuracy: 0.9892871776896836\n",
      "Recall: 0.912086724771303\n",
      "F1 Score: 0.9396159910954457\n",
      "====================================================================================================================================\n",
      "Iteration 4\n",
      "Epoch 1/3\n"
     ]
    },
    {
     "name": "stderr",
     "output_type": "stream",
     "text": [
      "/Users/epameinondasdouros/Personal/Quantum/Code/Final_Project/q_env/lib/python3.10/site-packages/keras/optimizers/optimizer_v2/adam.py:114: UserWarning: The `lr` argument is deprecated, use `learning_rate` instead.\n",
      "  super().__init__(name, **kwargs)\n"
     ]
    },
    {
     "name": "stdout",
     "output_type": "stream",
     "text": [
      "  35/2849 [..............................] - ETA: 8s - loss: 0.6020 - accuracy: 0.7908"
     ]
    },
    {
     "name": "stderr",
     "output_type": "stream",
     "text": [
      "2025-01-30 20:16:12.190167: I tensorflow/core/grappler/optimizers/custom_graph_optimizer_registry.cc:114] Plugin optimizer for device_type GPU is enabled.\n"
     ]
    },
    {
     "name": "stdout",
     "output_type": "stream",
     "text": [
      "2841/2849 [============================>.] - ETA: 0s - loss: 0.0825 - accuracy: 0.9738"
     ]
    },
    {
     "name": "stderr",
     "output_type": "stream",
     "text": [
      "2025-01-30 20:16:19.525625: I tensorflow/core/grappler/optimizers/custom_graph_optimizer_registry.cc:114] Plugin optimizer for device_type GPU is enabled.\n"
     ]
    },
    {
     "name": "stdout",
     "output_type": "stream",
     "text": [
      "2849/2849 [==============================] - 9s 3ms/step - loss: 0.0824 - accuracy: 0.9738 - val_loss: 0.0458 - val_accuracy: 0.9834\n",
      "Epoch 2/3\n",
      "2849/2849 [==============================] - 8s 3ms/step - loss: 0.0404 - accuracy: 0.9864 - val_loss: 0.0372 - val_accuracy: 0.9871\n",
      "Epoch 3/3\n",
      "2849/2849 [==============================] - 9s 3ms/step - loss: 0.0353 - accuracy: 0.9882 - val_loss: 0.0347 - val_accuracy: 0.9900\n",
      " 122/4748 [..............................] - ETA: 5s"
     ]
    },
    {
     "name": "stderr",
     "output_type": "stream",
     "text": [
      "2025-01-30 20:16:37.564562: I tensorflow/core/grappler/optimizers/custom_graph_optimizer_registry.cc:114] Plugin optimizer for device_type GPU is enabled.\n"
     ]
    },
    {
     "name": "stdout",
     "output_type": "stream",
     "text": [
      "4748/4748 [==============================] - 6s 1ms/step\n",
      "Confusion Matrix:\n",
      "[[549864   2287]\n",
      " [  3634  51898]]\n",
      "\n",
      "Classification Report:\n",
      "              precision    recall  f1-score   support\n",
      "\n",
      "         0.0       0.99      1.00      0.99    552151\n",
      "         1.0       0.96      0.93      0.95     55532\n",
      "\n",
      "    accuracy                           0.99    607683\n",
      "   macro avg       0.98      0.97      0.97    607683\n",
      "weighted avg       0.99      0.99      0.99    607683\n",
      "\n",
      "\n",
      "Accuracy: 0.9902564330415694\n",
      "Recall: 0.9345602535475042\n",
      "F1 Score: 0.9460338871824786\n",
      "Evaluating Quantum Model\n",
      "====================================================================================================================================\n",
      "Epoch 1/3\n",
      "   1/2849 [..............................] - ETA: 5:04 - loss: 0.3995 - accuracy: 0.8887"
     ]
    },
    {
     "name": "stderr",
     "output_type": "stream",
     "text": [
      "/Users/epameinondasdouros/Personal/Quantum/Code/Final_Project/q_env/lib/python3.10/site-packages/keras/optimizers/optimizer_v2/adam.py:114: UserWarning: The `lr` argument is deprecated, use `learning_rate` instead.\n",
      "  super().__init__(name, **kwargs)\n"
     ]
    },
    {
     "name": "stdout",
     "output_type": "stream",
     "text": [
      "2849/2849 [==============================] - 248s 87ms/step - loss: 0.0753 - accuracy: 0.9763 - val_loss: 0.0440 - val_accuracy: 0.9849\n",
      "Epoch 2/3\n",
      "2849/2849 [==============================] - 253s 89ms/step - loss: 0.0403 - accuracy: 0.9872 - val_loss: 0.0357 - val_accuracy: 0.9887\n",
      "Epoch 3/3\n",
      "2849/2849 [==============================] - 264s 93ms/step - loss: 0.0323 - accuracy: 0.9901 - val_loss: 0.0371 - val_accuracy: 0.9880\n",
      "4748/4748 [==============================] - 123s 26ms/step\n",
      "Confusion Matrix:\n",
      "[[551288    863]\n",
      " [  6449  49083]]\n",
      "\n",
      "Classification Report:\n",
      "              precision    recall  f1-score   support\n",
      "\n",
      "         0.0       0.99      1.00      0.99    552151\n",
      "         1.0       0.98      0.88      0.93     55532\n",
      "\n",
      "    accuracy                           0.99    607683\n",
      "   macro avg       0.99      0.94      0.96    607683\n",
      "weighted avg       0.99      0.99      0.99    607683\n",
      "\n",
      "\n",
      "Accuracy: 0.987967410640087\n",
      "Recall: 0.8838687603543902\n",
      "F1 Score: 0.9306774872485257\n",
      "====================================================================================================================================\n",
      "Iteration 5\n",
      "Epoch 1/3\n"
     ]
    },
    {
     "name": "stderr",
     "output_type": "stream",
     "text": [
      "/Users/epameinondasdouros/Personal/Quantum/Code/Final_Project/q_env/lib/python3.10/site-packages/keras/optimizers/optimizer_v2/adam.py:114: UserWarning: The `lr` argument is deprecated, use `learning_rate` instead.\n",
      "  super().__init__(name, **kwargs)\n"
     ]
    },
    {
     "name": "stdout",
     "output_type": "stream",
     "text": [
      "  35/2849 [..............................] - ETA: 8s - loss: 0.3226 - accuracy: 0.9279"
     ]
    },
    {
     "name": "stderr",
     "output_type": "stream",
     "text": [
      "2025-01-30 20:31:33.538598: I tensorflow/core/grappler/optimizers/custom_graph_optimizer_registry.cc:114] Plugin optimizer for device_type GPU is enabled.\n"
     ]
    },
    {
     "name": "stdout",
     "output_type": "stream",
     "text": [
      "2843/2849 [============================>.] - ETA: 0s - loss: 0.0627 - accuracy: 0.9791"
     ]
    },
    {
     "name": "stderr",
     "output_type": "stream",
     "text": [
      "2025-01-30 20:31:41.027492: I tensorflow/core/grappler/optimizers/custom_graph_optimizer_registry.cc:114] Plugin optimizer for device_type GPU is enabled.\n"
     ]
    },
    {
     "name": "stdout",
     "output_type": "stream",
     "text": [
      "2849/2849 [==============================] - 9s 3ms/step - loss: 0.0626 - accuracy: 0.9791 - val_loss: 0.0401 - val_accuracy: 0.9864\n",
      "Epoch 2/3\n",
      "2849/2849 [==============================] - 8s 3ms/step - loss: 0.0376 - accuracy: 0.9868 - val_loss: 0.0339 - val_accuracy: 0.9854\n",
      "Epoch 3/3\n",
      "2849/2849 [==============================] - 9s 3ms/step - loss: 0.0304 - accuracy: 0.9889 - val_loss: 0.0286 - val_accuracy: 0.9886\n",
      " 120/4748 [..............................] - ETA: 5s"
     ]
    },
    {
     "name": "stderr",
     "output_type": "stream",
     "text": [
      "2025-01-30 20:31:59.288655: I tensorflow/core/grappler/optimizers/custom_graph_optimizer_registry.cc:114] Plugin optimizer for device_type GPU is enabled.\n"
     ]
    },
    {
     "name": "stdout",
     "output_type": "stream",
     "text": [
      "4748/4748 [==============================] - 6s 1ms/step\n",
      "Confusion Matrix:\n",
      "[[550260   1891]\n",
      " [  5071  50461]]\n",
      "\n",
      "Classification Report:\n",
      "              precision    recall  f1-score   support\n",
      "\n",
      "         0.0       0.99      1.00      0.99    552151\n",
      "         1.0       0.96      0.91      0.94     55532\n",
      "\n",
      "    accuracy                           0.99    607683\n",
      "   macro avg       0.98      0.95      0.96    607683\n",
      "weighted avg       0.99      0.99      0.99    607683\n",
      "\n",
      "\n",
      "Accuracy: 0.9885433688288137\n",
      "Recall: 0.9086832817114456\n",
      "F1 Score: 0.9354677245930815\n",
      "Evaluating Quantum Model\n",
      "====================================================================================================================================\n",
      "Epoch 1/3\n",
      "   1/2849 [..............................] - ETA: 5:22 - loss: 0.4073 - accuracy: 0.8438"
     ]
    },
    {
     "name": "stderr",
     "output_type": "stream",
     "text": [
      "/Users/epameinondasdouros/Personal/Quantum/Code/Final_Project/q_env/lib/python3.10/site-packages/keras/optimizers/optimizer_v2/adam.py:114: UserWarning: The `lr` argument is deprecated, use `learning_rate` instead.\n",
      "  super().__init__(name, **kwargs)\n"
     ]
    },
    {
     "name": "stdout",
     "output_type": "stream",
     "text": [
      "2849/2849 [==============================] - 260s 91ms/step - loss: 0.0794 - accuracy: 0.9740 - val_loss: 0.0480 - val_accuracy: 0.9824\n",
      "Epoch 2/3\n",
      "2849/2849 [==============================] - 250s 88ms/step - loss: 0.0447 - accuracy: 0.9848 - val_loss: 0.0442 - val_accuracy: 0.9870\n",
      "Epoch 3/3\n",
      "2849/2849 [==============================] - 249s 87ms/step - loss: 0.0381 - accuracy: 0.9876 - val_loss: 0.0382 - val_accuracy: 0.9881\n",
      "4748/4748 [==============================] - 115s 24ms/step\n",
      "Confusion Matrix:\n",
      "[[548077   4074]\n",
      " [  3058  52474]]\n",
      "\n",
      "Classification Report:\n",
      "              precision    recall  f1-score   support\n",
      "\n",
      "         0.0       0.99      0.99      0.99    552151\n",
      "         1.0       0.93      0.94      0.94     55532\n",
      "\n",
      "    accuracy                           0.99    607683\n",
      "   macro avg       0.96      0.97      0.96    607683\n",
      "weighted avg       0.99      0.99      0.99    607683\n",
      "\n",
      "\n",
      "Accuracy: 0.9882636177085751\n",
      "Recall: 0.9449326514442123\n",
      "F1 Score: 0.936366880799429\n",
      "====================================================================================================================================\n"
     ]
    }
   ],
   "source": [
    "import os\n",
    "import json\n",
    "os.makedirs(\"../experiment_4\", exist_ok=True) \n",
    "for i in range(5):\n",
    "    print(f\"Iteration {i+1}\")\n",
    "\n",
    "    # Classic model\n",
    "    classic_model = Sequential([\n",
    "        Dense(4, activation=tf.nn.relu, input_shape=(X_train.shape[1],)),\n",
    "        Dense(2, activation=tf.nn.softmax)\n",
    "    ])\n",
    "    classic_model.compile(optimizer=Adam(lr=0.01), loss='sparse_categorical_crossentropy', metrics=['accuracy'])\n",
    "    with tf.device('/CPU:0'):\n",
    "        classical_history=classic_model.fit(X_train, y_train, validation_split=0.2, batch_size=512, epochs=3, shuffle=True, verbose=1)\n",
    "    eval.evaluate_model(classic_model, X_test, y_test)\n",
    "    # Save entire model (architecture + weights)\n",
    "    classic_model.save(f\"../experiment_4/classic_model_iteration_{i+1}.h5\")\n",
    "    # Save only the weights\n",
    "    classic_model.save_weights(f\"../experiment_4/classic_model_iteration_{i+1}_weights.h5\")\n",
    "    \n",
    "        # Save training history as JSON\n",
    "    with open(f\"../experiment_4/classic_model_iteration_{i+1}_history.json\", \"w\") as f:\n",
    "        json.dump(classical_history.history, f)\n",
    "    print(\"Evaluating Quantum Model\")\n",
    "    print(\"====================================================================================================================================\")\n",
    "\n",
    "\n",
    "\n",
    "    quantum_model = Sequential([\n",
    "        Dense(4, activation=tf.nn.relu, input_shape=(X_train.shape[1],)),\n",
    "        qlayer,\n",
    "        Dense(2, activation=tf.nn.softmax)\n",
    "    ])\n",
    "\n",
    "    quantum_model.compile(optimizer=Adam(lr=0.01), loss='sparse_categorical_crossentropy', metrics=['accuracy'])\n",
    "\n",
    "\n",
    "    with tf.device('/CPU:0'):\n",
    "        quantum_history=quantum_model.fit(X_train, y_train, validation_split=0.2, batch_size=512, epochs=3, shuffle=True, verbose=1)\n",
    "    \n",
    "    eval.evaluate_model(quantum_model, X_test, y_test)\n",
    "    \n",
    "    # Save entire model\n",
    "    quantum_model.save(f\"../experiment_4/quantum_model_iteration_{i+1}.h5\")\n",
    "    # Save only the weights\n",
    "    quantum_model.save_weights(f\"../experiment_4/quantum_model_iteration_{i+1}_weights.h5\")\n",
    "\n",
    "    # Save training history as JSON\n",
    "    with open(f\"../experiment_4/quantum_model_iteration_{i+1}_history.json\", \"w\") as f:\n",
    "        json.dump(quantum_history.history, f)\n",
    "    \n",
    "    print(\"====================================================================================================================================\")\n"
   ]
  },
  {
   "cell_type": "code",
   "execution_count": 350,
   "metadata": {},
   "outputs": [],
   "source": [
    "import pandas as pd\n",
    "\n",
    "# Assuming X_train, Y_train, and X_test are your datasets\n",
    "# Convert them to DataFrames if they are not already\n",
    "X_train_df = pd.DataFrame(X_train)\n",
    "Y_train_df = pd.DataFrame(y_train)\n",
    "X_test_df = pd.DataFrame(X_test)\n",
    "y_test_df = pd.DataFrame(y_test)\n",
    "# Save the datasets to CSV files\n",
    "\n",
    "X_train_df.to_csv('X_train.csv', index=False)\n",
    "Y_train_df.to_csv('y_train.csv', index=False)\n",
    "X_test_df.to_csv('X_test.csv', index=False)\n",
    "y_test_df.to_csv('y_test.csv', index=False)"
   ]
  },
  {
   "cell_type": "code",
   "execution_count": null,
   "metadata": {},
   "outputs": [],
   "source": []
  }
 ],
 "metadata": {
  "colab": {
   "collapsed_sections": [
    "Yo1otV9u0F4a",
    "Yfvr2rKyVoo6",
    "JSp9UlZkVoo8"
   ],
   "provenance": []
  },
  "kernelspec": {
   "display_name": "q_env",
   "language": "python",
   "name": "python3"
  },
  "language_info": {
   "codemirror_mode": {
    "name": "ipython",
    "version": 3
   },
   "file_extension": ".py",
   "mimetype": "text/x-python",
   "name": "python",
   "nbconvert_exporter": "python",
   "pygments_lexer": "ipython3",
   "version": "3.10.16"
  }
 },
 "nbformat": 4,
 "nbformat_minor": 0
}
