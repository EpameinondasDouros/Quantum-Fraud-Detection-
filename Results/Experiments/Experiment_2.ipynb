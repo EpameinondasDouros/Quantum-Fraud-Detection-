{
 "cells": [
  {
   "cell_type": "markdown",
   "metadata": {
    "id": "3O8Wyxz-t9Jk"
   },
   "source": [
    "# Initialize"
   ]
  },
  {
   "cell_type": "code",
   "execution_count": 1,
   "metadata": {
    "id": "WJQzZyIDNhac"
   },
   "outputs": [],
   "source": [
    "import numpy as np\n",
    "import pandas as pd\n",
    "import tensorflow as tf\n",
    "import matplotlib.pyplot as plt\n",
    "import seaborn as sns\n",
    "\n",
    "# Classifier Libraries\n",
    "import keras\n",
    "from keras.models import Sequential\n",
    "from keras.layers import Activation\n",
    "from keras.layers.core import Dense\n",
    "from keras.optimizers import Adam\n",
    "from keras.metrics import categorical_crossentropy\n",
    "\n",
    "# Other Libraries\n",
    "from sklearn.model_selection import train_test_split\n",
    "from sklearn.metrics import confusion_matrix\n",
    "\n",
    "import tensorflow as tf\n",
    "\n",
    "import pandas as pd\n",
    "import matplotlib.pyplot as plt\n",
    "import seaborn as sns\n",
    "import pennylane as qml\n",
    "from pennylane import numpy as np\n",
    "from tensorflow.keras.models import Model, Sequential\n",
    "from tensorflow.keras.layers import Dropout\n",
    "\n",
    "from sklearn.metrics import confusion_matrix, classification_report\n",
    "import numpy as np"
   ]
  },
  {
   "cell_type": "code",
   "execution_count": 2,
   "metadata": {},
   "outputs": [
    {
     "data": {
      "text/plain": [
       "<module 'Scripts.data_process_utils' from \"/Users/epameinondasdouros/Personal/Quantum/Code/Final_Project/Notebook_Models/Pennylane_Models/Don't Touch/Model_Final_Pennylane_Keras_QNN_11_Features_6M_DS/Scripts/data_process_utils.py\">"
      ]
     },
     "execution_count": 2,
     "metadata": {},
     "output_type": "execute_result"
    }
   ],
   "source": [
    "import sys\n",
    "import importlib\n",
    "\n",
    "# Add the parent directory to sys.path\n",
    "sys.path.append(\"..\")\n",
    "\n",
    "# Import and reload the module\n",
    "import Scripts.data_process_utils as dpu\n",
    "importlib.reload(dpu)"
   ]
  },
  {
   "cell_type": "code",
   "execution_count": 3,
   "metadata": {},
   "outputs": [
    {
     "data": {
      "text/plain": [
       "<module 'Scripts.evaluation_functions' from \"/Users/epameinondasdouros/Personal/Quantum/Code/Final_Project/Notebook_Models/Pennylane_Models/Don't Touch/Model_Final_Pennylane_Keras_QNN_11_Features_6M_DS/Scripts/evaluation_functions.py\">"
      ]
     },
     "execution_count": 3,
     "metadata": {},
     "output_type": "execute_result"
    }
   ],
   "source": [
    "import Scripts.evaluation_functions as eval\n",
    "import importlib\n",
    "importlib.reload(eval)"
   ]
  },
  {
   "cell_type": "markdown",
   "metadata": {
    "id": "6sVBiNR_uFAc"
   },
   "source": [
    "# Data Loading"
   ]
  },
  {
   "cell_type": "code",
   "execution_count": 5,
   "metadata": {
    "id": "X-Rr1JQUuftw"
   },
   "outputs": [
    {
     "data": {
      "text/html": [
       "<div>\n",
       "<style scoped>\n",
       "    .dataframe tbody tr th:only-of-type {\n",
       "        vertical-align: middle;\n",
       "    }\n",
       "\n",
       "    .dataframe tbody tr th {\n",
       "        vertical-align: top;\n",
       "    }\n",
       "\n",
       "    .dataframe thead th {\n",
       "        text-align: right;\n",
       "    }\n",
       "</style>\n",
       "<table border=\"1\" class=\"dataframe\">\n",
       "  <thead>\n",
       "    <tr style=\"text-align: right;\">\n",
       "      <th></th>\n",
       "      <th>step</th>\n",
       "      <th>amount</th>\n",
       "      <th>oldbalanceOrg</th>\n",
       "      <th>newbalanceOrig</th>\n",
       "      <th>oldbalanceDest</th>\n",
       "      <th>newbalanceDest</th>\n",
       "      <th>isFraud</th>\n",
       "      <th>isFlaggedFraud</th>\n",
       "    </tr>\n",
       "  </thead>\n",
       "  <tbody>\n",
       "    <tr>\n",
       "      <th>count</th>\n",
       "      <td>6.362620e+06</td>\n",
       "      <td>6.362620e+06</td>\n",
       "      <td>6.362620e+06</td>\n",
       "      <td>6.362620e+06</td>\n",
       "      <td>6.362620e+06</td>\n",
       "      <td>6.362620e+06</td>\n",
       "      <td>6.362620e+06</td>\n",
       "      <td>6.362620e+06</td>\n",
       "    </tr>\n",
       "    <tr>\n",
       "      <th>mean</th>\n",
       "      <td>2.433972e+02</td>\n",
       "      <td>1.798619e+05</td>\n",
       "      <td>8.338831e+05</td>\n",
       "      <td>8.551137e+05</td>\n",
       "      <td>1.100702e+06</td>\n",
       "      <td>1.224996e+06</td>\n",
       "      <td>1.290820e-03</td>\n",
       "      <td>2.514687e-06</td>\n",
       "    </tr>\n",
       "    <tr>\n",
       "      <th>std</th>\n",
       "      <td>1.423320e+02</td>\n",
       "      <td>6.038582e+05</td>\n",
       "      <td>2.888243e+06</td>\n",
       "      <td>2.924049e+06</td>\n",
       "      <td>3.399180e+06</td>\n",
       "      <td>3.674129e+06</td>\n",
       "      <td>3.590480e-02</td>\n",
       "      <td>1.585775e-03</td>\n",
       "    </tr>\n",
       "    <tr>\n",
       "      <th>min</th>\n",
       "      <td>1.000000e+00</td>\n",
       "      <td>0.000000e+00</td>\n",
       "      <td>0.000000e+00</td>\n",
       "      <td>0.000000e+00</td>\n",
       "      <td>0.000000e+00</td>\n",
       "      <td>0.000000e+00</td>\n",
       "      <td>0.000000e+00</td>\n",
       "      <td>0.000000e+00</td>\n",
       "    </tr>\n",
       "    <tr>\n",
       "      <th>25%</th>\n",
       "      <td>1.560000e+02</td>\n",
       "      <td>1.338957e+04</td>\n",
       "      <td>0.000000e+00</td>\n",
       "      <td>0.000000e+00</td>\n",
       "      <td>0.000000e+00</td>\n",
       "      <td>0.000000e+00</td>\n",
       "      <td>0.000000e+00</td>\n",
       "      <td>0.000000e+00</td>\n",
       "    </tr>\n",
       "    <tr>\n",
       "      <th>50%</th>\n",
       "      <td>2.390000e+02</td>\n",
       "      <td>7.487194e+04</td>\n",
       "      <td>1.420800e+04</td>\n",
       "      <td>0.000000e+00</td>\n",
       "      <td>1.327057e+05</td>\n",
       "      <td>2.146614e+05</td>\n",
       "      <td>0.000000e+00</td>\n",
       "      <td>0.000000e+00</td>\n",
       "    </tr>\n",
       "    <tr>\n",
       "      <th>75%</th>\n",
       "      <td>3.350000e+02</td>\n",
       "      <td>2.087215e+05</td>\n",
       "      <td>1.073152e+05</td>\n",
       "      <td>1.442584e+05</td>\n",
       "      <td>9.430367e+05</td>\n",
       "      <td>1.111909e+06</td>\n",
       "      <td>0.000000e+00</td>\n",
       "      <td>0.000000e+00</td>\n",
       "    </tr>\n",
       "    <tr>\n",
       "      <th>max</th>\n",
       "      <td>7.430000e+02</td>\n",
       "      <td>9.244552e+07</td>\n",
       "      <td>5.958504e+07</td>\n",
       "      <td>4.958504e+07</td>\n",
       "      <td>3.560159e+08</td>\n",
       "      <td>3.561793e+08</td>\n",
       "      <td>1.000000e+00</td>\n",
       "      <td>1.000000e+00</td>\n",
       "    </tr>\n",
       "  </tbody>\n",
       "</table>\n",
       "</div>"
      ],
      "text/plain": [
       "               step        amount  oldbalanceOrg  newbalanceOrig  \\\n",
       "count  6.362620e+06  6.362620e+06   6.362620e+06    6.362620e+06   \n",
       "mean   2.433972e+02  1.798619e+05   8.338831e+05    8.551137e+05   \n",
       "std    1.423320e+02  6.038582e+05   2.888243e+06    2.924049e+06   \n",
       "min    1.000000e+00  0.000000e+00   0.000000e+00    0.000000e+00   \n",
       "25%    1.560000e+02  1.338957e+04   0.000000e+00    0.000000e+00   \n",
       "50%    2.390000e+02  7.487194e+04   1.420800e+04    0.000000e+00   \n",
       "75%    3.350000e+02  2.087215e+05   1.073152e+05    1.442584e+05   \n",
       "max    7.430000e+02  9.244552e+07   5.958504e+07    4.958504e+07   \n",
       "\n",
       "       oldbalanceDest  newbalanceDest       isFraud  isFlaggedFraud  \n",
       "count    6.362620e+06    6.362620e+06  6.362620e+06    6.362620e+06  \n",
       "mean     1.100702e+06    1.224996e+06  1.290820e-03    2.514687e-06  \n",
       "std      3.399180e+06    3.674129e+06  3.590480e-02    1.585775e-03  \n",
       "min      0.000000e+00    0.000000e+00  0.000000e+00    0.000000e+00  \n",
       "25%      0.000000e+00    0.000000e+00  0.000000e+00    0.000000e+00  \n",
       "50%      1.327057e+05    2.146614e+05  0.000000e+00    0.000000e+00  \n",
       "75%      9.430367e+05    1.111909e+06  0.000000e+00    0.000000e+00  \n",
       "max      3.560159e+08    3.561793e+08  1.000000e+00    1.000000e+00  "
      ]
     },
     "execution_count": 5,
     "metadata": {},
     "output_type": "execute_result"
    }
   ],
   "source": [
    "finance_df=pd.read_csv(\"../../../.././Datasets/PS_20174392719_1491204439457_log.csv\",delimiter=',')\n",
    "finance_df.describe()"
   ]
  },
  {
   "cell_type": "code",
   "execution_count": 6,
   "metadata": {},
   "outputs": [
    {
     "name": "stderr",
     "output_type": "stream",
     "text": [
      "/var/folders/_2/qt54y181481c0ncq4fj6g0940000gn/T/ipykernel_50699/2776949306.py:5: DeprecationWarning: DataFrameGroupBy.apply operated on the grouping columns. This behavior is deprecated, and in a future version of pandas the grouping columns will be excluded from the operation. Either pass `include_groups=False` to exclude the groupings or explicitly select the grouping columns after groupby to silence this warning.\n",
      "  df_sampled = df.groupby('step', group_keys=False).apply(lambda x: x.sample(frac=0.75, random_state=42))\n"
     ]
    },
    {
     "data": {
      "text/html": [
       "<div>\n",
       "<style scoped>\n",
       "    .dataframe tbody tr th:only-of-type {\n",
       "        vertical-align: middle;\n",
       "    }\n",
       "\n",
       "    .dataframe tbody tr th {\n",
       "        vertical-align: top;\n",
       "    }\n",
       "\n",
       "    .dataframe thead th {\n",
       "        text-align: right;\n",
       "    }\n",
       "</style>\n",
       "<table border=\"1\" class=\"dataframe\">\n",
       "  <thead>\n",
       "    <tr style=\"text-align: right;\">\n",
       "      <th></th>\n",
       "      <th>step</th>\n",
       "      <th>type</th>\n",
       "      <th>amount</th>\n",
       "      <th>nameOrig</th>\n",
       "      <th>oldbalanceOrg</th>\n",
       "      <th>newbalanceOrig</th>\n",
       "      <th>nameDest</th>\n",
       "      <th>oldbalanceDest</th>\n",
       "      <th>newbalanceDest</th>\n",
       "      <th>isFraud</th>\n",
       "      <th>isFlaggedFraud</th>\n",
       "    </tr>\n",
       "  </thead>\n",
       "  <tbody>\n",
       "    <tr>\n",
       "      <th>0</th>\n",
       "      <td>402</td>\n",
       "      <td>PAYMENT</td>\n",
       "      <td>2293.60</td>\n",
       "      <td>C357857862</td>\n",
       "      <td>82351.00</td>\n",
       "      <td>80057.40</td>\n",
       "      <td>M1737315637</td>\n",
       "      <td>0.00</td>\n",
       "      <td>0.00</td>\n",
       "      <td>0</td>\n",
       "      <td>0</td>\n",
       "    </tr>\n",
       "    <tr>\n",
       "      <th>1</th>\n",
       "      <td>226</td>\n",
       "      <td>CASH_OUT</td>\n",
       "      <td>112620.18</td>\n",
       "      <td>C1690757109</td>\n",
       "      <td>128.00</td>\n",
       "      <td>0.00</td>\n",
       "      <td>C1858194355</td>\n",
       "      <td>0.00</td>\n",
       "      <td>112620.18</td>\n",
       "      <td>0</td>\n",
       "      <td>0</td>\n",
       "    </tr>\n",
       "    <tr>\n",
       "      <th>2</th>\n",
       "      <td>202</td>\n",
       "      <td>TRANSFER</td>\n",
       "      <td>41450.02</td>\n",
       "      <td>C186607867</td>\n",
       "      <td>7761.00</td>\n",
       "      <td>0.00</td>\n",
       "      <td>C996190755</td>\n",
       "      <td>0.00</td>\n",
       "      <td>41450.02</td>\n",
       "      <td>0</td>\n",
       "      <td>0</td>\n",
       "    </tr>\n",
       "    <tr>\n",
       "      <th>3</th>\n",
       "      <td>300</td>\n",
       "      <td>CASH_OUT</td>\n",
       "      <td>88887.47</td>\n",
       "      <td>C997373544</td>\n",
       "      <td>283.00</td>\n",
       "      <td>0.00</td>\n",
       "      <td>C247732967</td>\n",
       "      <td>2395169.12</td>\n",
       "      <td>2484056.59</td>\n",
       "      <td>0</td>\n",
       "      <td>0</td>\n",
       "    </tr>\n",
       "    <tr>\n",
       "      <th>4</th>\n",
       "      <td>235</td>\n",
       "      <td>TRANSFER</td>\n",
       "      <td>1059586.98</td>\n",
       "      <td>C1898581284</td>\n",
       "      <td>2010.00</td>\n",
       "      <td>0.00</td>\n",
       "      <td>C418902856</td>\n",
       "      <td>2456601.85</td>\n",
       "      <td>3516188.82</td>\n",
       "      <td>0</td>\n",
       "      <td>0</td>\n",
       "    </tr>\n",
       "    <tr>\n",
       "      <th>...</th>\n",
       "      <td>...</td>\n",
       "      <td>...</td>\n",
       "      <td>...</td>\n",
       "      <td>...</td>\n",
       "      <td>...</td>\n",
       "      <td>...</td>\n",
       "      <td>...</td>\n",
       "      <td>...</td>\n",
       "      <td>...</td>\n",
       "      <td>...</td>\n",
       "      <td>...</td>\n",
       "    </tr>\n",
       "    <tr>\n",
       "      <th>1908781</th>\n",
       "      <td>400</td>\n",
       "      <td>CASH_IN</td>\n",
       "      <td>199255.80</td>\n",
       "      <td>C1443439100</td>\n",
       "      <td>92106.00</td>\n",
       "      <td>291361.80</td>\n",
       "      <td>C63022763</td>\n",
       "      <td>0.00</td>\n",
       "      <td>0.00</td>\n",
       "      <td>0</td>\n",
       "      <td>0</td>\n",
       "    </tr>\n",
       "    <tr>\n",
       "      <th>1908782</th>\n",
       "      <td>355</td>\n",
       "      <td>CASH_OUT</td>\n",
       "      <td>344019.25</td>\n",
       "      <td>C736748207</td>\n",
       "      <td>0.00</td>\n",
       "      <td>0.00</td>\n",
       "      <td>C1239114523</td>\n",
       "      <td>998029.93</td>\n",
       "      <td>1342049.18</td>\n",
       "      <td>0</td>\n",
       "      <td>0</td>\n",
       "    </tr>\n",
       "    <tr>\n",
       "      <th>1908783</th>\n",
       "      <td>276</td>\n",
       "      <td>CASH_IN</td>\n",
       "      <td>145108.10</td>\n",
       "      <td>C2144495050</td>\n",
       "      <td>11321.00</td>\n",
       "      <td>156429.10</td>\n",
       "      <td>C1494206372</td>\n",
       "      <td>278152.44</td>\n",
       "      <td>133044.34</td>\n",
       "      <td>0</td>\n",
       "      <td>0</td>\n",
       "    </tr>\n",
       "    <tr>\n",
       "      <th>1908784</th>\n",
       "      <td>37</td>\n",
       "      <td>CASH_OUT</td>\n",
       "      <td>189165.99</td>\n",
       "      <td>C251177355</td>\n",
       "      <td>0.00</td>\n",
       "      <td>0.00</td>\n",
       "      <td>C1815144574</td>\n",
       "      <td>817453.72</td>\n",
       "      <td>1006619.71</td>\n",
       "      <td>0</td>\n",
       "      <td>0</td>\n",
       "    </tr>\n",
       "    <tr>\n",
       "      <th>1908785</th>\n",
       "      <td>352</td>\n",
       "      <td>PAYMENT</td>\n",
       "      <td>2244.92</td>\n",
       "      <td>C1838675708</td>\n",
       "      <td>126298.93</td>\n",
       "      <td>124054.02</td>\n",
       "      <td>M448658865</td>\n",
       "      <td>0.00</td>\n",
       "      <td>0.00</td>\n",
       "      <td>0</td>\n",
       "      <td>0</td>\n",
       "    </tr>\n",
       "  </tbody>\n",
       "</table>\n",
       "<p>1908786 rows × 11 columns</p>\n",
       "</div>"
      ],
      "text/plain": [
       "         step      type      amount     nameOrig  oldbalanceOrg  \\\n",
       "0         402   PAYMENT     2293.60   C357857862       82351.00   \n",
       "1         226  CASH_OUT   112620.18  C1690757109         128.00   \n",
       "2         202  TRANSFER    41450.02   C186607867        7761.00   \n",
       "3         300  CASH_OUT    88887.47   C997373544         283.00   \n",
       "4         235  TRANSFER  1059586.98  C1898581284        2010.00   \n",
       "...       ...       ...         ...          ...            ...   \n",
       "1908781   400   CASH_IN   199255.80  C1443439100       92106.00   \n",
       "1908782   355  CASH_OUT   344019.25   C736748207           0.00   \n",
       "1908783   276   CASH_IN   145108.10  C2144495050       11321.00   \n",
       "1908784    37  CASH_OUT   189165.99   C251177355           0.00   \n",
       "1908785   352   PAYMENT     2244.92  C1838675708      126298.93   \n",
       "\n",
       "         newbalanceOrig     nameDest  oldbalanceDest  newbalanceDest  isFraud  \\\n",
       "0              80057.40  M1737315637            0.00            0.00        0   \n",
       "1                  0.00  C1858194355            0.00       112620.18        0   \n",
       "2                  0.00   C996190755            0.00        41450.02        0   \n",
       "3                  0.00   C247732967      2395169.12      2484056.59        0   \n",
       "4                  0.00   C418902856      2456601.85      3516188.82        0   \n",
       "...                 ...          ...             ...             ...      ...   \n",
       "1908781       291361.80    C63022763            0.00            0.00        0   \n",
       "1908782            0.00  C1239114523       998029.93      1342049.18        0   \n",
       "1908783       156429.10  C1494206372       278152.44       133044.34        0   \n",
       "1908784            0.00  C1815144574       817453.72      1006619.71        0   \n",
       "1908785       124054.02   M448658865            0.00            0.00        0   \n",
       "\n",
       "         isFlaggedFraud  \n",
       "0                     0  \n",
       "1                     0  \n",
       "2                     0  \n",
       "3                     0  \n",
       "4                     0  \n",
       "...                 ...  \n",
       "1908781               0  \n",
       "1908782               0  \n",
       "1908783               0  \n",
       "1908784               0  \n",
       "1908785               0  \n",
       "\n",
       "[1908786 rows x 11 columns]"
      ]
     },
     "execution_count": 6,
     "metadata": {},
     "output_type": "execute_result"
    }
   ],
   "source": [
    "df=finance_df\n",
    "\n",
    "num_samples = int(len(df) * 0.30)\n",
    "\n",
    "df_sampled = df.groupby('step', group_keys=False).apply(lambda x: x.sample(frac=0.75, random_state=42))\n",
    "\n",
    "df_sampled = df_sampled.sample(n=num_samples, random_state=42).reset_index(drop=True)\n",
    "\n",
    "df_sampled"
   ]
  },
  {
   "cell_type": "markdown",
   "metadata": {
    "id": "U867drFEDOAX"
   },
   "source": [
    "### Cleaning"
   ]
  },
  {
   "cell_type": "code",
   "execution_count": null,
   "metadata": {},
   "outputs": [
    {
     "name": "stderr",
     "output_type": "stream",
     "text": [
      "/var/folders/_2/qt54y181481c0ncq4fj6g0940000gn/T/ipykernel_50699/2877776214.py:8: SettingWithCopyWarning: \n",
      "A value is trying to be set on a copy of a slice from a DataFrame\n",
      "\n",
      "See the caveats in the documentation: https://pandas.pydata.org/pandas-docs/stable/user_guide/indexing.html#returning-a-view-versus-a-copy\n",
      "  df_cleaned.drop(columns=['nameOrig','nameDest','isFlaggedFraud'],inplace=True)\n",
      "/var/folders/_2/qt54y181481c0ncq4fj6g0940000gn/T/ipykernel_50699/2877776214.py:9: SettingWithCopyWarning: \n",
      "A value is trying to be set on a copy of a slice from a DataFrame.\n",
      "Try using .loc[row_indexer,col_indexer] = value instead\n",
      "\n",
      "See the caveats in the documentation: https://pandas.pydata.org/pandas-docs/stable/user_guide/indexing.html#returning-a-view-versus-a-copy\n",
      "  df_cleaned['type'] = finance_df['type'].map({'CASH_OUT': 0, 'TRANSFER': 1})\n"
     ]
    },
    {
     "name": "stdout",
     "output_type": "stream",
     "text": [
      "After SMOTE - Fraudulent: 82810, Fraud Percentage: 9.09%\n"
     ]
    }
   ],
   "source": [
    "from sklearn.preprocessing import StandardScaler\n",
    "\n",
    "scaler = StandardScaler()\n",
    "\n",
    "finance_df = df_sampled\n",
    "\n",
    "df_cleaned = finance_df.loc[(finance_df['type'].isin(['CASH_OUT', 'TRANSFER'])),:]\n",
    "df_cleaned.drop(columns=['nameOrig','nameDest','isFlaggedFraud'],inplace=True)\n",
    "df_cleaned['type'] = finance_df['type'].map({'CASH_OUT': 0, 'TRANSFER': 1})\n",
    "\n",
    "df_smote_balanced = dpu.balance_with_smote(df_cleaned, target_col='isFraud', smote_ratio=0.1, random_state=42)\n",
    "fraud_count_smote, fraud_percentage_smote = dpu.count_fraud_percentage(df_smote_balanced)\n",
    "print(f\"After SMOTE - Fraudulent: {fraud_count_smote}, Fraud Percentage: {fraud_percentage_smote:.2f}%\")\n",
    "\n",
    "final_df=df_smote_balanced\n",
    "\n",
    "final_df = final_df.sort_values(by='step').astype(float)\n",
    "\n",
    "df=final_df\n",
    "\n",
    "y = df['isFraud']\n",
    "X = df.drop(columns=['isFraud'])\n",
    "\n",
    "\n",
    "X_train, X_test, y_train, y_test = train_test_split(X, y, test_size=0.2, random_state=42)\n",
    "# Fit only on training data\n",
    "scaler = StandardScaler()\n",
    "X_train = scaler.fit_transform(X_train)  # ✅ Fit only on train\n",
    "X_test = scaler.transform(X_test)  # ✅ Use same scaler but don't fit again"
   ]
  },
  {
   "cell_type": "code",
   "execution_count": 8,
   "metadata": {
    "id": "l-8nvNcAxPSx"
   },
   "outputs": [
    {
     "data": {
      "text/plain": [
       "(728735, 7)"
      ]
     },
     "execution_count": 8,
     "metadata": {},
     "output_type": "execute_result"
    }
   ],
   "source": [
    "X_train.shape"
   ]
  },
  {
   "cell_type": "code",
   "execution_count": 9,
   "metadata": {
    "id": "yzfPUx3pI1TM"
   },
   "outputs": [
    {
     "data": {
      "text/plain": [
       "isFraud\n",
       "0.0    662349\n",
       "1.0     66386\n",
       "Name: count, dtype: int64"
      ]
     },
     "execution_count": 9,
     "metadata": {},
     "output_type": "execute_result"
    }
   ],
   "source": [
    "y_train.value_counts()"
   ]
  },
  {
   "cell_type": "markdown",
   "metadata": {
    "id": "Yfvr2rKyVoo6"
   },
   "source": [
    "Defining a QNode\n",
    "================\n",
    "\n"
   ]
  },
  {
   "cell_type": "code",
   "execution_count": 10,
   "metadata": {
    "id": "yh-w7YZEVoo6"
   },
   "outputs": [],
   "source": [
    "import pennylane as qml\n",
    "import numpy as np\n",
    "\n",
    "n_qubits = 3\n",
    "dev = qml.device(\"default.qubit\", wires=n_qubits+1)\n",
    "\n",
    "from itertools import combinations\n",
    "\n",
    "def custom_layer(weights, n_qubits):\n",
    "    index = 0  # Initialize index to track unique weights\n",
    "\n",
    "    # Apply first set of RY gates\n",
    "    for i in range(n_qubits + 1):\n",
    "        qml.RY(weights[index], wires=i)\n",
    "        index += 1  # Increment index\n",
    "\n",
    "    # Apply first set of CNOT gates\n",
    "    pairs = [(0, 1), (1, 2), (2, 3), (3, 0)]\n",
    "    for pair in pairs:\n",
    "        qml.CNOT(wires=pair)\n",
    "\n",
    "    # Apply second set of RY gates\n",
    "    for i in range(n_qubits + 1):\n",
    "        qml.RY(weights[index], wires=i)\n",
    "        index += 1  # Increment index\n",
    "\n",
    "    # Apply second set of CNOT gates\n",
    "    pairs = [(0, 2), (2, 0)]\n",
    "    for pair in pairs:\n",
    "        qml.CNOT(wires=pair)\n",
    "\n",
    "    # Apply RY gates on qubit 3\n",
    "    qml.RY(weights[index], wires=3)\n",
    "    index += 1  # Increment index\n",
    "    qml.RY(weights[index], wires=3)\n",
    "    index += 1  # Increment index\n",
    "\n",
    "    # Apply nested RY gates for two layers\n",
    "    for j in range(2):\n",
    "        for i in range(n_qubits):\n",
    "            qml.RY(weights[index], wires=i)\n",
    "            index += 1  # Increment index\n",
    "\n",
    "    # Apply third set of CNOT gates\n",
    "    pairs = [(0, 1), (1, 2), (2, 3), (3, 0)]\n",
    "    for pair in pairs:\n",
    "        qml.CNOT(wires=pair)\n",
    "\n",
    "    # Apply final set of RZ gates\n",
    "    for i in range(n_qubits + 1):\n",
    "        qml.RZ(weights[index], wires=i)\n",
    "        index += 1  # Increment index\n",
    "\n",
    "@qml.qnode(dev)\n",
    "def qnode(inputs, weights):\n",
    "    qml.AngleEmbedding(inputs, wires=range(n_qubits+1))\n",
    "    # print(\"AAAAAAAAAAAAAAAAAAAAA\")\n",
    "    # i=0\n",
    "    for w in weights:\n",
    "        # print(i)\n",
    "        custom_layer(w,n_qubits)\n",
    "        # i+=1\n",
    "    outputs = [qml.expval(qml.PauliZ(wires=i)) for i in range(n_qubits)]\n",
    "    return outputs\n"
   ]
  },
  {
   "cell_type": "code",
   "execution_count": 11,
   "metadata": {
    "id": "O8kX3ELU6OH7"
   },
   "outputs": [],
   "source": [
    "import pennylane as qml\n",
    "import numpy as np\n",
    "\n",
    "n_qubits = 3\n",
    "dev = qml.device(\"default.qubit\", wires=n_qubits+1)\n",
    "\n",
    "from itertools import combinations\n",
    "\n",
    "def custom_layer_long(weights, n_qubits):\n",
    "    index = 0  # Start index for weights\n",
    "\n",
    "    # First block of RY\n",
    "    for i in range(n_qubits + 1):\n",
    "        qml.RY(weights[index], wires=i)\n",
    "        index += 1\n",
    "\n",
    "    # First set of CNOT pairs\n",
    "    pairs = [(0, 1), (1, 2), (2, 3), (3, 0)]\n",
    "    for pair in pairs:\n",
    "        qml.CNOT(wires=pair)\n",
    "\n",
    "    # Second block of RY\n",
    "    for i in range(n_qubits + 1):\n",
    "        qml.RY(weights[index], wires=i)\n",
    "        index += 1\n",
    "\n",
    "    # Second set of CNOT pairs\n",
    "    pairs = [(0, 2), (2, 0)]\n",
    "    for pair in pairs:\n",
    "        qml.CNOT(wires=pair)\n",
    "\n",
    "    # Third block of RY (single qubit repeated)\n",
    "    qml.RY(weights[index], wires=3)\n",
    "    index += 1\n",
    "    qml.RY(weights[index], wires=3)\n",
    "    index += 1\n",
    "\n",
    "    # Nested loop of RY\n",
    "    for j in range(2):\n",
    "        for i in range(n_qubits):\n",
    "            qml.RY(weights[index], wires=i)\n",
    "            index += 1\n",
    "\n",
    "    # Third set of CNOT pairs\n",
    "    pairs = [(0, 1), (1, 2), (2, 3), (3, 0)]\n",
    "    for pair in pairs:\n",
    "        qml.CNOT(wires=pair)\n",
    "\n",
    "    # First block of RZ\n",
    "    for i in range(n_qubits + 1):\n",
    "        qml.RZ(weights[index], wires=i)\n",
    "        index += 1\n",
    "\n",
    "    # Fourth set of CNOT pairs\n",
    "    pairs = [(0, 2), (2, 0)]\n",
    "    for pair in pairs:\n",
    "        qml.CNOT(wires=pair)\n",
    "\n",
    "    # Fourth block of RY (single qubit repeated)\n",
    "    qml.RY(weights[index], wires=3)\n",
    "    index += 1\n",
    "    qml.RY(weights[index], wires=3)\n",
    "    index += 1\n",
    "\n",
    "    # Second block of RZ\n",
    "    for i in range(n_qubits):\n",
    "        qml.RZ(weights[index], wires=i)\n",
    "        index += 1\n",
    "\n",
    "    # Third block of RY\n",
    "    for i in range(n_qubits):\n",
    "        qml.RY(weights[index], wires=i)\n",
    "        index += 1\n",
    "\n",
    "    # Fifth set of CNOT pairs\n",
    "    pairs = [(0, 1), (1, 2), (2, 3), (3, 0)]\n",
    "    for pair in pairs:\n",
    "        qml.CNOT(wires=pair)\n",
    "\n",
    "    # Final block of RZ\n",
    "    for i in range(n_qubits + 1):\n",
    "        qml.RZ(weights[index], wires=i)\n",
    "        index += 1\n",
    "\n",
    "    return index  # Total number of indices used\n",
    "\n",
    "@qml.qnode(dev)\n",
    "def qnode_long(inputs, weights):\n",
    "    qml.AngleEmbedding(inputs, wires=range(n_qubits+1))\n",
    "    # print(\"AAAAAAAAAAAAAAAAAAAAA\")\n",
    "    # i=0\n",
    "    for w in weights:\n",
    "        # print(i)\n",
    "        custom_layer_long(w,n_qubits)\n",
    "        # i+=1\n",
    "    outputs = [qml.expval(qml.PauliZ(wires=i)) for i in range(n_qubits)]\n",
    "    return outputs"
   ]
  },
  {
   "cell_type": "code",
   "execution_count": 12,
   "metadata": {
    "id": "hJdNRI-6e_fl"
   },
   "outputs": [],
   "source": [
    "@qml.qnode(dev)\n",
    "def qnode_long_solo(inputs, weights):\n",
    "    qml.AngleEmbedding(inputs, wires=range(n_qubits+1))\n",
    "    for w in weights:\n",
    "        custom_layer_long(w,n_qubits)\n",
    "    outputs = [qml.expval(qml.PauliZ(wires=0)),qml.expval(qml.PauliZ(wires=1))]\n",
    "    return outputs"
   ]
  },
  {
   "cell_type": "markdown",
   "metadata": {
    "id": "-p38p1nIVoo7"
   },
   "source": [
    "# Quantum Circuit\n",
    "\n"
   ]
  },
  {
   "cell_type": "code",
   "execution_count": 13,
   "metadata": {},
   "outputs": [],
   "source": [
    "import pennylane as qml\n",
    "import matplotlib.pyplot as plt"
   ]
  },
  {
   "cell_type": "code",
   "execution_count": 14,
   "metadata": {
    "id": "cnEZcQJ0Voo7"
   },
   "outputs": [],
   "source": [
    "n_layers = 1\n",
    "n_qubits=3\n",
    "total_weights = 3 * (n_qubits + 1) + 2 * n_qubits + 2\n",
    "\n",
    "weight_shapes = {\"weights\": (n_layers, total_weights+1)}"
   ]
  },
  {
   "cell_type": "code",
   "execution_count": 15,
   "metadata": {
    "id": "GR5-G4VctKmZ"
   },
   "outputs": [
    {
     "data": {
      "image/png": "[encoded data removed]",
      "text/plain": [
       "<Figure size 1900x500 with 1 Axes>"
      ]
     },
     "metadata": {},
     "output_type": "display_data"
    }
   ],
   "source": [
    "weights = np.random.random(size=(n_layers, total_weights))\n",
    "fig, ax = qml.draw_mpl(qnode)(X_train[:, :4], weights)\n",
    "plt.show()"
   ]
  },
  {
   "cell_type": "code",
   "execution_count": 16,
   "metadata": {},
   "outputs": [
    {
     "name": "stdout",
     "output_type": "stream",
     "text": [
      "Total weights required: 32\n"
     ]
    }
   ],
   "source": [
    "n_layers = 1\n",
    "n_qubits=3\n",
    "total_weights_long = 32\n",
    "print(\"Total weights required:\", total_weights_long)\n",
    "\n",
    "weight_shapes_long = {\"weights\": (n_layers, total_weights_long+1)}"
   ]
  },
  {
   "cell_type": "code",
   "execution_count": 18,
   "metadata": {
    "colab": {
     "base_uri": "https://localhost:8080/",
     "height": 387
    },
    "id": "PW4xncds6TTl",
    "outputId": "050ce968-5aad-4550-8206-9c02962e0f3f"
   },
   "outputs": [
    {
     "data": {
      "image/png": "[encoded data removed]",
      "text/plain": [
       "<Figure size 2800x500 with 1 Axes>"
      ]
     },
     "metadata": {},
     "output_type": "display_data"
    }
   ],
   "source": [
    "weights = np.random.random(size=(n_layers, total_weights_long))\n",
    "fig, ax = qml.draw_mpl(qnode_long)(X.iloc[:, :4], weights)\n",
    "\n",
    "plt.show()"
   ]
  },
  {
   "cell_type": "code",
   "execution_count": 19,
   "metadata": {
    "id": "DohP0-iEVoo8"
   },
   "outputs": [
    {
     "name": "stdout",
     "output_type": "stream",
     "text": [
      "Metal device set to: Apple M2 Max\n",
      "\n",
      "systemMemory: 32.00 GB\n",
      "maxCacheSize: 10.67 GB\n",
      "\n"
     ]
    },
    {
     "name": "stderr",
     "output_type": "stream",
     "text": [
      "2025-02-09 18:12:06.184199: I tensorflow/core/common_runtime/pluggable_device/pluggable_device_factory.cc:306] Could not identify NUMA node of platform GPU ID 0, defaulting to 0. Your kernel may not have been built with NUMA support.\n",
      "2025-02-09 18:12:06.184220: I tensorflow/core/common_runtime/pluggable_device/pluggable_device_factory.cc:272] Created TensorFlow device (/job:localhost/replica:0/task:0/device:GPU:0 with 0 MB memory) -> physical PluggableDevice (device: 0, name: METAL, pci bus id: <undefined>)\n"
     ]
    }
   ],
   "source": [
    "qlayer = qml.qnn.KerasLayer(qnode, weight_shapes, output_dim=n_qubits)"
   ]
  },
  {
   "cell_type": "code",
   "execution_count": 20,
   "metadata": {},
   "outputs": [],
   "source": [
    "qlayer_long = qml.qnn.KerasLayer(qnode_long, weight_shapes_long, output_dim=n_qubits)"
   ]
  },
  {
   "cell_type": "markdown",
   "metadata": {
    "id": "vwYP2ssEJdl5"
   },
   "source": [
    "# Checking The Influence of Quantum Model"
   ]
  },
  {
   "cell_type": "markdown",
   "metadata": {
    "id": "qiKN2qJRT9d5"
   },
   "source": [
    "For this to be implemented we lowered the amount of data used to have a faster run of the quantum circuit"
   ]
  },
  {
   "cell_type": "code",
   "execution_count": 37,
   "metadata": {
    "id": "izZHUVL8X15M"
   },
   "outputs": [],
   "source": [
    "from sklearn.metrics import classification_report"
   ]
  },
  {
   "cell_type": "code",
   "execution_count": 38,
   "metadata": {
    "colab": {
     "base_uri": "https://localhost:8080/"
    },
    "id": "aO-pIbxAWiri",
    "outputId": "1b55a27b-c61d-4253-f712-2999a4c82d5c"
   },
   "outputs": [
    {
     "name": "stdout",
     "output_type": "stream",
     "text": [
      "Total weights required: 32\n"
     ]
    }
   ],
   "source": [
    "n_layers = 1\n",
    "n_qubits=3\n",
    "total_weights_long = 32\n",
    "print(\"Total weights required:\", total_weights_long)\n",
    "\n",
    "weight_shapes_long = {\"weights\": (n_layers, total_weights_long+1)}"
   ]
  },
  {
   "cell_type": "code",
   "execution_count": 39,
   "metadata": {
    "id": "9S1FO1fsWq3l"
   },
   "outputs": [],
   "source": [
    "qlayer_long = qml.qnn.KerasLayer(qnode_long, weight_shapes_long, output_dim=n_qubits)"
   ]
  },
  {
   "cell_type": "code",
   "execution_count": 42,
   "metadata": {},
   "outputs": [
    {
     "name": "stdout",
     "output_type": "stream",
     "text": [
      "Iteration 1\n",
      "Epoch 1/5\n",
      "  42/1708 [..............................] - ETA: 4s - loss: 0.4471 - accuracy: 0.8812"
     ]
    },
    {
     "name": "stderr",
     "output_type": "stream",
     "text": [
      "2025-01-29 20:54:19.395036: I tensorflow/core/grappler/optimizers/custom_graph_optimizer_registry.cc:114] Plugin optimizer for device_type GPU is enabled.\n"
     ]
    },
    {
     "name": "stdout",
     "output_type": "stream",
     "text": [
      "1707/1708 [============================>.] - ETA: 0s - loss: 0.1109 - accuracy: 0.9647"
     ]
    },
    {
     "name": "stderr",
     "output_type": "stream",
     "text": [
      "2025-01-29 20:54:23.763399: I tensorflow/core/grappler/optimizers/custom_graph_optimizer_registry.cc:114] Plugin optimizer for device_type GPU is enabled.\n"
     ]
    },
    {
     "name": "stdout",
     "output_type": "stream",
     "text": [
      "1708/1708 [==============================] - 5s 3ms/step - loss: 0.1109 - accuracy: 0.9647 - val_loss: 0.0749 - val_accuracy: 0.9742\n",
      "Epoch 2/5\n",
      "1708/1708 [==============================] - 5s 3ms/step - loss: 0.0702 - accuracy: 0.9762 - val_loss: 0.0656 - val_accuracy: 0.9774\n",
      "Epoch 3/5\n",
      "1708/1708 [==============================] - 5s 3ms/step - loss: 0.0568 - accuracy: 0.9805 - val_loss: 0.0536 - val_accuracy: 0.9816\n",
      "Epoch 4/5\n",
      "1708/1708 [==============================] - 5s 3ms/step - loss: 0.0500 - accuracy: 0.9827 - val_loss: 0.0494 - val_accuracy: 0.9839\n",
      "Epoch 5/5\n",
      "1708/1708 [==============================] - 5s 3ms/step - loss: 0.0461 - accuracy: 0.9840 - val_loss: 0.0453 - val_accuracy: 0.9859\n",
      " 128/1424 [=>............................] - ETA: 1s"
     ]
    },
    {
     "name": "stderr",
     "output_type": "stream",
     "text": [
      "2025-01-29 20:54:44.166097: I tensorflow/core/grappler/optimizers/custom_graph_optimizer_registry.cc:114] Plugin optimizer for device_type GPU is enabled.\n"
     ]
    },
    {
     "name": "stdout",
     "output_type": "stream",
     "text": [
      "1424/1424 [==============================] - 2s 1ms/step\n",
      "Confusion Matrix:\n",
      "[[165352    570]\n",
      " [  1885  14377]]\n",
      "\n",
      "Classification Report:\n",
      "              precision    recall  f1-score   support\n",
      "\n",
      "         0.0       0.99      1.00      0.99    165922\n",
      "         1.0       0.96      0.88      0.92     16262\n",
      "\n",
      "    accuracy                           0.99    182184\n",
      "   macro avg       0.98      0.94      0.96    182184\n",
      "weighted avg       0.99      0.99      0.99    182184\n",
      "\n",
      "\n",
      "Accuracy: 0.9865246124796908\n",
      "Recall: 0.884085598327389\n",
      "F1 Score: 0.9213367938735622\n",
      "Evaluating Quantum Model\n",
      "============================================================================================================================================\n",
      "Epoch 1/5\n",
      "   2/1708 [..............................] - ETA: 2:08 - loss: 1.3165 - accuracy: 0.0898"
     ]
    },
    {
     "name": "stderr",
     "output_type": "stream",
     "text": [
      "/Users/epameinondasdouros/Personal/Quantum/Code/Final_Project/q_env/lib/python3.10/site-packages/keras/optimizers/optimizer_v2/adam.py:114: UserWarning: The `lr` argument is deprecated, use `learning_rate` instead.\n",
      "  super().__init__(name, **kwargs)\n"
     ]
    },
    {
     "name": "stdout",
     "output_type": "stream",
     "text": [
      "1708/1708 [==============================] - 148s 87ms/step - loss: 0.1195 - accuracy: 0.9583 - val_loss: 0.0733 - val_accuracy: 0.9772\n",
      "Epoch 2/5\n",
      "1708/1708 [==============================] - 146s 85ms/step - loss: 0.0633 - accuracy: 0.9796 - val_loss: 0.0554 - val_accuracy: 0.9816\n",
      "Epoch 3/5\n",
      "1708/1708 [==============================] - 145s 85ms/step - loss: 0.0537 - accuracy: 0.9817 - val_loss: 0.0482 - val_accuracy: 0.9836\n",
      "Epoch 4/5\n",
      "1708/1708 [==============================] - 146s 85ms/step - loss: 0.0450 - accuracy: 0.9841 - val_loss: 0.0437 - val_accuracy: 0.9859\n",
      "Epoch 5/5\n",
      "1708/1708 [==============================] - 137s 80ms/step - loss: 0.0411 - accuracy: 0.9856 - val_loss: 0.0348 - val_accuracy: 0.9877\n",
      "1424/1424 [==============================] - 35s 25ms/step\n",
      "Confusion Matrix:\n",
      "[[165449    473]\n",
      " [  1668  14594]]\n",
      "\n",
      "Classification Report:\n",
      "              precision    recall  f1-score   support\n",
      "\n",
      "         0.0       0.99      1.00      0.99    165922\n",
      "         1.0       0.97      0.90      0.93     16262\n",
      "\n",
      "    accuracy                           0.99    182184\n",
      "   macro avg       0.98      0.95      0.96    182184\n",
      "weighted avg       0.99      0.99      0.99    182184\n",
      "\n",
      "\n",
      "Accuracy: 0.9882481447327977\n",
      "Recall: 0.8974295904562785\n",
      "F1 Score: 0.9316607615946886\n",
      "============================================================================================================================================\n",
      "Iteration 2\n",
      "Epoch 1/5\n"
     ]
    },
    {
     "name": "stderr",
     "output_type": "stream",
     "text": [
      "/Users/epameinondasdouros/Personal/Quantum/Code/Final_Project/q_env/lib/python3.10/site-packages/keras/optimizers/optimizer_v2/adam.py:114: UserWarning: The `lr` argument is deprecated, use `learning_rate` instead.\n",
      "  super().__init__(name, **kwargs)\n"
     ]
    },
    {
     "name": "stdout",
     "output_type": "stream",
     "text": [
      "  46/1708 [..............................] - ETA: 3s - loss: 0.4563 - accuracy: 0.8629"
     ]
    },
    {
     "name": "stderr",
     "output_type": "stream",
     "text": [
      "2025-01-29 21:07:23.235673: I tensorflow/core/grappler/optimizers/custom_graph_optimizer_registry.cc:114] Plugin optimizer for device_type GPU is enabled.\n"
     ]
    },
    {
     "name": "stdout",
     "output_type": "stream",
     "text": [
      "1707/1708 [============================>.] - ETA: 0s - loss: 0.1054 - accuracy: 0.9650"
     ]
    },
    {
     "name": "stderr",
     "output_type": "stream",
     "text": [
      "2025-01-29 21:07:27.504643: I tensorflow/core/grappler/optimizers/custom_graph_optimizer_registry.cc:114] Plugin optimizer for device_type GPU is enabled.\n"
     ]
    },
    {
     "name": "stdout",
     "output_type": "stream",
     "text": [
      "1708/1708 [==============================] - 5s 3ms/step - loss: 0.1054 - accuracy: 0.9649 - val_loss: 0.0777 - val_accuracy: 0.9737\n",
      "Epoch 2/5\n",
      "1708/1708 [==============================] - 5s 3ms/step - loss: 0.0719 - accuracy: 0.9738 - val_loss: 0.0738 - val_accuracy: 0.9746\n",
      "Epoch 3/5\n",
      "1708/1708 [==============================] - 5s 3ms/step - loss: 0.0651 - accuracy: 0.9763 - val_loss: 0.0696 - val_accuracy: 0.9790\n",
      "Epoch 4/5\n",
      "1708/1708 [==============================] - 5s 3ms/step - loss: 0.0595 - accuracy: 0.9788 - val_loss: 0.0691 - val_accuracy: 0.9767\n",
      "Epoch 5/5\n",
      "1708/1708 [==============================] - 5s 3ms/step - loss: 0.0560 - accuracy: 0.9801 - val_loss: 0.0626 - val_accuracy: 0.9805\n",
      " 150/1424 [==>...........................] - ETA: 1s"
     ]
    },
    {
     "name": "stderr",
     "output_type": "stream",
     "text": [
      "2025-01-29 21:07:49.087781: I tensorflow/core/grappler/optimizers/custom_graph_optimizer_registry.cc:114] Plugin optimizer for device_type GPU is enabled.\n"
     ]
    },
    {
     "name": "stdout",
     "output_type": "stream",
     "text": [
      "1424/1424 [==============================] - 1s 970us/step\n",
      "Confusion Matrix:\n",
      "[[165217    705]\n",
      " [  2688  13574]]\n",
      "\n",
      "Classification Report:\n",
      "              precision    recall  f1-score   support\n",
      "\n",
      "         0.0       0.98      1.00      0.99    165922\n",
      "         1.0       0.95      0.83      0.89     16262\n",
      "\n",
      "    accuracy                           0.98    182184\n",
      "   macro avg       0.97      0.92      0.94    182184\n",
      "weighted avg       0.98      0.98      0.98    182184\n",
      "\n",
      "\n",
      "Accuracy: 0.9813759715452509\n",
      "Recall: 0.8347066781453696\n",
      "F1 Score: 0.8889034412756622\n",
      "Evaluating Quantum Model\n",
      "============================================================================================================================================\n",
      "Epoch 1/5\n",
      "   2/1708 [..............................] - ETA: 1:54 - loss: 0.7655 - accuracy: 0.1543"
     ]
    },
    {
     "name": "stderr",
     "output_type": "stream",
     "text": [
      "/Users/epameinondasdouros/Personal/Quantum/Code/Final_Project/q_env/lib/python3.10/site-packages/keras/optimizers/optimizer_v2/adam.py:114: UserWarning: The `lr` argument is deprecated, use `learning_rate` instead.\n",
      "  super().__init__(name, **kwargs)\n"
     ]
    },
    {
     "name": "stdout",
     "output_type": "stream",
     "text": [
      "1708/1708 [==============================] - 131s 76ms/step - loss: 0.1154 - accuracy: 0.9636 - val_loss: 0.0767 - val_accuracy: 0.9747\n",
      "Epoch 2/5\n",
      "1708/1708 [==============================] - 135s 79ms/step - loss: 0.0593 - accuracy: 0.9794 - val_loss: 0.0570 - val_accuracy: 0.9805\n",
      "Epoch 3/5\n",
      "1708/1708 [==============================] - 135s 79ms/step - loss: 0.0540 - accuracy: 0.9815 - val_loss: 0.0499 - val_accuracy: 0.9815\n",
      "Epoch 4/5\n",
      "1708/1708 [==============================] - 127s 74ms/step - loss: 0.0518 - accuracy: 0.9816 - val_loss: 0.0572 - val_accuracy: 0.9813\n",
      "Epoch 5/5\n",
      "1708/1708 [==============================] - 130s 76ms/step - loss: 0.0491 - accuracy: 0.9826 - val_loss: 0.0557 - val_accuracy: 0.9817\n",
      "1424/1424 [==============================] - 32s 23ms/step\n",
      "Confusion Matrix:\n",
      "[[164084   1838]\n",
      " [  1352  14910]]\n",
      "\n",
      "Classification Report:\n",
      "              precision    recall  f1-score   support\n",
      "\n",
      "         0.0       0.99      0.99      0.99    165922\n",
      "         1.0       0.89      0.92      0.90     16262\n",
      "\n",
      "    accuracy                           0.98    182184\n",
      "   macro avg       0.94      0.95      0.95    182184\n",
      "weighted avg       0.98      0.98      0.98    182184\n",
      "\n",
      "\n",
      "Accuracy: 0.9824902296579282\n",
      "Recall: 0.9168613946624031\n",
      "F1 Score: 0.9033626173886701\n",
      "============================================================================================================================================\n",
      "Iteration 3\n",
      "Epoch 1/5\n",
      "   1/1708 [..............................] - ETA: 4:23 - loss: 0.9247 - accuracy: 0.1055"
     ]
    },
    {
     "name": "stderr",
     "output_type": "stream",
     "text": [
      "/Users/epameinondasdouros/Personal/Quantum/Code/Final_Project/q_env/lib/python3.10/site-packages/keras/optimizers/optimizer_v2/adam.py:114: UserWarning: The `lr` argument is deprecated, use `learning_rate` instead.\n",
      "  super().__init__(name, **kwargs)\n",
      "2025-01-29 21:19:20.615210: I tensorflow/core/grappler/optimizers/custom_graph_optimizer_registry.cc:114] Plugin optimizer for device_type GPU is enabled.\n"
     ]
    },
    {
     "name": "stdout",
     "output_type": "stream",
     "text": [
      "1704/1708 [============================>.] - ETA: 0s - loss: 0.1029 - accuracy: 0.9645"
     ]
    },
    {
     "name": "stderr",
     "output_type": "stream",
     "text": [
      "2025-01-29 21:19:24.169759: I tensorflow/core/grappler/optimizers/custom_graph_optimizer_registry.cc:114] Plugin optimizer for device_type GPU is enabled.\n"
     ]
    },
    {
     "name": "stdout",
     "output_type": "stream",
     "text": [
      "1708/1708 [==============================] - 4s 2ms/step - loss: 0.1028 - accuracy: 0.9645 - val_loss: 0.0645 - val_accuracy: 0.9797\n",
      "Epoch 2/5\n",
      "1708/1708 [==============================] - 4s 2ms/step - loss: 0.0528 - accuracy: 0.9818 - val_loss: 0.0538 - val_accuracy: 0.9821\n",
      "Epoch 3/5\n",
      "1708/1708 [==============================] - 4s 2ms/step - loss: 0.0473 - accuracy: 0.9842 - val_loss: 0.0511 - val_accuracy: 0.9820\n",
      "Epoch 4/5\n",
      "1708/1708 [==============================] - 4s 2ms/step - loss: 0.0447 - accuracy: 0.9853 - val_loss: 0.0454 - val_accuracy: 0.9869\n",
      "Epoch 5/5\n",
      "1708/1708 [==============================] - 4s 2ms/step - loss: 0.0424 - accuracy: 0.9861 - val_loss: 0.0443 - val_accuracy: 0.9858\n",
      " 143/1424 [==>...........................] - ETA: 1s"
     ]
    },
    {
     "name": "stderr",
     "output_type": "stream",
     "text": [
      "2025-01-29 21:19:41.114632: I tensorflow/core/grappler/optimizers/custom_graph_optimizer_registry.cc:114] Plugin optimizer for device_type GPU is enabled.\n"
     ]
    },
    {
     "name": "stdout",
     "output_type": "stream",
     "text": [
      "1424/1424 [==============================] - 2s 1ms/step\n",
      "Confusion Matrix:\n",
      "[[165250    672]\n",
      " [  1878  14384]]\n",
      "\n",
      "Classification Report:\n",
      "              precision    recall  f1-score   support\n",
      "\n",
      "         0.0       0.99      1.00      0.99    165922\n",
      "         1.0       0.96      0.88      0.92     16262\n",
      "\n",
      "    accuracy                           0.99    182184\n",
      "   macro avg       0.97      0.94      0.96    182184\n",
      "weighted avg       0.99      0.99      0.99    182184\n",
      "\n",
      "\n",
      "Accuracy: 0.9860031616387828\n",
      "Recall: 0.8845160496863854\n",
      "F1 Score: 0.9185771760648828\n",
      "Evaluating Quantum Model\n",
      "============================================================================================================================================\n",
      "Epoch 1/5\n",
      "   2/1708 [..............................] - ETA: 2:00 - loss: 1.1525 - accuracy: 0.0996"
     ]
    },
    {
     "name": "stderr",
     "output_type": "stream",
     "text": [
      "/Users/epameinondasdouros/Personal/Quantum/Code/Final_Project/q_env/lib/python3.10/site-packages/keras/optimizers/optimizer_v2/adam.py:114: UserWarning: The `lr` argument is deprecated, use `learning_rate` instead.\n",
      "  super().__init__(name, **kwargs)\n"
     ]
    },
    {
     "name": "stdout",
     "output_type": "stream",
     "text": [
      "1708/1708 [==============================] - 127s 74ms/step - loss: 0.1201 - accuracy: 0.9573 - val_loss: 0.0650 - val_accuracy: 0.9796\n",
      "Epoch 2/5\n",
      "1708/1708 [==============================] - 127s 74ms/step - loss: 0.0558 - accuracy: 0.9812 - val_loss: 0.0577 - val_accuracy: 0.9826\n",
      "Epoch 3/5\n",
      "1708/1708 [==============================] - 126s 74ms/step - loss: 0.0467 - accuracy: 0.9845 - val_loss: 0.0513 - val_accuracy: 0.9832\n",
      "Epoch 4/5\n",
      "1708/1708 [==============================] - 126s 74ms/step - loss: 0.0445 - accuracy: 0.9863 - val_loss: 0.0476 - val_accuracy: 0.9887\n",
      "Epoch 5/5\n",
      "1708/1708 [==============================] - 129s 76ms/step - loss: 0.0466 - accuracy: 0.9868 - val_loss: 0.0443 - val_accuracy: 0.9854\n",
      "1424/1424 [==============================] - 31s 22ms/step\n",
      "Confusion Matrix:\n",
      "[[165601    321]\n",
      " [  2214  14048]]\n",
      "\n",
      "Classification Report:\n",
      "              precision    recall  f1-score   support\n",
      "\n",
      "         0.0       0.99      1.00      0.99    165922\n",
      "         1.0       0.98      0.86      0.92     16262\n",
      "\n",
      "    accuracy                           0.99    182184\n",
      "   macro avg       0.98      0.93      0.95    182184\n",
      "weighted avg       0.99      0.99      0.99    182184\n",
      "\n",
      "\n",
      "Accuracy: 0.9860854959820841\n",
      "Recall: 0.8638543844545566\n",
      "F1 Score: 0.9172407038621004\n",
      "============================================================================================================================================\n",
      "Iteration 4\n",
      "Epoch 1/5\n",
      "   1/1708 [..............................] - ETA: 4:25 - loss: 1.0524 - accuracy: 0.1133"
     ]
    },
    {
     "name": "stderr",
     "output_type": "stream",
     "text": [
      "/Users/epameinondasdouros/Personal/Quantum/Code/Final_Project/q_env/lib/python3.10/site-packages/keras/optimizers/optimizer_v2/adam.py:114: UserWarning: The `lr` argument is deprecated, use `learning_rate` instead.\n",
      "  super().__init__(name, **kwargs)\n",
      "2025-01-29 21:30:49.501350: I tensorflow/core/grappler/optimizers/custom_graph_optimizer_registry.cc:114] Plugin optimizer for device_type GPU is enabled.\n"
     ]
    },
    {
     "name": "stdout",
     "output_type": "stream",
     "text": [
      "1685/1708 [============================>.] - ETA: 0s - loss: 0.1064 - accuracy: 0.9665"
     ]
    },
    {
     "name": "stderr",
     "output_type": "stream",
     "text": [
      "2025-01-29 21:30:53.286576: I tensorflow/core/grappler/optimizers/custom_graph_optimizer_registry.cc:114] Plugin optimizer for device_type GPU is enabled.\n"
     ]
    },
    {
     "name": "stdout",
     "output_type": "stream",
     "text": [
      "1708/1708 [==============================] - 5s 3ms/step - loss: 0.1057 - accuracy: 0.9667 - val_loss: 0.0541 - val_accuracy: 0.9824\n",
      "Epoch 2/5\n",
      "1708/1708 [==============================] - 4s 3ms/step - loss: 0.0457 - accuracy: 0.9839 - val_loss: 0.0433 - val_accuracy: 0.9841\n",
      "Epoch 3/5\n",
      "1708/1708 [==============================] - 4s 2ms/step - loss: 0.0376 - accuracy: 0.9861 - val_loss: 0.0350 - val_accuracy: 0.9872\n",
      "Epoch 4/5\n",
      "1708/1708 [==============================] - 4s 2ms/step - loss: 0.0340 - accuracy: 0.9875 - val_loss: 0.0355 - val_accuracy: 0.9855\n",
      "Epoch 5/5\n",
      "1708/1708 [==============================] - 4s 2ms/step - loss: 0.0314 - accuracy: 0.9882 - val_loss: 0.0287 - val_accuracy: 0.9893\n",
      " 151/1424 [==>...........................] - ETA: 1s"
     ]
    },
    {
     "name": "stderr",
     "output_type": "stream",
     "text": [
      "2025-01-29 21:31:10.640940: I tensorflow/core/grappler/optimizers/custom_graph_optimizer_registry.cc:114] Plugin optimizer for device_type GPU is enabled.\n"
     ]
    },
    {
     "name": "stdout",
     "output_type": "stream",
     "text": [
      "1424/1424 [==============================] - 1s 989us/step\n",
      "Confusion Matrix:\n",
      "[[165302    620]\n",
      " [  1244  15018]]\n",
      "\n",
      "Classification Report:\n",
      "              precision    recall  f1-score   support\n",
      "\n",
      "         0.0       0.99      1.00      0.99    165922\n",
      "         1.0       0.96      0.92      0.94     16262\n",
      "\n",
      "    accuracy                           0.99    182184\n",
      "   macro avg       0.98      0.96      0.97    182184\n",
      "weighted avg       0.99      0.99      0.99    182184\n",
      "\n",
      "\n",
      "Accuracy: 0.9897685856057612\n",
      "Recall: 0.9235026442012053\n",
      "F1 Score: 0.9415673981191223\n",
      "Evaluating Quantum Model\n",
      "============================================================================================================================================\n",
      "Epoch 1/5\n",
      "   2/1708 [..............................] - ETA: 1:51 - loss: 0.6068 - accuracy: 0.7910"
     ]
    },
    {
     "name": "stderr",
     "output_type": "stream",
     "text": [
      "/Users/epameinondasdouros/Personal/Quantum/Code/Final_Project/q_env/lib/python3.10/site-packages/keras/optimizers/optimizer_v2/adam.py:114: UserWarning: The `lr` argument is deprecated, use `learning_rate` instead.\n",
      "  super().__init__(name, **kwargs)\n"
     ]
    },
    {
     "name": "stdout",
     "output_type": "stream",
     "text": [
      "1708/1708 [==============================] - 125s 73ms/step - loss: 0.1011 - accuracy: 0.9668 - val_loss: 0.0608 - val_accuracy: 0.9786\n",
      "Epoch 2/5\n",
      "1708/1708 [==============================] - 125s 73ms/step - loss: 0.0483 - accuracy: 0.9830 - val_loss: 0.0450 - val_accuracy: 0.9836\n",
      "Epoch 3/5\n",
      "1708/1708 [==============================] - 124s 73ms/step - loss: 0.0440 - accuracy: 0.9849 - val_loss: 0.0377 - val_accuracy: 0.9864\n",
      "Epoch 4/5\n",
      "1708/1708 [==============================] - 126s 73ms/step - loss: 0.0476 - accuracy: 0.9847 - val_loss: 0.0451 - val_accuracy: 0.9862\n",
      "Epoch 5/5\n",
      "1708/1708 [==============================] - 132s 78ms/step - loss: 0.0440 - accuracy: 0.9863 - val_loss: 0.0415 - val_accuracy: 0.9862\n",
      "1424/1424 [==============================] - 33s 23ms/step\n",
      "Confusion Matrix:\n",
      "[[165594    328]\n",
      " [  2042  14220]]\n",
      "\n",
      "Classification Report:\n",
      "              precision    recall  f1-score   support\n",
      "\n",
      "         0.0       0.99      1.00      0.99    165922\n",
      "         1.0       0.98      0.87      0.92     16262\n",
      "\n",
      "    accuracy                           0.99    182184\n",
      "   macro avg       0.98      0.94      0.96    182184\n",
      "weighted avg       0.99      0.99      0.99    182184\n",
      "\n",
      "\n",
      "Accuracy: 0.9869911737583981\n",
      "Recall: 0.8744311892756118\n",
      "F1 Score: 0.9230769230769231\n",
      "============================================================================================================================================\n",
      "Iteration 5\n",
      "Epoch 1/5\n",
      "   1/1708 [..............................] - ETA: 4:33 - loss: 0.7126 - accuracy: 0.7188"
     ]
    },
    {
     "name": "stderr",
     "output_type": "stream",
     "text": [
      "/Users/epameinondasdouros/Personal/Quantum/Code/Final_Project/q_env/lib/python3.10/site-packages/keras/optimizers/optimizer_v2/adam.py:114: UserWarning: The `lr` argument is deprecated, use `learning_rate` instead.\n",
      "  super().__init__(name, **kwargs)\n",
      "2025-01-29 21:42:18.320364: I tensorflow/core/grappler/optimizers/custom_graph_optimizer_registry.cc:114] Plugin optimizer for device_type GPU is enabled.\n"
     ]
    },
    {
     "name": "stdout",
     "output_type": "stream",
     "text": [
      "1686/1708 [============================>.] - ETA: 0s - loss: 0.0827 - accuracy: 0.9734"
     ]
    },
    {
     "name": "stderr",
     "output_type": "stream",
     "text": [
      "2025-01-29 21:42:21.998270: I tensorflow/core/grappler/optimizers/custom_graph_optimizer_registry.cc:114] Plugin optimizer for device_type GPU is enabled.\n"
     ]
    },
    {
     "name": "stdout",
     "output_type": "stream",
     "text": [
      "1708/1708 [==============================] - 4s 2ms/step - loss: 0.0824 - accuracy: 0.9735 - val_loss: 0.0507 - val_accuracy: 0.9830\n",
      "Epoch 2/5\n",
      "1708/1708 [==============================] - 4s 2ms/step - loss: 0.0463 - accuracy: 0.9839 - val_loss: 0.0497 - val_accuracy: 0.9855\n",
      "Epoch 3/5\n",
      "1708/1708 [==============================] - 4s 2ms/step - loss: 0.0410 - accuracy: 0.9858 - val_loss: 0.0446 - val_accuracy: 0.9851\n",
      "Epoch 4/5\n",
      "1708/1708 [==============================] - 4s 2ms/step - loss: 0.0374 - accuracy: 0.9871 - val_loss: 0.0381 - val_accuracy: 0.9879\n",
      "Epoch 5/5\n",
      "1708/1708 [==============================] - 4s 2ms/step - loss: 0.0350 - accuracy: 0.9879 - val_loss: 0.0388 - val_accuracy: 0.9878\n",
      " 153/1424 [==>...........................] - ETA: 1s"
     ]
    },
    {
     "name": "stderr",
     "output_type": "stream",
     "text": [
      "2025-01-29 21:42:39.303036: I tensorflow/core/grappler/optimizers/custom_graph_optimizer_registry.cc:114] Plugin optimizer for device_type GPU is enabled.\n"
     ]
    },
    {
     "name": "stdout",
     "output_type": "stream",
     "text": [
      "1424/1424 [==============================] - 1s 993us/step\n",
      "Confusion Matrix:\n",
      "[[164601   1321]\n",
      " [   809  15453]]\n",
      "\n",
      "Classification Report:\n",
      "              precision    recall  f1-score   support\n",
      "\n",
      "         0.0       1.00      0.99      0.99    165922\n",
      "         1.0       0.92      0.95      0.94     16262\n",
      "\n",
      "    accuracy                           0.99    182184\n",
      "   macro avg       0.96      0.97      0.96    182184\n",
      "weighted avg       0.99      0.99      0.99    182184\n",
      "\n",
      "\n",
      "Accuracy: 0.9883085232512185\n",
      "Recall: 0.9502521215102694\n",
      "F1 Score: 0.9355248819469669\n",
      "Evaluating Quantum Model\n",
      "============================================================================================================================================\n",
      "Epoch 1/5\n",
      "   2/1708 [..............................] - ETA: 2:00 - loss: 1.1292 - accuracy: 0.1211"
     ]
    },
    {
     "name": "stderr",
     "output_type": "stream",
     "text": [
      "/Users/epameinondasdouros/Personal/Quantum/Code/Final_Project/q_env/lib/python3.10/site-packages/keras/optimizers/optimizer_v2/adam.py:114: UserWarning: The `lr` argument is deprecated, use `learning_rate` instead.\n",
      "  super().__init__(name, **kwargs)\n"
     ]
    },
    {
     "name": "stdout",
     "output_type": "stream",
     "text": [
      "1708/1708 [==============================] - 131s 77ms/step - loss: 0.1250 - accuracy: 0.9577 - val_loss: 0.0698 - val_accuracy: 0.9776\n",
      "Epoch 2/5\n",
      "1708/1708 [==============================] - 136s 79ms/step - loss: 0.0637 - accuracy: 0.9789 - val_loss: 0.0547 - val_accuracy: 0.9822\n",
      "Epoch 3/5\n",
      "1708/1708 [==============================] - 134s 78ms/step - loss: 0.0525 - accuracy: 0.9822 - val_loss: 0.0505 - val_accuracy: 0.9835\n",
      "Epoch 4/5\n",
      "1708/1708 [==============================] - 136s 79ms/step - loss: 0.0454 - accuracy: 0.9842 - val_loss: 0.0419 - val_accuracy: 0.9857\n",
      "Epoch 5/5\n",
      "1708/1708 [==============================] - 134s 79ms/step - loss: 0.0447 - accuracy: 0.9853 - val_loss: 0.0432 - val_accuracy: 0.9857\n",
      "1424/1424 [==============================] - 34s 24ms/step\n",
      "Confusion Matrix:\n",
      "[[165359    563]\n",
      " [  1865  14397]]\n",
      "\n",
      "Classification Report:\n",
      "              precision    recall  f1-score   support\n",
      "\n",
      "         0.0       0.99      1.00      0.99    165922\n",
      "         1.0       0.96      0.89      0.92     16262\n",
      "\n",
      "    accuracy                           0.99    182184\n",
      "   macro avg       0.98      0.94      0.96    182184\n",
      "weighted avg       0.99      0.99      0.99    182184\n",
      "\n",
      "\n",
      "Accuracy: 0.9866728142976332\n",
      "Recall: 0.8853154593530931\n",
      "F1 Score: 0.9222343219524695\n",
      "============================================================================================================================================\n",
      "Iteration 6\n",
      "Epoch 1/5\n",
      "   1/1708 [..............................] - ETA: 4:38 - loss: 0.7513 - accuracy: 0.5117"
     ]
    },
    {
     "name": "stderr",
     "output_type": "stream",
     "text": [
      "/Users/epameinondasdouros/Personal/Quantum/Code/Final_Project/q_env/lib/python3.10/site-packages/keras/optimizers/optimizer_v2/adam.py:114: UserWarning: The `lr` argument is deprecated, use `learning_rate` instead.\n",
      "  super().__init__(name, **kwargs)\n",
      "2025-01-29 21:54:25.614563: I tensorflow/core/grappler/optimizers/custom_graph_optimizer_registry.cc:114] Plugin optimizer for device_type GPU is enabled.\n"
     ]
    },
    {
     "name": "stdout",
     "output_type": "stream",
     "text": [
      "1696/1708 [============================>.] - ETA: 0s - loss: 0.1044 - accuracy: 0.9640"
     ]
    },
    {
     "name": "stderr",
     "output_type": "stream",
     "text": [
      "2025-01-29 21:54:29.585433: I tensorflow/core/grappler/optimizers/custom_graph_optimizer_registry.cc:114] Plugin optimizer for device_type GPU is enabled.\n"
     ]
    },
    {
     "name": "stdout",
     "output_type": "stream",
     "text": [
      "1708/1708 [==============================] - 5s 3ms/step - loss: 0.1041 - accuracy: 0.9641 - val_loss: 0.0637 - val_accuracy: 0.9799\n",
      "Epoch 2/5\n",
      "1708/1708 [==============================] - 5s 3ms/step - loss: 0.0526 - accuracy: 0.9823 - val_loss: 0.0502 - val_accuracy: 0.9850\n",
      "Epoch 3/5\n",
      "1708/1708 [==============================] - 5s 3ms/step - loss: 0.0465 - accuracy: 0.9845 - val_loss: 0.0615 - val_accuracy: 0.9768\n",
      "Epoch 4/5\n",
      "1708/1708 [==============================] - 5s 3ms/step - loss: 0.0447 - accuracy: 0.9853 - val_loss: 0.0473 - val_accuracy: 0.9861\n",
      "Epoch 5/5\n",
      "1708/1708 [==============================] - 5s 3ms/step - loss: 0.0426 - accuracy: 0.9859 - val_loss: 0.0448 - val_accuracy: 0.9864\n",
      " 130/1424 [=>............................] - ETA: 1s"
     ]
    },
    {
     "name": "stderr",
     "output_type": "stream",
     "text": [
      "2025-01-29 21:54:48.917047: I tensorflow/core/grappler/optimizers/custom_graph_optimizer_registry.cc:114] Plugin optimizer for device_type GPU is enabled.\n"
     ]
    },
    {
     "name": "stdout",
     "output_type": "stream",
     "text": [
      "1424/1424 [==============================] - 2s 1ms/step\n",
      "Confusion Matrix:\n",
      "[[165124    798]\n",
      " [  1597  14665]]\n",
      "\n",
      "Classification Report:\n",
      "              precision    recall  f1-score   support\n",
      "\n",
      "         0.0       0.99      1.00      0.99    165922\n",
      "         1.0       0.95      0.90      0.92     16262\n",
      "\n",
      "    accuracy                           0.99    182184\n",
      "   macro avg       0.97      0.95      0.96    182184\n",
      "weighted avg       0.99      0.99      0.99    182184\n",
      "\n",
      "\n",
      "Accuracy: 0.986853949852896\n",
      "Recall: 0.901795597097528\n",
      "F1 Score: 0.9245074862096139\n",
      "Evaluating Quantum Model\n",
      "============================================================================================================================================\n",
      "Epoch 1/5\n",
      "   2/1708 [..............................] - ETA: 2:04 - loss: 0.3713 - accuracy: 0.8887"
     ]
    },
    {
     "name": "stderr",
     "output_type": "stream",
     "text": [
      "/Users/epameinondasdouros/Personal/Quantum/Code/Final_Project/q_env/lib/python3.10/site-packages/keras/optimizers/optimizer_v2/adam.py:114: UserWarning: The `lr` argument is deprecated, use `learning_rate` instead.\n",
      "  super().__init__(name, **kwargs)\n"
     ]
    },
    {
     "name": "stdout",
     "output_type": "stream",
     "text": [
      "1708/1708 [==============================] - 136s 80ms/step - loss: 0.0919 - accuracy: 0.9715 - val_loss: 0.0617 - val_accuracy: 0.9801\n",
      "Epoch 2/5\n",
      "1708/1708 [==============================] - 130s 76ms/step - loss: 0.0468 - accuracy: 0.9833 - val_loss: 0.0474 - val_accuracy: 0.9807\n",
      "Epoch 3/5\n",
      "1708/1708 [==============================] - 133s 78ms/step - loss: 0.0409 - accuracy: 0.9855 - val_loss: 0.0370 - val_accuracy: 0.9875\n",
      "Epoch 4/5\n",
      "1708/1708 [==============================] - 131s 77ms/step - loss: 0.0366 - accuracy: 0.9869 - val_loss: 0.0422 - val_accuracy: 0.9861\n",
      "Epoch 5/5\n",
      "1708/1708 [==============================] - 138s 81ms/step - loss: 0.0374 - accuracy: 0.9868 - val_loss: 0.0345 - val_accuracy: 0.9879\n",
      "1424/1424 [==============================] - 33s 23ms/step\n",
      "Confusion Matrix:\n",
      "[[165279    643]\n",
      " [  1401  14861]]\n",
      "\n",
      "Classification Report:\n",
      "              precision    recall  f1-score   support\n",
      "\n",
      "         0.0       0.99      1.00      0.99    165922\n",
      "         1.0       0.96      0.91      0.94     16262\n",
      "\n",
      "    accuracy                           0.99    182184\n",
      "   macro avg       0.98      0.95      0.96    182184\n",
      "weighted avg       0.99      0.99      0.99    182184\n",
      "\n",
      "\n",
      "Accuracy: 0.9887805734861459\n",
      "Recall: 0.9138482351494281\n",
      "F1 Score: 0.9356544733362715\n",
      "============================================================================================================================================\n",
      "Iteration 7\n",
      "Epoch 1/5\n",
      "   1/1708 [..............................] - ETA: 4:37 - loss: 0.8696 - accuracy: 0.4297"
     ]
    },
    {
     "name": "stderr",
     "output_type": "stream",
     "text": [
      "/Users/epameinondasdouros/Personal/Quantum/Code/Final_Project/q_env/lib/python3.10/site-packages/keras/optimizers/optimizer_v2/adam.py:114: UserWarning: The `lr` argument is deprecated, use `learning_rate` instead.\n",
      "  super().__init__(name, **kwargs)\n",
      "2025-01-29 22:06:31.724449: I tensorflow/core/grappler/optimizers/custom_graph_optimizer_registry.cc:114] Plugin optimizer for device_type GPU is enabled.\n"
     ]
    },
    {
     "name": "stdout",
     "output_type": "stream",
     "text": [
      "1690/1708 [============================>.] - ETA: 0s - loss: 0.0980 - accuracy: 0.9679"
     ]
    },
    {
     "name": "stderr",
     "output_type": "stream",
     "text": [
      "2025-01-29 22:06:35.505287: I tensorflow/core/grappler/optimizers/custom_graph_optimizer_registry.cc:114] Plugin optimizer for device_type GPU is enabled.\n"
     ]
    },
    {
     "name": "stdout",
     "output_type": "stream",
     "text": [
      "1708/1708 [==============================] - 4s 3ms/step - loss: 0.0977 - accuracy: 0.9680 - val_loss: 0.0619 - val_accuracy: 0.9796\n",
      "Epoch 2/5\n",
      "1708/1708 [==============================] - 4s 2ms/step - loss: 0.0537 - accuracy: 0.9816 - val_loss: 0.0489 - val_accuracy: 0.9837\n",
      "Epoch 3/5\n",
      "1708/1708 [==============================] - 5s 3ms/step - loss: 0.0460 - accuracy: 0.9839 - val_loss: 0.0449 - val_accuracy: 0.9843\n",
      "Epoch 4/5\n",
      "1708/1708 [==============================] - 4s 2ms/step - loss: 0.0424 - accuracy: 0.9852 - val_loss: 0.0413 - val_accuracy: 0.9862\n",
      "Epoch 5/5\n",
      "1708/1708 [==============================] - 4s 2ms/step - loss: 0.0401 - accuracy: 0.9860 - val_loss: 0.0407 - val_accuracy: 0.9868\n",
      " 149/1424 [==>...........................] - ETA: 1s"
     ]
    },
    {
     "name": "stderr",
     "output_type": "stream",
     "text": [
      "2025-01-29 22:06:53.492378: I tensorflow/core/grappler/optimizers/custom_graph_optimizer_registry.cc:114] Plugin optimizer for device_type GPU is enabled.\n"
     ]
    },
    {
     "name": "stdout",
     "output_type": "stream",
     "text": [
      "1424/1424 [==============================] - 2s 1ms/step\n",
      "Confusion Matrix:\n",
      "[[165075    847]\n",
      " [  1499  14763]]\n",
      "\n",
      "Classification Report:\n",
      "              precision    recall  f1-score   support\n",
      "\n",
      "         0.0       0.99      0.99      0.99    165922\n",
      "         1.0       0.95      0.91      0.93     16262\n",
      "\n",
      "    accuracy                           0.99    182184\n",
      "   macro avg       0.97      0.95      0.96    182184\n",
      "weighted avg       0.99      0.99      0.99    182184\n",
      "\n",
      "\n",
      "Accuracy: 0.9871229087076802\n",
      "Recall: 0.9078219161234781\n",
      "F1 Score: 0.9263930722891566\n",
      "Evaluating Quantum Model\n",
      "============================================================================================================================================\n",
      "Epoch 1/5\n",
      "   1/1708 [..............................] - ETA: 2:41 - loss: 0.5490 - accuracy: 0.9219"
     ]
    },
    {
     "name": "stderr",
     "output_type": "stream",
     "text": [
      "/Users/epameinondasdouros/Personal/Quantum/Code/Final_Project/q_env/lib/python3.10/site-packages/keras/optimizers/optimizer_v2/adam.py:114: UserWarning: The `lr` argument is deprecated, use `learning_rate` instead.\n",
      "  super().__init__(name, **kwargs)\n"
     ]
    },
    {
     "name": "stdout",
     "output_type": "stream",
     "text": [
      "1708/1708 [==============================] - 124s 73ms/step - loss: 0.1082 - accuracy: 0.9655 - val_loss: 0.0664 - val_accuracy: 0.9786\n",
      "Epoch 2/5\n",
      "1708/1708 [==============================] - 121s 71ms/step - loss: 0.0621 - accuracy: 0.9803 - val_loss: 0.0635 - val_accuracy: 0.9805\n",
      "Epoch 3/5\n",
      "1708/1708 [==============================] - 121s 71ms/step - loss: 0.0529 - accuracy: 0.9826 - val_loss: 0.0429 - val_accuracy: 0.9840\n",
      "Epoch 4/5\n",
      "1708/1708 [==============================] - 123s 72ms/step - loss: 0.0423 - accuracy: 0.9851 - val_loss: 0.0485 - val_accuracy: 0.9848\n",
      "Epoch 5/5\n",
      "1708/1708 [==============================] - 122s 72ms/step - loss: 0.0398 - accuracy: 0.9861 - val_loss: 0.0484 - val_accuracy: 0.9829\n",
      "1424/1424 [==============================] - 31s 22ms/step\n",
      "Confusion Matrix:\n",
      "[[165382    540]\n",
      " [  2444  13818]]\n",
      "\n",
      "Classification Report:\n",
      "              precision    recall  f1-score   support\n",
      "\n",
      "         0.0       0.99      1.00      0.99    165922\n",
      "         1.0       0.96      0.85      0.90     16262\n",
      "\n",
      "    accuracy                           0.98    182184\n",
      "   macro avg       0.97      0.92      0.95    182184\n",
      "weighted avg       0.98      0.98      0.98    182184\n",
      "\n",
      "\n",
      "Accuracy: 0.9836209546392658\n",
      "Recall: 0.8497109826589595\n",
      "F1 Score: 0.9025473546701502\n",
      "============================================================================================================================================\n",
      "Iteration 8\n",
      "Epoch 1/5\n",
      "   1/1708 [..............................] - ETA: 4:26 - loss: 1.3690 - accuracy: 0.1250"
     ]
    },
    {
     "name": "stderr",
     "output_type": "stream",
     "text": [
      "/Users/epameinondasdouros/Personal/Quantum/Code/Final_Project/q_env/lib/python3.10/site-packages/keras/optimizers/optimizer_v2/adam.py:114: UserWarning: The `lr` argument is deprecated, use `learning_rate` instead.\n",
      "  super().__init__(name, **kwargs)\n",
      "2025-01-29 22:17:37.954825: I tensorflow/core/grappler/optimizers/custom_graph_optimizer_registry.cc:114] Plugin optimizer for device_type GPU is enabled.\n"
     ]
    },
    {
     "name": "stdout",
     "output_type": "stream",
     "text": [
      "1706/1708 [============================>.] - ETA: 0s - loss: 0.0918 - accuracy: 0.9680"
     ]
    },
    {
     "name": "stderr",
     "output_type": "stream",
     "text": [
      "2025-01-29 22:17:41.479107: I tensorflow/core/grappler/optimizers/custom_graph_optimizer_registry.cc:114] Plugin optimizer for device_type GPU is enabled.\n"
     ]
    },
    {
     "name": "stdout",
     "output_type": "stream",
     "text": [
      "1708/1708 [==============================] - 4s 2ms/step - loss: 0.0917 - accuracy: 0.9680 - val_loss: 0.0508 - val_accuracy: 0.9825\n",
      "Epoch 2/5\n",
      "1708/1708 [==============================] - 4s 2ms/step - loss: 0.0442 - accuracy: 0.9842 - val_loss: 0.0446 - val_accuracy: 0.9812\n",
      "Epoch 3/5\n",
      "1708/1708 [==============================] - 4s 2ms/step - loss: 0.0366 - accuracy: 0.9865 - val_loss: 0.0359 - val_accuracy: 0.9872\n",
      "Epoch 4/5\n",
      "1708/1708 [==============================] - 4s 2ms/step - loss: 0.0318 - accuracy: 0.9882 - val_loss: 0.0319 - val_accuracy: 0.9876\n",
      "Epoch 5/5\n",
      "1708/1708 [==============================] - 4s 2ms/step - loss: 0.0299 - accuracy: 0.9891 - val_loss: 0.0313 - val_accuracy: 0.9871\n",
      " 154/1424 [==>...........................] - ETA: 1s"
     ]
    },
    {
     "name": "stderr",
     "output_type": "stream",
     "text": [
      "2025-01-29 22:17:57.786081: I tensorflow/core/grappler/optimizers/custom_graph_optimizer_registry.cc:114] Plugin optimizer for device_type GPU is enabled.\n"
     ]
    },
    {
     "name": "stdout",
     "output_type": "stream",
     "text": [
      "1424/1424 [==============================] - 1s 957us/step\n",
      "Confusion Matrix:\n",
      "[[165722    200]\n",
      " [  2019  14243]]\n",
      "\n",
      "Classification Report:\n",
      "              precision    recall  f1-score   support\n",
      "\n",
      "         0.0       0.99      1.00      0.99    165922\n",
      "         1.0       0.99      0.88      0.93     16262\n",
      "\n",
      "    accuracy                           0.99    182184\n",
      "   macro avg       0.99      0.94      0.96    182184\n",
      "weighted avg       0.99      0.99      0.99    182184\n",
      "\n",
      "\n",
      "Accuracy: 0.987820006147631\n",
      "Recall: 0.8758455294551716\n",
      "F1 Score: 0.9277316397980785\n",
      "Evaluating Quantum Model\n",
      "============================================================================================================================================\n",
      "Epoch 1/5\n",
      "   2/1708 [..............................] - ETA: 1:55 - loss: 0.5019 - accuracy: 0.9199"
     ]
    },
    {
     "name": "stderr",
     "output_type": "stream",
     "text": [
      "/Users/epameinondasdouros/Personal/Quantum/Code/Final_Project/q_env/lib/python3.10/site-packages/keras/optimizers/optimizer_v2/adam.py:114: UserWarning: The `lr` argument is deprecated, use `learning_rate` instead.\n",
      "  super().__init__(name, **kwargs)\n"
     ]
    },
    {
     "name": "stdout",
     "output_type": "stream",
     "text": [
      "1708/1708 [==============================] - 122s 72ms/step - loss: 0.0959 - accuracy: 0.9679 - val_loss: 0.0662 - val_accuracy: 0.9743\n",
      "Epoch 2/5\n",
      "1708/1708 [==============================] - 121s 71ms/step - loss: 0.0507 - accuracy: 0.9821 - val_loss: 0.0488 - val_accuracy: 0.9850\n",
      "Epoch 3/5\n",
      "1708/1708 [==============================] - 120s 70ms/step - loss: 0.0437 - accuracy: 0.9845 - val_loss: 0.0429 - val_accuracy: 0.9858\n",
      "Epoch 4/5\n",
      "1708/1708 [==============================] - 120s 70ms/step - loss: 0.0415 - accuracy: 0.9853 - val_loss: 0.0399 - val_accuracy: 0.9860\n",
      "Epoch 5/5\n",
      "1708/1708 [==============================] - 126s 74ms/step - loss: 0.0398 - accuracy: 0.9858 - val_loss: 0.0383 - val_accuracy: 0.9882\n",
      "1424/1424 [==============================] - 34s 24ms/step\n",
      "Confusion Matrix:\n",
      "[[165100    822]\n",
      " [  1210  15052]]\n",
      "\n",
      "Classification Report:\n",
      "              precision    recall  f1-score   support\n",
      "\n",
      "         0.0       0.99      1.00      0.99    165922\n",
      "         1.0       0.95      0.93      0.94     16262\n",
      "\n",
      "    accuracy                           0.99    182184\n",
      "   macro avg       0.97      0.96      0.97    182184\n",
      "weighted avg       0.99      0.99      0.99    182184\n",
      "\n",
      "\n",
      "Accuracy: 0.9888464409607869\n",
      "Recall: 0.9255934079449022\n",
      "F1 Score: 0.9367687328852378\n",
      "============================================================================================================================================\n",
      "Iteration 9\n",
      "Epoch 1/5\n",
      "   1/1708 [..............................] - ETA: 4:43 - loss: 0.7911 - accuracy: 0.1914"
     ]
    },
    {
     "name": "stderr",
     "output_type": "stream",
     "text": [
      "/Users/epameinondasdouros/Personal/Quantum/Code/Final_Project/q_env/lib/python3.10/site-packages/keras/optimizers/optimizer_v2/adam.py:114: UserWarning: The `lr` argument is deprecated, use `learning_rate` instead.\n",
      "  super().__init__(name, **kwargs)\n",
      "2025-01-29 22:28:44.070227: I tensorflow/core/grappler/optimizers/custom_graph_optimizer_registry.cc:114] Plugin optimizer for device_type GPU is enabled.\n"
     ]
    },
    {
     "name": "stdout",
     "output_type": "stream",
     "text": [
      "1691/1708 [============================>.] - ETA: 0s - loss: 0.1054 - accuracy: 0.9643"
     ]
    },
    {
     "name": "stderr",
     "output_type": "stream",
     "text": [
      "2025-01-29 22:28:47.949487: I tensorflow/core/grappler/optimizers/custom_graph_optimizer_registry.cc:114] Plugin optimizer for device_type GPU is enabled.\n"
     ]
    },
    {
     "name": "stdout",
     "output_type": "stream",
     "text": [
      "1708/1708 [==============================] - 5s 3ms/step - loss: 0.1050 - accuracy: 0.9644 - val_loss: 0.0637 - val_accuracy: 0.9790\n",
      "Epoch 2/5\n",
      "1708/1708 [==============================] - 4s 3ms/step - loss: 0.0535 - accuracy: 0.9820 - val_loss: 0.0502 - val_accuracy: 0.9830\n",
      "Epoch 3/5\n",
      "1708/1708 [==============================] - 5s 3ms/step - loss: 0.0467 - accuracy: 0.9843 - val_loss: 0.0466 - val_accuracy: 0.9855\n",
      "Epoch 4/5\n",
      "1708/1708 [==============================] - 4s 3ms/step - loss: 0.0437 - accuracy: 0.9854 - val_loss: 0.0466 - val_accuracy: 0.9852\n",
      "Epoch 5/5\n",
      "1708/1708 [==============================] - 4s 3ms/step - loss: 0.0415 - accuracy: 0.9860 - val_loss: 0.0429 - val_accuracy: 0.9881\n",
      " 142/1424 [=>............................] - ETA: 1s"
     ]
    },
    {
     "name": "stderr",
     "output_type": "stream",
     "text": [
      "2025-01-29 22:29:06.299366: I tensorflow/core/grappler/optimizers/custom_graph_optimizer_registry.cc:114] Plugin optimizer for device_type GPU is enabled.\n"
     ]
    },
    {
     "name": "stdout",
     "output_type": "stream",
     "text": [
      "1424/1424 [==============================] - 2s 1ms/step\n",
      "Confusion Matrix:\n",
      "[[165096    826]\n",
      " [  1224  15038]]\n",
      "\n",
      "Classification Report:\n",
      "              precision    recall  f1-score   support\n",
      "\n",
      "         0.0       0.99      1.00      0.99    165922\n",
      "         1.0       0.95      0.92      0.94     16262\n",
      "\n",
      "    accuracy                           0.99    182184\n",
      "   macro avg       0.97      0.96      0.97    182184\n",
      "weighted avg       0.99      0.99      0.99    182184\n",
      "\n",
      "\n",
      "Accuracy: 0.9887476397488254\n",
      "Recall: 0.9247325052269093\n",
      "F1 Score: 0.9361887567702173\n",
      "Evaluating Quantum Model\n",
      "============================================================================================================================================\n",
      "Epoch 1/5\n",
      "   2/1708 [..............................] - ETA: 1:56 - loss: 0.6911 - accuracy: 0.4297"
     ]
    },
    {
     "name": "stderr",
     "output_type": "stream",
     "text": [
      "/Users/epameinondasdouros/Personal/Quantum/Code/Final_Project/q_env/lib/python3.10/site-packages/keras/optimizers/optimizer_v2/adam.py:114: UserWarning: The `lr` argument is deprecated, use `learning_rate` instead.\n",
      "  super().__init__(name, **kwargs)\n"
     ]
    },
    {
     "name": "stdout",
     "output_type": "stream",
     "text": [
      "1708/1708 [==============================] - 136s 80ms/step - loss: 0.0964 - accuracy: 0.9681 - val_loss: 0.0546 - val_accuracy: 0.9807\n",
      "Epoch 2/5\n",
      "1708/1708 [==============================] - 131s 77ms/step - loss: 0.0493 - accuracy: 0.9831 - val_loss: 0.0452 - val_accuracy: 0.9846\n",
      "Epoch 3/5\n",
      "1708/1708 [==============================] - 128s 75ms/step - loss: 0.0406 - accuracy: 0.9860 - val_loss: 0.0415 - val_accuracy: 0.9888\n",
      "Epoch 4/5\n",
      "1708/1708 [==============================] - 128s 75ms/step - loss: 0.0381 - accuracy: 0.9873 - val_loss: 0.0452 - val_accuracy: 0.9876\n",
      "Epoch 5/5\n",
      "1708/1708 [==============================] - 132s 77ms/step - loss: 0.0378 - accuracy: 0.9879 - val_loss: 0.0400 - val_accuracy: 0.9901\n",
      "1424/1424 [==============================] - 33s 23ms/step\n",
      "Confusion Matrix:\n",
      "[[165282    640]\n",
      " [  1071  15191]]\n",
      "\n",
      "Classification Report:\n",
      "              precision    recall  f1-score   support\n",
      "\n",
      "         0.0       0.99      1.00      0.99    165922\n",
      "         1.0       0.96      0.93      0.95     16262\n",
      "\n",
      "    accuracy                           0.99    182184\n",
      "   macro avg       0.98      0.97      0.97    182184\n",
      "weighted avg       0.99      0.99      0.99    182184\n",
      "\n",
      "\n",
      "Accuracy: 0.9906083959074342\n",
      "Recall: 0.9341409420735457\n",
      "F1 Score: 0.9466861932508647\n",
      "============================================================================================================================================\n",
      "Iteration 10\n",
      "Epoch 1/5\n",
      "   1/1708 [..............................] - ETA: 4:27 - loss: 0.6921 - accuracy: 0.8164"
     ]
    },
    {
     "name": "stderr",
     "output_type": "stream",
     "text": [
      "/Users/epameinondasdouros/Personal/Quantum/Code/Final_Project/q_env/lib/python3.10/site-packages/keras/optimizers/optimizer_v2/adam.py:114: UserWarning: The `lr` argument is deprecated, use `learning_rate` instead.\n",
      "  super().__init__(name, **kwargs)\n",
      "2025-01-29 22:40:36.491692: I tensorflow/core/grappler/optimizers/custom_graph_optimizer_registry.cc:114] Plugin optimizer for device_type GPU is enabled.\n"
     ]
    },
    {
     "name": "stdout",
     "output_type": "stream",
     "text": [
      "1702/1708 [============================>.] - ETA: 0s - loss: 0.0993 - accuracy: 0.9674"
     ]
    },
    {
     "name": "stderr",
     "output_type": "stream",
     "text": [
      "2025-01-29 22:40:40.240177: I tensorflow/core/grappler/optimizers/custom_graph_optimizer_registry.cc:114] Plugin optimizer for device_type GPU is enabled.\n"
     ]
    },
    {
     "name": "stdout",
     "output_type": "stream",
     "text": [
      "1708/1708 [==============================] - 5s 3ms/step - loss: 0.0993 - accuracy: 0.9674 - val_loss: 0.0759 - val_accuracy: 0.9741\n",
      "Epoch 2/5\n",
      "1708/1708 [==============================] - 4s 2ms/step - loss: 0.0737 - accuracy: 0.9745 - val_loss: 0.0772 - val_accuracy: 0.9780\n",
      "Epoch 3/5\n",
      "1708/1708 [==============================] - 4s 2ms/step - loss: 0.0688 - accuracy: 0.9765 - val_loss: 0.0686 - val_accuracy: 0.9782\n",
      "Epoch 4/5\n",
      "1708/1708 [==============================] - 4s 2ms/step - loss: 0.0672 - accuracy: 0.9770 - val_loss: 0.0690 - val_accuracy: 0.9773\n",
      "Epoch 5/5\n",
      "1708/1708 [==============================] - 4s 2ms/step - loss: 0.0661 - accuracy: 0.9776 - val_loss: 0.0660 - val_accuracy: 0.9782\n",
      " 156/1424 [==>...........................] - ETA: 1s"
     ]
    },
    {
     "name": "stderr",
     "output_type": "stream",
     "text": [
      "2025-01-29 22:40:57.043682: I tensorflow/core/grappler/optimizers/custom_graph_optimizer_registry.cc:114] Plugin optimizer for device_type GPU is enabled.\n"
     ]
    },
    {
     "name": "stdout",
     "output_type": "stream",
     "text": [
      "1424/1424 [==============================] - 1s 941us/step\n",
      "Confusion Matrix:\n",
      "[[165088    834]\n",
      " [  2996  13266]]\n",
      "\n",
      "Classification Report:\n",
      "              precision    recall  f1-score   support\n",
      "\n",
      "         0.0       0.98      0.99      0.99    165922\n",
      "         1.0       0.94      0.82      0.87     16262\n",
      "\n",
      "    accuracy                           0.98    182184\n",
      "   macro avg       0.96      0.91      0.93    182184\n",
      "weighted avg       0.98      0.98      0.98    182184\n",
      "\n",
      "\n",
      "Accuracy: 0.9789772976770738\n",
      "Recall: 0.8157668183495265\n",
      "F1 Score: 0.8738554772412884\n",
      "Evaluating Quantum Model\n",
      "============================================================================================================================================\n",
      "Epoch 1/5\n",
      "   2/1708 [..............................] - ETA: 1:51 - loss: 1.0623 - accuracy: 0.1055"
     ]
    },
    {
     "name": "stderr",
     "output_type": "stream",
     "text": [
      "/Users/epameinondasdouros/Personal/Quantum/Code/Final_Project/q_env/lib/python3.10/site-packages/keras/optimizers/optimizer_v2/adam.py:114: UserWarning: The `lr` argument is deprecated, use `learning_rate` instead.\n",
      "  super().__init__(name, **kwargs)\n"
     ]
    },
    {
     "name": "stdout",
     "output_type": "stream",
     "text": [
      "1708/1708 [==============================] - 126s 74ms/step - loss: 0.1292 - accuracy: 0.9550 - val_loss: 0.0720 - val_accuracy: 0.9772\n",
      "Epoch 2/5\n",
      "1708/1708 [==============================] - 122s 72ms/step - loss: 0.0642 - accuracy: 0.9795 - val_loss: 0.0634 - val_accuracy: 0.9785\n",
      "Epoch 3/5\n",
      "1708/1708 [==============================] - 122s 71ms/step - loss: 0.0572 - accuracy: 0.9812 - val_loss: 0.0562 - val_accuracy: 0.9821\n",
      "Epoch 4/5\n",
      "1708/1708 [==============================] - 123s 72ms/step - loss: 0.0556 - accuracy: 0.9819 - val_loss: 0.0568 - val_accuracy: 0.9830\n",
      "Epoch 5/5\n",
      "1708/1708 [==============================] - 124s 73ms/step - loss: 0.0527 - accuracy: 0.9824 - val_loss: 0.0534 - val_accuracy: 0.9854\n",
      "1424/1424 [==============================] - 32s 22ms/step\n",
      "Confusion Matrix:\n",
      "[[165079    843]\n",
      " [  1666  14596]]\n",
      "\n",
      "Classification Report:\n",
      "              precision    recall  f1-score   support\n",
      "\n",
      "         0.0       0.99      0.99      0.99    165922\n",
      "         1.0       0.95      0.90      0.92     16262\n",
      "\n",
      "    accuracy                           0.99    182184\n",
      "   macro avg       0.97      0.95      0.96    182184\n",
      "weighted avg       0.99      0.99      0.99    182184\n",
      "\n",
      "\n",
      "Accuracy: 0.9862282088438062\n",
      "Recall: 0.8975525765588489\n",
      "F1 Score: 0.9208542317277058\n",
      "============================================================================================================================================\n"
     ]
    }
   ],
   "source": [
    "import os\n",
    "\n",
    "# Ensure the directory exists\n",
    "save_dir = \"Final_Experiment_Vol_2\"\n",
    "os.makedirs(save_dir, exist_ok=True)\n",
    "\n",
    "# Run multiple training iterations and save the models\n",
    "for i in range(10):\n",
    "    print(f\"Iteration {i+1}\")\n",
    "\n",
    "    # Classic model\n",
    "    classic_model = Sequential([\n",
    "        Dense(4, activation=tf.nn.relu, input_shape=(X_train.shape[1],)),\n",
    "        Dense(2, activation=tf.nn.softmax)\n",
    "    ])\n",
    "    classic_model.compile(optimizer=Adam(lr=0.01), loss='sparse_categorical_crossentropy', metrics=['accuracy'])\n",
    "    \n",
    "    with tf.device('/CPU:0'):\n",
    "        classic_model.fit(X_train, y_train, validation_split=0.2, batch_size=256, epochs=5, shuffle=True, verbose=1)\n",
    "    \n",
    "    eval.evaluate_model(classic_model, X_test, y_test)\n",
    "    \n",
    "    # Save only model weights\n",
    "    classic_model.save_weights(os.path.join(save_dir, f\"classic_model_iteration_experiment_2{i+1}.h5\"))\n",
    "\n",
    "    print(\"Evaluating Quantum Model\")\n",
    "    print(\"=\" * 140)\n",
    "    \n",
    "    # Quantum model\n",
    "    quantum_model = Sequential([\n",
    "        Dense(4, activation=tf.nn.relu, input_shape=(X_train.shape[1],)),\n",
    "        qlayer,\n",
    "        Dense(2, activation=tf.nn.softmax)\n",
    "    ])\n",
    "    quantum_model.compile(optimizer=Adam(lr=0.01), loss='sparse_categorical_crossentropy', metrics=['accuracy'])\n",
    "    \n",
    "    with tf.device('/CPU:0'):\n",
    "        quantum_model.fit(X_train, y_train, validation_split=0.2, batch_size=256, epochs=5, shuffle=True, verbose=1)\n",
    "    \n",
    "    eval.evaluate_model(quantum_model, X_test, y_test)\n",
    "    \n",
    "    # Save only model weights\n",
    "    quantum_model.save_weights(os.path.join(save_dir, f\"quantum_model_iteration_experiment_2{i+1}.h5\"))\n",
    "\n",
    "    print(\"=\" * 140)\n"
   ]
  },
  {
   "cell_type": "code",
   "execution_count": null,
   "metadata": {},
   "outputs": [],
   "source": [
    "import pandas as pd\n",
    "\n",
    "# Assuming X_train, Y_train, and X_test are your datasets\n",
    "# Convert them to DataFrames if they are not already\n",
    "X_train_df = pd.DataFrame(X_train)\n",
    "Y_train_df = pd.DataFrame(y_train)\n",
    "X_test_df = pd.DataFrame(X_test)\n",
    "y_test_df = pd.DataFrame(y_test)\n",
    "# Save the datasets to CSV files\n",
    "\n",
    "X_train_df.to_csv('X_train.csv', index=False)\n",
    "Y_train_df.to_csv('y_train.csv', index=False)\n",
    "X_test_df.to_csv('X_test.csv', index=False)\n",
    "y_test_df.to_csv('y_test.csv', index=False)"
   ]
  }
 ],
 "metadata": {
  "colab": {
   "collapsed_sections": [
    "Yo1otV9u0F4a",
    "Yfvr2rKyVoo6",
    "JSp9UlZkVoo8"
   ],
   "provenance": []
  },
  "kernelspec": {
   "display_name": "quantum_env_2",
   "language": "python",
   "name": "python3"
  },
  "language_info": {
   "codemirror_mode": {
    "name": "ipython",
    "version": 3
   },
   "file_extension": ".py",
   "mimetype": "text/x-python",
   "name": "python",
   "nbconvert_exporter": "python",
   "pygments_lexer": "ipython3",
   "version": "3.10.16"
  }
 },
 "nbformat": 4,
 "nbformat_minor": 0
}
