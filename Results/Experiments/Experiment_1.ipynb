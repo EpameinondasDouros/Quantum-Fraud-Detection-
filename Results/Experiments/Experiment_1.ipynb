{
 "cells": [
  {
   "cell_type": "markdown",
   "metadata": {
    "id": "3O8Wyxz-t9Jk"
   },
   "source": [
    "# Initialize"
   ]
  },
  {
   "cell_type": "code",
   "execution_count": 2,
   "metadata": {
    "id": "WJQzZyIDNhac"
   },
   "outputs": [],
   "source": [
    "import numpy as np\n",
    "import pandas as pd\n",
    "import tensorflow as tf\n",
    "import matplotlib.pyplot as plt\n",
    "import seaborn as sns\n",
    "\n",
    "# Classifier Libraries\n",
    "import keras\n",
    "from keras.models import Sequential\n",
    "from keras.layers import Activation\n",
    "from keras.layers.core import Dense\n",
    "from keras.optimizers import Adam\n",
    "from keras.metrics import categorical_crossentropy\n",
    "\n",
    "# Other Libraries\n",
    "from sklearn.model_selection import train_test_split\n",
    "from sklearn.metrics import confusion_matrix\n",
    "\n",
    "import tensorflow as tf\n",
    "\n",
    "import pandas as pd\n",
    "import matplotlib.pyplot as plt\n",
    "import seaborn as sns\n",
    "import pennylane as qml\n",
    "from pennylane import numpy as np\n",
    "from tensorflow.keras.models import Model, Sequential\n",
    "from tensorflow.keras.layers import Dropout\n",
    "\n",
    "from sklearn.metrics import confusion_matrix, classification_report\n",
    "import numpy as np"
   ]
  },
  {
   "cell_type": "code",
   "execution_count": 3,
   "metadata": {},
   "outputs": [
    {
     "data": {
      "text/plain": [
       "<module 'Scripts.data_process_utils' from \"/Users/epameinondasdouros/Personal/Quantum/Code/Final_Project/Notebook_Models/Pennylane_Models/Don't Touch/Model_Final_Pennylane_Keras_QNN_11_Features_6M_DS/Scripts/data_process_utils.py\">"
      ]
     },
     "execution_count": 3,
     "metadata": {},
     "output_type": "execute_result"
    }
   ],
   "source": [
    "import sys\n",
    "import importlib\n",
    "\n",
    "# Add the parent directory to sys.path\n",
    "sys.path.append(\"..\")\n",
    "\n",
    "# Import and reload the module\n",
    "import Scripts.data_process_utils as dpu\n",
    "importlib.reload(dpu)"
   ]
  },
  {
   "cell_type": "code",
   "execution_count": 4,
   "metadata": {},
   "outputs": [
    {
     "data": {
      "text/plain": [
       "<module 'Scripts.evaluation_functions' from \"/Users/epameinondasdouros/Personal/Quantum/Code/Final_Project/Notebook_Models/Pennylane_Models/Don't Touch/Model_Final_Pennylane_Keras_QNN_11_Features_6M_DS/Scripts/evaluation_functions.py\">"
      ]
     },
     "execution_count": 4,
     "metadata": {},
     "output_type": "execute_result"
    }
   ],
   "source": [
    "import Scripts.evaluation_functions as eval\n",
    "import importlib\n",
    "importlib.reload(eval)"
   ]
  },
  {
   "cell_type": "markdown",
   "metadata": {
    "id": "6sVBiNR_uFAc"
   },
   "source": [
    "# Data Loading"
   ]
  },
  {
   "cell_type": "code",
   "execution_count": 31,
   "metadata": {
    "id": "X-Rr1JQUuftw"
   },
   "outputs": [
    {
     "data": {
      "text/html": [
       "<div>\n",
       "<style scoped>\n",
       "    .dataframe tbody tr th:only-of-type {\n",
       "        vertical-align: middle;\n",
       "    }\n",
       "\n",
       "    .dataframe tbody tr th {\n",
       "        vertical-align: top;\n",
       "    }\n",
       "\n",
       "    .dataframe thead th {\n",
       "        text-align: right;\n",
       "    }\n",
       "</style>\n",
       "<table border=\"1\" class=\"dataframe\">\n",
       "  <thead>\n",
       "    <tr style=\"text-align: right;\">\n",
       "      <th></th>\n",
       "      <th>step</th>\n",
       "      <th>amount</th>\n",
       "      <th>oldbalanceOrg</th>\n",
       "      <th>newbalanceOrig</th>\n",
       "      <th>oldbalanceDest</th>\n",
       "      <th>newbalanceDest</th>\n",
       "      <th>isFraud</th>\n",
       "      <th>isFlaggedFraud</th>\n",
       "    </tr>\n",
       "  </thead>\n",
       "  <tbody>\n",
       "    <tr>\n",
       "      <th>count</th>\n",
       "      <td>6.362620e+06</td>\n",
       "      <td>6.362620e+06</td>\n",
       "      <td>6.362620e+06</td>\n",
       "      <td>6.362620e+06</td>\n",
       "      <td>6.362620e+06</td>\n",
       "      <td>6.362620e+06</td>\n",
       "      <td>6.362620e+06</td>\n",
       "      <td>6.362620e+06</td>\n",
       "    </tr>\n",
       "    <tr>\n",
       "      <th>mean</th>\n",
       "      <td>2.433972e+02</td>\n",
       "      <td>1.798619e+05</td>\n",
       "      <td>8.338831e+05</td>\n",
       "      <td>8.551137e+05</td>\n",
       "      <td>1.100702e+06</td>\n",
       "      <td>1.224996e+06</td>\n",
       "      <td>1.290820e-03</td>\n",
       "      <td>2.514687e-06</td>\n",
       "    </tr>\n",
       "    <tr>\n",
       "      <th>std</th>\n",
       "      <td>1.423320e+02</td>\n",
       "      <td>6.038582e+05</td>\n",
       "      <td>2.888243e+06</td>\n",
       "      <td>2.924049e+06</td>\n",
       "      <td>3.399180e+06</td>\n",
       "      <td>3.674129e+06</td>\n",
       "      <td>3.590480e-02</td>\n",
       "      <td>1.585775e-03</td>\n",
       "    </tr>\n",
       "    <tr>\n",
       "      <th>min</th>\n",
       "      <td>1.000000e+00</td>\n",
       "      <td>0.000000e+00</td>\n",
       "      <td>0.000000e+00</td>\n",
       "      <td>0.000000e+00</td>\n",
       "      <td>0.000000e+00</td>\n",
       "      <td>0.000000e+00</td>\n",
       "      <td>0.000000e+00</td>\n",
       "      <td>0.000000e+00</td>\n",
       "    </tr>\n",
       "    <tr>\n",
       "      <th>25%</th>\n",
       "      <td>1.560000e+02</td>\n",
       "      <td>1.338957e+04</td>\n",
       "      <td>0.000000e+00</td>\n",
       "      <td>0.000000e+00</td>\n",
       "      <td>0.000000e+00</td>\n",
       "      <td>0.000000e+00</td>\n",
       "      <td>0.000000e+00</td>\n",
       "      <td>0.000000e+00</td>\n",
       "    </tr>\n",
       "    <tr>\n",
       "      <th>50%</th>\n",
       "      <td>2.390000e+02</td>\n",
       "      <td>7.487194e+04</td>\n",
       "      <td>1.420800e+04</td>\n",
       "      <td>0.000000e+00</td>\n",
       "      <td>1.327057e+05</td>\n",
       "      <td>2.146614e+05</td>\n",
       "      <td>0.000000e+00</td>\n",
       "      <td>0.000000e+00</td>\n",
       "    </tr>\n",
       "    <tr>\n",
       "      <th>75%</th>\n",
       "      <td>3.350000e+02</td>\n",
       "      <td>2.087215e+05</td>\n",
       "      <td>1.073152e+05</td>\n",
       "      <td>1.442584e+05</td>\n",
       "      <td>9.430367e+05</td>\n",
       "      <td>1.111909e+06</td>\n",
       "      <td>0.000000e+00</td>\n",
       "      <td>0.000000e+00</td>\n",
       "    </tr>\n",
       "    <tr>\n",
       "      <th>max</th>\n",
       "      <td>7.430000e+02</td>\n",
       "      <td>9.244552e+07</td>\n",
       "      <td>5.958504e+07</td>\n",
       "      <td>4.958504e+07</td>\n",
       "      <td>3.560159e+08</td>\n",
       "      <td>3.561793e+08</td>\n",
       "      <td>1.000000e+00</td>\n",
       "      <td>1.000000e+00</td>\n",
       "    </tr>\n",
       "  </tbody>\n",
       "</table>\n",
       "</div>"
      ],
      "text/plain": [
       "               step        amount  oldbalanceOrg  newbalanceOrig  \\\n",
       "count  6.362620e+06  6.362620e+06   6.362620e+06    6.362620e+06   \n",
       "mean   2.433972e+02  1.798619e+05   8.338831e+05    8.551137e+05   \n",
       "std    1.423320e+02  6.038582e+05   2.888243e+06    2.924049e+06   \n",
       "min    1.000000e+00  0.000000e+00   0.000000e+00    0.000000e+00   \n",
       "25%    1.560000e+02  1.338957e+04   0.000000e+00    0.000000e+00   \n",
       "50%    2.390000e+02  7.487194e+04   1.420800e+04    0.000000e+00   \n",
       "75%    3.350000e+02  2.087215e+05   1.073152e+05    1.442584e+05   \n",
       "max    7.430000e+02  9.244552e+07   5.958504e+07    4.958504e+07   \n",
       "\n",
       "       oldbalanceDest  newbalanceDest       isFraud  isFlaggedFraud  \n",
       "count    6.362620e+06    6.362620e+06  6.362620e+06    6.362620e+06  \n",
       "mean     1.100702e+06    1.224996e+06  1.290820e-03    2.514687e-06  \n",
       "std      3.399180e+06    3.674129e+06  3.590480e-02    1.585775e-03  \n",
       "min      0.000000e+00    0.000000e+00  0.000000e+00    0.000000e+00  \n",
       "25%      0.000000e+00    0.000000e+00  0.000000e+00    0.000000e+00  \n",
       "50%      1.327057e+05    2.146614e+05  0.000000e+00    0.000000e+00  \n",
       "75%      9.430367e+05    1.111909e+06  0.000000e+00    0.000000e+00  \n",
       "max      3.560159e+08    3.561793e+08  1.000000e+00    1.000000e+00  "
      ]
     },
     "execution_count": 31,
     "metadata": {},
     "output_type": "execute_result"
    }
   ],
   "source": [
    "finance_df=pd.read_csv(\"../../../.././Datasets/PS_20174392719_1491204439457_log.csv\",delimiter=',')\n",
    "finance_df.describe()"
   ]
  },
  {
   "cell_type": "code",
   "execution_count": null,
   "metadata": {},
   "outputs": [
    {
     "name": "stderr",
     "output_type": "stream",
     "text": [
      "/var/folders/_2/qt54y181481c0ncq4fj6g0940000gn/T/ipykernel_49268/2600933533.py:5: DeprecationWarning: DataFrameGroupBy.apply operated on the grouping columns. This behavior is deprecated, and in a future version of pandas the grouping columns will be excluded from the operation. Either pass `include_groups=False` to exclude the groupings or explicitly select the grouping columns after groupby to silence this warning.\n",
      "  df_sampled = df.groupby('step', group_keys=False).apply(lambda x: x.sample(frac=0.75, random_state=42))\n"
     ]
    },
    {
     "data": {
      "text/html": [
       "<div>\n",
       "<style scoped>\n",
       "    .dataframe tbody tr th:only-of-type {\n",
       "        vertical-align: middle;\n",
       "    }\n",
       "\n",
       "    .dataframe tbody tr th {\n",
       "        vertical-align: top;\n",
       "    }\n",
       "\n",
       "    .dataframe thead th {\n",
       "        text-align: right;\n",
       "    }\n",
       "</style>\n",
       "<table border=\"1\" class=\"dataframe\">\n",
       "  <thead>\n",
       "    <tr style=\"text-align: right;\">\n",
       "      <th></th>\n",
       "      <th>step</th>\n",
       "      <th>type</th>\n",
       "      <th>amount</th>\n",
       "      <th>nameOrig</th>\n",
       "      <th>oldbalanceOrg</th>\n",
       "      <th>newbalanceOrig</th>\n",
       "      <th>nameDest</th>\n",
       "      <th>oldbalanceDest</th>\n",
       "      <th>newbalanceDest</th>\n",
       "      <th>isFraud</th>\n",
       "      <th>isFlaggedFraud</th>\n",
       "    </tr>\n",
       "  </thead>\n",
       "  <tbody>\n",
       "    <tr>\n",
       "      <th>0</th>\n",
       "      <td>402</td>\n",
       "      <td>PAYMENT</td>\n",
       "      <td>2293.60</td>\n",
       "      <td>C357857862</td>\n",
       "      <td>82351.00</td>\n",
       "      <td>80057.40</td>\n",
       "      <td>M1737315637</td>\n",
       "      <td>0.00</td>\n",
       "      <td>0.00</td>\n",
       "      <td>0</td>\n",
       "      <td>0</td>\n",
       "    </tr>\n",
       "    <tr>\n",
       "      <th>1</th>\n",
       "      <td>226</td>\n",
       "      <td>CASH_OUT</td>\n",
       "      <td>112620.18</td>\n",
       "      <td>C1690757109</td>\n",
       "      <td>128.00</td>\n",
       "      <td>0.00</td>\n",
       "      <td>C1858194355</td>\n",
       "      <td>0.00</td>\n",
       "      <td>112620.18</td>\n",
       "      <td>0</td>\n",
       "      <td>0</td>\n",
       "    </tr>\n",
       "    <tr>\n",
       "      <th>2</th>\n",
       "      <td>202</td>\n",
       "      <td>TRANSFER</td>\n",
       "      <td>41450.02</td>\n",
       "      <td>C186607867</td>\n",
       "      <td>7761.00</td>\n",
       "      <td>0.00</td>\n",
       "      <td>C996190755</td>\n",
       "      <td>0.00</td>\n",
       "      <td>41450.02</td>\n",
       "      <td>0</td>\n",
       "      <td>0</td>\n",
       "    </tr>\n",
       "    <tr>\n",
       "      <th>3</th>\n",
       "      <td>300</td>\n",
       "      <td>CASH_OUT</td>\n",
       "      <td>88887.47</td>\n",
       "      <td>C997373544</td>\n",
       "      <td>283.00</td>\n",
       "      <td>0.00</td>\n",
       "      <td>C247732967</td>\n",
       "      <td>2395169.12</td>\n",
       "      <td>2484056.59</td>\n",
       "      <td>0</td>\n",
       "      <td>0</td>\n",
       "    </tr>\n",
       "    <tr>\n",
       "      <th>4</th>\n",
       "      <td>235</td>\n",
       "      <td>TRANSFER</td>\n",
       "      <td>1059586.98</td>\n",
       "      <td>C1898581284</td>\n",
       "      <td>2010.00</td>\n",
       "      <td>0.00</td>\n",
       "      <td>C418902856</td>\n",
       "      <td>2456601.85</td>\n",
       "      <td>3516188.82</td>\n",
       "      <td>0</td>\n",
       "      <td>0</td>\n",
       "    </tr>\n",
       "    <tr>\n",
       "      <th>...</th>\n",
       "      <td>...</td>\n",
       "      <td>...</td>\n",
       "      <td>...</td>\n",
       "      <td>...</td>\n",
       "      <td>...</td>\n",
       "      <td>...</td>\n",
       "      <td>...</td>\n",
       "      <td>...</td>\n",
       "      <td>...</td>\n",
       "      <td>...</td>\n",
       "      <td>...</td>\n",
       "    </tr>\n",
       "    <tr>\n",
       "      <th>1908781</th>\n",
       "      <td>400</td>\n",
       "      <td>CASH_IN</td>\n",
       "      <td>199255.80</td>\n",
       "      <td>C1443439100</td>\n",
       "      <td>92106.00</td>\n",
       "      <td>291361.80</td>\n",
       "      <td>C63022763</td>\n",
       "      <td>0.00</td>\n",
       "      <td>0.00</td>\n",
       "      <td>0</td>\n",
       "      <td>0</td>\n",
       "    </tr>\n",
       "    <tr>\n",
       "      <th>1908782</th>\n",
       "      <td>355</td>\n",
       "      <td>CASH_OUT</td>\n",
       "      <td>344019.25</td>\n",
       "      <td>C736748207</td>\n",
       "      <td>0.00</td>\n",
       "      <td>0.00</td>\n",
       "      <td>C1239114523</td>\n",
       "      <td>998029.93</td>\n",
       "      <td>1342049.18</td>\n",
       "      <td>0</td>\n",
       "      <td>0</td>\n",
       "    </tr>\n",
       "    <tr>\n",
       "      <th>1908783</th>\n",
       "      <td>276</td>\n",
       "      <td>CASH_IN</td>\n",
       "      <td>145108.10</td>\n",
       "      <td>C2144495050</td>\n",
       "      <td>11321.00</td>\n",
       "      <td>156429.10</td>\n",
       "      <td>C1494206372</td>\n",
       "      <td>278152.44</td>\n",
       "      <td>133044.34</td>\n",
       "      <td>0</td>\n",
       "      <td>0</td>\n",
       "    </tr>\n",
       "    <tr>\n",
       "      <th>1908784</th>\n",
       "      <td>37</td>\n",
       "      <td>CASH_OUT</td>\n",
       "      <td>189165.99</td>\n",
       "      <td>C251177355</td>\n",
       "      <td>0.00</td>\n",
       "      <td>0.00</td>\n",
       "      <td>C1815144574</td>\n",
       "      <td>817453.72</td>\n",
       "      <td>1006619.71</td>\n",
       "      <td>0</td>\n",
       "      <td>0</td>\n",
       "    </tr>\n",
       "    <tr>\n",
       "      <th>1908785</th>\n",
       "      <td>352</td>\n",
       "      <td>PAYMENT</td>\n",
       "      <td>2244.92</td>\n",
       "      <td>C1838675708</td>\n",
       "      <td>126298.93</td>\n",
       "      <td>124054.02</td>\n",
       "      <td>M448658865</td>\n",
       "      <td>0.00</td>\n",
       "      <td>0.00</td>\n",
       "      <td>0</td>\n",
       "      <td>0</td>\n",
       "    </tr>\n",
       "  </tbody>\n",
       "</table>\n",
       "<p>1908786 rows × 11 columns</p>\n",
       "</div>"
      ],
      "text/plain": [
       "         step      type      amount     nameOrig  oldbalanceOrg  \\\n",
       "0         402   PAYMENT     2293.60   C357857862       82351.00   \n",
       "1         226  CASH_OUT   112620.18  C1690757109         128.00   \n",
       "2         202  TRANSFER    41450.02   C186607867        7761.00   \n",
       "3         300  CASH_OUT    88887.47   C997373544         283.00   \n",
       "4         235  TRANSFER  1059586.98  C1898581284        2010.00   \n",
       "...       ...       ...         ...          ...            ...   \n",
       "1908781   400   CASH_IN   199255.80  C1443439100       92106.00   \n",
       "1908782   355  CASH_OUT   344019.25   C736748207           0.00   \n",
       "1908783   276   CASH_IN   145108.10  C2144495050       11321.00   \n",
       "1908784    37  CASH_OUT   189165.99   C251177355           0.00   \n",
       "1908785   352   PAYMENT     2244.92  C1838675708      126298.93   \n",
       "\n",
       "         newbalanceOrig     nameDest  oldbalanceDest  newbalanceDest  isFraud  \\\n",
       "0              80057.40  M1737315637            0.00            0.00        0   \n",
       "1                  0.00  C1858194355            0.00       112620.18        0   \n",
       "2                  0.00   C996190755            0.00        41450.02        0   \n",
       "3                  0.00   C247732967      2395169.12      2484056.59        0   \n",
       "4                  0.00   C418902856      2456601.85      3516188.82        0   \n",
       "...                 ...          ...             ...             ...      ...   \n",
       "1908781       291361.80    C63022763            0.00            0.00        0   \n",
       "1908782            0.00  C1239114523       998029.93      1342049.18        0   \n",
       "1908783       156429.10  C1494206372       278152.44       133044.34        0   \n",
       "1908784            0.00  C1815144574       817453.72      1006619.71        0   \n",
       "1908785       124054.02   M448658865            0.00            0.00        0   \n",
       "\n",
       "         isFlaggedFraud  \n",
       "0                     0  \n",
       "1                     0  \n",
       "2                     0  \n",
       "3                     0  \n",
       "4                     0  \n",
       "...                 ...  \n",
       "1908781               0  \n",
       "1908782               0  \n",
       "1908783               0  \n",
       "1908784               0  \n",
       "1908785               0  \n",
       "\n",
       "[1908786 rows x 11 columns]"
      ]
     },
     "execution_count": 33,
     "metadata": {},
     "output_type": "execute_result"
    }
   ],
   "source": [
    "df=finance_df\n",
    "\n",
    "num_samples = int(len(df) * 0.30)\n",
    "\n",
    "df_sampled = df.groupby('step', group_keys=False).apply(lambda x: x.sample(frac=0.75, random_state=42))\n",
    "\n",
    "df_sampled = df_sampled.sample(n=num_samples, random_state=42).reset_index(drop=True)\n",
    "\n",
    "df_sampled"
   ]
  },
  {
   "cell_type": "markdown",
   "metadata": {
    "id": "U867drFEDOAX"
   },
   "source": [
    "### Cleaning"
   ]
  },
  {
   "cell_type": "code",
   "execution_count": 34,
   "metadata": {},
   "outputs": [
    {
     "name": "stderr",
     "output_type": "stream",
     "text": [
      "/var/folders/_2/qt54y181481c0ncq4fj6g0940000gn/T/ipykernel_49268/2877776214.py:8: SettingWithCopyWarning: \n",
      "A value is trying to be set on a copy of a slice from a DataFrame\n",
      "\n",
      "See the caveats in the documentation: https://pandas.pydata.org/pandas-docs/stable/user_guide/indexing.html#returning-a-view-versus-a-copy\n",
      "  df_cleaned.drop(columns=['nameOrig','nameDest','isFlaggedFraud'],inplace=True)\n",
      "/var/folders/_2/qt54y181481c0ncq4fj6g0940000gn/T/ipykernel_49268/2877776214.py:9: SettingWithCopyWarning: \n",
      "A value is trying to be set on a copy of a slice from a DataFrame.\n",
      "Try using .loc[row_indexer,col_indexer] = value instead\n",
      "\n",
      "See the caveats in the documentation: https://pandas.pydata.org/pandas-docs/stable/user_guide/indexing.html#returning-a-view-versus-a-copy\n",
      "  df_cleaned['type'] = finance_df['type'].map({'CASH_OUT': 0, 'TRANSFER': 1})\n"
     ]
    },
    {
     "name": "stdout",
     "output_type": "stream",
     "text": [
      "After SMOTE - Fraudulent: 82810, Fraud Percentage: 9.09%\n"
     ]
    }
   ],
   "source": [
    "from sklearn.preprocessing import StandardScaler\n",
    "\n",
    "scaler = StandardScaler()\n",
    "\n",
    "finance_df = df_sampled\n",
    "\n",
    "df_cleaned = finance_df.loc[(finance_df['type'].isin(['CASH_OUT', 'TRANSFER'])),:]\n",
    "df_cleaned.drop(columns=['nameOrig','nameDest','isFlaggedFraud'],inplace=True)\n",
    "df_cleaned['type'] = finance_df['type'].map({'CASH_OUT': 0, 'TRANSFER': 1})\n",
    "\n",
    "df_smote_balanced = dpu.balance_with_smote(df_cleaned, target_col='isFraud', smote_ratio=0.1, random_state=42)\n",
    "fraud_count_smote, fraud_percentage_smote = dpu.count_fraud_percentage(df_smote_balanced)\n",
    "print(f\"After SMOTE - Fraudulent: {fraud_count_smote}, Fraud Percentage: {fraud_percentage_smote:.2f}%\")\n",
    "\n",
    "final_df=df_smote_balanced\n",
    "\n",
    "final_df = final_df.sort_values(by='step').astype(float)\n",
    "\n",
    "df=final_df\n",
    "\n",
    "y = df['isFraud']\n",
    "X = df.drop(columns=['isFraud'])\n",
    "\n",
    "\n",
    "X_train, X_test, y_train, y_test = train_test_split(X, y, test_size=0.2, random_state=42)\n",
    "# Fit only on training data\n",
    "scaler = StandardScaler()\n",
    "X_train = scaler.fit_transform(X_train)  # ✅ Fit only on train\n",
    "X_test = scaler.transform(X_test)  # ✅ Use same scaler but don't fit again"
   ]
  },
  {
   "cell_type": "code",
   "execution_count": 35,
   "metadata": {
    "id": "l-8nvNcAxPSx"
   },
   "outputs": [
    {
     "data": {
      "text/plain": [
       "(728735, 7)"
      ]
     },
     "execution_count": 35,
     "metadata": {},
     "output_type": "execute_result"
    }
   ],
   "source": [
    "X_train.shape"
   ]
  },
  {
   "cell_type": "code",
   "execution_count": 36,
   "metadata": {
    "id": "yzfPUx3pI1TM"
   },
   "outputs": [
    {
     "data": {
      "text/plain": [
       "isFraud\n",
       "0.0    662349\n",
       "1.0     66386\n",
       "Name: count, dtype: int64"
      ]
     },
     "execution_count": 36,
     "metadata": {},
     "output_type": "execute_result"
    }
   ],
   "source": [
    "y_train.value_counts()"
   ]
  },
  {
   "cell_type": "markdown",
   "metadata": {
    "id": "Yfvr2rKyVoo6"
   },
   "source": [
    "Defining a QNode\n",
    "================\n",
    "\n"
   ]
  },
  {
   "cell_type": "code",
   "execution_count": 21,
   "metadata": {
    "id": "yh-w7YZEVoo6"
   },
   "outputs": [],
   "source": [
    "import pennylane as qml\n",
    "import numpy as np\n",
    "\n",
    "n_qubits = 3\n",
    "dev = qml.device(\"default.qubit\", wires=n_qubits+1)\n",
    "\n",
    "from itertools import combinations\n",
    "\n",
    "def custom_layer(weights, n_qubits):\n",
    "    index = 0  # Initialize index to track unique weights\n",
    "\n",
    "    # Apply first set of RY gates\n",
    "    for i in range(n_qubits + 1):\n",
    "        qml.RY(weights[index], wires=i)\n",
    "        index += 1  # Increment index\n",
    "\n",
    "    # Apply first set of CNOT gates\n",
    "    pairs = [(0, 1), (1, 2), (2, 3), (3, 0)]\n",
    "    for pair in pairs:\n",
    "        qml.CNOT(wires=pair)\n",
    "\n",
    "    # Apply second set of RY gates\n",
    "    for i in range(n_qubits + 1):\n",
    "        qml.RY(weights[index], wires=i)\n",
    "        index += 1  # Increment index\n",
    "\n",
    "    # Apply second set of CNOT gates\n",
    "    pairs = [(0, 2), (2, 0)]\n",
    "    for pair in pairs:\n",
    "        qml.CNOT(wires=pair)\n",
    "\n",
    "    # Apply RY gates on qubit 3\n",
    "    qml.RY(weights[index], wires=3)\n",
    "    index += 1  # Increment index\n",
    "    qml.RY(weights[index], wires=3)\n",
    "    index += 1  # Increment index\n",
    "\n",
    "    # Apply nested RY gates for two layers\n",
    "    for j in range(2):\n",
    "        for i in range(n_qubits):\n",
    "            qml.RY(weights[index], wires=i)\n",
    "            index += 1  # Increment index\n",
    "\n",
    "    # Apply third set of CNOT gates\n",
    "    pairs = [(0, 1), (1, 2), (2, 3), (3, 0)]\n",
    "    for pair in pairs:\n",
    "        qml.CNOT(wires=pair)\n",
    "\n",
    "    # Apply final set of RZ gates\n",
    "    for i in range(n_qubits + 1):\n",
    "        qml.RZ(weights[index], wires=i)\n",
    "        index += 1  # Increment index\n",
    "\n",
    "@qml.qnode(dev)\n",
    "def qnode(inputs, weights):\n",
    "    qml.AngleEmbedding(inputs, wires=range(n_qubits+1))\n",
    "    # print(\"AAAAAAAAAAAAAAAAAAAAA\")\n",
    "    # i=0\n",
    "    for w in weights:\n",
    "        # print(i)\n",
    "        custom_layer(w,n_qubits)\n",
    "        # i+=1\n",
    "    outputs = [qml.expval(qml.PauliZ(wires=i)) for i in range(n_qubits)]\n",
    "    return outputs\n"
   ]
  },
  {
   "cell_type": "code",
   "execution_count": 22,
   "metadata": {
    "id": "O8kX3ELU6OH7"
   },
   "outputs": [],
   "source": [
    "import pennylane as qml\n",
    "import numpy as np\n",
    "\n",
    "n_qubits = 3\n",
    "dev = qml.device(\"default.qubit\", wires=n_qubits+1)\n",
    "\n",
    "from itertools import combinations\n",
    "\n",
    "def custom_layer_long(weights, n_qubits):\n",
    "    index = 0  # Start index for weights\n",
    "\n",
    "    # First block of RY\n",
    "    for i in range(n_qubits + 1):\n",
    "        qml.RY(weights[index], wires=i)\n",
    "        index += 1\n",
    "\n",
    "    # First set of CNOT pairs\n",
    "    pairs = [(0, 1), (1, 2), (2, 3), (3, 0)]\n",
    "    for pair in pairs:\n",
    "        qml.CNOT(wires=pair)\n",
    "\n",
    "    # Second block of RY\n",
    "    for i in range(n_qubits + 1):\n",
    "        qml.RY(weights[index], wires=i)\n",
    "        index += 1\n",
    "\n",
    "    # Second set of CNOT pairs\n",
    "    pairs = [(0, 2), (2, 0)]\n",
    "    for pair in pairs:\n",
    "        qml.CNOT(wires=pair)\n",
    "\n",
    "    # Third block of RY (single qubit repeated)\n",
    "    qml.RY(weights[index], wires=3)\n",
    "    index += 1\n",
    "    qml.RY(weights[index], wires=3)\n",
    "    index += 1\n",
    "\n",
    "    # Nested loop of RY\n",
    "    for j in range(2):\n",
    "        for i in range(n_qubits):\n",
    "            qml.RY(weights[index], wires=i)\n",
    "            index += 1\n",
    "\n",
    "    # Third set of CNOT pairs\n",
    "    pairs = [(0, 1), (1, 2), (2, 3), (3, 0)]\n",
    "    for pair in pairs:\n",
    "        qml.CNOT(wires=pair)\n",
    "\n",
    "    # First block of RZ\n",
    "    for i in range(n_qubits + 1):\n",
    "        qml.RZ(weights[index], wires=i)\n",
    "        index += 1\n",
    "\n",
    "    # Fourth set of CNOT pairs\n",
    "    pairs = [(0, 2), (2, 0)]\n",
    "    for pair in pairs:\n",
    "        qml.CNOT(wires=pair)\n",
    "\n",
    "    # Fourth block of RY (single qubit repeated)\n",
    "    qml.RY(weights[index], wires=3)\n",
    "    index += 1\n",
    "    qml.RY(weights[index], wires=3)\n",
    "    index += 1\n",
    "\n",
    "    # Second block of RZ\n",
    "    for i in range(n_qubits):\n",
    "        qml.RZ(weights[index], wires=i)\n",
    "        index += 1\n",
    "\n",
    "    # Third block of RY\n",
    "    for i in range(n_qubits):\n",
    "        qml.RY(weights[index], wires=i)\n",
    "        index += 1\n",
    "\n",
    "    # Fifth set of CNOT pairs\n",
    "    pairs = [(0, 1), (1, 2), (2, 3), (3, 0)]\n",
    "    for pair in pairs:\n",
    "        qml.CNOT(wires=pair)\n",
    "\n",
    "    # Final block of RZ\n",
    "    for i in range(n_qubits + 1):\n",
    "        qml.RZ(weights[index], wires=i)\n",
    "        index += 1\n",
    "\n",
    "    return index  # Total number of indices used\n",
    "\n",
    "@qml.qnode(dev)\n",
    "def qnode_long(inputs, weights):\n",
    "    qml.AngleEmbedding(inputs, wires=range(n_qubits+1))\n",
    "    # print(\"AAAAAAAAAAAAAAAAAAAAA\")\n",
    "    # i=0\n",
    "    for w in weights:\n",
    "        # print(i)\n",
    "        custom_layer_long(w,n_qubits)\n",
    "        # i+=1\n",
    "    outputs = [qml.expval(qml.PauliZ(wires=i)) for i in range(n_qubits)]\n",
    "    return outputs"
   ]
  },
  {
   "cell_type": "code",
   "execution_count": 23,
   "metadata": {
    "id": "hJdNRI-6e_fl"
   },
   "outputs": [],
   "source": [
    "@qml.qnode(dev)\n",
    "def qnode_long_solo(inputs, weights):\n",
    "    qml.AngleEmbedding(inputs, wires=range(n_qubits+1))\n",
    "    for w in weights:\n",
    "        custom_layer_long(w,n_qubits)\n",
    "    outputs = [qml.expval(qml.PauliZ(wires=0)),qml.expval(qml.PauliZ(wires=1))]\n",
    "    return outputs"
   ]
  },
  {
   "cell_type": "markdown",
   "metadata": {
    "id": "-p38p1nIVoo7"
   },
   "source": [
    "# Quantum Circuit\n",
    "\n"
   ]
  },
  {
   "cell_type": "code",
   "execution_count": 24,
   "metadata": {},
   "outputs": [],
   "source": [
    "import pennylane as qml\n",
    "import matplotlib.pyplot as plt"
   ]
  },
  {
   "cell_type": "code",
   "execution_count": 25,
   "metadata": {
    "id": "cnEZcQJ0Voo7"
   },
   "outputs": [],
   "source": [
    "n_layers = 1\n",
    "n_qubits=3\n",
    "total_weights = 3 * (n_qubits + 1) + 2 * n_qubits + 2\n",
    "\n",
    "weight_shapes = {\"weights\": (n_layers, total_weights+1)}"
   ]
  },
  {
   "cell_type": "code",
   "execution_count": 26,
   "metadata": {
    "id": "GR5-G4VctKmZ"
   },
   "outputs": [
    {
     "data": {
      "image/png": "[encoded data removed]",
      "text/plain": [
       "<Figure size 1900x500 with 1 Axes>"
      ]
     },
     "metadata": {},
     "output_type": "display_data"
    }
   ],
   "source": [
    "weights = np.random.random(size=(n_layers, total_weights))\n",
    "fig, ax = qml.draw_mpl(qnode)(X_train[:, :4], weights)\n",
    "plt.show()"
   ]
  },
  {
   "cell_type": "code",
   "execution_count": 27,
   "metadata": {},
   "outputs": [
    {
     "name": "stdout",
     "output_type": "stream",
     "text": [
      "Total weights required: 32\n"
     ]
    }
   ],
   "source": [
    "n_layers = 1\n",
    "n_qubits=3\n",
    "total_weights_long = 32\n",
    "print(\"Total weights required:\", total_weights_long)\n",
    "\n",
    "weight_shapes_long = {\"weights\": (n_layers, total_weights_long+1)}"
   ]
  },
  {
   "cell_type": "code",
   "execution_count": 28,
   "metadata": {
    "colab": {
     "base_uri": "https://localhost:8080/",
     "height": 387
    },
    "id": "PW4xncds6TTl",
    "outputId": "050ce968-5aad-4550-8206-9c02962e0f3f"
   },
   "outputs": [
    {
     "data": {
      "image/png": "[encoded data removed]",
      "text/plain": [
       "<Figure size 2800x500 with 1 Axes>"
      ]
     },
     "metadata": {},
     "output_type": "display_data"
    }
   ],
   "source": [
    "weights = np.random.random(size=(n_layers, total_weights_long))\n",
    "fig, ax = qml.draw_mpl(qnode_long)(X[:, :4], weights)\n",
    "\n",
    "plt.show()"
   ]
  },
  {
   "cell_type": "code",
   "execution_count": 29,
   "metadata": {
    "id": "DohP0-iEVoo8"
   },
   "outputs": [
    {
     "name": "stdout",
     "output_type": "stream",
     "text": [
      "Metal device set to: Apple M2 Max\n",
      "\n",
      "systemMemory: 32.00 GB\n",
      "maxCacheSize: 10.67 GB\n",
      "\n"
     ]
    },
    {
     "name": "stderr",
     "output_type": "stream",
     "text": [
      "2025-02-09 18:03:13.935153: I tensorflow/core/common_runtime/pluggable_device/pluggable_device_factory.cc:306] Could not identify NUMA node of platform GPU ID 0, defaulting to 0. Your kernel may not have been built with NUMA support.\n",
      "2025-02-09 18:03:13.935180: I tensorflow/core/common_runtime/pluggable_device/pluggable_device_factory.cc:272] Created TensorFlow device (/job:localhost/replica:0/task:0/device:GPU:0 with 0 MB memory) -> physical PluggableDevice (device: 0, name: METAL, pci bus id: <undefined>)\n"
     ]
    }
   ],
   "source": [
    "qlayer = qml.qnn.KerasLayer(qnode, weight_shapes, output_dim=n_qubits)"
   ]
  },
  {
   "cell_type": "code",
   "execution_count": 30,
   "metadata": {},
   "outputs": [],
   "source": [
    "qlayer_long = qml.qnn.KerasLayer(qnode_long, weight_shapes_long, output_dim=n_qubits)"
   ]
  },
  {
   "cell_type": "markdown",
   "metadata": {
    "id": "vwYP2ssEJdl5"
   },
   "source": [
    "# Checking The Influence of Quantum Model"
   ]
  },
  {
   "cell_type": "markdown",
   "metadata": {
    "id": "qiKN2qJRT9d5"
   },
   "source": [
    "For this to be implemented we lowered the amount of data used to have a faster run of the quantum circuit"
   ]
  },
  {
   "cell_type": "code",
   "execution_count": 317,
   "metadata": {
    "id": "izZHUVL8X15M"
   },
   "outputs": [],
   "source": [
    "from sklearn.metrics import classification_report"
   ]
  },
  {
   "cell_type": "code",
   "execution_count": 318,
   "metadata": {
    "colab": {
     "base_uri": "https://localhost:8080/"
    },
    "id": "aO-pIbxAWiri",
    "outputId": "1b55a27b-c61d-4253-f712-2999a4c82d5c"
   },
   "outputs": [
    {
     "name": "stdout",
     "output_type": "stream",
     "text": [
      "Total weights required: 32\n"
     ]
    }
   ],
   "source": [
    "n_layers = 1\n",
    "n_qubits=3\n",
    "total_weights_long = 32\n",
    "print(\"Total weights required:\", total_weights_long)\n",
    "\n",
    "weight_shapes_long = {\"weights\": (n_layers, total_weights_long+1)}"
   ]
  },
  {
   "cell_type": "code",
   "execution_count": 319,
   "metadata": {
    "id": "9S1FO1fsWq3l"
   },
   "outputs": [],
   "source": [
    "qlayer_long = qml.qnn.KerasLayer(qnode_long, weight_shapes_long, output_dim=n_qubits)"
   ]
  },
  {
   "cell_type": "code",
   "execution_count": 320,
   "metadata": {
    "colab": {
     "base_uri": "https://localhost:8080/"
    },
    "id": "NFCJjWMrViBJ",
    "outputId": "ab2a1ce5-449b-4768-b37f-3450cc82aa3a"
   },
   "outputs": [
    {
     "name": "stdout",
     "output_type": "stream",
     "text": [
      "Iteration 1\n",
      "Epoch 1/5\n"
     ]
    },
    {
     "name": "stderr",
     "output_type": "stream",
     "text": [
      "/Users/epameinondasdouros/Personal/Quantum/Code/Final_Project/q_env/lib/python3.10/site-packages/keras/optimizers/optimizer_v2/adam.py:114: UserWarning: The `lr` argument is deprecated, use `learning_rate` instead.\n",
      "  super().__init__(name, **kwargs)\n",
      "2025-01-26 14:01:05.997840: I tensorflow/core/grappler/optimizers/custom_graph_optimizer_registry.cc:114] Plugin optimizer for device_type GPU is enabled.\n"
     ]
    },
    {
     "name": "stdout",
     "output_type": "stream",
     "text": [
      "3416/3416 [==============================] - ETA: 0s - loss: 0.0827 - accuracy: 0.9730"
     ]
    },
    {
     "name": "stderr",
     "output_type": "stream",
     "text": [
      "2025-01-26 14:01:13.437727: I tensorflow/core/grappler/optimizers/custom_graph_optimizer_registry.cc:114] Plugin optimizer for device_type GPU is enabled.\n"
     ]
    },
    {
     "name": "stdout",
     "output_type": "stream",
     "text": [
      "3416/3416 [==============================] - 9s 3ms/step - loss: 0.0827 - accuracy: 0.9730 - val_loss: 0.0461 - val_accuracy: 0.9826\n",
      "Epoch 2/5\n",
      "3416/3416 [==============================] - 9s 2ms/step - loss: 0.0414 - accuracy: 0.9849 - val_loss: 0.0362 - val_accuracy: 0.9865\n",
      "Epoch 3/5\n",
      "3416/3416 [==============================] - 8s 2ms/step - loss: 0.0346 - accuracy: 0.9870 - val_loss: 0.0310 - val_accuracy: 0.9880\n",
      "Epoch 4/5\n",
      "3416/3416 [==============================] - 8s 2ms/step - loss: 0.0311 - accuracy: 0.9881 - val_loss: 0.0315 - val_accuracy: 0.9861\n",
      "Epoch 5/5\n",
      "3416/3416 [==============================] - 8s 2ms/step - loss: 0.0291 - accuracy: 0.9891 - val_loss: 0.0264 - val_accuracy: 0.9903\n",
      " 142/1424 [=>............................] - ETA: 1s"
     ]
    },
    {
     "name": "stderr",
     "output_type": "stream",
     "text": [
      "2025-01-26 14:01:48.476237: I tensorflow/core/grappler/optimizers/custom_graph_optimizer_registry.cc:114] Plugin optimizer for device_type GPU is enabled.\n"
     ]
    },
    {
     "name": "stdout",
     "output_type": "stream",
     "text": [
      "1424/1424 [==============================] - 1s 1ms/step\n",
      "Confusion Matrix:\n",
      "[[165498    424]\n",
      " [  1265  14997]]\n",
      "\n",
      "Classification Report:\n",
      "              precision    recall  f1-score   support\n",
      "\n",
      "         0.0       0.99      1.00      0.99    165922\n",
      "         1.0       0.97      0.92      0.95     16262\n",
      "\n",
      "    accuracy                           0.99    182184\n",
      "   macro avg       0.98      0.96      0.97    182184\n",
      "weighted avg       0.99      0.99      0.99    182184\n",
      "\n",
      "Evaluating Quantum Model\n",
      "====================================================================================================================================\n",
      "Epoch 1/5\n",
      "   2/3416 [..............................] - ETA: 3:51 - loss: 0.4896 - accuracy: 0.8984"
     ]
    },
    {
     "name": "stderr",
     "output_type": "stream",
     "text": [
      "/Users/epameinondasdouros/Personal/Quantum/Code/Final_Project/q_env/lib/python3.10/site-packages/keras/optimizers/optimizer_v2/adam.py:114: UserWarning: The `lr` argument is deprecated, use `learning_rate` instead.\n",
      "  super().__init__(name, **kwargs)\n"
     ]
    },
    {
     "name": "stdout",
     "output_type": "stream",
     "text": [
      "3416/3416 [==============================] - 247s 72ms/step - loss: 0.0776 - accuracy: 0.9753 - val_loss: 0.0532 - val_accuracy: 0.9829\n",
      "Epoch 2/5\n",
      "3416/3416 [==============================] - 249s 73ms/step - loss: 0.0475 - accuracy: 0.9841 - val_loss: 0.0559 - val_accuracy: 0.9804\n",
      "Epoch 3/5\n",
      "3416/3416 [==============================] - 244s 71ms/step - loss: 0.0422 - accuracy: 0.9855 - val_loss: 0.0379 - val_accuracy: 0.9883\n",
      "Epoch 4/5\n",
      "3416/3416 [==============================] - 245s 72ms/step - loss: 0.0402 - accuracy: 0.9863 - val_loss: 0.0367 - val_accuracy: 0.9879\n",
      "Epoch 5/5\n",
      "3416/3416 [==============================] - 246s 72ms/step - loss: 0.0380 - accuracy: 0.9871 - val_loss: 0.0614 - val_accuracy: 0.9746\n",
      "1424/1424 [==============================] - 148s 104ms/step\n",
      "Confusion Matrix:\n",
      "[[161751   4171]\n",
      " [   391  15871]]\n",
      "\n",
      "Classification Report:\n",
      "              precision    recall  f1-score   support\n",
      "\n",
      "         0.0       1.00      0.97      0.99    165922\n",
      "         1.0       0.79      0.98      0.87     16262\n",
      "\n",
      "    accuracy                           0.97    182184\n",
      "   macro avg       0.89      0.98      0.93    182184\n",
      "weighted avg       0.98      0.97      0.98    182184\n",
      "\n",
      "====================================================================================================================================\n",
      "Iteration 2\n",
      "Epoch 1/5\n",
      "   1/3416 [..............................] - ETA: 8:52 - loss: 0.7192 - accuracy: 0.5703"
     ]
    },
    {
     "name": "stderr",
     "output_type": "stream",
     "text": [
      "/Users/epameinondasdouros/Personal/Quantum/Code/Final_Project/q_env/lib/python3.10/site-packages/keras/optimizers/optimizer_v2/adam.py:114: UserWarning: The `lr` argument is deprecated, use `learning_rate` instead.\n",
      "  super().__init__(name, **kwargs)\n",
      "2025-01-26 14:24:49.374484: I tensorflow/core/grappler/optimizers/custom_graph_optimizer_registry.cc:114] Plugin optimizer for device_type GPU is enabled.\n"
     ]
    },
    {
     "name": "stdout",
     "output_type": "stream",
     "text": [
      "3407/3416 [============================>.] - ETA: 0s - loss: 0.0691 - accuracy: 0.9775"
     ]
    },
    {
     "name": "stderr",
     "output_type": "stream",
     "text": [
      "2025-01-26 14:24:56.487125: I tensorflow/core/grappler/optimizers/custom_graph_optimizer_registry.cc:114] Plugin optimizer for device_type GPU is enabled.\n"
     ]
    },
    {
     "name": "stdout",
     "output_type": "stream",
     "text": [
      "3416/3416 [==============================] - 8s 2ms/step - loss: 0.0690 - accuracy: 0.9775 - val_loss: 0.0455 - val_accuracy: 0.9834\n",
      "Epoch 2/5\n",
      "3416/3416 [==============================] - 8s 2ms/step - loss: 0.0427 - accuracy: 0.9849 - val_loss: 0.0410 - val_accuracy: 0.9865\n",
      "Epoch 3/5\n",
      "3416/3416 [==============================] - 8s 2ms/step - loss: 0.0382 - accuracy: 0.9861 - val_loss: 0.0414 - val_accuracy: 0.9864\n",
      "Epoch 4/5\n",
      "3416/3416 [==============================] - 8s 2ms/step - loss: 0.0355 - accuracy: 0.9874 - val_loss: 0.0343 - val_accuracy: 0.9878\n",
      "Epoch 5/5\n",
      "3416/3416 [==============================] - 8s 2ms/step - loss: 0.0337 - accuracy: 0.9881 - val_loss: 0.0340 - val_accuracy: 0.9863\n",
      " 154/1424 [==>...........................] - ETA: 1s"
     ]
    },
    {
     "name": "stderr",
     "output_type": "stream",
     "text": [
      "2025-01-26 14:25:30.273947: I tensorflow/core/grappler/optimizers/custom_graph_optimizer_registry.cc:114] Plugin optimizer for device_type GPU is enabled.\n"
     ]
    },
    {
     "name": "stdout",
     "output_type": "stream",
     "text": [
      "1424/1424 [==============================] - 1s 985us/step\n",
      "Confusion Matrix:\n",
      "[[165305    617]\n",
      " [  1786  14476]]\n",
      "\n",
      "Classification Report:\n",
      "              precision    recall  f1-score   support\n",
      "\n",
      "         0.0       0.99      1.00      0.99    165922\n",
      "         1.0       0.96      0.89      0.92     16262\n",
      "\n",
      "    accuracy                           0.99    182184\n",
      "   macro avg       0.97      0.94      0.96    182184\n",
      "weighted avg       0.99      0.99      0.99    182184\n",
      "\n",
      "Evaluating Quantum Model\n",
      "====================================================================================================================================\n",
      "Epoch 1/5\n",
      "   2/3416 [..............................] - ETA: 3:53 - loss: 0.9059 - accuracy: 0.0977"
     ]
    },
    {
     "name": "stderr",
     "output_type": "stream",
     "text": [
      "/Users/epameinondasdouros/Personal/Quantum/Code/Final_Project/q_env/lib/python3.10/site-packages/keras/optimizers/optimizer_v2/adam.py:114: UserWarning: The `lr` argument is deprecated, use `learning_rate` instead.\n",
      "  super().__init__(name, **kwargs)\n"
     ]
    },
    {
     "name": "stdout",
     "output_type": "stream",
     "text": [
      "3416/3416 [==============================] - 236s 69ms/step - loss: 0.1080 - accuracy: 0.9662 - val_loss: 0.0638 - val_accuracy: 0.9806\n",
      "Epoch 2/5\n",
      "3416/3416 [==============================] - 231s 68ms/step - loss: 0.0625 - accuracy: 0.9802 - val_loss: 0.0708 - val_accuracy: 0.9776\n",
      "Epoch 3/5\n",
      "3416/3416 [==============================] - 232s 68ms/step - loss: 0.0638 - accuracy: 0.9802 - val_loss: 0.0669 - val_accuracy: 0.9785\n",
      "Epoch 4/5\n",
      "3416/3416 [==============================] - 232s 68ms/step - loss: 0.0586 - accuracy: 0.9815 - val_loss: 0.0590 - val_accuracy: 0.9793\n",
      "Epoch 5/5\n",
      "3416/3416 [==============================] - 232s 68ms/step - loss: 0.0452 - accuracy: 0.9845 - val_loss: 0.0418 - val_accuracy: 0.9857\n",
      "1424/1424 [==============================] - 144s 101ms/step\n",
      "Confusion Matrix:\n",
      "[[165502    420]\n",
      " [  2032  14230]]\n",
      "\n",
      "Classification Report:\n",
      "              precision    recall  f1-score   support\n",
      "\n",
      "         0.0       0.99      1.00      0.99    165922\n",
      "         1.0       0.97      0.88      0.92     16262\n",
      "\n",
      "    accuracy                           0.99    182184\n",
      "   macro avg       0.98      0.94      0.96    182184\n",
      "weighted avg       0.99      0.99      0.99    182184\n",
      "\n",
      "====================================================================================================================================\n",
      "Iteration 3\n",
      "Epoch 1/5\n",
      "   1/3416 [..............................] - ETA: 9:12 - loss: 0.6803 - accuracy: 0.5234"
     ]
    },
    {
     "name": "stderr",
     "output_type": "stream",
     "text": [
      "/Users/epameinondasdouros/Personal/Quantum/Code/Final_Project/q_env/lib/python3.10/site-packages/keras/optimizers/optimizer_v2/adam.py:114: UserWarning: The `lr` argument is deprecated, use `learning_rate` instead.\n",
      "  super().__init__(name, **kwargs)\n",
      "2025-01-26 14:47:20.564281: I tensorflow/core/grappler/optimizers/custom_graph_optimizer_registry.cc:114] Plugin optimizer for device_type GPU is enabled.\n"
     ]
    },
    {
     "name": "stdout",
     "output_type": "stream",
     "text": [
      "3399/3416 [============================>.] - ETA: 0s - loss: 0.0892 - accuracy: 0.9696"
     ]
    },
    {
     "name": "stderr",
     "output_type": "stream",
     "text": [
      "2025-01-26 14:47:27.699333: I tensorflow/core/grappler/optimizers/custom_graph_optimizer_registry.cc:114] Plugin optimizer for device_type GPU is enabled.\n"
     ]
    },
    {
     "name": "stdout",
     "output_type": "stream",
     "text": [
      "3416/3416 [==============================] - 8s 2ms/step - loss: 0.0891 - accuracy: 0.9696 - val_loss: 0.0699 - val_accuracy: 0.9767\n",
      "Epoch 2/5\n",
      "3416/3416 [==============================] - 8s 2ms/step - loss: 0.0644 - accuracy: 0.9776 - val_loss: 0.0669 - val_accuracy: 0.9794\n",
      "Epoch 3/5\n",
      "3416/3416 [==============================] - 8s 2ms/step - loss: 0.0588 - accuracy: 0.9797 - val_loss: 0.0704 - val_accuracy: 0.9768\n",
      "Epoch 4/5\n",
      "3416/3416 [==============================] - 8s 2ms/step - loss: 0.0550 - accuracy: 0.9807 - val_loss: 0.0572 - val_accuracy: 0.9830\n",
      "Epoch 5/5\n",
      "3416/3416 [==============================] - 8s 2ms/step - loss: 0.0523 - accuracy: 0.9817 - val_loss: 0.0613 - val_accuracy: 0.9823\n",
      " 150/1424 [==>...........................] - ETA: 1s"
     ]
    },
    {
     "name": "stderr",
     "output_type": "stream",
     "text": [
      "2025-01-26 14:48:01.679489: I tensorflow/core/grappler/optimizers/custom_graph_optimizer_registry.cc:114] Plugin optimizer for device_type GPU is enabled.\n"
     ]
    },
    {
     "name": "stdout",
     "output_type": "stream",
     "text": [
      "1424/1424 [==============================] - 1s 956us/step\n",
      "Confusion Matrix:\n",
      "[[164651   1271]\n",
      " [  1779  14483]]\n",
      "\n",
      "Classification Report:\n",
      "              precision    recall  f1-score   support\n",
      "\n",
      "         0.0       0.99      0.99      0.99    165922\n",
      "         1.0       0.92      0.89      0.90     16262\n",
      "\n",
      "    accuracy                           0.98    182184\n",
      "   macro avg       0.95      0.94      0.95    182184\n",
      "weighted avg       0.98      0.98      0.98    182184\n",
      "\n",
      "Evaluating Quantum Model\n",
      "====================================================================================================================================\n",
      "Epoch 1/5\n",
      "   2/3416 [..............................] - ETA: 3:33 - loss: 0.4538 - accuracy: 0.8867"
     ]
    },
    {
     "name": "stderr",
     "output_type": "stream",
     "text": [
      "/Users/epameinondasdouros/Personal/Quantum/Code/Final_Project/q_env/lib/python3.10/site-packages/keras/optimizers/optimizer_v2/adam.py:114: UserWarning: The `lr` argument is deprecated, use `learning_rate` instead.\n",
      "  super().__init__(name, **kwargs)\n"
     ]
    },
    {
     "name": "stdout",
     "output_type": "stream",
     "text": [
      "3416/3416 [==============================] - 230s 67ms/step - loss: 0.0871 - accuracy: 0.9708 - val_loss: 0.0555 - val_accuracy: 0.9801\n",
      "Epoch 2/5\n",
      "3416/3416 [==============================] - 232s 68ms/step - loss: 0.0470 - accuracy: 0.9837 - val_loss: 0.0506 - val_accuracy: 0.9861\n",
      "Epoch 3/5\n",
      "3416/3416 [==============================] - 233s 68ms/step - loss: 0.0453 - accuracy: 0.9847 - val_loss: 0.0444 - val_accuracy: 0.9829\n",
      "Epoch 4/5\n",
      "3416/3416 [==============================] - 233s 68ms/step - loss: 0.0443 - accuracy: 0.9856 - val_loss: 0.0419 - val_accuracy: 0.9879\n",
      "Epoch 5/5\n",
      "3416/3416 [==============================] - 233s 68ms/step - loss: 0.0422 - accuracy: 0.9865 - val_loss: 0.0385 - val_accuracy: 0.9874\n",
      "1424/1424 [==============================] - 145s 102ms/step\n",
      "Confusion Matrix:\n",
      "[[165132    790]\n",
      " [  1364  14898]]\n",
      "\n",
      "Classification Report:\n",
      "              precision    recall  f1-score   support\n",
      "\n",
      "         0.0       0.99      1.00      0.99    165922\n",
      "         1.0       0.95      0.92      0.93     16262\n",
      "\n",
      "    accuracy                           0.99    182184\n",
      "   macro avg       0.97      0.96      0.96    182184\n",
      "weighted avg       0.99      0.99      0.99    182184\n",
      "\n",
      "====================================================================================================================================\n",
      "Iteration 4\n",
      "Epoch 1/5\n",
      "   1/3416 [..............................] - ETA: 9:10 - loss: 0.7210 - accuracy: 0.5469"
     ]
    },
    {
     "name": "stderr",
     "output_type": "stream",
     "text": [
      "/Users/epameinondasdouros/Personal/Quantum/Code/Final_Project/q_env/lib/python3.10/site-packages/keras/optimizers/optimizer_v2/adam.py:114: UserWarning: The `lr` argument is deprecated, use `learning_rate` instead.\n",
      "  super().__init__(name, **kwargs)\n",
      "2025-01-26 15:09:48.870815: I tensorflow/core/grappler/optimizers/custom_graph_optimizer_registry.cc:114] Plugin optimizer for device_type GPU is enabled.\n"
     ]
    },
    {
     "name": "stdout",
     "output_type": "stream",
     "text": [
      "3395/3416 [============================>.] - ETA: 0s - loss: 0.0741 - accuracy: 0.9750"
     ]
    },
    {
     "name": "stderr",
     "output_type": "stream",
     "text": [
      "2025-01-26 15:09:55.963203: I tensorflow/core/grappler/optimizers/custom_graph_optimizer_registry.cc:114] Plugin optimizer for device_type GPU is enabled.\n"
     ]
    },
    {
     "name": "stdout",
     "output_type": "stream",
     "text": [
      "3416/3416 [==============================] - 8s 2ms/step - loss: 0.0739 - accuracy: 0.9751 - val_loss: 0.0523 - val_accuracy: 0.9834\n",
      "Epoch 2/5\n",
      "3416/3416 [==============================] - 8s 2ms/step - loss: 0.0455 - accuracy: 0.9844 - val_loss: 0.0471 - val_accuracy: 0.9857\n",
      "Epoch 3/5\n",
      "3416/3416 [==============================] - 8s 2ms/step - loss: 0.0408 - accuracy: 0.9861 - val_loss: 0.0412 - val_accuracy: 0.9859\n",
      "Epoch 4/5\n",
      "3416/3416 [==============================] - 8s 2ms/step - loss: 0.0385 - accuracy: 0.9869 - val_loss: 0.0392 - val_accuracy: 0.9879\n",
      "Epoch 5/5\n",
      "3416/3416 [==============================] - 8s 2ms/step - loss: 0.0368 - accuracy: 0.9876 - val_loss: 0.0431 - val_accuracy: 0.9872\n",
      " 153/1424 [==>...........................] - ETA: 1s"
     ]
    },
    {
     "name": "stderr",
     "output_type": "stream",
     "text": [
      "2025-01-26 15:10:29.552789: I tensorflow/core/grappler/optimizers/custom_graph_optimizer_registry.cc:114] Plugin optimizer for device_type GPU is enabled.\n"
     ]
    },
    {
     "name": "stdout",
     "output_type": "stream",
     "text": [
      "1424/1424 [==============================] - 1s 953us/step\n",
      "Confusion Matrix:\n",
      "[[164446   1476]\n",
      " [   765  15497]]\n",
      "\n",
      "Classification Report:\n",
      "              precision    recall  f1-score   support\n",
      "\n",
      "         0.0       1.00      0.99      0.99    165922\n",
      "         1.0       0.91      0.95      0.93     16262\n",
      "\n",
      "    accuracy                           0.99    182184\n",
      "   macro avg       0.95      0.97      0.96    182184\n",
      "weighted avg       0.99      0.99      0.99    182184\n",
      "\n",
      "Evaluating Quantum Model\n",
      "====================================================================================================================================\n",
      "Epoch 1/5\n",
      "   2/3416 [..............................] - ETA: 3:40 - loss: 1.5483 - accuracy: 0.0820"
     ]
    },
    {
     "name": "stderr",
     "output_type": "stream",
     "text": [
      "/Users/epameinondasdouros/Personal/Quantum/Code/Final_Project/q_env/lib/python3.10/site-packages/keras/optimizers/optimizer_v2/adam.py:114: UserWarning: The `lr` argument is deprecated, use `learning_rate` instead.\n",
      "  super().__init__(name, **kwargs)\n"
     ]
    },
    {
     "name": "stdout",
     "output_type": "stream",
     "text": [
      "3416/3416 [==============================] - 229s 67ms/step - loss: 0.0999 - accuracy: 0.9636 - val_loss: 0.0576 - val_accuracy: 0.9808\n",
      "Epoch 2/5\n",
      "3416/3416 [==============================] - 230s 67ms/step - loss: 0.0494 - accuracy: 0.9824 - val_loss: 0.0442 - val_accuracy: 0.9871\n",
      "Epoch 3/5\n",
      "3416/3416 [==============================] - 234s 69ms/step - loss: 0.0412 - accuracy: 0.9848 - val_loss: 0.0430 - val_accuracy: 0.9793\n",
      "Epoch 4/5\n",
      "3416/3416 [==============================] - 235s 69ms/step - loss: 0.0357 - accuracy: 0.9867 - val_loss: 0.0419 - val_accuracy: 0.9826\n",
      "Epoch 5/5\n",
      "3416/3416 [==============================] - 235s 69ms/step - loss: 0.0336 - accuracy: 0.9882 - val_loss: 0.0367 - val_accuracy: 0.9883\n",
      "1424/1424 [==============================] - 145s 101ms/step\n",
      "Confusion Matrix:\n",
      "[[164173   1749]\n",
      " [   537  15725]]\n",
      "\n",
      "Classification Report:\n",
      "              precision    recall  f1-score   support\n",
      "\n",
      "         0.0       1.00      0.99      0.99    165922\n",
      "         1.0       0.90      0.97      0.93     16262\n",
      "\n",
      "    accuracy                           0.99    182184\n",
      "   macro avg       0.95      0.98      0.96    182184\n",
      "weighted avg       0.99      0.99      0.99    182184\n",
      "\n",
      "====================================================================================================================================\n",
      "Iteration 5\n",
      "Epoch 1/5\n",
      "   1/3416 [..............................] - ETA: 9:09 - loss: 1.3820 - accuracy: 0.1719"
     ]
    },
    {
     "name": "stderr",
     "output_type": "stream",
     "text": [
      "/Users/epameinondasdouros/Personal/Quantum/Code/Final_Project/q_env/lib/python3.10/site-packages/keras/optimizers/optimizer_v2/adam.py:114: UserWarning: The `lr` argument is deprecated, use `learning_rate` instead.\n",
      "  super().__init__(name, **kwargs)\n",
      "2025-01-26 15:32:18.844773: I tensorflow/core/grappler/optimizers/custom_graph_optimizer_registry.cc:114] Plugin optimizer for device_type GPU is enabled.\n"
     ]
    },
    {
     "name": "stdout",
     "output_type": "stream",
     "text": [
      "3408/3416 [============================>.] - ETA: 0s - loss: 0.0965 - accuracy: 0.9682"
     ]
    },
    {
     "name": "stderr",
     "output_type": "stream",
     "text": [
      "2025-01-26 15:32:26.008312: I tensorflow/core/grappler/optimizers/custom_graph_optimizer_registry.cc:114] Plugin optimizer for device_type GPU is enabled.\n"
     ]
    },
    {
     "name": "stdout",
     "output_type": "stream",
     "text": [
      "3416/3416 [==============================] - 8s 2ms/step - loss: 0.0964 - accuracy: 0.9683 - val_loss: 0.0487 - val_accuracy: 0.9840\n",
      "Epoch 2/5\n",
      "3416/3416 [==============================] - 8s 2ms/step - loss: 0.0431 - accuracy: 0.9845 - val_loss: 0.0388 - val_accuracy: 0.9842\n",
      "Epoch 3/5\n",
      "3416/3416 [==============================] - 8s 2ms/step - loss: 0.0406 - accuracy: 0.9859 - val_loss: 0.0316 - val_accuracy: 0.9893\n",
      "Epoch 4/5\n",
      "3416/3416 [==============================] - 8s 2ms/step - loss: 0.0329 - accuracy: 0.9879 - val_loss: 0.0289 - val_accuracy: 0.9890\n",
      "Epoch 5/5\n",
      "3416/3416 [==============================] - 8s 2ms/step - loss: 0.0304 - accuracy: 0.9887 - val_loss: 0.0329 - val_accuracy: 0.9878\n",
      " 153/1424 [==>...........................] - ETA: 1s"
     ]
    },
    {
     "name": "stderr",
     "output_type": "stream",
     "text": [
      "2025-01-26 15:32:59.961144: I tensorflow/core/grappler/optimizers/custom_graph_optimizer_registry.cc:114] Plugin optimizer for device_type GPU is enabled.\n"
     ]
    },
    {
     "name": "stdout",
     "output_type": "stream",
     "text": [
      "1424/1424 [==============================] - 1s 939us/step\n",
      "Confusion Matrix:\n",
      "[[165235    687]\n",
      " [  1419  14843]]\n",
      "\n",
      "Classification Report:\n",
      "              precision    recall  f1-score   support\n",
      "\n",
      "         0.0       0.99      1.00      0.99    165922\n",
      "         1.0       0.96      0.91      0.93     16262\n",
      "\n",
      "    accuracy                           0.99    182184\n",
      "   macro avg       0.97      0.95      0.96    182184\n",
      "weighted avg       0.99      0.99      0.99    182184\n",
      "\n",
      "Evaluating Quantum Model\n",
      "====================================================================================================================================\n",
      "Epoch 1/5\n",
      "   2/3416 [..............................] - ETA: 3:36 - loss: 0.4428 - accuracy: 0.9297"
     ]
    },
    {
     "name": "stderr",
     "output_type": "stream",
     "text": [
      "/Users/epameinondasdouros/Personal/Quantum/Code/Final_Project/q_env/lib/python3.10/site-packages/keras/optimizers/optimizer_v2/adam.py:114: UserWarning: The `lr` argument is deprecated, use `learning_rate` instead.\n",
      "  super().__init__(name, **kwargs)\n"
     ]
    },
    {
     "name": "stdout",
     "output_type": "stream",
     "text": [
      "3416/3416 [==============================] - 229s 67ms/step - loss: 0.0849 - accuracy: 0.9716 - val_loss: 0.0638 - val_accuracy: 0.9762\n",
      "Epoch 2/5\n",
      "3416/3416 [==============================] - 229s 67ms/step - loss: 0.0508 - accuracy: 0.9821 - val_loss: 0.0472 - val_accuracy: 0.9836\n",
      "Epoch 3/5\n",
      "3416/3416 [==============================] - 234s 68ms/step - loss: 0.0468 - accuracy: 0.9849 - val_loss: 0.0419 - val_accuracy: 0.9872\n",
      "Epoch 4/5\n",
      "3416/3416 [==============================] - 235s 69ms/step - loss: 0.0412 - accuracy: 0.9871 - val_loss: 0.0389 - val_accuracy: 0.9872\n",
      "Epoch 5/5\n",
      "3416/3416 [==============================] - 235s 69ms/step - loss: 0.0415 - accuracy: 0.9869 - val_loss: 0.0436 - val_accuracy: 0.9841\n",
      "1424/1424 [==============================] - 145s 102ms/step\n",
      "Confusion Matrix:\n",
      "[[165666    256]\n",
      " [  2479  13783]]\n",
      "\n",
      "Classification Report:\n",
      "              precision    recall  f1-score   support\n",
      "\n",
      "         0.0       0.99      1.00      0.99    165922\n",
      "         1.0       0.98      0.85      0.91     16262\n",
      "\n",
      "    accuracy                           0.98    182184\n",
      "   macro avg       0.98      0.92      0.95    182184\n",
      "weighted avg       0.98      0.98      0.98    182184\n",
      "\n",
      "====================================================================================================================================\n"
     ]
    }
   ],
   "source": [
    "# Run multiple training iterations and save the models\n",
    "for i in range(5):\n",
    "    print(f\"Iteration {i+1}\")\n",
    "\n",
    "    # Classic model\n",
    "    classic_model = Sequential([\n",
    "        Dense(4, activation=tf.nn.relu, input_shape=(X_train.shape[1],)),\n",
    "        Dense(2, activation=tf.nn.softmax)\n",
    "    ])\n",
    "    classic_model.compile(optimizer=Adam(lr=0.01), loss='sparse_categorical_crossentropy', metrics=['accuracy'])\n",
    "    with tf.device('/CPU:0'):\n",
    "        classic_model.fit(X_train, y_train, validation_split=0.2, batch_size=128, epochs=5, shuffle=True, verbose=1)\n",
    "    eval.evaluate_model(classic_model, X_test, y_test)\n",
    "    classic_model.save(f\"classic_model_iteration_{i+1}.h5\")\n",
    "    print(\"Evaluating Quantum Model\")\n",
    "    print(\"====================================================================================================================================\")\n",
    "\n",
    "    quantum_model = Sequential([\n",
    "        Dense(4, activation=tf.nn.relu, input_shape=(X_train.shape[1],)),\n",
    "        qlayer,\n",
    "        Dense(2, activation=tf.nn.softmax)\n",
    "    ])\n",
    "\n",
    "    quantum_model.compile(optimizer=Adam(lr=0.01), loss='sparse_categorical_crossentropy', metrics=['accuracy'])\n",
    "    with tf.device('/CPU:0'):\n",
    "        quantum_model.fit(X_train, y_train, validation_split=0.2, batch_size=128, epochs=5, shuffle=True, verbose=1)\n",
    "    eval.evaluate_model(quantum_model, X_test, y_test)\n",
    "    quantum_model.save(f\"quantum_model_iteration_{i+1}.h5\")\n",
    "    print(\"====================================================================================================================================\")\n"
   ]
  },
  {
   "cell_type": "code",
   "execution_count": 321,
   "metadata": {},
   "outputs": [
    {
     "name": "stdout",
     "output_type": "stream",
     "text": [
      "Iteration 1\n",
      "Epoch 1/5\n"
     ]
    },
    {
     "name": "stderr",
     "output_type": "stream",
     "text": [
      "/Users/epameinondasdouros/Personal/Quantum/Code/Final_Project/q_env/lib/python3.10/site-packages/keras/optimizers/optimizer_v2/adam.py:114: UserWarning: The `lr` argument is deprecated, use `learning_rate` instead.\n",
      "  super().__init__(name, **kwargs)\n"
     ]
    },
    {
     "name": "stdout",
     "output_type": "stream",
     "text": [
      "  47/1708 [..............................] - ETA: 3s - loss: 0.5028 - accuracy: 0.8704 "
     ]
    },
    {
     "name": "stderr",
     "output_type": "stream",
     "text": [
      "2025-01-26 15:57:24.249658: I tensorflow/core/grappler/optimizers/custom_graph_optimizer_registry.cc:114] Plugin optimizer for device_type GPU is enabled.\n"
     ]
    },
    {
     "name": "stdout",
     "output_type": "stream",
     "text": [
      "1704/1708 [============================>.] - ETA: 0s - loss: 0.0986 - accuracy: 0.9693"
     ]
    },
    {
     "name": "stderr",
     "output_type": "stream",
     "text": [
      "2025-01-26 15:57:27.941401: I tensorflow/core/grappler/optimizers/custom_graph_optimizer_registry.cc:114] Plugin optimizer for device_type GPU is enabled.\n"
     ]
    },
    {
     "name": "stdout",
     "output_type": "stream",
     "text": [
      "1708/1708 [==============================] - 5s 2ms/step - loss: 0.0985 - accuracy: 0.9693 - val_loss: 0.0622 - val_accuracy: 0.9789\n",
      "Epoch 2/5\n",
      "1708/1708 [==============================] - 4s 2ms/step - loss: 0.0538 - accuracy: 0.9809 - val_loss: 0.0497 - val_accuracy: 0.9820\n",
      "Epoch 3/5\n",
      "1708/1708 [==============================] - 4s 2ms/step - loss: 0.0454 - accuracy: 0.9836 - val_loss: 0.0426 - val_accuracy: 0.9858\n",
      "Epoch 4/5\n",
      "1708/1708 [==============================] - 4s 2ms/step - loss: 0.0403 - accuracy: 0.9854 - val_loss: 0.0377 - val_accuracy: 0.9855\n",
      "Epoch 5/5\n",
      "1708/1708 [==============================] - 4s 2ms/step - loss: 0.0360 - accuracy: 0.9867 - val_loss: 0.0355 - val_accuracy: 0.9868\n",
      " 144/1424 [==>...........................] - ETA: 1s"
     ]
    },
    {
     "name": "stderr",
     "output_type": "stream",
     "text": [
      "2025-01-26 15:57:45.180626: I tensorflow/core/grappler/optimizers/custom_graph_optimizer_registry.cc:114] Plugin optimizer for device_type GPU is enabled.\n"
     ]
    },
    {
     "name": "stdout",
     "output_type": "stream",
     "text": [
      "1424/1424 [==============================] - 1s 985us/step\n",
      "Confusion Matrix:\n",
      "[[165524    398]\n",
      " [  1887  14375]]\n",
      "\n",
      "Classification Report:\n",
      "              precision    recall  f1-score   support\n",
      "\n",
      "         0.0       0.99      1.00      0.99    165922\n",
      "         1.0       0.97      0.88      0.93     16262\n",
      "\n",
      "    accuracy                           0.99    182184\n",
      "   macro avg       0.98      0.94      0.96    182184\n",
      "weighted avg       0.99      0.99      0.99    182184\n",
      "\n",
      "Evaluating Quantum Model\n",
      "====================================================================================================================================\n",
      "Epoch 1/5\n",
      "   2/1708 [..............................] - ETA: 1:57 - loss: 1.8588 - accuracy: 0.0664"
     ]
    },
    {
     "name": "stderr",
     "output_type": "stream",
     "text": [
      "/Users/epameinondasdouros/Personal/Quantum/Code/Final_Project/q_env/lib/python3.10/site-packages/keras/optimizers/optimizer_v2/adam.py:114: UserWarning: The `lr` argument is deprecated, use `learning_rate` instead.\n",
      "  super().__init__(name, **kwargs)\n"
     ]
    },
    {
     "name": "stdout",
     "output_type": "stream",
     "text": [
      "1708/1708 [==============================] - 126s 74ms/step - loss: 0.1515 - accuracy: 0.9482 - val_loss: 0.0622 - val_accuracy: 0.9781\n",
      "Epoch 2/5\n",
      "1708/1708 [==============================] - 131s 77ms/step - loss: 0.0533 - accuracy: 0.9811 - val_loss: 0.0505 - val_accuracy: 0.9824\n",
      "Epoch 3/5\n",
      "1708/1708 [==============================] - 131s 77ms/step - loss: 0.0467 - accuracy: 0.9836 - val_loss: 0.0483 - val_accuracy: 0.9860\n",
      "Epoch 4/5\n",
      "1708/1708 [==============================] - 132s 78ms/step - loss: 0.0425 - accuracy: 0.9852 - val_loss: 0.0410 - val_accuracy: 0.9856\n",
      "Epoch 5/5\n",
      "1708/1708 [==============================] - 133s 78ms/step - loss: 0.0394 - accuracy: 0.9863 - val_loss: 0.0382 - val_accuracy: 0.9853\n",
      "1424/1424 [==============================] - 148s 104ms/step\n",
      "Confusion Matrix:\n",
      "[[165320    602]\n",
      " [  1955  14307]]\n",
      "\n",
      "Classification Report:\n",
      "              precision    recall  f1-score   support\n",
      "\n",
      "         0.0       0.99      1.00      0.99    165922\n",
      "         1.0       0.96      0.88      0.92     16262\n",
      "\n",
      "    accuracy                           0.99    182184\n",
      "   macro avg       0.97      0.94      0.96    182184\n",
      "weighted avg       0.99      0.99      0.99    182184\n",
      "\n",
      "====================================================================================================================================\n",
      "Iteration 2\n",
      "Epoch 1/5\n",
      "   1/1708 [..............................] - ETA: 4:27 - loss: 0.7175 - accuracy: 0.2891"
     ]
    },
    {
     "name": "stderr",
     "output_type": "stream",
     "text": [
      "/Users/epameinondasdouros/Personal/Quantum/Code/Final_Project/q_env/lib/python3.10/site-packages/keras/optimizers/optimizer_v2/adam.py:114: UserWarning: The `lr` argument is deprecated, use `learning_rate` instead.\n",
      "  super().__init__(name, **kwargs)\n",
      "2025-01-26 16:11:09.584957: I tensorflow/core/grappler/optimizers/custom_graph_optimizer_registry.cc:114] Plugin optimizer for device_type GPU is enabled.\n"
     ]
    },
    {
     "name": "stdout",
     "output_type": "stream",
     "text": [
      "1706/1708 [============================>.] - ETA: 0s - loss: 0.1092 - accuracy: 0.9654"
     ]
    },
    {
     "name": "stderr",
     "output_type": "stream",
     "text": [
      "2025-01-26 16:11:13.378472: I tensorflow/core/grappler/optimizers/custom_graph_optimizer_registry.cc:114] Plugin optimizer for device_type GPU is enabled.\n"
     ]
    },
    {
     "name": "stdout",
     "output_type": "stream",
     "text": [
      "1708/1708 [==============================] - 5s 3ms/step - loss: 0.1092 - accuracy: 0.9654 - val_loss: 0.0752 - val_accuracy: 0.9743\n",
      "Epoch 2/5\n",
      "1708/1708 [==============================] - 4s 2ms/step - loss: 0.0721 - accuracy: 0.9750 - val_loss: 0.0767 - val_accuracy: 0.9735\n",
      "Epoch 3/5\n",
      "1708/1708 [==============================] - 4s 2ms/step - loss: 0.0653 - accuracy: 0.9773 - val_loss: 0.0591 - val_accuracy: 0.9802\n",
      "Epoch 4/5\n",
      "1708/1708 [==============================] - 4s 2ms/step - loss: 0.0537 - accuracy: 0.9817 - val_loss: 0.0527 - val_accuracy: 0.9804\n",
      "Epoch 5/5\n",
      "1708/1708 [==============================] - 4s 3ms/step - loss: 0.0481 - accuracy: 0.9835 - val_loss: 0.0473 - val_accuracy: 0.9839\n",
      " 156/1424 [==>...........................] - ETA: 1s"
     ]
    },
    {
     "name": "stderr",
     "output_type": "stream",
     "text": [
      "2025-01-26 16:11:30.946139: I tensorflow/core/grappler/optimizers/custom_graph_optimizer_registry.cc:114] Plugin optimizer for device_type GPU is enabled.\n"
     ]
    },
    {
     "name": "stdout",
     "output_type": "stream",
     "text": [
      "1424/1424 [==============================] - 1s 934us/step\n",
      "Confusion Matrix:\n",
      "[[165241    681]\n",
      " [  2135  14127]]\n",
      "\n",
      "Classification Report:\n",
      "              precision    recall  f1-score   support\n",
      "\n",
      "         0.0       0.99      1.00      0.99    165922\n",
      "         1.0       0.95      0.87      0.91     16262\n",
      "\n",
      "    accuracy                           0.98    182184\n",
      "   macro avg       0.97      0.93      0.95    182184\n",
      "weighted avg       0.98      0.98      0.98    182184\n",
      "\n",
      "Evaluating Quantum Model\n",
      "====================================================================================================================================\n",
      "Epoch 1/5\n",
      "   2/1708 [..............................] - ETA: 2:09 - loss: 0.6214 - accuracy: 0.8672"
     ]
    },
    {
     "name": "stderr",
     "output_type": "stream",
     "text": [
      "/Users/epameinondasdouros/Personal/Quantum/Code/Final_Project/q_env/lib/python3.10/site-packages/keras/optimizers/optimizer_v2/adam.py:114: UserWarning: The `lr` argument is deprecated, use `learning_rate` instead.\n",
      "  super().__init__(name, **kwargs)\n"
     ]
    },
    {
     "name": "stdout",
     "output_type": "stream",
     "text": [
      "1708/1708 [==============================] - 127s 74ms/step - loss: 0.0931 - accuracy: 0.9702 - val_loss: 0.0521 - val_accuracy: 0.9832\n",
      "Epoch 2/5\n",
      "1708/1708 [==============================] - 126s 74ms/step - loss: 0.0476 - accuracy: 0.9833 - val_loss: 0.0464 - val_accuracy: 0.9852\n",
      "Epoch 3/5\n",
      "1708/1708 [==============================] - 127s 74ms/step - loss: 0.0448 - accuracy: 0.9850 - val_loss: 0.0462 - val_accuracy: 0.9832\n",
      "Epoch 4/5\n",
      "1708/1708 [==============================] - 130s 76ms/step - loss: 0.0413 - accuracy: 0.9866 - val_loss: 0.0445 - val_accuracy: 0.9858\n",
      "Epoch 5/5\n",
      "1708/1708 [==============================] - 131s 77ms/step - loss: 0.0375 - accuracy: 0.9879 - val_loss: 0.0517 - val_accuracy: 0.9862\n",
      "1424/1424 [==============================] - 149s 104ms/step\n",
      "Confusion Matrix:\n",
      "[[164131   1791]\n",
      " [   698  15564]]\n",
      "\n",
      "Classification Report:\n",
      "              precision    recall  f1-score   support\n",
      "\n",
      "         0.0       1.00      0.99      0.99    165922\n",
      "         1.0       0.90      0.96      0.93     16262\n",
      "\n",
      "    accuracy                           0.99    182184\n",
      "   macro avg       0.95      0.97      0.96    182184\n",
      "weighted avg       0.99      0.99      0.99    182184\n",
      "\n",
      "====================================================================================================================================\n",
      "Iteration 3\n",
      "Epoch 1/5\n",
      "   1/1708 [..............................] - ETA: 4:34 - loss: 0.5656 - accuracy: 0.8555"
     ]
    },
    {
     "name": "stderr",
     "output_type": "stream",
     "text": [
      "/Users/epameinondasdouros/Personal/Quantum/Code/Final_Project/q_env/lib/python3.10/site-packages/keras/optimizers/optimizer_v2/adam.py:114: UserWarning: The `lr` argument is deprecated, use `learning_rate` instead.\n",
      "  super().__init__(name, **kwargs)\n",
      "2025-01-26 16:24:42.723079: I tensorflow/core/grappler/optimizers/custom_graph_optimizer_registry.cc:114] Plugin optimizer for device_type GPU is enabled.\n"
     ]
    },
    {
     "name": "stdout",
     "output_type": "stream",
     "text": [
      "1689/1708 [============================>.] - ETA: 0s - loss: 0.1014 - accuracy: 0.9669"
     ]
    },
    {
     "name": "stderr",
     "output_type": "stream",
     "text": [
      "2025-01-26 16:24:46.490799: I tensorflow/core/grappler/optimizers/custom_graph_optimizer_registry.cc:114] Plugin optimizer for device_type GPU is enabled.\n"
     ]
    },
    {
     "name": "stdout",
     "output_type": "stream",
     "text": [
      "1708/1708 [==============================] - 4s 3ms/step - loss: 0.1011 - accuracy: 0.9669 - val_loss: 0.0813 - val_accuracy: 0.9715\n",
      "Epoch 2/5\n",
      "1708/1708 [==============================] - 4s 2ms/step - loss: 0.0727 - accuracy: 0.9750 - val_loss: 0.0808 - val_accuracy: 0.9755\n",
      "Epoch 3/5\n",
      "1708/1708 [==============================] - 4s 2ms/step - loss: 0.0684 - accuracy: 0.9766 - val_loss: 0.0710 - val_accuracy: 0.9779\n",
      "Epoch 4/5\n",
      "1708/1708 [==============================] - 4s 2ms/step - loss: 0.0661 - accuracy: 0.9774 - val_loss: 0.0902 - val_accuracy: 0.9779\n",
      "Epoch 5/5\n",
      "1708/1708 [==============================] - 4s 2ms/step - loss: 0.0651 - accuracy: 0.9777 - val_loss: 0.0756 - val_accuracy: 0.9782\n",
      " 154/1424 [==>...........................] - ETA: 1s"
     ]
    },
    {
     "name": "stderr",
     "output_type": "stream",
     "text": [
      "2025-01-26 16:25:03.874436: I tensorflow/core/grappler/optimizers/custom_graph_optimizer_registry.cc:114] Plugin optimizer for device_type GPU is enabled.\n"
     ]
    },
    {
     "name": "stdout",
     "output_type": "stream",
     "text": [
      "1424/1424 [==============================] - 1s 953us/step\n",
      "Confusion Matrix:\n",
      "[[164759   1163]\n",
      " [  2648  13614]]\n",
      "\n",
      "Classification Report:\n",
      "              precision    recall  f1-score   support\n",
      "\n",
      "         0.0       0.98      0.99      0.99    165922\n",
      "         1.0       0.92      0.84      0.88     16262\n",
      "\n",
      "    accuracy                           0.98    182184\n",
      "   macro avg       0.95      0.92      0.93    182184\n",
      "weighted avg       0.98      0.98      0.98    182184\n",
      "\n",
      "Evaluating Quantum Model\n",
      "====================================================================================================================================\n",
      "Epoch 1/5\n",
      "   2/1708 [..............................] - ETA: 2:02 - loss: 0.9190 - accuracy: 0.1152"
     ]
    },
    {
     "name": "stderr",
     "output_type": "stream",
     "text": [
      "/Users/epameinondasdouros/Personal/Quantum/Code/Final_Project/q_env/lib/python3.10/site-packages/keras/optimizers/optimizer_v2/adam.py:114: UserWarning: The `lr` argument is deprecated, use `learning_rate` instead.\n",
      "  super().__init__(name, **kwargs)\n"
     ]
    },
    {
     "name": "stdout",
     "output_type": "stream",
     "text": [
      "1708/1708 [==============================] - 128s 75ms/step - loss: 0.1074 - accuracy: 0.9634 - val_loss: 0.0741 - val_accuracy: 0.9748\n",
      "Epoch 2/5\n",
      "1708/1708 [==============================] - 124s 73ms/step - loss: 0.0628 - accuracy: 0.9785 - val_loss: 0.0641 - val_accuracy: 0.9799\n",
      "Epoch 3/5\n",
      "1708/1708 [==============================] - 125s 73ms/step - loss: 0.0555 - accuracy: 0.9817 - val_loss: 0.0551 - val_accuracy: 0.9812\n",
      "Epoch 4/5\n",
      "1708/1708 [==============================] - 447s 262ms/step - loss: 0.0494 - accuracy: 0.9832 - val_loss: 0.0500 - val_accuracy: 0.9836\n",
      "Epoch 5/5\n",
      "1708/1708 [==============================] - 123s 72ms/step - loss: 0.0413 - accuracy: 0.9859 - val_loss: 0.0434 - val_accuracy: 0.9869\n",
      "1424/1424 [==============================] - 147s 103ms/step\n",
      "Confusion Matrix:\n",
      "[[165265    657]\n",
      " [  1606  14656]]\n",
      "\n",
      "Classification Report:\n",
      "              precision    recall  f1-score   support\n",
      "\n",
      "         0.0       0.99      1.00      0.99    165922\n",
      "         1.0       0.96      0.90      0.93     16262\n",
      "\n",
      "    accuracy                           0.99    182184\n",
      "   macro avg       0.97      0.95      0.96    182184\n",
      "weighted avg       0.99      0.99      0.99    182184\n",
      "\n",
      "====================================================================================================================================\n",
      "Iteration 4\n",
      "Epoch 1/5\n",
      "   1/1708 [..............................] - ETA: 4:47 - loss: 0.7149 - accuracy: 0.8008"
     ]
    },
    {
     "name": "stderr",
     "output_type": "stream",
     "text": [
      "/Users/epameinondasdouros/Personal/Quantum/Code/Final_Project/q_env/lib/python3.10/site-packages/keras/optimizers/optimizer_v2/adam.py:114: UserWarning: The `lr` argument is deprecated, use `learning_rate` instead.\n",
      "  super().__init__(name, **kwargs)\n",
      "2025-01-26 16:43:19.705300: I tensorflow/core/grappler/optimizers/custom_graph_optimizer_registry.cc:114] Plugin optimizer for device_type GPU is enabled.\n"
     ]
    },
    {
     "name": "stdout",
     "output_type": "stream",
     "text": [
      "1689/1708 [============================>.] - ETA: 0s - loss: 0.1026 - accuracy: 0.9665"
     ]
    },
    {
     "name": "stderr",
     "output_type": "stream",
     "text": [
      "2025-01-26 16:43:23.527610: I tensorflow/core/grappler/optimizers/custom_graph_optimizer_registry.cc:114] Plugin optimizer for device_type GPU is enabled.\n"
     ]
    },
    {
     "name": "stdout",
     "output_type": "stream",
     "text": [
      "1708/1708 [==============================] - 5s 3ms/step - loss: 0.1022 - accuracy: 0.9667 - val_loss: 0.0928 - val_accuracy: 0.9739\n",
      "Epoch 2/5\n",
      "1708/1708 [==============================] - 4s 2ms/step - loss: 0.0727 - accuracy: 0.9754 - val_loss: 0.0740 - val_accuracy: 0.9755\n",
      "Epoch 3/5\n",
      "1708/1708 [==============================] - 4s 2ms/step - loss: 0.0688 - accuracy: 0.9766 - val_loss: 0.0696 - val_accuracy: 0.9769\n",
      "Epoch 4/5\n",
      "1708/1708 [==============================] - 4s 2ms/step - loss: 0.0672 - accuracy: 0.9771 - val_loss: 0.0706 - val_accuracy: 0.9784\n",
      "Epoch 5/5\n",
      "1708/1708 [==============================] - 4s 2ms/step - loss: 0.0655 - accuracy: 0.9778 - val_loss: 0.0713 - val_accuracy: 0.9794\n",
      " 142/1424 [=>............................] - ETA: 1s"
     ]
    },
    {
     "name": "stderr",
     "output_type": "stream",
     "text": [
      "2025-01-26 16:43:41.333610: I tensorflow/core/grappler/optimizers/custom_graph_optimizer_registry.cc:114] Plugin optimizer for device_type GPU is enabled.\n"
     ]
    },
    {
     "name": "stdout",
     "output_type": "stream",
     "text": [
      "1424/1424 [==============================] - 1s 1ms/step\n",
      "Confusion Matrix:\n",
      "[[165088    834]\n",
      " [  2731  13531]]\n",
      "\n",
      "Classification Report:\n",
      "              precision    recall  f1-score   support\n",
      "\n",
      "         0.0       0.98      0.99      0.99    165922\n",
      "         1.0       0.94      0.83      0.88     16262\n",
      "\n",
      "    accuracy                           0.98    182184\n",
      "   macro avg       0.96      0.91      0.94    182184\n",
      "weighted avg       0.98      0.98      0.98    182184\n",
      "\n",
      "Evaluating Quantum Model\n",
      "====================================================================================================================================\n",
      "Epoch 1/5\n",
      "   2/1708 [..............................] - ETA: 2:00 - loss: 0.5988 - accuracy: 0.8008"
     ]
    },
    {
     "name": "stderr",
     "output_type": "stream",
     "text": [
      "/Users/epameinondasdouros/Personal/Quantum/Code/Final_Project/q_env/lib/python3.10/site-packages/keras/optimizers/optimizer_v2/adam.py:114: UserWarning: The `lr` argument is deprecated, use `learning_rate` instead.\n",
      "  super().__init__(name, **kwargs)\n"
     ]
    },
    {
     "name": "stdout",
     "output_type": "stream",
     "text": [
      "1708/1708 [==============================] - 128s 75ms/step - loss: 0.1073 - accuracy: 0.9649 - val_loss: 0.0643 - val_accuracy: 0.9783\n",
      "Epoch 2/5\n",
      "1708/1708 [==============================] - 129s 75ms/step - loss: 0.0568 - accuracy: 0.9796 - val_loss: 0.0544 - val_accuracy: 0.9811\n",
      "Epoch 3/5\n",
      "1708/1708 [==============================] - 132s 77ms/step - loss: 0.0472 - accuracy: 0.9835 - val_loss: 0.0471 - val_accuracy: 0.9853\n",
      "Epoch 4/5\n",
      "1708/1708 [==============================] - 134s 78ms/step - loss: 0.0471 - accuracy: 0.9851 - val_loss: 0.0482 - val_accuracy: 0.9850\n",
      "Epoch 5/5\n",
      "1708/1708 [==============================] - 134s 79ms/step - loss: 0.0464 - accuracy: 0.9868 - val_loss: 0.0550 - val_accuracy: 0.9875\n",
      "1424/1424 [==============================] - 150s 105ms/step\n",
      "Confusion Matrix:\n",
      "[[165296    626]\n",
      " [  1481  14781]]\n",
      "\n",
      "Classification Report:\n",
      "              precision    recall  f1-score   support\n",
      "\n",
      "         0.0       0.99      1.00      0.99    165922\n",
      "         1.0       0.96      0.91      0.93     16262\n",
      "\n",
      "    accuracy                           0.99    182184\n",
      "   macro avg       0.98      0.95      0.96    182184\n",
      "weighted avg       0.99      0.99      0.99    182184\n",
      "\n",
      "====================================================================================================================================\n",
      "Iteration 5\n",
      "Epoch 1/5\n",
      "   1/1708 [..............................] - ETA: 4:32 - loss: 0.6393 - accuracy: 0.9258"
     ]
    },
    {
     "name": "stderr",
     "output_type": "stream",
     "text": [
      "/Users/epameinondasdouros/Personal/Quantum/Code/Final_Project/q_env/lib/python3.10/site-packages/keras/optimizers/optimizer_v2/adam.py:114: UserWarning: The `lr` argument is deprecated, use `learning_rate` instead.\n",
      "  super().__init__(name, **kwargs)\n",
      "2025-01-26 16:57:09.577050: I tensorflow/core/grappler/optimizers/custom_graph_optimizer_registry.cc:114] Plugin optimizer for device_type GPU is enabled.\n"
     ]
    },
    {
     "name": "stdout",
     "output_type": "stream",
     "text": [
      "1698/1708 [============================>.] - ETA: 0s - loss: 0.1256 - accuracy: 0.9607"
     ]
    },
    {
     "name": "stderr",
     "output_type": "stream",
     "text": [
      "2025-01-26 16:57:13.525410: I tensorflow/core/grappler/optimizers/custom_graph_optimizer_registry.cc:114] Plugin optimizer for device_type GPU is enabled.\n"
     ]
    },
    {
     "name": "stdout",
     "output_type": "stream",
     "text": [
      "1708/1708 [==============================] - 5s 3ms/step - loss: 0.1252 - accuracy: 0.9608 - val_loss: 0.0670 - val_accuracy: 0.9780\n",
      "Epoch 2/5\n",
      "1708/1708 [==============================] - 4s 2ms/step - loss: 0.0554 - accuracy: 0.9813 - val_loss: 0.0513 - val_accuracy: 0.9843\n",
      "Epoch 3/5\n",
      "1708/1708 [==============================] - 4s 2ms/step - loss: 0.0472 - accuracy: 0.9839 - val_loss: 0.0483 - val_accuracy: 0.9842\n",
      "Epoch 4/5\n",
      "1708/1708 [==============================] - 4s 3ms/step - loss: 0.0432 - accuracy: 0.9852 - val_loss: 0.0496 - val_accuracy: 0.9827\n",
      "Epoch 5/5\n",
      "1708/1708 [==============================] - 4s 3ms/step - loss: 0.0411 - accuracy: 0.9860 - val_loss: 0.0413 - val_accuracy: 0.9866\n",
      " 144/1424 [==>...........................] - ETA: 1s"
     ]
    },
    {
     "name": "stderr",
     "output_type": "stream",
     "text": [
      "2025-01-26 16:57:31.408433: I tensorflow/core/grappler/optimizers/custom_graph_optimizer_registry.cc:114] Plugin optimizer for device_type GPU is enabled.\n"
     ]
    },
    {
     "name": "stdout",
     "output_type": "stream",
     "text": [
      "1424/1424 [==============================] - 1s 979us/step\n",
      "Confusion Matrix:\n",
      "[[165205    717]\n",
      " [  1624  14638]]\n",
      "\n",
      "Classification Report:\n",
      "              precision    recall  f1-score   support\n",
      "\n",
      "         0.0       0.99      1.00      0.99    165922\n",
      "         1.0       0.95      0.90      0.93     16262\n",
      "\n",
      "    accuracy                           0.99    182184\n",
      "   macro avg       0.97      0.95      0.96    182184\n",
      "weighted avg       0.99      0.99      0.99    182184\n",
      "\n",
      "Evaluating Quantum Model\n",
      "====================================================================================================================================\n",
      "Epoch 1/5\n",
      "   2/1708 [..............................] - ETA: 1:57 - loss: 0.6570 - accuracy: 0.8242"
     ]
    },
    {
     "name": "stderr",
     "output_type": "stream",
     "text": [
      "/Users/epameinondasdouros/Personal/Quantum/Code/Final_Project/q_env/lib/python3.10/site-packages/keras/optimizers/optimizer_v2/adam.py:114: UserWarning: The `lr` argument is deprecated, use `learning_rate` instead.\n",
      "  super().__init__(name, **kwargs)\n"
     ]
    },
    {
     "name": "stdout",
     "output_type": "stream",
     "text": [
      "1708/1708 [==============================] - 123s 72ms/step - loss: 0.1006 - accuracy: 0.9678 - val_loss: 0.0681 - val_accuracy: 0.9715\n",
      "Epoch 2/5\n",
      "1708/1708 [==============================] - 121s 71ms/step - loss: 0.0531 - accuracy: 0.9811 - val_loss: 0.0517 - val_accuracy: 0.9827\n",
      "Epoch 3/5\n",
      "1708/1708 [==============================] - 122s 71ms/step - loss: 0.0433 - accuracy: 0.9847 - val_loss: 0.0439 - val_accuracy: 0.9832\n",
      "Epoch 4/5\n",
      "1708/1708 [==============================] - 131s 77ms/step - loss: 0.0403 - accuracy: 0.9856 - val_loss: 0.0383 - val_accuracy: 0.9880\n",
      "Epoch 5/5\n",
      "1708/1708 [==============================] - 125s 73ms/step - loss: 0.0365 - accuracy: 0.9866 - val_loss: 0.0329 - val_accuracy: 0.9881\n",
      "1424/1424 [==============================] - 141s 99ms/step\n",
      "Confusion Matrix:\n",
      "[[165274    648]\n",
      " [  1368  14894]]\n",
      "\n",
      "Classification Report:\n",
      "              precision    recall  f1-score   support\n",
      "\n",
      "         0.0       0.99      1.00      0.99    165922\n",
      "         1.0       0.96      0.92      0.94     16262\n",
      "\n",
      "    accuracy                           0.99    182184\n",
      "   macro avg       0.98      0.96      0.97    182184\n",
      "weighted avg       0.99      0.99      0.99    182184\n",
      "\n",
      "====================================================================================================================================\n",
      "Iteration 6\n",
      "Epoch 1/5\n"
     ]
    },
    {
     "name": "stderr",
     "output_type": "stream",
     "text": [
      "/Users/epameinondasdouros/Personal/Quantum/Code/Final_Project/q_env/lib/python3.10/site-packages/keras/optimizers/optimizer_v2/adam.py:114: UserWarning: The `lr` argument is deprecated, use `learning_rate` instead.\n",
      "  super().__init__(name, **kwargs)\n",
      "2025-01-26 17:10:15.983121: I tensorflow/core/grappler/optimizers/custom_graph_optimizer_registry.cc:114] Plugin optimizer for device_type GPU is enabled.\n"
     ]
    },
    {
     "name": "stdout",
     "output_type": "stream",
     "text": [
      "1697/1708 [============================>.] - ETA: 0s - loss: 0.1002 - accuracy: 0.9676"
     ]
    },
    {
     "name": "stderr",
     "output_type": "stream",
     "text": [
      "2025-01-26 17:10:19.684019: I tensorflow/core/grappler/optimizers/custom_graph_optimizer_registry.cc:114] Plugin optimizer for device_type GPU is enabled.\n"
     ]
    },
    {
     "name": "stdout",
     "output_type": "stream",
     "text": [
      "1708/1708 [==============================] - 4s 2ms/step - loss: 0.1000 - accuracy: 0.9677 - val_loss: 0.0823 - val_accuracy: 0.9707\n",
      "Epoch 2/5\n",
      "1708/1708 [==============================] - 4s 2ms/step - loss: 0.0729 - accuracy: 0.9750 - val_loss: 0.0751 - val_accuracy: 0.9782\n",
      "Epoch 3/5\n",
      "1708/1708 [==============================] - 4s 2ms/step - loss: 0.0685 - accuracy: 0.9768 - val_loss: 0.0692 - val_accuracy: 0.9756\n",
      "Epoch 4/5\n",
      "1708/1708 [==============================] - 4s 2ms/step - loss: 0.0668 - accuracy: 0.9773 - val_loss: 0.0681 - val_accuracy: 0.9783\n",
      "Epoch 5/5\n",
      "1708/1708 [==============================] - 4s 2ms/step - loss: 0.0655 - accuracy: 0.9775 - val_loss: 0.0703 - val_accuracy: 0.9793\n",
      " 157/1424 [==>...........................] - ETA: 1s"
     ]
    },
    {
     "name": "stderr",
     "output_type": "stream",
     "text": [
      "2025-01-26 17:10:36.628847: I tensorflow/core/grappler/optimizers/custom_graph_optimizer_registry.cc:114] Plugin optimizer for device_type GPU is enabled.\n"
     ]
    },
    {
     "name": "stdout",
     "output_type": "stream",
     "text": [
      "1424/1424 [==============================] - 1s 936us/step\n",
      "Confusion Matrix:\n",
      "[[165004    918]\n",
      " [  2721  13541]]\n",
      "\n",
      "Classification Report:\n",
      "              precision    recall  f1-score   support\n",
      "\n",
      "         0.0       0.98      0.99      0.99    165922\n",
      "         1.0       0.94      0.83      0.88     16262\n",
      "\n",
      "    accuracy                           0.98    182184\n",
      "   macro avg       0.96      0.91      0.94    182184\n",
      "weighted avg       0.98      0.98      0.98    182184\n",
      "\n",
      "Evaluating Quantum Model\n",
      "====================================================================================================================================\n",
      "Epoch 1/5\n",
      "   2/1708 [..............................] - ETA: 1:46 - loss: 0.4414 - accuracy: 0.8867"
     ]
    },
    {
     "name": "stderr",
     "output_type": "stream",
     "text": [
      "/Users/epameinondasdouros/Personal/Quantum/Code/Final_Project/q_env/lib/python3.10/site-packages/keras/optimizers/optimizer_v2/adam.py:114: UserWarning: The `lr` argument is deprecated, use `learning_rate` instead.\n",
      "  super().__init__(name, **kwargs)\n"
     ]
    },
    {
     "name": "stdout",
     "output_type": "stream",
     "text": [
      "1708/1708 [==============================] - 124s 72ms/step - loss: 0.0984 - accuracy: 0.9678 - val_loss: 0.0663 - val_accuracy: 0.9766\n",
      "Epoch 2/5\n",
      "1708/1708 [==============================] - 125s 73ms/step - loss: 0.0603 - accuracy: 0.9789 - val_loss: 0.0631 - val_accuracy: 0.9806\n",
      "Epoch 3/5\n",
      "1708/1708 [==============================] - 126s 74ms/step - loss: 0.0540 - accuracy: 0.9809 - val_loss: 0.0555 - val_accuracy: 0.9826\n",
      "Epoch 4/5\n",
      "1708/1708 [==============================] - 126s 74ms/step - loss: 0.0496 - accuracy: 0.9823 - val_loss: 0.0511 - val_accuracy: 0.9805\n",
      "Epoch 5/5\n",
      "1708/1708 [==============================] - 125s 73ms/step - loss: 0.0470 - accuracy: 0.9834 - val_loss: 0.0455 - val_accuracy: 0.9839\n",
      "1424/1424 [==============================] - 144s 101ms/step\n",
      "Confusion Matrix:\n",
      "[[165033    889]\n",
      " [  1858  14404]]\n",
      "\n",
      "Classification Report:\n",
      "              precision    recall  f1-score   support\n",
      "\n",
      "         0.0       0.99      0.99      0.99    165922\n",
      "         1.0       0.94      0.89      0.91     16262\n",
      "\n",
      "    accuracy                           0.98    182184\n",
      "   macro avg       0.97      0.94      0.95    182184\n",
      "weighted avg       0.98      0.98      0.98    182184\n",
      "\n",
      "====================================================================================================================================\n",
      "Iteration 7\n",
      "Epoch 1/5\n"
     ]
    },
    {
     "name": "stderr",
     "output_type": "stream",
     "text": [
      "/Users/epameinondasdouros/Personal/Quantum/Code/Final_Project/q_env/lib/python3.10/site-packages/keras/optimizers/optimizer_v2/adam.py:114: UserWarning: The `lr` argument is deprecated, use `learning_rate` instead.\n",
      "  super().__init__(name, **kwargs)\n",
      "2025-01-26 17:23:28.484392: I tensorflow/core/grappler/optimizers/custom_graph_optimizer_registry.cc:114] Plugin optimizer for device_type GPU is enabled.\n"
     ]
    },
    {
     "name": "stdout",
     "output_type": "stream",
     "text": [
      "1704/1708 [============================>.] - ETA: 0s - loss: 0.1077 - accuracy: 0.9661"
     ]
    },
    {
     "name": "stderr",
     "output_type": "stream",
     "text": [
      "2025-01-26 17:23:32.453335: I tensorflow/core/grappler/optimizers/custom_graph_optimizer_registry.cc:114] Plugin optimizer for device_type GPU is enabled.\n"
     ]
    },
    {
     "name": "stdout",
     "output_type": "stream",
     "text": [
      "1708/1708 [==============================] - 5s 3ms/step - loss: 0.1075 - accuracy: 0.9661 - val_loss: 0.0553 - val_accuracy: 0.9809\n",
      "Epoch 2/5\n",
      "1708/1708 [==============================] - 4s 3ms/step - loss: 0.0469 - accuracy: 0.9836 - val_loss: 0.0414 - val_accuracy: 0.9845\n",
      "Epoch 3/5\n",
      "1708/1708 [==============================] - 4s 3ms/step - loss: 0.0389 - accuracy: 0.9858 - val_loss: 0.0378 - val_accuracy: 0.9845\n",
      "Epoch 4/5\n",
      "1708/1708 [==============================] - 5s 3ms/step - loss: 0.0344 - accuracy: 0.9873 - val_loss: 0.0334 - val_accuracy: 0.9857\n",
      "Epoch 5/5\n",
      "1708/1708 [==============================] - 4s 2ms/step - loss: 0.0310 - accuracy: 0.9884 - val_loss: 0.0293 - val_accuracy: 0.9894\n",
      " 144/1424 [==>...........................] - ETA: 1s"
     ]
    },
    {
     "name": "stderr",
     "output_type": "stream",
     "text": [
      "2025-01-26 17:23:50.699622: I tensorflow/core/grappler/optimizers/custom_graph_optimizer_registry.cc:114] Plugin optimizer for device_type GPU is enabled.\n"
     ]
    },
    {
     "name": "stdout",
     "output_type": "stream",
     "text": [
      "1424/1424 [==============================] - 2s 1ms/step\n",
      "Confusion Matrix:\n",
      "[[165506    416]\n",
      " [  1411  14851]]\n",
      "\n",
      "Classification Report:\n",
      "              precision    recall  f1-score   support\n",
      "\n",
      "         0.0       0.99      1.00      0.99    165922\n",
      "         1.0       0.97      0.91      0.94     16262\n",
      "\n",
      "    accuracy                           0.99    182184\n",
      "   macro avg       0.98      0.96      0.97    182184\n",
      "weighted avg       0.99      0.99      0.99    182184\n",
      "\n",
      "Evaluating Quantum Model\n",
      "====================================================================================================================================\n",
      "Epoch 1/5\n",
      "   2/1708 [..............................] - ETA: 1:58 - loss: 0.6048 - accuracy: 0.9141"
     ]
    },
    {
     "name": "stderr",
     "output_type": "stream",
     "text": [
      "/Users/epameinondasdouros/Personal/Quantum/Code/Final_Project/q_env/lib/python3.10/site-packages/keras/optimizers/optimizer_v2/adam.py:114: UserWarning: The `lr` argument is deprecated, use `learning_rate` instead.\n",
      "  super().__init__(name, **kwargs)\n"
     ]
    },
    {
     "name": "stdout",
     "output_type": "stream",
     "text": [
      "1708/1708 [==============================] - 130s 76ms/step - loss: 0.0964 - accuracy: 0.9701 - val_loss: 0.0622 - val_accuracy: 0.9779\n",
      "Epoch 2/5\n",
      "1708/1708 [==============================] - 128s 75ms/step - loss: 0.0550 - accuracy: 0.9816 - val_loss: 0.0567 - val_accuracy: 0.9817\n",
      "Epoch 3/5\n",
      "1708/1708 [==============================] - 129s 75ms/step - loss: 0.0456 - accuracy: 0.9843 - val_loss: 0.0422 - val_accuracy: 0.9835\n",
      "Epoch 4/5\n",
      "1708/1708 [==============================] - 129s 75ms/step - loss: 0.0418 - accuracy: 0.9859 - val_loss: 0.0390 - val_accuracy: 0.9869\n",
      "Epoch 5/5\n",
      "1708/1708 [==============================] - 130s 76ms/step - loss: 0.0387 - accuracy: 0.9870 - val_loss: 0.0428 - val_accuracy: 0.9878\n",
      "1424/1424 [==============================] - 156s 110ms/step\n",
      "Confusion Matrix:\n",
      "[[164804   1118]\n",
      " [  1009  15253]]\n",
      "\n",
      "Classification Report:\n",
      "              precision    recall  f1-score   support\n",
      "\n",
      "         0.0       0.99      0.99      0.99    165922\n",
      "         1.0       0.93      0.94      0.93     16262\n",
      "\n",
      "    accuracy                           0.99    182184\n",
      "   macro avg       0.96      0.97      0.96    182184\n",
      "weighted avg       0.99      0.99      0.99    182184\n",
      "\n",
      "====================================================================================================================================\n",
      "Iteration 8\n",
      "Epoch 1/5\n"
     ]
    },
    {
     "name": "stderr",
     "output_type": "stream",
     "text": [
      "/Users/epameinondasdouros/Personal/Quantum/Code/Final_Project/q_env/lib/python3.10/site-packages/keras/optimizers/optimizer_v2/adam.py:114: UserWarning: The `lr` argument is deprecated, use `learning_rate` instead.\n",
      "  super().__init__(name, **kwargs)\n",
      "2025-01-26 17:37:14.985160: I tensorflow/core/grappler/optimizers/custom_graph_optimizer_registry.cc:114] Plugin optimizer for device_type GPU is enabled.\n"
     ]
    },
    {
     "name": "stdout",
     "output_type": "stream",
     "text": [
      "1702/1708 [============================>.] - ETA: 0s - loss: 0.0982 - accuracy: 0.9664"
     ]
    },
    {
     "name": "stderr",
     "output_type": "stream",
     "text": [
      "2025-01-26 17:37:18.987527: I tensorflow/core/grappler/optimizers/custom_graph_optimizer_registry.cc:114] Plugin optimizer for device_type GPU is enabled.\n"
     ]
    },
    {
     "name": "stdout",
     "output_type": "stream",
     "text": [
      "1708/1708 [==============================] - 5s 3ms/step - loss: 0.0980 - accuracy: 0.9664 - val_loss: 0.0550 - val_accuracy: 0.9817\n",
      "Epoch 2/5\n",
      "1708/1708 [==============================] - 4s 3ms/step - loss: 0.0478 - accuracy: 0.9833 - val_loss: 0.0447 - val_accuracy: 0.9823\n",
      "Epoch 3/5\n",
      "1708/1708 [==============================] - 4s 3ms/step - loss: 0.0397 - accuracy: 0.9857 - val_loss: 0.0417 - val_accuracy: 0.9847\n",
      "Epoch 4/5\n",
      "1708/1708 [==============================] - 4s 3ms/step - loss: 0.0361 - accuracy: 0.9872 - val_loss: 0.0354 - val_accuracy: 0.9864\n",
      "Epoch 5/5\n",
      "1708/1708 [==============================] - 4s 3ms/step - loss: 0.0323 - accuracy: 0.9882 - val_loss: 0.0627 - val_accuracy: 0.9825\n",
      " 139/1424 [=>............................] - ETA: 1s"
     ]
    },
    {
     "name": "stderr",
     "output_type": "stream",
     "text": [
      "2025-01-26 17:37:37.265589: I tensorflow/core/grappler/optimizers/custom_graph_optimizer_registry.cc:114] Plugin optimizer for device_type GPU is enabled.\n"
     ]
    },
    {
     "name": "stdout",
     "output_type": "stream",
     "text": [
      "1424/1424 [==============================] - 2s 1ms/step\n",
      "Confusion Matrix:\n",
      "[[164662   1260]\n",
      " [  1772  14490]]\n",
      "\n",
      "Classification Report:\n",
      "              precision    recall  f1-score   support\n",
      "\n",
      "         0.0       0.99      0.99      0.99    165922\n",
      "         1.0       0.92      0.89      0.91     16262\n",
      "\n",
      "    accuracy                           0.98    182184\n",
      "   macro avg       0.95      0.94      0.95    182184\n",
      "weighted avg       0.98      0.98      0.98    182184\n",
      "\n",
      "Evaluating Quantum Model\n",
      "====================================================================================================================================\n",
      "Epoch 1/5\n",
      "   2/1708 [..............................] - ETA: 1:54 - loss: 0.4067 - accuracy: 0.8965"
     ]
    },
    {
     "name": "stderr",
     "output_type": "stream",
     "text": [
      "/Users/epameinondasdouros/Personal/Quantum/Code/Final_Project/q_env/lib/python3.10/site-packages/keras/optimizers/optimizer_v2/adam.py:114: UserWarning: The `lr` argument is deprecated, use `learning_rate` instead.\n",
      "  super().__init__(name, **kwargs)\n"
     ]
    },
    {
     "name": "stdout",
     "output_type": "stream",
     "text": [
      "1708/1708 [==============================] - 131s 77ms/step - loss: 0.1084 - accuracy: 0.9649 - val_loss: 0.0829 - val_accuracy: 0.9740\n",
      "Epoch 2/5\n",
      "1708/1708 [==============================] - 128s 75ms/step - loss: 0.0775 - accuracy: 0.9755 - val_loss: 0.0789 - val_accuracy: 0.9740\n",
      "Epoch 3/5\n",
      "1708/1708 [==============================] - 130s 76ms/step - loss: 0.0691 - accuracy: 0.9780 - val_loss: 0.0724 - val_accuracy: 0.9783\n",
      "Epoch 4/5\n",
      "1708/1708 [==============================] - 129s 76ms/step - loss: 0.0599 - accuracy: 0.9798 - val_loss: 0.0604 - val_accuracy: 0.9835\n",
      "Epoch 5/5\n",
      "1708/1708 [==============================] - 143s 84ms/step - loss: 0.0552 - accuracy: 0.9823 - val_loss: 0.0574 - val_accuracy: 0.9838\n",
      "1424/1424 [==============================] - 161s 113ms/step\n",
      "Confusion Matrix:\n",
      "[[165442    480]\n",
      " [  2243  14019]]\n",
      "\n",
      "Classification Report:\n",
      "              precision    recall  f1-score   support\n",
      "\n",
      "         0.0       0.99      1.00      0.99    165922\n",
      "         1.0       0.97      0.86      0.91     16262\n",
      "\n",
      "    accuracy                           0.99    182184\n",
      "   macro avg       0.98      0.93      0.95    182184\n",
      "weighted avg       0.98      0.99      0.98    182184\n",
      "\n",
      "====================================================================================================================================\n",
      "Iteration 9\n",
      "Epoch 1/5\n"
     ]
    },
    {
     "name": "stderr",
     "output_type": "stream",
     "text": [
      "/Users/epameinondasdouros/Personal/Quantum/Code/Final_Project/q_env/lib/python3.10/site-packages/keras/optimizers/optimizer_v2/adam.py:114: UserWarning: The `lr` argument is deprecated, use `learning_rate` instead.\n",
      "  super().__init__(name, **kwargs)\n",
      "2025-01-26 17:51:22.024219: I tensorflow/core/grappler/optimizers/custom_graph_optimizer_registry.cc:114] Plugin optimizer for device_type GPU is enabled.\n"
     ]
    },
    {
     "name": "stdout",
     "output_type": "stream",
     "text": [
      "1702/1708 [============================>.] - ETA: 0s - loss: 0.1087 - accuracy: 0.9643"
     ]
    },
    {
     "name": "stderr",
     "output_type": "stream",
     "text": [
      "2025-01-26 17:51:25.948785: I tensorflow/core/grappler/optimizers/custom_graph_optimizer_registry.cc:114] Plugin optimizer for device_type GPU is enabled.\n"
     ]
    },
    {
     "name": "stdout",
     "output_type": "stream",
     "text": [
      "1708/1708 [==============================] - 5s 3ms/step - loss: 0.1086 - accuracy: 0.9643 - val_loss: 0.0923 - val_accuracy: 0.9678\n",
      "Epoch 2/5\n",
      "1708/1708 [==============================] - 4s 2ms/step - loss: 0.0786 - accuracy: 0.9725 - val_loss: 0.0850 - val_accuracy: 0.9697\n",
      "Epoch 3/5\n",
      "1708/1708 [==============================] - 4s 3ms/step - loss: 0.0750 - accuracy: 0.9732 - val_loss: 0.0730 - val_accuracy: 0.9772\n",
      "Epoch 4/5\n",
      "1708/1708 [==============================] - 4s 2ms/step - loss: 0.0621 - accuracy: 0.9790 - val_loss: 0.0587 - val_accuracy: 0.9815\n",
      "Epoch 5/5\n",
      "1708/1708 [==============================] - 4s 2ms/step - loss: 0.0544 - accuracy: 0.9819 - val_loss: 0.0530 - val_accuracy: 0.9832\n",
      " 140/1424 [=>............................] - ETA: 1s"
     ]
    },
    {
     "name": "stderr",
     "output_type": "stream",
     "text": [
      "2025-01-26 17:51:43.643145: I tensorflow/core/grappler/optimizers/custom_graph_optimizer_registry.cc:114] Plugin optimizer for device_type GPU is enabled.\n"
     ]
    },
    {
     "name": "stdout",
     "output_type": "stream",
     "text": [
      "1424/1424 [==============================] - 2s 1ms/step\n",
      "Confusion Matrix:\n",
      "[[164888   1034]\n",
      " [  1862  14400]]\n",
      "\n",
      "Classification Report:\n",
      "              precision    recall  f1-score   support\n",
      "\n",
      "         0.0       0.99      0.99      0.99    165922\n",
      "         1.0       0.93      0.89      0.91     16262\n",
      "\n",
      "    accuracy                           0.98    182184\n",
      "   macro avg       0.96      0.94      0.95    182184\n",
      "weighted avg       0.98      0.98      0.98    182184\n",
      "\n",
      "Evaluating Quantum Model\n",
      "====================================================================================================================================\n",
      "Epoch 1/5\n",
      "   2/1708 [..............................] - ETA: 1:54 - loss: 1.1035 - accuracy: 0.1035"
     ]
    },
    {
     "name": "stderr",
     "output_type": "stream",
     "text": [
      "/Users/epameinondasdouros/Personal/Quantum/Code/Final_Project/q_env/lib/python3.10/site-packages/keras/optimizers/optimizer_v2/adam.py:114: UserWarning: The `lr` argument is deprecated, use `learning_rate` instead.\n",
      "  super().__init__(name, **kwargs)\n"
     ]
    },
    {
     "name": "stdout",
     "output_type": "stream",
     "text": [
      "1708/1708 [==============================] - 130s 76ms/step - loss: 0.1155 - accuracy: 0.9605 - val_loss: 0.0627 - val_accuracy: 0.9788\n",
      "Epoch 2/5\n",
      "1708/1708 [==============================] - 129s 75ms/step - loss: 0.0553 - accuracy: 0.9806 - val_loss: 0.0515 - val_accuracy: 0.9774\n",
      "Epoch 3/5\n",
      "1708/1708 [==============================] - 132s 77ms/step - loss: 0.0448 - accuracy: 0.9838 - val_loss: 0.0506 - val_accuracy: 0.9777\n",
      "Epoch 4/5\n",
      "1708/1708 [==============================] - 132s 77ms/step - loss: 0.0400 - accuracy: 0.9860 - val_loss: 0.0367 - val_accuracy: 0.9901\n",
      "Epoch 5/5\n",
      "1708/1708 [==============================] - 126s 74ms/step - loss: 0.0366 - accuracy: 0.9877 - val_loss: 0.0359 - val_accuracy: 0.9875\n",
      "1424/1424 [==============================] - 149s 105ms/step\n",
      "Confusion Matrix:\n",
      "[[165162    760]\n",
      " [  1360  14902]]\n",
      "\n",
      "Classification Report:\n",
      "              precision    recall  f1-score   support\n",
      "\n",
      "         0.0       0.99      1.00      0.99    165922\n",
      "         1.0       0.95      0.92      0.93     16262\n",
      "\n",
      "    accuracy                           0.99    182184\n",
      "   macro avg       0.97      0.96      0.96    182184\n",
      "weighted avg       0.99      0.99      0.99    182184\n",
      "\n",
      "====================================================================================================================================\n",
      "Iteration 10\n",
      "Epoch 1/5\n"
     ]
    },
    {
     "name": "stderr",
     "output_type": "stream",
     "text": [
      "/Users/epameinondasdouros/Personal/Quantum/Code/Final_Project/q_env/lib/python3.10/site-packages/keras/optimizers/optimizer_v2/adam.py:114: UserWarning: The `lr` argument is deprecated, use `learning_rate` instead.\n",
      "  super().__init__(name, **kwargs)\n",
      "2025-01-26 18:05:03.777839: I tensorflow/core/grappler/optimizers/custom_graph_optimizer_registry.cc:114] Plugin optimizer for device_type GPU is enabled.\n"
     ]
    },
    {
     "name": "stdout",
     "output_type": "stream",
     "text": [
      "1706/1708 [============================>.] - ETA: 0s - loss: 0.1076 - accuracy: 0.9633"
     ]
    },
    {
     "name": "stderr",
     "output_type": "stream",
     "text": [
      "2025-01-26 18:05:07.733901: I tensorflow/core/grappler/optimizers/custom_graph_optimizer_registry.cc:114] Plugin optimizer for device_type GPU is enabled.\n"
     ]
    },
    {
     "name": "stdout",
     "output_type": "stream",
     "text": [
      "1708/1708 [==============================] - 5s 3ms/step - loss: 0.1075 - accuracy: 0.9633 - val_loss: 0.0767 - val_accuracy: 0.9752\n",
      "Epoch 2/5\n",
      "1708/1708 [==============================] - 4s 3ms/step - loss: 0.0703 - accuracy: 0.9769 - val_loss: 0.0774 - val_accuracy: 0.9724\n",
      "Epoch 3/5\n",
      "1708/1708 [==============================] - 4s 2ms/step - loss: 0.0666 - accuracy: 0.9776 - val_loss: 0.0692 - val_accuracy: 0.9777\n",
      "Epoch 4/5\n",
      "1708/1708 [==============================] - 4s 3ms/step - loss: 0.0644 - accuracy: 0.9783 - val_loss: 0.0642 - val_accuracy: 0.9791\n",
      "Epoch 5/5\n",
      "1708/1708 [==============================] - 4s 2ms/step - loss: 0.0632 - accuracy: 0.9787 - val_loss: 0.0666 - val_accuracy: 0.9792\n",
      " 149/1424 [==>...........................] - ETA: 1s"
     ]
    },
    {
     "name": "stderr",
     "output_type": "stream",
     "text": [
      "2025-01-26 18:05:25.728845: I tensorflow/core/grappler/optimizers/custom_graph_optimizer_registry.cc:114] Plugin optimizer for device_type GPU is enabled.\n"
     ]
    },
    {
     "name": "stdout",
     "output_type": "stream",
     "text": [
      "1424/1424 [==============================] - 2s 1ms/step\n",
      "Confusion Matrix:\n",
      "[[164823   1099]\n",
      " [  2543  13719]]\n",
      "\n",
      "Classification Report:\n",
      "              precision    recall  f1-score   support\n",
      "\n",
      "         0.0       0.98      0.99      0.99    165922\n",
      "         1.0       0.93      0.84      0.88     16262\n",
      "\n",
      "    accuracy                           0.98    182184\n",
      "   macro avg       0.96      0.92      0.94    182184\n",
      "weighted avg       0.98      0.98      0.98    182184\n",
      "\n",
      "Evaluating Quantum Model\n",
      "====================================================================================================================================\n",
      "Epoch 1/5\n",
      "   2/1708 [..............................] - ETA: 2:00 - loss: 0.8520 - accuracy: 0.1172"
     ]
    },
    {
     "name": "stderr",
     "output_type": "stream",
     "text": [
      "/Users/epameinondasdouros/Personal/Quantum/Code/Final_Project/q_env/lib/python3.10/site-packages/keras/optimizers/optimizer_v2/adam.py:114: UserWarning: The `lr` argument is deprecated, use `learning_rate` instead.\n",
      "  super().__init__(name, **kwargs)\n"
     ]
    },
    {
     "name": "stdout",
     "output_type": "stream",
     "text": [
      "1708/1708 [==============================] - 127s 75ms/step - loss: 0.1110 - accuracy: 0.9641 - val_loss: 0.0706 - val_accuracy: 0.9748\n",
      "Epoch 2/5\n",
      "1708/1708 [==============================] - 127s 74ms/step - loss: 0.0609 - accuracy: 0.9791 - val_loss: 0.0529 - val_accuracy: 0.9800\n",
      "Epoch 3/5\n",
      "1708/1708 [==============================] - 129s 75ms/step - loss: 0.0499 - accuracy: 0.9824 - val_loss: 0.0455 - val_accuracy: 0.9856\n",
      "Epoch 4/5\n",
      "1708/1708 [==============================] - 127s 74ms/step - loss: 0.0435 - accuracy: 0.9848 - val_loss: 0.0411 - val_accuracy: 0.9839\n",
      "Epoch 5/5\n",
      "1708/1708 [==============================] - 126s 74ms/step - loss: 0.0367 - accuracy: 0.9870 - val_loss: 0.0318 - val_accuracy: 0.9890\n",
      "1424/1424 [==============================] - 152s 107ms/step\n",
      "Confusion Matrix:\n",
      "[[165536    386]\n",
      " [  1472  14790]]\n",
      "\n",
      "Classification Report:\n",
      "              precision    recall  f1-score   support\n",
      "\n",
      "         0.0       0.99      1.00      0.99    165922\n",
      "         1.0       0.97      0.91      0.94     16262\n",
      "\n",
      "    accuracy                           0.99    182184\n",
      "   macro avg       0.98      0.95      0.97    182184\n",
      "weighted avg       0.99      0.99      0.99    182184\n",
      "\n",
      "====================================================================================================================================\n"
     ]
    }
   ],
   "source": [
    "# Run multiple training iterations and save the models\n",
    "for i in range(10):\n",
    "    print(f\"Iteration {i+1}\")\n",
    "\n",
    "    # Classic model\n",
    "    classic_model = Sequential([\n",
    "        Dense(4, activation=tf.nn.relu, input_shape=(X_train.shape[1],)),\n",
    "        Dense(2, activation=tf.nn.softmax)\n",
    "    ])\n",
    "    classic_model.compile(optimizer=Adam(lr=0.01), loss='sparse_categorical_crossentropy', metrics=['accuracy'])\n",
    "    with tf.device('/CPU:0'):\n",
    "        classic_model.fit(X_train, y_train, validation_split=0.2, batch_size=256, epochs=5, shuffle=True, verbose=1)\n",
    "    eval.evaluate_model(classic_model, X_test, y_test)\n",
    "    classic_model.save(f\"classic_model_iteration_experiment_2{i+1}.h5\")\n",
    "    print(\"Evaluating Quantum Model\")\n",
    "    print(\"====================================================================================================================================\")\n",
    "    # Quantum model\n",
    "    quantum_model = Sequential([\n",
    "        Dense(4, activation=tf.nn.relu, input_shape=(X_train.shape[1],)),\n",
    "        qlayer,\n",
    "        Dense(2, activation=tf.nn.softmax)\n",
    "    ])\n",
    "    quantum_model.compile(optimizer=Adam(lr=0.01), loss='sparse_categorical_crossentropy', metrics=['accuracy'])\n",
    "    with tf.device('/CPU:0'):\n",
    "        quantum_model.fit(X_train, y_train, validation_split=0.2, batch_size=256, epochs=5, shuffle=True, verbose=1)\n",
    "    eval.evaluate_model(quantum_model, X_test, y_test)\n",
    "    quantum_model.save(f\"quantum_model_iteration_experiment_2{i+1}.h5\")\n",
    "    print(\"====================================================================================================================================\")\n",
    "91.6"
   ]
  },
  {
   "cell_type": "code",
   "execution_count": 350,
   "metadata": {},
   "outputs": [],
   "source": [
    "import pandas as pd\n",
    "\n",
    "# Assuming X_train, Y_train, and X_test are your datasets\n",
    "# Convert them to DataFrames if they are not already\n",
    "X_train_df = pd.DataFrame(X_train)\n",
    "Y_train_df = pd.DataFrame(y_train)\n",
    "X_test_df = pd.DataFrame(X_test)\n",
    "y_test_df = pd.DataFrame(y_test)\n",
    "# Save the datasets to CSV files\n",
    "\n",
    "X_train_df.to_csv('X_train.csv', index=False)\n",
    "Y_train_df.to_csv('y_train.csv', index=False)\n",
    "X_test_df.to_csv('X_test.csv', index=False)\n",
    "y_test_df.to_csv('y_test.csv', index=False)"
   ]
  },
  {
   "cell_type": "code",
   "execution_count": null,
   "metadata": {},
   "outputs": [],
   "source": []
  },
  {
   "cell_type": "markdown",
   "metadata": {},
   "source": [
    "# More Layers"
   ]
  },
  {
   "cell_type": "code",
   "execution_count": 57,
   "metadata": {},
   "outputs": [],
   "source": [
    "n_layers = 3\n",
    "n_qubits=3\n",
    "total_weights = 3 * (n_qubits + 1) + 2 * n_qubits + 2\n",
    "\n",
    "weight_shapes = {\"weights\": (n_layers, total_weights+1)}"
   ]
  },
  {
   "cell_type": "code",
   "execution_count": 58,
   "metadata": {},
   "outputs": [
    {
     "data": {
      "image/png": "[encoded data removed]",
      "text/plain": [
       "<Figure size 4900x500 with 1 Axes>"
      ]
     },
     "metadata": {},
     "output_type": "display_data"
    }
   ],
   "source": [
    "weights = np.random.random(size=(n_layers, total_weights))\n",
    "fig, ax = qml.draw_mpl(qnode)(X_train[:, :4], weights)\n",
    "plt.show()"
   ]
  },
  {
   "cell_type": "code",
   "execution_count": null,
   "metadata": {},
   "outputs": [],
   "source": []
  }
 ],
 "metadata": {
  "colab": {
   "collapsed_sections": [
    "Yo1otV9u0F4a",
    "Yfvr2rKyVoo6",
    "JSp9UlZkVoo8"
   ],
   "provenance": []
  },
  "kernelspec": {
   "display_name": "quantum_env_2",
   "language": "python",
   "name": "python3"
  },
  "language_info": {
   "codemirror_mode": {
    "name": "ipython",
    "version": 3
   },
   "file_extension": ".py",
   "mimetype": "text/x-python",
   "name": "python",
   "nbconvert_exporter": "python",
   "pygments_lexer": "ipython3",
   "version": "3.10.16"
  }
 },
 "nbformat": 4,
 "nbformat_minor": 0
}
